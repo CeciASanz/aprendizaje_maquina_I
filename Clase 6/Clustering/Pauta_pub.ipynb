{
 "cells": [
  {
   "cell_type": "markdown",
   "metadata": {},
   "source": [
    "# Entrenamiento 2: Pauta Publicitaria\n",
    "\n",
    "<b>Contexto</b>\n",
    "\n",
    "La idea de este notebook es plantearles un problema con datos tomados del Gobierno de la Ciudad de Buenos Aires [BA Data](https://data.buenosaires.gob.ar/dataset/pauta-publicitaria).\n",
    "\n",
    "<b>Contenido</b>\n",
    "\n",
    "Este dataset contiene la información respecto a gasto en pauta publicitaria realizada por el Gobierno de la Ciudad de Buenos Aires en el año 2020. Es facil de tratar ya que el mismo solo contiene tres columnas:\n",
    "\n",
    "* Fecha\n",
    "* Medio\n",
    "* Importe\n",
    "\n",
    "<b>El objetivo</b> este entrenamiento tiene solo una restricción que es usar algún algoritmo de aprendizaje no supervisado para sacar alguna información interesante del mismo. ¿Es esto posible? \n",
    "\n"
   ]
  },
  {
   "cell_type": "code",
   "execution_count": 40,
   "metadata": {},
   "outputs": [],
   "source": [
    "import pandas as pd"
   ]
  },
  {
   "cell_type": "code",
   "execution_count": 41,
   "metadata": {},
   "outputs": [],
   "source": [
    "df = pd.read_csv('BA_DATA_2020 _PAUTA_PUBLICITARIA_EN_RADIO.csv')"
   ]
  },
  {
   "cell_type": "code",
   "execution_count": 42,
   "metadata": {},
   "outputs": [
    {
     "data": {
      "text/html": [
       "<div>\n",
       "<style scoped>\n",
       "    .dataframe tbody tr th:only-of-type {\n",
       "        vertical-align: middle;\n",
       "    }\n",
       "\n",
       "    .dataframe tbody tr th {\n",
       "        vertical-align: top;\n",
       "    }\n",
       "\n",
       "    .dataframe thead th {\n",
       "        text-align: right;\n",
       "    }\n",
       "</style>\n",
       "<table border=\"1\" class=\"dataframe\">\n",
       "  <thead>\n",
       "    <tr style=\"text-align: right;\">\n",
       "      <th></th>\n",
       "      <th>Fecha</th>\n",
       "      <th>Medio</th>\n",
       "      <th>Importe</th>\n",
       "    </tr>\n",
       "  </thead>\n",
       "  <tbody>\n",
       "    <tr>\n",
       "      <th>0</th>\n",
       "      <td>20/01/2020</td>\n",
       "      <td>FM 95.1 METRO</td>\n",
       "      <td>$ 512.435,00</td>\n",
       "    </tr>\n",
       "    <tr>\n",
       "      <th>1</th>\n",
       "      <td>20/01/2020</td>\n",
       "      <td>AM 790 RADIO MITRE</td>\n",
       "      <td>$ 480.000,00</td>\n",
       "    </tr>\n",
       "    <tr>\n",
       "      <th>2</th>\n",
       "      <td>20/01/2020</td>\n",
       "      <td>FM 99.9 LA 100</td>\n",
       "      <td>$ 406.560,00</td>\n",
       "    </tr>\n",
       "    <tr>\n",
       "      <th>3</th>\n",
       "      <td>20/01/2020</td>\n",
       "      <td>AM 990 LA 990</td>\n",
       "      <td>$ 310.495,68</td>\n",
       "    </tr>\n",
       "    <tr>\n",
       "      <th>4</th>\n",
       "      <td>20/01/2020</td>\n",
       "      <td>AM 790 RADIO MITRE</td>\n",
       "      <td>$ 258.456,00</td>\n",
       "    </tr>\n",
       "    <tr>\n",
       "      <th>...</th>\n",
       "      <td>...</td>\n",
       "      <td>...</td>\n",
       "      <td>...</td>\n",
       "    </tr>\n",
       "    <tr>\n",
       "      <th>2558</th>\n",
       "      <td>23/12/2020</td>\n",
       "      <td>FM 92.1 VORTERIX</td>\n",
       "      <td>$ 202.211,33</td>\n",
       "    </tr>\n",
       "    <tr>\n",
       "      <th>2559</th>\n",
       "      <td>23/12/2020</td>\n",
       "      <td>FM 102.3 ASPEN</td>\n",
       "      <td>$ 169.884,00</td>\n",
       "    </tr>\n",
       "    <tr>\n",
       "      <th>2560</th>\n",
       "      <td>23/12/2020</td>\n",
       "      <td>AM 910 LA RED</td>\n",
       "      <td>$ 162.624,00</td>\n",
       "    </tr>\n",
       "    <tr>\n",
       "      <th>2561</th>\n",
       "      <td>23/12/2020</td>\n",
       "      <td>AM 950 CNN</td>\n",
       "      <td>$ 151.250,00</td>\n",
       "    </tr>\n",
       "    <tr>\n",
       "      <th>2562</th>\n",
       "      <td>28/12/2020</td>\n",
       "      <td>FM 95.1 METRO</td>\n",
       "      <td>$ 100.000,00</td>\n",
       "    </tr>\n",
       "  </tbody>\n",
       "</table>\n",
       "<p>2563 rows × 3 columns</p>\n",
       "</div>"
      ],
      "text/plain": [
       "           Fecha               Medio         Importe\n",
       "0     20/01/2020       FM 95.1 METRO   $ 512.435,00 \n",
       "1     20/01/2020  AM 790 RADIO MITRE   $ 480.000,00 \n",
       "2     20/01/2020      FM 99.9 LA 100   $ 406.560,00 \n",
       "3     20/01/2020       AM 990 LA 990   $ 310.495,68 \n",
       "4     20/01/2020  AM 790 RADIO MITRE   $ 258.456,00 \n",
       "...          ...                 ...             ...\n",
       "2558  23/12/2020    FM 92.1 VORTERIX   $ 202.211,33 \n",
       "2559  23/12/2020      FM 102.3 ASPEN   $ 169.884,00 \n",
       "2560  23/12/2020       AM 910 LA RED   $ 162.624,00 \n",
       "2561  23/12/2020          AM 950 CNN   $ 151.250,00 \n",
       "2562  28/12/2020       FM 95.1 METRO   $ 100.000,00 \n",
       "\n",
       "[2563 rows x 3 columns]"
      ]
     },
     "execution_count": 42,
     "metadata": {},
     "output_type": "execute_result"
    }
   ],
   "source": [
    "df"
   ]
  },
  {
   "cell_type": "code",
   "execution_count": 43,
   "metadata": {},
   "outputs": [],
   "source": [
    "len_medios = len(df['Medio'].unique())"
   ]
  },
  {
   "cell_type": "code",
   "execution_count": 44,
   "metadata": {},
   "outputs": [],
   "source": [
    "mapping = {item: i for i, item in enumerate(df[\"Medio\"].unique())}"
   ]
  },
  {
   "cell_type": "code",
   "execution_count": 45,
   "metadata": {},
   "outputs": [],
   "source": [
    "df[\"Num_Medio\"] = df[\"Medio\"].apply(lambda x: mapping[x])"
   ]
  },
  {
   "cell_type": "code",
   "execution_count": 46,
   "metadata": {},
   "outputs": [
    {
     "data": {
      "text/plain": [
       "Fecha        object\n",
       "Medio        object\n",
       "Importe      object\n",
       "Num_Medio     int64\n",
       "dtype: object"
      ]
     },
     "execution_count": 46,
     "metadata": {},
     "output_type": "execute_result"
    }
   ],
   "source": [
    "df.dtypes"
   ]
  },
  {
   "cell_type": "code",
   "execution_count": 47,
   "metadata": {},
   "outputs": [
    {
     "data": {
      "text/html": [
       "<div>\n",
       "<style scoped>\n",
       "    .dataframe tbody tr th:only-of-type {\n",
       "        vertical-align: middle;\n",
       "    }\n",
       "\n",
       "    .dataframe tbody tr th {\n",
       "        vertical-align: top;\n",
       "    }\n",
       "\n",
       "    .dataframe thead th {\n",
       "        text-align: right;\n",
       "    }\n",
       "</style>\n",
       "<table border=\"1\" class=\"dataframe\">\n",
       "  <thead>\n",
       "    <tr style=\"text-align: right;\">\n",
       "      <th></th>\n",
       "      <th>Fecha</th>\n",
       "      <th>Medio</th>\n",
       "      <th>Importe</th>\n",
       "      <th>Num_Medio</th>\n",
       "    </tr>\n",
       "  </thead>\n",
       "  <tbody>\n",
       "    <tr>\n",
       "      <th>0</th>\n",
       "      <td>20/01/2020</td>\n",
       "      <td>FM 95.1 METRO</td>\n",
       "      <td>$ 512.435,00</td>\n",
       "      <td>0</td>\n",
       "    </tr>\n",
       "    <tr>\n",
       "      <th>1</th>\n",
       "      <td>20/01/2020</td>\n",
       "      <td>AM 790 RADIO MITRE</td>\n",
       "      <td>$ 480.000,00</td>\n",
       "      <td>1</td>\n",
       "    </tr>\n",
       "    <tr>\n",
       "      <th>2</th>\n",
       "      <td>20/01/2020</td>\n",
       "      <td>FM 99.9 LA 100</td>\n",
       "      <td>$ 406.560,00</td>\n",
       "      <td>2</td>\n",
       "    </tr>\n",
       "    <tr>\n",
       "      <th>3</th>\n",
       "      <td>20/01/2020</td>\n",
       "      <td>AM 990 LA 990</td>\n",
       "      <td>$ 310.495,68</td>\n",
       "      <td>3</td>\n",
       "    </tr>\n",
       "    <tr>\n",
       "      <th>4</th>\n",
       "      <td>20/01/2020</td>\n",
       "      <td>AM 790 RADIO MITRE</td>\n",
       "      <td>$ 258.456,00</td>\n",
       "      <td>1</td>\n",
       "    </tr>\n",
       "    <tr>\n",
       "      <th>...</th>\n",
       "      <td>...</td>\n",
       "      <td>...</td>\n",
       "      <td>...</td>\n",
       "      <td>...</td>\n",
       "    </tr>\n",
       "    <tr>\n",
       "      <th>2558</th>\n",
       "      <td>23/12/2020</td>\n",
       "      <td>FM 92.1 VORTERIX</td>\n",
       "      <td>$ 202.211,33</td>\n",
       "      <td>28</td>\n",
       "    </tr>\n",
       "    <tr>\n",
       "      <th>2559</th>\n",
       "      <td>23/12/2020</td>\n",
       "      <td>FM 102.3 ASPEN</td>\n",
       "      <td>$ 169.884,00</td>\n",
       "      <td>24</td>\n",
       "    </tr>\n",
       "    <tr>\n",
       "      <th>2560</th>\n",
       "      <td>23/12/2020</td>\n",
       "      <td>AM 910 LA RED</td>\n",
       "      <td>$ 162.624,00</td>\n",
       "      <td>18</td>\n",
       "    </tr>\n",
       "    <tr>\n",
       "      <th>2561</th>\n",
       "      <td>23/12/2020</td>\n",
       "      <td>AM 950 CNN</td>\n",
       "      <td>$ 151.250,00</td>\n",
       "      <td>17</td>\n",
       "    </tr>\n",
       "    <tr>\n",
       "      <th>2562</th>\n",
       "      <td>28/12/2020</td>\n",
       "      <td>FM 95.1 METRO</td>\n",
       "      <td>$ 100.000,00</td>\n",
       "      <td>0</td>\n",
       "    </tr>\n",
       "  </tbody>\n",
       "</table>\n",
       "<p>2563 rows × 4 columns</p>\n",
       "</div>"
      ],
      "text/plain": [
       "           Fecha               Medio         Importe  Num_Medio\n",
       "0     20/01/2020       FM 95.1 METRO   $ 512.435,00           0\n",
       "1     20/01/2020  AM 790 RADIO MITRE   $ 480.000,00           1\n",
       "2     20/01/2020      FM 99.9 LA 100   $ 406.560,00           2\n",
       "3     20/01/2020       AM 990 LA 990   $ 310.495,68           3\n",
       "4     20/01/2020  AM 790 RADIO MITRE   $ 258.456,00           1\n",
       "...          ...                 ...             ...        ...\n",
       "2558  23/12/2020    FM 92.1 VORTERIX   $ 202.211,33          28\n",
       "2559  23/12/2020      FM 102.3 ASPEN   $ 169.884,00          24\n",
       "2560  23/12/2020       AM 910 LA RED   $ 162.624,00          18\n",
       "2561  23/12/2020          AM 950 CNN   $ 151.250,00          17\n",
       "2562  28/12/2020       FM 95.1 METRO   $ 100.000,00           0\n",
       "\n",
       "[2563 rows x 4 columns]"
      ]
     },
     "execution_count": 47,
     "metadata": {},
     "output_type": "execute_result"
    }
   ],
   "source": [
    "df"
   ]
  },
  {
   "cell_type": "code",
   "execution_count": 49,
   "metadata": {},
   "outputs": [],
   "source": [
    "df['Importe'] = df['Importe'].replace('[\\$]', '', regex=True)"
   ]
  },
  {
   "cell_type": "code",
   "execution_count": 51,
   "metadata": {},
   "outputs": [],
   "source": [
    "df['Importe'] = df['Importe'].replace('[\\.]', '', regex=True)"
   ]
  },
  {
   "cell_type": "code",
   "execution_count": 53,
   "metadata": {},
   "outputs": [],
   "source": [
    "df['Importe'] = df['Importe'].replace('[\\,]', '.', regex=True)"
   ]
  },
  {
   "cell_type": "code",
   "execution_count": 55,
   "metadata": {},
   "outputs": [],
   "source": [
    "df['Importe'] = df['Importe'].astype(float)"
   ]
  },
  {
   "cell_type": "code",
   "execution_count": 57,
   "metadata": {},
   "outputs": [],
   "source": [
    "df['Fecha'] = pd.to_datetime(df['Fecha'], format='%d/%m/%Y')"
   ]
  },
  {
   "cell_type": "code",
   "execution_count": 59,
   "metadata": {},
   "outputs": [],
   "source": [
    "df.drop(['Medio'], axis=1, inplace=True)"
   ]
  },
  {
   "cell_type": "code",
   "execution_count": 60,
   "metadata": {},
   "outputs": [
    {
     "data": {
      "text/plain": [
       "Fecha        datetime64[ns]\n",
       "Importe             float64\n",
       "Num_Medio             int64\n",
       "dtype: object"
      ]
     },
     "execution_count": 60,
     "metadata": {},
     "output_type": "execute_result"
    }
   ],
   "source": [
    "df.dtypes"
   ]
  },
  {
   "cell_type": "code",
   "execution_count": 63,
   "metadata": {},
   "outputs": [],
   "source": [
    "df.drop(['Fecha'], axis=1, inplace=True)"
   ]
  },
  {
   "cell_type": "code",
   "execution_count": 61,
   "metadata": {},
   "outputs": [],
   "source": [
    "#Distribución del importe por Num_Medio\n",
    "import matplotlib.pyplot as plt\n",
    "import seaborn as sns"
   ]
  },
  {
   "cell_type": "code",
   "execution_count": 64,
   "metadata": {},
   "outputs": [
    {
     "data": {
      "text/plain": [
       "<AxesSubplot:xlabel='Num_Medio'>"
      ]
     },
     "execution_count": 64,
     "metadata": {},
     "output_type": "execute_result"
    },
    {
     "data": {
      "image/png": "[encoded data removed]",
      "text/plain": [
       "<Figure size 432x288 with 1 Axes>"
      ]
     },
     "metadata": {
      "needs_background": "light"
     },
     "output_type": "display_data"
    }
   ],
   "source": [
    "df.groupby('Num_Medio')['Importe'].sum().plot(kind='bar')"
   ]
  },
  {
   "cell_type": "code",
   "execution_count": 66,
   "metadata": {},
   "outputs": [],
   "source": [
    "from pycaret.clustering import *"
   ]
  },
  {
   "cell_type": "code",
   "execution_count": 67,
   "metadata": {},
   "outputs": [
    {
     "data": {
      "text/html": [
       "<style type=\"text/css\">\n",
       "#T_cb62f_row21_col1 {\n",
       "  background-color: lightgreen;\n",
       "}\n",
       "</style>\n",
       "<table id=\"T_cb62f\">\n",
       "  <thead>\n",
       "    <tr>\n",
       "      <th class=\"blank level0\" >&nbsp;</th>\n",
       "      <th id=\"T_cb62f_level0_col0\" class=\"col_heading level0 col0\" >Description</th>\n",
       "      <th id=\"T_cb62f_level0_col1\" class=\"col_heading level0 col1\" >Value</th>\n",
       "    </tr>\n",
       "  </thead>\n",
       "  <tbody>\n",
       "    <tr>\n",
       "      <th id=\"T_cb62f_level0_row0\" class=\"row_heading level0 row0\" >0</th>\n",
       "      <td id=\"T_cb62f_row0_col0\" class=\"data row0 col0\" >session_id</td>\n",
       "      <td id=\"T_cb62f_row0_col1\" class=\"data row0 col1\" >6025</td>\n",
       "    </tr>\n",
       "    <tr>\n",
       "      <th id=\"T_cb62f_level0_row1\" class=\"row_heading level0 row1\" >1</th>\n",
       "      <td id=\"T_cb62f_row1_col0\" class=\"data row1 col0\" >Original Data</td>\n",
       "      <td id=\"T_cb62f_row1_col1\" class=\"data row1 col1\" >(2563, 2)</td>\n",
       "    </tr>\n",
       "    <tr>\n",
       "      <th id=\"T_cb62f_level0_row2\" class=\"row_heading level0 row2\" >2</th>\n",
       "      <td id=\"T_cb62f_row2_col0\" class=\"data row2 col0\" >Missing Values</td>\n",
       "      <td id=\"T_cb62f_row2_col1\" class=\"data row2 col1\" >False</td>\n",
       "    </tr>\n",
       "    <tr>\n",
       "      <th id=\"T_cb62f_level0_row3\" class=\"row_heading level0 row3\" >3</th>\n",
       "      <td id=\"T_cb62f_row3_col0\" class=\"data row3 col0\" >Numeric Features</td>\n",
       "      <td id=\"T_cb62f_row3_col1\" class=\"data row3 col1\" >2</td>\n",
       "    </tr>\n",
       "    <tr>\n",
       "      <th id=\"T_cb62f_level0_row4\" class=\"row_heading level0 row4\" >4</th>\n",
       "      <td id=\"T_cb62f_row4_col0\" class=\"data row4 col0\" >Categorical Features</td>\n",
       "      <td id=\"T_cb62f_row4_col1\" class=\"data row4 col1\" >0</td>\n",
       "    </tr>\n",
       "    <tr>\n",
       "      <th id=\"T_cb62f_level0_row5\" class=\"row_heading level0 row5\" >5</th>\n",
       "      <td id=\"T_cb62f_row5_col0\" class=\"data row5 col0\" >Ordinal Features</td>\n",
       "      <td id=\"T_cb62f_row5_col1\" class=\"data row5 col1\" >False</td>\n",
       "    </tr>\n",
       "    <tr>\n",
       "      <th id=\"T_cb62f_level0_row6\" class=\"row_heading level0 row6\" >6</th>\n",
       "      <td id=\"T_cb62f_row6_col0\" class=\"data row6 col0\" >High Cardinality Features</td>\n",
       "      <td id=\"T_cb62f_row6_col1\" class=\"data row6 col1\" >False</td>\n",
       "    </tr>\n",
       "    <tr>\n",
       "      <th id=\"T_cb62f_level0_row7\" class=\"row_heading level0 row7\" >7</th>\n",
       "      <td id=\"T_cb62f_row7_col0\" class=\"data row7 col0\" >High Cardinality Method</td>\n",
       "      <td id=\"T_cb62f_row7_col1\" class=\"data row7 col1\" >None</td>\n",
       "    </tr>\n",
       "    <tr>\n",
       "      <th id=\"T_cb62f_level0_row8\" class=\"row_heading level0 row8\" >8</th>\n",
       "      <td id=\"T_cb62f_row8_col0\" class=\"data row8 col0\" >Transformed Data</td>\n",
       "      <td id=\"T_cb62f_row8_col1\" class=\"data row8 col1\" >(2563, 2)</td>\n",
       "    </tr>\n",
       "    <tr>\n",
       "      <th id=\"T_cb62f_level0_row9\" class=\"row_heading level0 row9\" >9</th>\n",
       "      <td id=\"T_cb62f_row9_col0\" class=\"data row9 col0\" >CPU Jobs</td>\n",
       "      <td id=\"T_cb62f_row9_col1\" class=\"data row9 col1\" >-1</td>\n",
       "    </tr>\n",
       "    <tr>\n",
       "      <th id=\"T_cb62f_level0_row10\" class=\"row_heading level0 row10\" >10</th>\n",
       "      <td id=\"T_cb62f_row10_col0\" class=\"data row10 col0\" >Use GPU</td>\n",
       "      <td id=\"T_cb62f_row10_col1\" class=\"data row10 col1\" >False</td>\n",
       "    </tr>\n",
       "    <tr>\n",
       "      <th id=\"T_cb62f_level0_row11\" class=\"row_heading level0 row11\" >11</th>\n",
       "      <td id=\"T_cb62f_row11_col0\" class=\"data row11 col0\" >Log Experiment</td>\n",
       "      <td id=\"T_cb62f_row11_col1\" class=\"data row11 col1\" >False</td>\n",
       "    </tr>\n",
       "    <tr>\n",
       "      <th id=\"T_cb62f_level0_row12\" class=\"row_heading level0 row12\" >12</th>\n",
       "      <td id=\"T_cb62f_row12_col0\" class=\"data row12 col0\" >Experiment Name</td>\n",
       "      <td id=\"T_cb62f_row12_col1\" class=\"data row12 col1\" >cluster-default-name</td>\n",
       "    </tr>\n",
       "    <tr>\n",
       "      <th id=\"T_cb62f_level0_row13\" class=\"row_heading level0 row13\" >13</th>\n",
       "      <td id=\"T_cb62f_row13_col0\" class=\"data row13 col0\" >USI</td>\n",
       "      <td id=\"T_cb62f_row13_col1\" class=\"data row13 col1\" >f4c5</td>\n",
       "    </tr>\n",
       "    <tr>\n",
       "      <th id=\"T_cb62f_level0_row14\" class=\"row_heading level0 row14\" >14</th>\n",
       "      <td id=\"T_cb62f_row14_col0\" class=\"data row14 col0\" >Imputation Type</td>\n",
       "      <td id=\"T_cb62f_row14_col1\" class=\"data row14 col1\" >simple</td>\n",
       "    </tr>\n",
       "    <tr>\n",
       "      <th id=\"T_cb62f_level0_row15\" class=\"row_heading level0 row15\" >15</th>\n",
       "      <td id=\"T_cb62f_row15_col0\" class=\"data row15 col0\" >Iterative Imputation Iteration</td>\n",
       "      <td id=\"T_cb62f_row15_col1\" class=\"data row15 col1\" >None</td>\n",
       "    </tr>\n",
       "    <tr>\n",
       "      <th id=\"T_cb62f_level0_row16\" class=\"row_heading level0 row16\" >16</th>\n",
       "      <td id=\"T_cb62f_row16_col0\" class=\"data row16 col0\" >Numeric Imputer</td>\n",
       "      <td id=\"T_cb62f_row16_col1\" class=\"data row16 col1\" >mean</td>\n",
       "    </tr>\n",
       "    <tr>\n",
       "      <th id=\"T_cb62f_level0_row17\" class=\"row_heading level0 row17\" >17</th>\n",
       "      <td id=\"T_cb62f_row17_col0\" class=\"data row17 col0\" >Iterative Imputation Numeric Model</td>\n",
       "      <td id=\"T_cb62f_row17_col1\" class=\"data row17 col1\" >None</td>\n",
       "    </tr>\n",
       "    <tr>\n",
       "      <th id=\"T_cb62f_level0_row18\" class=\"row_heading level0 row18\" >18</th>\n",
       "      <td id=\"T_cb62f_row18_col0\" class=\"data row18 col0\" >Categorical Imputer</td>\n",
       "      <td id=\"T_cb62f_row18_col1\" class=\"data row18 col1\" >mode</td>\n",
       "    </tr>\n",
       "    <tr>\n",
       "      <th id=\"T_cb62f_level0_row19\" class=\"row_heading level0 row19\" >19</th>\n",
       "      <td id=\"T_cb62f_row19_col0\" class=\"data row19 col0\" >Iterative Imputation Categorical Model</td>\n",
       "      <td id=\"T_cb62f_row19_col1\" class=\"data row19 col1\" >None</td>\n",
       "    </tr>\n",
       "    <tr>\n",
       "      <th id=\"T_cb62f_level0_row20\" class=\"row_heading level0 row20\" >20</th>\n",
       "      <td id=\"T_cb62f_row20_col0\" class=\"data row20 col0\" >Unknown Categoricals Handling</td>\n",
       "      <td id=\"T_cb62f_row20_col1\" class=\"data row20 col1\" >least_frequent</td>\n",
       "    </tr>\n",
       "    <tr>\n",
       "      <th id=\"T_cb62f_level0_row21\" class=\"row_heading level0 row21\" >21</th>\n",
       "      <td id=\"T_cb62f_row21_col0\" class=\"data row21 col0\" >Normalize</td>\n",
       "      <td id=\"T_cb62f_row21_col1\" class=\"data row21 col1\" >True</td>\n",
       "    </tr>\n",
       "    <tr>\n",
       "      <th id=\"T_cb62f_level0_row22\" class=\"row_heading level0 row22\" >22</th>\n",
       "      <td id=\"T_cb62f_row22_col0\" class=\"data row22 col0\" >Normalize Method</td>\n",
       "      <td id=\"T_cb62f_row22_col1\" class=\"data row22 col1\" >zscore</td>\n",
       "    </tr>\n",
       "    <tr>\n",
       "      <th id=\"T_cb62f_level0_row23\" class=\"row_heading level0 row23\" >23</th>\n",
       "      <td id=\"T_cb62f_row23_col0\" class=\"data row23 col0\" >Transformation</td>\n",
       "      <td id=\"T_cb62f_row23_col1\" class=\"data row23 col1\" >False</td>\n",
       "    </tr>\n",
       "    <tr>\n",
       "      <th id=\"T_cb62f_level0_row24\" class=\"row_heading level0 row24\" >24</th>\n",
       "      <td id=\"T_cb62f_row24_col0\" class=\"data row24 col0\" >Transformation Method</td>\n",
       "      <td id=\"T_cb62f_row24_col1\" class=\"data row24 col1\" >None</td>\n",
       "    </tr>\n",
       "    <tr>\n",
       "      <th id=\"T_cb62f_level0_row25\" class=\"row_heading level0 row25\" >25</th>\n",
       "      <td id=\"T_cb62f_row25_col0\" class=\"data row25 col0\" >PCA</td>\n",
       "      <td id=\"T_cb62f_row25_col1\" class=\"data row25 col1\" >False</td>\n",
       "    </tr>\n",
       "    <tr>\n",
       "      <th id=\"T_cb62f_level0_row26\" class=\"row_heading level0 row26\" >26</th>\n",
       "      <td id=\"T_cb62f_row26_col0\" class=\"data row26 col0\" >PCA Method</td>\n",
       "      <td id=\"T_cb62f_row26_col1\" class=\"data row26 col1\" >None</td>\n",
       "    </tr>\n",
       "    <tr>\n",
       "      <th id=\"T_cb62f_level0_row27\" class=\"row_heading level0 row27\" >27</th>\n",
       "      <td id=\"T_cb62f_row27_col0\" class=\"data row27 col0\" >PCA Components</td>\n",
       "      <td id=\"T_cb62f_row27_col1\" class=\"data row27 col1\" >None</td>\n",
       "    </tr>\n",
       "    <tr>\n",
       "      <th id=\"T_cb62f_level0_row28\" class=\"row_heading level0 row28\" >28</th>\n",
       "      <td id=\"T_cb62f_row28_col0\" class=\"data row28 col0\" >Ignore Low Variance</td>\n",
       "      <td id=\"T_cb62f_row28_col1\" class=\"data row28 col1\" >False</td>\n",
       "    </tr>\n",
       "    <tr>\n",
       "      <th id=\"T_cb62f_level0_row29\" class=\"row_heading level0 row29\" >29</th>\n",
       "      <td id=\"T_cb62f_row29_col0\" class=\"data row29 col0\" >Combine Rare Levels</td>\n",
       "      <td id=\"T_cb62f_row29_col1\" class=\"data row29 col1\" >False</td>\n",
       "    </tr>\n",
       "    <tr>\n",
       "      <th id=\"T_cb62f_level0_row30\" class=\"row_heading level0 row30\" >30</th>\n",
       "      <td id=\"T_cb62f_row30_col0\" class=\"data row30 col0\" >Rare Level Threshold</td>\n",
       "      <td id=\"T_cb62f_row30_col1\" class=\"data row30 col1\" >None</td>\n",
       "    </tr>\n",
       "    <tr>\n",
       "      <th id=\"T_cb62f_level0_row31\" class=\"row_heading level0 row31\" >31</th>\n",
       "      <td id=\"T_cb62f_row31_col0\" class=\"data row31 col0\" >Numeric Binning</td>\n",
       "      <td id=\"T_cb62f_row31_col1\" class=\"data row31 col1\" >False</td>\n",
       "    </tr>\n",
       "    <tr>\n",
       "      <th id=\"T_cb62f_level0_row32\" class=\"row_heading level0 row32\" >32</th>\n",
       "      <td id=\"T_cb62f_row32_col0\" class=\"data row32 col0\" >Remove Outliers</td>\n",
       "      <td id=\"T_cb62f_row32_col1\" class=\"data row32 col1\" >False</td>\n",
       "    </tr>\n",
       "    <tr>\n",
       "      <th id=\"T_cb62f_level0_row33\" class=\"row_heading level0 row33\" >33</th>\n",
       "      <td id=\"T_cb62f_row33_col0\" class=\"data row33 col0\" >Outliers Threshold</td>\n",
       "      <td id=\"T_cb62f_row33_col1\" class=\"data row33 col1\" >None</td>\n",
       "    </tr>\n",
       "    <tr>\n",
       "      <th id=\"T_cb62f_level0_row34\" class=\"row_heading level0 row34\" >34</th>\n",
       "      <td id=\"T_cb62f_row34_col0\" class=\"data row34 col0\" >Remove Multicollinearity</td>\n",
       "      <td id=\"T_cb62f_row34_col1\" class=\"data row34 col1\" >False</td>\n",
       "    </tr>\n",
       "    <tr>\n",
       "      <th id=\"T_cb62f_level0_row35\" class=\"row_heading level0 row35\" >35</th>\n",
       "      <td id=\"T_cb62f_row35_col0\" class=\"data row35 col0\" >Multicollinearity Threshold</td>\n",
       "      <td id=\"T_cb62f_row35_col1\" class=\"data row35 col1\" >None</td>\n",
       "    </tr>\n",
       "    <tr>\n",
       "      <th id=\"T_cb62f_level0_row36\" class=\"row_heading level0 row36\" >36</th>\n",
       "      <td id=\"T_cb62f_row36_col0\" class=\"data row36 col0\" >Remove Perfect Collinearity</td>\n",
       "      <td id=\"T_cb62f_row36_col1\" class=\"data row36 col1\" >False</td>\n",
       "    </tr>\n",
       "    <tr>\n",
       "      <th id=\"T_cb62f_level0_row37\" class=\"row_heading level0 row37\" >37</th>\n",
       "      <td id=\"T_cb62f_row37_col0\" class=\"data row37 col0\" >Clustering</td>\n",
       "      <td id=\"T_cb62f_row37_col1\" class=\"data row37 col1\" >False</td>\n",
       "    </tr>\n",
       "    <tr>\n",
       "      <th id=\"T_cb62f_level0_row38\" class=\"row_heading level0 row38\" >38</th>\n",
       "      <td id=\"T_cb62f_row38_col0\" class=\"data row38 col0\" >Clustering Iteration</td>\n",
       "      <td id=\"T_cb62f_row38_col1\" class=\"data row38 col1\" >None</td>\n",
       "    </tr>\n",
       "    <tr>\n",
       "      <th id=\"T_cb62f_level0_row39\" class=\"row_heading level0 row39\" >39</th>\n",
       "      <td id=\"T_cb62f_row39_col0\" class=\"data row39 col0\" >Polynomial Features</td>\n",
       "      <td id=\"T_cb62f_row39_col1\" class=\"data row39 col1\" >False</td>\n",
       "    </tr>\n",
       "    <tr>\n",
       "      <th id=\"T_cb62f_level0_row40\" class=\"row_heading level0 row40\" >40</th>\n",
       "      <td id=\"T_cb62f_row40_col0\" class=\"data row40 col0\" >Polynomial Degree</td>\n",
       "      <td id=\"T_cb62f_row40_col1\" class=\"data row40 col1\" >None</td>\n",
       "    </tr>\n",
       "    <tr>\n",
       "      <th id=\"T_cb62f_level0_row41\" class=\"row_heading level0 row41\" >41</th>\n",
       "      <td id=\"T_cb62f_row41_col0\" class=\"data row41 col0\" >Trignometry Features</td>\n",
       "      <td id=\"T_cb62f_row41_col1\" class=\"data row41 col1\" >False</td>\n",
       "    </tr>\n",
       "    <tr>\n",
       "      <th id=\"T_cb62f_level0_row42\" class=\"row_heading level0 row42\" >42</th>\n",
       "      <td id=\"T_cb62f_row42_col0\" class=\"data row42 col0\" >Polynomial Threshold</td>\n",
       "      <td id=\"T_cb62f_row42_col1\" class=\"data row42 col1\" >None</td>\n",
       "    </tr>\n",
       "    <tr>\n",
       "      <th id=\"T_cb62f_level0_row43\" class=\"row_heading level0 row43\" >43</th>\n",
       "      <td id=\"T_cb62f_row43_col0\" class=\"data row43 col0\" >Group Features</td>\n",
       "      <td id=\"T_cb62f_row43_col1\" class=\"data row43 col1\" >False</td>\n",
       "    </tr>\n",
       "    <tr>\n",
       "      <th id=\"T_cb62f_level0_row44\" class=\"row_heading level0 row44\" >44</th>\n",
       "      <td id=\"T_cb62f_row44_col0\" class=\"data row44 col0\" >Feature Selection</td>\n",
       "      <td id=\"T_cb62f_row44_col1\" class=\"data row44 col1\" >False</td>\n",
       "    </tr>\n",
       "    <tr>\n",
       "      <th id=\"T_cb62f_level0_row45\" class=\"row_heading level0 row45\" >45</th>\n",
       "      <td id=\"T_cb62f_row45_col0\" class=\"data row45 col0\" >Feature Selection Method</td>\n",
       "      <td id=\"T_cb62f_row45_col1\" class=\"data row45 col1\" >classic</td>\n",
       "    </tr>\n",
       "    <tr>\n",
       "      <th id=\"T_cb62f_level0_row46\" class=\"row_heading level0 row46\" >46</th>\n",
       "      <td id=\"T_cb62f_row46_col0\" class=\"data row46 col0\" >Features Selection Threshold</td>\n",
       "      <td id=\"T_cb62f_row46_col1\" class=\"data row46 col1\" >None</td>\n",
       "    </tr>\n",
       "    <tr>\n",
       "      <th id=\"T_cb62f_level0_row47\" class=\"row_heading level0 row47\" >47</th>\n",
       "      <td id=\"T_cb62f_row47_col0\" class=\"data row47 col0\" >Feature Interaction</td>\n",
       "      <td id=\"T_cb62f_row47_col1\" class=\"data row47 col1\" >False</td>\n",
       "    </tr>\n",
       "    <tr>\n",
       "      <th id=\"T_cb62f_level0_row48\" class=\"row_heading level0 row48\" >48</th>\n",
       "      <td id=\"T_cb62f_row48_col0\" class=\"data row48 col0\" >Feature Ratio</td>\n",
       "      <td id=\"T_cb62f_row48_col1\" class=\"data row48 col1\" >False</td>\n",
       "    </tr>\n",
       "    <tr>\n",
       "      <th id=\"T_cb62f_level0_row49\" class=\"row_heading level0 row49\" >49</th>\n",
       "      <td id=\"T_cb62f_row49_col0\" class=\"data row49 col0\" >Interaction Threshold</td>\n",
       "      <td id=\"T_cb62f_row49_col1\" class=\"data row49 col1\" >None</td>\n",
       "    </tr>\n",
       "  </tbody>\n",
       "</table>\n"
      ],
      "text/plain": [
       "<pandas.io.formats.style.Styler at 0x1bbb1922280>"
      ]
     },
     "metadata": {},
     "output_type": "display_data"
    }
   ],
   "source": [
    "s = setup(df, normalize = True,silent=True)"
   ]
  },
  {
   "cell_type": "code",
   "execution_count": 68,
   "metadata": {},
   "outputs": [
    {
     "data": {
      "text/html": [
       "<div>\n",
       "<style scoped>\n",
       "    .dataframe tbody tr th:only-of-type {\n",
       "        vertical-align: middle;\n",
       "    }\n",
       "\n",
       "    .dataframe tbody tr th {\n",
       "        vertical-align: top;\n",
       "    }\n",
       "\n",
       "    .dataframe thead th {\n",
       "        text-align: right;\n",
       "    }\n",
       "</style>\n",
       "<table border=\"1\" class=\"dataframe\">\n",
       "  <thead>\n",
       "    <tr style=\"text-align: right;\">\n",
       "      <th></th>\n",
       "      <th>Silhouette</th>\n",
       "      <th>Calinski-Harabasz</th>\n",
       "      <th>Davies-Bouldin</th>\n",
       "      <th>Homogeneity</th>\n",
       "      <th>Rand Index</th>\n",
       "      <th>Completeness</th>\n",
       "    </tr>\n",
       "  </thead>\n",
       "  <tbody>\n",
       "    <tr>\n",
       "      <th>0</th>\n",
       "      <td>0.6611</td>\n",
       "      <td>3826.1317</td>\n",
       "      <td>0.5477</td>\n",
       "      <td>0</td>\n",
       "      <td>0</td>\n",
       "      <td>0</td>\n",
       "    </tr>\n",
       "  </tbody>\n",
       "</table>\n",
       "</div>"
      ],
      "text/plain": [
       "   Silhouette  Calinski-Harabasz  Davies-Bouldin  Homogeneity  Rand Index  \\\n",
       "0      0.6611          3826.1317          0.5477            0           0   \n",
       "\n",
       "   Completeness  \n",
       "0             0  "
      ]
     },
     "metadata": {},
     "output_type": "display_data"
    }
   ],
   "source": [
    "kmeans = create_model('kmeans')"
   ]
  },
  {
   "cell_type": "code",
   "execution_count": 69,
   "metadata": {},
   "outputs": [
    {
     "name": "stdout",
     "output_type": "stream",
     "text": [
      "KMeans(algorithm='auto', copy_x=True, init='k-means++', max_iter=300,\n",
      "       n_clusters=4, n_init=10, n_jobs=-1, precompute_distances='deprecated',\n",
      "       random_state=6025, tol=0.0001, verbose=0)\n"
     ]
    }
   ],
   "source": [
    "print(kmeans)"
   ]
  },
  {
   "cell_type": "code",
   "execution_count": 70,
   "metadata": {},
   "outputs": [
    {
     "data": {
      "application/vnd.jupyter.widget-view+json": {
       "model_id": "11fb6c156a2c4044b107f6dd05e3e654",
       "version_major": 2,
       "version_minor": 0
      },
      "text/plain": [
       "interactive(children=(ToggleButtons(description='Plot Type:', icons=('',), options=(('Cluster PCA Plot (2d)', …"
      ]
     },
     "metadata": {},
     "output_type": "display_data"
    },
    {
     "data": {
      "application/vnd.plotly.v1+json": {
       "config": {
        "plotlyServerURL": "https://plotly.com"
       },
       "data": [
        {
         "alignmentgroup": "True",
         "bingroup": "x",
         "hovertemplate": "Cluster=%{x}<br>count=%{y}<extra></extra>",
         "legendgroup": "Cluster 0",
         "marker": {
          "color": "#636efa",
          "opacity": 0.7,
          "pattern": {
           "shape": ""
          }
         },
         "name": "Cluster 0",
         "offsetgroup": "Cluster 0",
         "orientation": "v",
         "showlegend": true,
         "type": "histogram",
         "x": [
          "Cluster 0",
          "Cluster 0",
          "Cluster 0",
          "Cluster 0",
          "Cluster 0",
          "Cluster 0",
          "Cluster 0",
          "Cluster 0",
          "Cluster 0",
          "Cluster 0",
          "Cluster 0",
          "Cluster 0",
          "Cluster 0",
          "Cluster 0",
          "Cluster 0",
          "Cluster 0",
          "Cluster 0",
          "Cluster 0",
          "Cluster 0",
          "Cluster 0",
          "Cluster 0",
          "Cluster 0",
          "Cluster 0",
          "Cluster 0",
          "Cluster 0",
          "Cluster 0",
          "Cluster 0",
          "Cluster 0",
          "Cluster 0",
          "Cluster 0",
          "Cluster 0",
          "Cluster 0",
          "Cluster 0",
          "Cluster 0",
          "Cluster 0",
          "Cluster 0",
          "Cluster 0",
          "Cluster 0",
          "Cluster 0",
          "Cluster 0",
          "Cluster 0",
          "Cluster 0",
          "Cluster 0",
          "Cluster 0",
          "Cluster 0",
          "Cluster 0",
          "Cluster 0",
          "Cluster 0",
          "Cluster 0",
          "Cluster 0",
          "Cluster 0",
          "Cluster 0",
          "Cluster 0",
          "Cluster 0",
          "Cluster 0",
          "Cluster 0",
          "Cluster 0",
          "Cluster 0",
          "Cluster 0",
          "Cluster 0",
          "Cluster 0",
          "Cluster 0",
          "Cluster 0",
          "Cluster 0",
          "Cluster 0",
          "Cluster 0",
          "Cluster 0",
          "Cluster 0",
          "Cluster 0",
          "Cluster 0",
          "Cluster 0",
          "Cluster 0",
          "Cluster 0",
          "Cluster 0",
          "Cluster 0",
          "Cluster 0",
          "Cluster 0",
          "Cluster 0",
          "Cluster 0",
          "Cluster 0",
          "Cluster 0",
          "Cluster 0",
          "Cluster 0",
          "Cluster 0",
          "Cluster 0",
          "Cluster 0",
          "Cluster 0",
          "Cluster 0",
          "Cluster 0",
          "Cluster 0",
          "Cluster 0",
          "Cluster 0",
          "Cluster 0",
          "Cluster 0",
          "Cluster 0",
          "Cluster 0",
          "Cluster 0",
          "Cluster 0",
          "Cluster 0",
          "Cluster 0",
          "Cluster 0",
          "Cluster 0",
          "Cluster 0",
          "Cluster 0",
          "Cluster 0",
          "Cluster 0",
          "Cluster 0",
          "Cluster 0",
          "Cluster 0",
          "Cluster 0",
          "Cluster 0",
          "Cluster 0",
          "Cluster 0",
          "Cluster 0",
          "Cluster 0",
          "Cluster 0",
          "Cluster 0",
          "Cluster 0",
          "Cluster 0",
          "Cluster 0",
          "Cluster 0",
          "Cluster 0",
          "Cluster 0",
          "Cluster 0",
          "Cluster 0",
          "Cluster 0",
          "Cluster 0",
          "Cluster 0",
          "Cluster 0",
          "Cluster 0",
          "Cluster 0",
          "Cluster 0",
          "Cluster 0",
          "Cluster 0",
          "Cluster 0",
          "Cluster 0",
          "Cluster 0",
          "Cluster 0",
          "Cluster 0",
          "Cluster 0",
          "Cluster 0",
          "Cluster 0",
          "Cluster 0",
          "Cluster 0",
          "Cluster 0",
          "Cluster 0",
          "Cluster 0",
          "Cluster 0",
          "Cluster 0",
          "Cluster 0",
          "Cluster 0",
          "Cluster 0",
          "Cluster 0",
          "Cluster 0",
          "Cluster 0",
          "Cluster 0",
          "Cluster 0",
          "Cluster 0",
          "Cluster 0",
          "Cluster 0",
          "Cluster 0",
          "Cluster 0",
          "Cluster 0",
          "Cluster 0",
          "Cluster 0",
          "Cluster 0",
          "Cluster 0",
          "Cluster 0",
          "Cluster 0",
          "Cluster 0",
          "Cluster 0",
          "Cluster 0",
          "Cluster 0",
          "Cluster 0",
          "Cluster 0",
          "Cluster 0",
          "Cluster 0",
          "Cluster 0",
          "Cluster 0",
          "Cluster 0",
          "Cluster 0",
          "Cluster 0",
          "Cluster 0",
          "Cluster 0",
          "Cluster 0",
          "Cluster 0",
          "Cluster 0",
          "Cluster 0",
          "Cluster 0",
          "Cluster 0",
          "Cluster 0",
          "Cluster 0",
          "Cluster 0",
          "Cluster 0",
          "Cluster 0",
          "Cluster 0",
          "Cluster 0",
          "Cluster 0",
          "Cluster 0",
          "Cluster 0",
          "Cluster 0",
          "Cluster 0",
          "Cluster 0",
          "Cluster 0",
          "Cluster 0",
          "Cluster 0",
          "Cluster 0",
          "Cluster 0",
          "Cluster 0",
          "Cluster 0",
          "Cluster 0",
          "Cluster 0",
          "Cluster 0",
          "Cluster 0",
          "Cluster 0",
          "Cluster 0",
          "Cluster 0",
          "Cluster 0",
          "Cluster 0",
          "Cluster 0",
          "Cluster 0",
          "Cluster 0",
          "Cluster 0",
          "Cluster 0",
          "Cluster 0",
          "Cluster 0",
          "Cluster 0",
          "Cluster 0",
          "Cluster 0",
          "Cluster 0",
          "Cluster 0",
          "Cluster 0",
          "Cluster 0",
          "Cluster 0",
          "Cluster 0",
          "Cluster 0",
          "Cluster 0",
          "Cluster 0",
          "Cluster 0",
          "Cluster 0",
          "Cluster 0",
          "Cluster 0",
          "Cluster 0",
          "Cluster 0",
          "Cluster 0",
          "Cluster 0",
          "Cluster 0",
          "Cluster 0",
          "Cluster 0",
          "Cluster 0",
          "Cluster 0",
          "Cluster 0",
          "Cluster 0",
          "Cluster 0",
          "Cluster 0",
          "Cluster 0",
          "Cluster 0",
          "Cluster 0",
          "Cluster 0",
          "Cluster 0",
          "Cluster 0",
          "Cluster 0",
          "Cluster 0",
          "Cluster 0",
          "Cluster 0",
          "Cluster 0",
          "Cluster 0",
          "Cluster 0",
          "Cluster 0",
          "Cluster 0",
          "Cluster 0",
          "Cluster 0",
          "Cluster 0",
          "Cluster 0",
          "Cluster 0",
          "Cluster 0",
          "Cluster 0",
          "Cluster 0",
          "Cluster 0",
          "Cluster 0",
          "Cluster 0",
          "Cluster 0",
          "Cluster 0",
          "Cluster 0",
          "Cluster 0",
          "Cluster 0",
          "Cluster 0",
          "Cluster 0",
          "Cluster 0",
          "Cluster 0",
          "Cluster 0",
          "Cluster 0",
          "Cluster 0",
          "Cluster 0",
          "Cluster 0",
          "Cluster 0",
          "Cluster 0",
          "Cluster 0",
          "Cluster 0",
          "Cluster 0",
          "Cluster 0",
          "Cluster 0",
          "Cluster 0",
          "Cluster 0",
          "Cluster 0",
          "Cluster 0",
          "Cluster 0",
          "Cluster 0",
          "Cluster 0",
          "Cluster 0",
          "Cluster 0",
          "Cluster 0",
          "Cluster 0",
          "Cluster 0",
          "Cluster 0",
          "Cluster 0",
          "Cluster 0",
          "Cluster 0",
          "Cluster 0",
          "Cluster 0",
          "Cluster 0",
          "Cluster 0",
          "Cluster 0",
          "Cluster 0",
          "Cluster 0",
          "Cluster 0",
          "Cluster 0",
          "Cluster 0",
          "Cluster 0",
          "Cluster 0",
          "Cluster 0",
          "Cluster 0",
          "Cluster 0",
          "Cluster 0",
          "Cluster 0",
          "Cluster 0",
          "Cluster 0",
          "Cluster 0",
          "Cluster 0",
          "Cluster 0",
          "Cluster 0",
          "Cluster 0",
          "Cluster 0",
          "Cluster 0",
          "Cluster 0",
          "Cluster 0",
          "Cluster 0",
          "Cluster 0",
          "Cluster 0",
          "Cluster 0",
          "Cluster 0",
          "Cluster 0",
          "Cluster 0",
          "Cluster 0",
          "Cluster 0",
          "Cluster 0",
          "Cluster 0",
          "Cluster 0",
          "Cluster 0",
          "Cluster 0",
          "Cluster 0",
          "Cluster 0",
          "Cluster 0",
          "Cluster 0",
          "Cluster 0",
          "Cluster 0",
          "Cluster 0",
          "Cluster 0",
          "Cluster 0",
          "Cluster 0",
          "Cluster 0",
          "Cluster 0",
          "Cluster 0",
          "Cluster 0",
          "Cluster 0",
          "Cluster 0",
          "Cluster 0",
          "Cluster 0",
          "Cluster 0",
          "Cluster 0",
          "Cluster 0",
          "Cluster 0",
          "Cluster 0",
          "Cluster 0",
          "Cluster 0",
          "Cluster 0",
          "Cluster 0",
          "Cluster 0",
          "Cluster 0",
          "Cluster 0",
          "Cluster 0",
          "Cluster 0",
          "Cluster 0",
          "Cluster 0",
          "Cluster 0",
          "Cluster 0",
          "Cluster 0",
          "Cluster 0",
          "Cluster 0",
          "Cluster 0",
          "Cluster 0",
          "Cluster 0",
          "Cluster 0",
          "Cluster 0",
          "Cluster 0",
          "Cluster 0",
          "Cluster 0",
          "Cluster 0",
          "Cluster 0",
          "Cluster 0",
          "Cluster 0",
          "Cluster 0",
          "Cluster 0",
          "Cluster 0",
          "Cluster 0",
          "Cluster 0",
          "Cluster 0",
          "Cluster 0",
          "Cluster 0",
          "Cluster 0",
          "Cluster 0",
          "Cluster 0",
          "Cluster 0",
          "Cluster 0",
          "Cluster 0",
          "Cluster 0",
          "Cluster 0",
          "Cluster 0",
          "Cluster 0",
          "Cluster 0",
          "Cluster 0",
          "Cluster 0",
          "Cluster 0",
          "Cluster 0",
          "Cluster 0",
          "Cluster 0",
          "Cluster 0",
          "Cluster 0",
          "Cluster 0",
          "Cluster 0",
          "Cluster 0",
          "Cluster 0",
          "Cluster 0",
          "Cluster 0",
          "Cluster 0",
          "Cluster 0",
          "Cluster 0",
          "Cluster 0",
          "Cluster 0",
          "Cluster 0",
          "Cluster 0",
          "Cluster 0",
          "Cluster 0",
          "Cluster 0",
          "Cluster 0",
          "Cluster 0",
          "Cluster 0",
          "Cluster 0",
          "Cluster 0",
          "Cluster 0",
          "Cluster 0",
          "Cluster 0",
          "Cluster 0",
          "Cluster 0",
          "Cluster 0",
          "Cluster 0",
          "Cluster 0",
          "Cluster 0",
          "Cluster 0",
          "Cluster 0",
          "Cluster 0",
          "Cluster 0",
          "Cluster 0",
          "Cluster 0",
          "Cluster 0",
          "Cluster 0",
          "Cluster 0",
          "Cluster 0",
          "Cluster 0",
          "Cluster 0",
          "Cluster 0",
          "Cluster 0",
          "Cluster 0",
          "Cluster 0",
          "Cluster 0",
          "Cluster 0",
          "Cluster 0",
          "Cluster 0",
          "Cluster 0",
          "Cluster 0",
          "Cluster 0",
          "Cluster 0",
          "Cluster 0",
          "Cluster 0",
          "Cluster 0",
          "Cluster 0",
          "Cluster 0",
          "Cluster 0",
          "Cluster 0",
          "Cluster 0",
          "Cluster 0",
          "Cluster 0",
          "Cluster 0",
          "Cluster 0",
          "Cluster 0",
          "Cluster 0",
          "Cluster 0",
          "Cluster 0",
          "Cluster 0",
          "Cluster 0",
          "Cluster 0",
          "Cluster 0",
          "Cluster 0",
          "Cluster 0",
          "Cluster 0",
          "Cluster 0",
          "Cluster 0",
          "Cluster 0",
          "Cluster 0",
          "Cluster 0",
          "Cluster 0",
          "Cluster 0",
          "Cluster 0",
          "Cluster 0",
          "Cluster 0",
          "Cluster 0",
          "Cluster 0",
          "Cluster 0",
          "Cluster 0",
          "Cluster 0",
          "Cluster 0",
          "Cluster 0",
          "Cluster 0",
          "Cluster 0",
          "Cluster 0",
          "Cluster 0",
          "Cluster 0",
          "Cluster 0",
          "Cluster 0",
          "Cluster 0",
          "Cluster 0",
          "Cluster 0",
          "Cluster 0",
          "Cluster 0",
          "Cluster 0",
          "Cluster 0",
          "Cluster 0",
          "Cluster 0",
          "Cluster 0",
          "Cluster 0",
          "Cluster 0",
          "Cluster 0",
          "Cluster 0",
          "Cluster 0",
          "Cluster 0",
          "Cluster 0",
          "Cluster 0",
          "Cluster 0",
          "Cluster 0",
          "Cluster 0",
          "Cluster 0",
          "Cluster 0",
          "Cluster 0",
          "Cluster 0",
          "Cluster 0",
          "Cluster 0",
          "Cluster 0",
          "Cluster 0",
          "Cluster 0",
          "Cluster 0",
          "Cluster 0",
          "Cluster 0",
          "Cluster 0",
          "Cluster 0",
          "Cluster 0",
          "Cluster 0",
          "Cluster 0",
          "Cluster 0",
          "Cluster 0",
          "Cluster 0",
          "Cluster 0",
          "Cluster 0",
          "Cluster 0",
          "Cluster 0",
          "Cluster 0",
          "Cluster 0",
          "Cluster 0",
          "Cluster 0",
          "Cluster 0",
          "Cluster 0",
          "Cluster 0",
          "Cluster 0",
          "Cluster 0",
          "Cluster 0",
          "Cluster 0",
          "Cluster 0",
          "Cluster 0",
          "Cluster 0",
          "Cluster 0",
          "Cluster 0",
          "Cluster 0",
          "Cluster 0",
          "Cluster 0",
          "Cluster 0",
          "Cluster 0",
          "Cluster 0",
          "Cluster 0",
          "Cluster 0",
          "Cluster 0",
          "Cluster 0",
          "Cluster 0",
          "Cluster 0",
          "Cluster 0",
          "Cluster 0",
          "Cluster 0",
          "Cluster 0",
          "Cluster 0",
          "Cluster 0",
          "Cluster 0",
          "Cluster 0",
          "Cluster 0",
          "Cluster 0",
          "Cluster 0",
          "Cluster 0",
          "Cluster 0",
          "Cluster 0",
          "Cluster 0",
          "Cluster 0",
          "Cluster 0",
          "Cluster 0",
          "Cluster 0",
          "Cluster 0",
          "Cluster 0",
          "Cluster 0",
          "Cluster 0",
          "Cluster 0",
          "Cluster 0",
          "Cluster 0",
          "Cluster 0",
          "Cluster 0",
          "Cluster 0",
          "Cluster 0",
          "Cluster 0",
          "Cluster 0",
          "Cluster 0",
          "Cluster 0",
          "Cluster 0",
          "Cluster 0",
          "Cluster 0",
          "Cluster 0",
          "Cluster 0",
          "Cluster 0",
          "Cluster 0",
          "Cluster 0",
          "Cluster 0",
          "Cluster 0",
          "Cluster 0",
          "Cluster 0",
          "Cluster 0",
          "Cluster 0",
          "Cluster 0",
          "Cluster 0",
          "Cluster 0",
          "Cluster 0",
          "Cluster 0",
          "Cluster 0",
          "Cluster 0",
          "Cluster 0",
          "Cluster 0",
          "Cluster 0",
          "Cluster 0",
          "Cluster 0",
          "Cluster 0",
          "Cluster 0",
          "Cluster 0",
          "Cluster 0",
          "Cluster 0",
          "Cluster 0",
          "Cluster 0",
          "Cluster 0",
          "Cluster 0",
          "Cluster 0",
          "Cluster 0",
          "Cluster 0",
          "Cluster 0",
          "Cluster 0",
          "Cluster 0",
          "Cluster 0",
          "Cluster 0",
          "Cluster 0",
          "Cluster 0",
          "Cluster 0",
          "Cluster 0",
          "Cluster 0",
          "Cluster 0",
          "Cluster 0",
          "Cluster 0",
          "Cluster 0",
          "Cluster 0",
          "Cluster 0",
          "Cluster 0",
          "Cluster 0",
          "Cluster 0",
          "Cluster 0",
          "Cluster 0",
          "Cluster 0",
          "Cluster 0",
          "Cluster 0",
          "Cluster 0",
          "Cluster 0",
          "Cluster 0",
          "Cluster 0",
          "Cluster 0",
          "Cluster 0",
          "Cluster 0",
          "Cluster 0",
          "Cluster 0",
          "Cluster 0",
          "Cluster 0",
          "Cluster 0",
          "Cluster 0",
          "Cluster 0",
          "Cluster 0",
          "Cluster 0",
          "Cluster 0",
          "Cluster 0",
          "Cluster 0",
          "Cluster 0",
          "Cluster 0",
          "Cluster 0",
          "Cluster 0",
          "Cluster 0",
          "Cluster 0",
          "Cluster 0",
          "Cluster 0",
          "Cluster 0",
          "Cluster 0",
          "Cluster 0",
          "Cluster 0",
          "Cluster 0",
          "Cluster 0",
          "Cluster 0",
          "Cluster 0",
          "Cluster 0",
          "Cluster 0",
          "Cluster 0",
          "Cluster 0",
          "Cluster 0",
          "Cluster 0",
          "Cluster 0",
          "Cluster 0",
          "Cluster 0",
          "Cluster 0",
          "Cluster 0",
          "Cluster 0",
          "Cluster 0",
          "Cluster 0",
          "Cluster 0",
          "Cluster 0",
          "Cluster 0",
          "Cluster 0",
          "Cluster 0",
          "Cluster 0",
          "Cluster 0",
          "Cluster 0",
          "Cluster 0",
          "Cluster 0",
          "Cluster 0",
          "Cluster 0",
          "Cluster 0",
          "Cluster 0",
          "Cluster 0",
          "Cluster 0",
          "Cluster 0",
          "Cluster 0",
          "Cluster 0",
          "Cluster 0",
          "Cluster 0",
          "Cluster 0",
          "Cluster 0",
          "Cluster 0",
          "Cluster 0",
          "Cluster 0",
          "Cluster 0",
          "Cluster 0",
          "Cluster 0",
          "Cluster 0",
          "Cluster 0",
          "Cluster 0",
          "Cluster 0",
          "Cluster 0",
          "Cluster 0",
          "Cluster 0",
          "Cluster 0",
          "Cluster 0",
          "Cluster 0",
          "Cluster 0",
          "Cluster 0",
          "Cluster 0",
          "Cluster 0",
          "Cluster 0",
          "Cluster 0",
          "Cluster 0",
          "Cluster 0",
          "Cluster 0",
          "Cluster 0",
          "Cluster 0",
          "Cluster 0",
          "Cluster 0",
          "Cluster 0",
          "Cluster 0",
          "Cluster 0",
          "Cluster 0",
          "Cluster 0",
          "Cluster 0",
          "Cluster 0",
          "Cluster 0",
          "Cluster 0",
          "Cluster 0",
          "Cluster 0",
          "Cluster 0",
          "Cluster 0",
          "Cluster 0",
          "Cluster 0",
          "Cluster 0",
          "Cluster 0",
          "Cluster 0",
          "Cluster 0",
          "Cluster 0",
          "Cluster 0",
          "Cluster 0",
          "Cluster 0",
          "Cluster 0",
          "Cluster 0",
          "Cluster 0",
          "Cluster 0",
          "Cluster 0",
          "Cluster 0",
          "Cluster 0",
          "Cluster 0",
          "Cluster 0",
          "Cluster 0",
          "Cluster 0",
          "Cluster 0",
          "Cluster 0",
          "Cluster 0",
          "Cluster 0",
          "Cluster 0",
          "Cluster 0",
          "Cluster 0",
          "Cluster 0",
          "Cluster 0",
          "Cluster 0",
          "Cluster 0",
          "Cluster 0",
          "Cluster 0",
          "Cluster 0",
          "Cluster 0",
          "Cluster 0",
          "Cluster 0",
          "Cluster 0",
          "Cluster 0",
          "Cluster 0",
          "Cluster 0",
          "Cluster 0",
          "Cluster 0",
          "Cluster 0",
          "Cluster 0",
          "Cluster 0",
          "Cluster 0",
          "Cluster 0",
          "Cluster 0",
          "Cluster 0",
          "Cluster 0",
          "Cluster 0",
          "Cluster 0",
          "Cluster 0",
          "Cluster 0",
          "Cluster 0",
          "Cluster 0",
          "Cluster 0",
          "Cluster 0",
          "Cluster 0",
          "Cluster 0",
          "Cluster 0",
          "Cluster 0",
          "Cluster 0",
          "Cluster 0",
          "Cluster 0",
          "Cluster 0",
          "Cluster 0",
          "Cluster 0",
          "Cluster 0",
          "Cluster 0",
          "Cluster 0",
          "Cluster 0",
          "Cluster 0",
          "Cluster 0",
          "Cluster 0",
          "Cluster 0",
          "Cluster 0",
          "Cluster 0",
          "Cluster 0",
          "Cluster 0",
          "Cluster 0",
          "Cluster 0",
          "Cluster 0",
          "Cluster 0",
          "Cluster 0",
          "Cluster 0",
          "Cluster 0",
          "Cluster 0",
          "Cluster 0",
          "Cluster 0",
          "Cluster 0",
          "Cluster 0",
          "Cluster 0",
          "Cluster 0",
          "Cluster 0",
          "Cluster 0",
          "Cluster 0",
          "Cluster 0",
          "Cluster 0",
          "Cluster 0",
          "Cluster 0",
          "Cluster 0",
          "Cluster 0",
          "Cluster 0",
          "Cluster 0",
          "Cluster 0",
          "Cluster 0",
          "Cluster 0",
          "Cluster 0",
          "Cluster 0",
          "Cluster 0",
          "Cluster 0",
          "Cluster 0",
          "Cluster 0",
          "Cluster 0",
          "Cluster 0",
          "Cluster 0",
          "Cluster 0",
          "Cluster 0",
          "Cluster 0",
          "Cluster 0",
          "Cluster 0",
          "Cluster 0",
          "Cluster 0",
          "Cluster 0",
          "Cluster 0",
          "Cluster 0",
          "Cluster 0",
          "Cluster 0",
          "Cluster 0",
          "Cluster 0",
          "Cluster 0",
          "Cluster 0",
          "Cluster 0",
          "Cluster 0",
          "Cluster 0",
          "Cluster 0",
          "Cluster 0",
          "Cluster 0",
          "Cluster 0",
          "Cluster 0",
          "Cluster 0",
          "Cluster 0",
          "Cluster 0",
          "Cluster 0",
          "Cluster 0",
          "Cluster 0",
          "Cluster 0",
          "Cluster 0",
          "Cluster 0",
          "Cluster 0",
          "Cluster 0",
          "Cluster 0",
          "Cluster 0",
          "Cluster 0",
          "Cluster 0",
          "Cluster 0",
          "Cluster 0",
          "Cluster 0",
          "Cluster 0",
          "Cluster 0",
          "Cluster 0",
          "Cluster 0",
          "Cluster 0",
          "Cluster 0",
          "Cluster 0",
          "Cluster 0",
          "Cluster 0",
          "Cluster 0",
          "Cluster 0",
          "Cluster 0",
          "Cluster 0",
          "Cluster 0",
          "Cluster 0",
          "Cluster 0",
          "Cluster 0",
          "Cluster 0",
          "Cluster 0",
          "Cluster 0",
          "Cluster 0",
          "Cluster 0",
          "Cluster 0",
          "Cluster 0",
          "Cluster 0",
          "Cluster 0",
          "Cluster 0",
          "Cluster 0",
          "Cluster 0",
          "Cluster 0",
          "Cluster 0",
          "Cluster 0",
          "Cluster 0",
          "Cluster 0",
          "Cluster 0",
          "Cluster 0",
          "Cluster 0",
          "Cluster 0",
          "Cluster 0",
          "Cluster 0",
          "Cluster 0",
          "Cluster 0",
          "Cluster 0",
          "Cluster 0",
          "Cluster 0",
          "Cluster 0",
          "Cluster 0",
          "Cluster 0",
          "Cluster 0",
          "Cluster 0",
          "Cluster 0",
          "Cluster 0",
          "Cluster 0",
          "Cluster 0",
          "Cluster 0",
          "Cluster 0",
          "Cluster 0",
          "Cluster 0",
          "Cluster 0",
          "Cluster 0",
          "Cluster 0",
          "Cluster 0",
          "Cluster 0",
          "Cluster 0",
          "Cluster 0",
          "Cluster 0",
          "Cluster 0",
          "Cluster 0",
          "Cluster 0",
          "Cluster 0",
          "Cluster 0",
          "Cluster 0",
          "Cluster 0",
          "Cluster 0",
          "Cluster 0",
          "Cluster 0",
          "Cluster 0",
          "Cluster 0",
          "Cluster 0",
          "Cluster 0",
          "Cluster 0",
          "Cluster 0",
          "Cluster 0",
          "Cluster 0",
          "Cluster 0",
          "Cluster 0",
          "Cluster 0",
          "Cluster 0",
          "Cluster 0",
          "Cluster 0",
          "Cluster 0",
          "Cluster 0",
          "Cluster 0",
          "Cluster 0",
          "Cluster 0",
          "Cluster 0",
          "Cluster 0",
          "Cluster 0",
          "Cluster 0",
          "Cluster 0",
          "Cluster 0",
          "Cluster 0",
          "Cluster 0",
          "Cluster 0",
          "Cluster 0",
          "Cluster 0",
          "Cluster 0",
          "Cluster 0",
          "Cluster 0",
          "Cluster 0",
          "Cluster 0",
          "Cluster 0",
          "Cluster 0",
          "Cluster 0",
          "Cluster 0",
          "Cluster 0",
          "Cluster 0",
          "Cluster 0",
          "Cluster 0",
          "Cluster 0",
          "Cluster 0",
          "Cluster 0",
          "Cluster 0",
          "Cluster 0",
          "Cluster 0",
          "Cluster 0",
          "Cluster 0",
          "Cluster 0",
          "Cluster 0",
          "Cluster 0",
          "Cluster 0",
          "Cluster 0",
          "Cluster 0",
          "Cluster 0",
          "Cluster 0",
          "Cluster 0",
          "Cluster 0",
          "Cluster 0",
          "Cluster 0",
          "Cluster 0",
          "Cluster 0",
          "Cluster 0",
          "Cluster 0",
          "Cluster 0",
          "Cluster 0",
          "Cluster 0",
          "Cluster 0",
          "Cluster 0",
          "Cluster 0",
          "Cluster 0",
          "Cluster 0",
          "Cluster 0",
          "Cluster 0",
          "Cluster 0",
          "Cluster 0",
          "Cluster 0",
          "Cluster 0",
          "Cluster 0",
          "Cluster 0",
          "Cluster 0",
          "Cluster 0",
          "Cluster 0",
          "Cluster 0",
          "Cluster 0",
          "Cluster 0",
          "Cluster 0",
          "Cluster 0",
          "Cluster 0",
          "Cluster 0",
          "Cluster 0",
          "Cluster 0",
          "Cluster 0",
          "Cluster 0",
          "Cluster 0",
          "Cluster 0",
          "Cluster 0",
          "Cluster 0",
          "Cluster 0",
          "Cluster 0",
          "Cluster 0",
          "Cluster 0",
          "Cluster 0",
          "Cluster 0",
          "Cluster 0",
          "Cluster 0",
          "Cluster 0",
          "Cluster 0",
          "Cluster 0",
          "Cluster 0",
          "Cluster 0",
          "Cluster 0",
          "Cluster 0",
          "Cluster 0",
          "Cluster 0",
          "Cluster 0",
          "Cluster 0",
          "Cluster 0",
          "Cluster 0",
          "Cluster 0",
          "Cluster 0",
          "Cluster 0",
          "Cluster 0",
          "Cluster 0",
          "Cluster 0",
          "Cluster 0",
          "Cluster 0",
          "Cluster 0",
          "Cluster 0",
          "Cluster 0",
          "Cluster 0",
          "Cluster 0",
          "Cluster 0",
          "Cluster 0",
          "Cluster 0",
          "Cluster 0",
          "Cluster 0",
          "Cluster 0",
          "Cluster 0",
          "Cluster 0",
          "Cluster 0",
          "Cluster 0",
          "Cluster 0",
          "Cluster 0",
          "Cluster 0",
          "Cluster 0",
          "Cluster 0",
          "Cluster 0",
          "Cluster 0",
          "Cluster 0",
          "Cluster 0",
          "Cluster 0",
          "Cluster 0",
          "Cluster 0",
          "Cluster 0",
          "Cluster 0",
          "Cluster 0",
          "Cluster 0",
          "Cluster 0",
          "Cluster 0",
          "Cluster 0",
          "Cluster 0",
          "Cluster 0",
          "Cluster 0",
          "Cluster 0",
          "Cluster 0",
          "Cluster 0",
          "Cluster 0",
          "Cluster 0",
          "Cluster 0",
          "Cluster 0",
          "Cluster 0",
          "Cluster 0",
          "Cluster 0",
          "Cluster 0",
          "Cluster 0",
          "Cluster 0",
          "Cluster 0",
          "Cluster 0",
          "Cluster 0",
          "Cluster 0",
          "Cluster 0",
          "Cluster 0",
          "Cluster 0",
          "Cluster 0",
          "Cluster 0",
          "Cluster 0",
          "Cluster 0",
          "Cluster 0",
          "Cluster 0",
          "Cluster 0",
          "Cluster 0",
          "Cluster 0",
          "Cluster 0",
          "Cluster 0",
          "Cluster 0",
          "Cluster 0",
          "Cluster 0",
          "Cluster 0",
          "Cluster 0",
          "Cluster 0",
          "Cluster 0",
          "Cluster 0",
          "Cluster 0",
          "Cluster 0",
          "Cluster 0",
          "Cluster 0",
          "Cluster 0",
          "Cluster 0",
          "Cluster 0",
          "Cluster 0",
          "Cluster 0",
          "Cluster 0",
          "Cluster 0",
          "Cluster 0",
          "Cluster 0",
          "Cluster 0",
          "Cluster 0",
          "Cluster 0",
          "Cluster 0",
          "Cluster 0",
          "Cluster 0",
          "Cluster 0",
          "Cluster 0",
          "Cluster 0",
          "Cluster 0",
          "Cluster 0",
          "Cluster 0",
          "Cluster 0",
          "Cluster 0",
          "Cluster 0",
          "Cluster 0",
          "Cluster 0",
          "Cluster 0",
          "Cluster 0",
          "Cluster 0",
          "Cluster 0",
          "Cluster 0",
          "Cluster 0",
          "Cluster 0",
          "Cluster 0",
          "Cluster 0",
          "Cluster 0",
          "Cluster 0",
          "Cluster 0",
          "Cluster 0",
          "Cluster 0",
          "Cluster 0",
          "Cluster 0",
          "Cluster 0",
          "Cluster 0",
          "Cluster 0",
          "Cluster 0",
          "Cluster 0",
          "Cluster 0",
          "Cluster 0",
          "Cluster 0",
          "Cluster 0",
          "Cluster 0",
          "Cluster 0",
          "Cluster 0",
          "Cluster 0",
          "Cluster 0",
          "Cluster 0",
          "Cluster 0",
          "Cluster 0",
          "Cluster 0",
          "Cluster 0",
          "Cluster 0",
          "Cluster 0",
          "Cluster 0",
          "Cluster 0",
          "Cluster 0"
         ],
         "xaxis": "x",
         "yaxis": "y"
        },
        {
         "alignmentgroup": "True",
         "customdata": [
          [
           15400,
           6
          ],
          [
           15000,
           8
          ],
          [
           17000,
           3
          ],
          [
           18000,
           4
          ],
          [
           19000,
           8
          ],
          [
           30000,
           9
          ],
          [
           30000,
           8
          ],
          [
           40000,
           0
          ],
          [
           65000,
           4
          ],
          [
           69300,
           10
          ],
          [
           110000,
           4
          ],
          [
           183100,
           17
          ],
          [
           10000,
           8
          ],
          [
           10000,
           8
          ],
          [
           10000,
           8
          ],
          [
           10300,
           6
          ],
          [
           11000,
           8
          ],
          [
           12000,
           6
          ],
          [
           12000,
           6
          ],
          [
           15000,
           8
          ],
          [
           18000,
           4
          ],
          [
           20000,
           18
          ],
          [
           20000,
           8
          ],
          [
           25000,
           17
          ],
          [
           15000,
           8
          ],
          [
           40000,
           17
          ],
          [
           242574.75,
           9
          ],
          [
           209632.5,
           0
          ],
          [
           14000,
           9
          ],
          [
           14400,
           8
          ],
          [
           14400,
           8
          ],
          [
           15200,
           8
          ],
          [
           15200,
           8
          ],
          [
           15840,
           8
          ],
          [
           16000,
           8
          ],
          [
           18000,
           9
          ],
          [
           19800,
           1
          ],
          [
           19800,
           8
          ],
          [
           20000,
           8
          ],
          [
           20000,
           8
          ],
          [
           21600,
           8
          ],
          [
           23400,
           8
          ],
          [
           25000,
           9
          ],
          [
           36000,
           9
          ],
          [
           15000,
           18
          ],
          [
           22000,
           18
          ],
          [
           49658.4,
           7
          ],
          [
           106200,
           9
          ],
          [
           119790,
           19
          ],
          [
           154819.5,
           20
          ],
          [
           198893.75,
           17
          ],
          [
           218317.27,
           4
          ],
          [
           55000,
           18
          ],
          [
           12000,
           6
          ],
          [
           14000,
           6
          ],
          [
           58752,
           6
          ],
          [
           87609.6,
           6
          ],
          [
           13200,
           8
          ],
          [
           35000,
           6
          ],
          [
           110406.45,
           5
          ],
          [
           209552.64,
           3
          ],
          [
           15000,
           9
          ],
          [
           15000,
           18
          ],
          [
           152460,
           18
          ],
          [
           15000,
           9
          ],
          [
           49658.4,
           7
          ],
          [
           119790,
           19
          ],
          [
           199650,
           17
          ],
          [
           203643,
           16
          ],
          [
           214623.75,
           0
          ],
          [
           15000,
           8
          ],
          [
           10000,
           8
          ],
          [
           10000,
           8
          ],
          [
           10000,
           8
          ],
          [
           15000,
           11
          ],
          [
           10000,
           6
          ],
          [
           17000,
           3
          ],
          [
           18000,
           9
          ],
          [
           32832,
           1
          ],
          [
           30000,
           9
          ],
          [
           28339.2,
           8
          ],
          [
           23500.8,
           1
          ],
          [
           15000,
           9
          ],
          [
           15400,
           6
          ],
          [
           15400,
           6
          ],
          [
           15935,
           6
          ],
          [
           16000,
           6
          ],
          [
           16170,
           6
          ],
          [
           16500,
           6
          ],
          [
           16632,
           6
          ],
          [
           17600,
           6
          ],
          [
           19250,
           6
          ],
          [
           19656,
           6
          ],
          [
           14000,
           8
          ],
          [
           20000,
           6
          ],
          [
           22857,
           6
          ],
          [
           28057,
           6
          ],
          [
           10800,
           6
          ],
          [
           15000,
           11
          ],
          [
           61000,
           10
          ],
          [
           110000,
           9
          ],
          [
           121992,
           5
          ],
          [
           17424,
           6
          ],
          [
           13068,
           8
          ],
          [
           21780,
           1
          ],
          [
           23232,
           6
          ],
          [
           20000,
           6
          ],
          [
           14000,
           8
          ],
          [
           14000,
           8
          ],
          [
           13200,
           9
          ],
          [
           49029,
           1
          ],
          [
           10560,
           9
          ],
          [
           11000,
           8
          ],
          [
           11250,
           18
          ],
          [
           11616,
           8
          ],
          [
           12600,
           8
          ],
          [
           13068,
           8
          ],
          [
           13200,
           8
          ],
          [
           13200,
           9
          ],
          [
           14000,
           8
          ],
          [
           14000,
           8
          ],
          [
           14000,
           8
          ],
          [
           14000,
           9
          ],
          [
           14400,
           8
          ],
          [
           14400,
           8
          ],
          [
           15000,
           8
          ],
          [
           15200,
           8
          ],
          [
           15200,
           8
          ],
          [
           15840,
           8
          ],
          [
           16000,
           8
          ],
          [
           18000,
           9
          ],
          [
           19200,
           8
          ],
          [
           19800,
           1
          ],
          [
           35000,
           6
          ],
          [
           17278,
           8
          ],
          [
           14040,
           8
          ],
          [
           12000,
           8
          ],
          [
           15000,
           11
          ],
          [
           20000,
           8
          ],
          [
           26625,
           9
          ],
          [
           29000,
           8
          ],
          [
           40000,
           0
          ],
          [
           69300,
           10
          ],
          [
           10800,
           6
          ],
          [
           17000,
           3
          ],
          [
           13068,
           6
          ],
          [
           159720,
           18
          ],
          [
           10000,
           8
          ],
          [
           19800,
           8
          ],
          [
           11520,
           8
          ],
          [
           12000,
           8
          ],
          [
           20000,
           18
          ],
          [
           20000,
           18
          ],
          [
           20000,
           8
          ],
          [
           23000,
           18
          ],
          [
           61000,
           10
          ],
          [
           110000,
           9
          ],
          [
           199650,
           17
          ],
          [
           209552.64,
           3
          ],
          [
           218317.27,
           4
          ],
          [
           242000,
           2
          ],
          [
           12000,
           8
          ],
          [
           40000,
           17
          ],
          [
           20000,
           8
          ],
          [
           21600,
           8
          ],
          [
           10000,
           8
          ],
          [
           10560,
           18
          ],
          [
           11520,
           8
          ],
          [
           12000,
           8
          ],
          [
           12000,
           8
          ],
          [
           13068,
           0
          ],
          [
           15000,
           9
          ],
          [
           16500,
           0
          ],
          [
           18000,
           0
          ],
          [
           20000,
           18
          ],
          [
           23000,
           18
          ],
          [
           40000,
           1
          ],
          [
           13068,
           6
          ],
          [
           15000,
           8
          ],
          [
           12000,
           8
          ],
          [
           14040,
           8
          ],
          [
           17278,
           8
          ],
          [
           49029,
           1
          ],
          [
           10560,
           9
          ],
          [
           11616,
           8
          ],
          [
           12600,
           8
          ],
          [
           13068,
           8
          ],
          [
           13200,
           8
          ],
          [
           199650,
           16
          ],
          [
           29000,
           8
          ],
          [
           20625,
           9
          ],
          [
           20000,
           8
          ],
          [
           23400,
           8
          ],
          [
           25000,
           9
          ],
          [
           29500,
           4
          ],
          [
           36000,
           9
          ],
          [
           13068,
           8
          ],
          [
           17424,
           6
          ],
          [
           23500.8,
           1
          ],
          [
           21780,
           1
          ],
          [
           23232,
           6
          ],
          [
           28339.2,
           8
          ],
          [
           32832,
           1
          ],
          [
           20000,
           8
          ],
          [
           58752,
           6
          ],
          [
           18000,
           9
          ],
          [
           12000,
           6
          ],
          [
           88500,
           9
          ],
          [
           30000,
           17
          ],
          [
           96558.4,
           19
          ],
          [
           126732.9,
           14
          ],
          [
           126732.9,
           15
          ],
          [
           156907.4,
           10
          ],
          [
           10000,
           6
          ],
          [
           15000,
           11
          ],
          [
           20000,
           1
          ],
          [
           87609.6,
           6
          ],
          [
           96558.4,
           19
          ],
          [
           126732.9,
           14
          ],
          [
           126732.9,
           15
          ],
          [
           14000,
           6
          ],
          [
           14040,
           8
          ],
          [
           15400,
           6
          ],
          [
           15400,
           6
          ],
          [
           15935,
           6
          ],
          [
           16000,
           6
          ],
          [
           16170,
           6
          ],
          [
           16500,
           6
          ],
          [
           16632,
           6
          ],
          [
           17278,
           8
          ],
          [
           17600,
           6
          ],
          [
           18000,
           8
          ],
          [
           18000,
           9
          ],
          [
           19000,
           8
          ],
          [
           19250,
           6
          ],
          [
           19656,
           6
          ],
          [
           20000,
           6
          ],
          [
           20000,
           6
          ],
          [
           20625,
           9
          ],
          [
           22857,
           6
          ],
          [
           28057,
           6
          ],
          [
           40000,
           0
          ],
          [
           49029,
           1
          ],
          [
           12000,
           6
          ],
          [
           12000,
           8
          ],
          [
           12000,
           8
          ],
          [
           55000,
           18
          ],
          [
           13068,
           6
          ],
          [
           13200,
           0
          ],
          [
           15000,
           8
          ],
          [
           15000,
           8
          ],
          [
           18000,
           0
          ],
          [
           30000,
           9
          ],
          [
           30000,
           8
          ],
          [
           15000,
           9
          ],
          [
           20000,
           6
          ],
          [
           96558.4,
           19
          ],
          [
           126732.9,
           14
          ],
          [
           110000,
           9
          ],
          [
           126732.9,
           15
          ],
          [
           174240,
           18
          ],
          [
           15000,
           18
          ],
          [
           40000,
           1
          ],
          [
           152460,
           17
          ],
          [
           193600,
           2
          ],
          [
           235950,
           15
          ],
          [
           239580,
           16
          ],
          [
           10000,
           6
          ],
          [
           10300,
           6
          ],
          [
           12000,
           6
          ],
          [
           12000,
           6
          ],
          [
           156907.4,
           10
          ],
          [
           13068,
           0
          ],
          [
           120987.9,
           20
          ],
          [
           11616,
           8
          ],
          [
           32832,
           1
          ],
          [
           36000,
           9
          ],
          [
           58752,
           6
          ],
          [
           87609.6,
           6
          ],
          [
           10560,
           18
          ],
          [
           10800,
           6
          ],
          [
           29500,
           4
          ],
          [
           47044.8,
           7
          ],
          [
           65000,
           4
          ],
          [
           99825,
           5
          ],
          [
           104776.32,
           3
          ],
          [
           110000,
           4
          ],
          [
           199650,
           0
          ],
          [
           240149,
           4
          ],
          [
           10000,
           8
          ],
          [
           11520,
           8
          ],
          [
           12000,
           8
          ],
          [
           12000,
           8
          ],
          [
           12000,
           10
          ],
          [
           15000,
           11
          ],
          [
           20000,
           18
          ],
          [
           23000,
           18
          ],
          [
           25000,
           17
          ],
          [
           28339.2,
           8
          ],
          [
           25000,
           9
          ],
          [
           23500.8,
           1
          ],
          [
           23400,
           8
          ],
          [
           12600,
           8
          ],
          [
           13068,
           8
          ],
          [
           13068,
           8
          ],
          [
           13200,
           8
          ],
          [
           13200,
           9
          ],
          [
           14000,
           8
          ],
          [
           14000,
           8
          ],
          [
           14000,
           8
          ],
          [
           14000,
           9
          ],
          [
           14400,
           8
          ],
          [
           14400,
           8
          ],
          [
           10560,
           9
          ],
          [
           15200,
           8
          ],
          [
           15840,
           8
          ],
          [
           16000,
           8
          ],
          [
           17424,
           6
          ],
          [
           18000,
           9
          ],
          [
           19800,
           8
          ],
          [
           19800,
           1
          ],
          [
           20000,
           8
          ],
          [
           20000,
           8
          ],
          [
           21600,
           8
          ],
          [
           21780,
           1
          ],
          [
           23232,
           6
          ],
          [
           15200,
           8
          ],
          [
           15000,
           11
          ],
          [
           88500,
           9
          ],
          [
           15000,
           8
          ],
          [
           23500.8,
           1
          ],
          [
           25000,
           17
          ],
          [
           28339.2,
           8
          ],
          [
           30000,
           9
          ],
          [
           30000,
           8
          ],
          [
           32832,
           1
          ],
          [
           40000,
           0
          ],
          [
           55000,
           18
          ],
          [
           58752,
           6
          ],
          [
           87609.6,
           6
          ],
          [
           10000,
           8
          ],
          [
           11520,
           8
          ],
          [
           12000,
           8
          ],
          [
           12000,
           8
          ],
          [
           13068,
           0
          ],
          [
           13068,
           6
          ],
          [
           13200,
           0
          ],
          [
           18000,
           0
          ],
          [
           20000,
           18
          ],
          [
           23000,
           18
          ],
          [
           10560,
           18
          ],
          [
           19000,
           8
          ],
          [
           29500,
           4
          ],
          [
           23232,
           6
          ],
          [
           21780,
           1
          ],
          [
           15000,
           8
          ],
          [
           15000,
           8
          ],
          [
           156907.4,
           10
          ],
          [
           12000,
           6
          ],
          [
           14000,
           6
          ],
          [
           15400,
           6
          ],
          [
           151250,
           17
          ],
          [
           15935,
           6
          ],
          [
           16000,
           6
          ],
          [
           16170,
           6
          ],
          [
           16500,
           6
          ],
          [
           16632,
           6
          ],
          [
           17600,
           6
          ],
          [
           65000,
           4
          ],
          [
           19250,
           6
          ],
          [
           20000,
           6
          ],
          [
           20000,
           6
          ],
          [
           22857,
           6
          ],
          [
           28057,
           6
          ],
          [
           10300,
           6
          ],
          [
           12000,
           6
          ],
          [
           12000,
           6
          ],
          [
           17424,
           6
          ],
          [
           106200,
           9
          ],
          [
           183100,
           17
          ],
          [
           13068,
           8
          ],
          [
           19656,
           6
          ],
          [
           40000,
           17
          ],
          [
           69300,
           10
          ],
          [
           40000,
           1
          ],
          [
           20000,
           8
          ],
          [
           20000,
           8
          ],
          [
           21600,
           8
          ],
          [
           23400,
           8
          ],
          [
           25000,
           9
          ],
          [
           36000,
           9
          ],
          [
           10800,
           6
          ],
          [
           11000,
           8
          ],
          [
           12000,
           8
          ],
          [
           14040,
           8
          ],
          [
           15000,
           8
          ],
          [
           17278,
           8
          ],
          [
           49029,
           1
          ],
          [
           15000,
           11
          ],
          [
           22000,
           18
          ],
          [
           30000,
           9
          ],
          [
           35000,
           6
          ],
          [
           110000,
           9
          ],
          [
           121992,
           5
          ],
          [
           13200,
           8
          ],
          [
           250470,
           18
          ],
          [
           156816,
           20
          ],
          [
           108900,
           18
          ],
          [
           20000,
           8
          ],
          [
           20000,
           18
          ],
          [
           19800,
           8
          ],
          [
           19800,
           1
          ],
          [
           20000,
           1
          ],
          [
           12000,
           8
          ],
          [
           18000,
           8
          ],
          [
           20625,
           9
          ],
          [
           22000,
           18
          ],
          [
           43200,
           13
          ],
          [
           61000,
           10
          ],
          [
           10560,
           9
          ],
          [
           11616,
           8
          ],
          [
           12600,
           8
          ],
          [
           13068,
           8
          ],
          [
           110000,
           4
          ],
          [
           13200,
           8
          ],
          [
           14000,
           8
          ],
          [
           14000,
           8
          ],
          [
           14000,
           8
          ],
          [
           14000,
           9
          ],
          [
           14400,
           8
          ],
          [
           14400,
           8
          ],
          [
           15200,
           8
          ],
          [
           15200,
           8
          ],
          [
           15840,
           8
          ],
          [
           16000,
           8
          ],
          [
           18000,
           9
          ],
          [
           13200,
           9
          ],
          [
           30000,
           9
          ],
          [
           40000,
           17
          ],
          [
           30000,
           9
          ],
          [
           200000,
           0
          ],
          [
           17000,
           3
          ],
          [
           10000,
           8
          ],
          [
           10000,
           8
          ],
          [
           10000,
           8
          ],
          [
           40000,
           0
          ],
          [
           100843.21,
           7
          ],
          [
           101821.5,
           20
          ],
          [
           108900,
           19
          ],
          [
           154275,
           14
          ],
          [
           159720,
           5
          ],
          [
           209088,
           21
          ],
          [
           55000,
           18
          ],
          [
           10000,
           8
          ],
          [
           10000,
           6
          ],
          [
           10300,
           6
          ],
          [
           11520,
           8
          ],
          [
           12000,
           8
          ],
          [
           12000,
           8
          ],
          [
           12000,
           8
          ],
          [
           12000,
           6
          ],
          [
           12000,
           6
          ],
          [
           12000,
           6
          ],
          [
           33057,
           6
          ],
          [
           15000,
           9
          ],
          [
           29857,
           6
          ],
          [
           25000,
           6
          ],
          [
           65000,
           4
          ],
          [
           110000,
           4
          ],
          [
           18000,
           9
          ],
          [
           20000,
           1
          ],
          [
           20000,
           8
          ],
          [
           20625,
           12
          ],
          [
           22000,
           18
          ],
          [
           29000,
           8
          ],
          [
           106200,
           9
          ],
          [
           110000,
           9
          ],
          [
           121992,
           5
          ],
          [
           183100,
           17
          ],
          [
           16000,
           6
          ],
          [
           18900,
           6
          ],
          [
           19000,
           6
          ],
          [
           20790,
           6
          ],
          [
           20815,
           6
          ],
          [
           20900,
           6
          ],
          [
           22275,
           6
          ],
          [
           22453.2,
           6
          ],
          [
           23000,
           6
          ],
          [
           23890,
           6
          ],
          [
           25000,
           6
          ],
          [
           26437.5,
           6
          ],
          [
           15000,
           8
          ],
          [
           15000,
           8
          ],
          [
           20000,
           18
          ],
          [
           14000,
           8
          ],
          [
           15200,
           8
          ],
          [
           15206.4,
           9
          ],
          [
           16727,
           8
          ],
          [
           17424,
           8
          ],
          [
           18000,
           8
          ],
          [
           18000,
           8
          ],
          [
           18000,
           8
          ],
          [
           18666.66,
           9
          ],
          [
           19008,
           9
          ],
          [
           19800,
           1
          ],
          [
           19800,
           8
          ],
          [
           20000,
           8
          ],
          [
           20000,
           8
          ],
          [
           20000,
           8
          ],
          [
           20266.66,
           8
          ],
          [
           20736,
           8
          ],
          [
           21333.33,
           8
          ],
          [
           21600,
           8
          ],
          [
           22809.6,
           8
          ],
          [
           23000,
           8
          ],
          [
           24000,
           9
          ],
          [
           25000,
           3
          ],
          [
           14000,
           8
          ],
          [
           14000,
           8
          ],
          [
           13200,
           8
          ],
          [
           12600,
           8
          ],
          [
           23000,
           18
          ],
          [
           30000,
           9
          ],
          [
           30000,
           9
          ],
          [
           30000,
           8
          ],
          [
           40000,
           17
          ],
          [
           69300,
           10
          ],
          [
           10560,
           18
          ],
          [
           15000,
           11
          ],
          [
           15000,
           11
          ],
          [
           19000,
           8
          ],
          [
           61000,
           10
          ],
          [
           29500,
           4
          ],
          [
           25000,
           17
          ],
          [
           200000,
           0
          ],
          [
           13068,
           6
          ],
          [
           15000,
           9
          ],
          [
           15000,
           18
          ],
          [
           20000,
           18
          ],
          [
           20000,
           8
          ],
          [
           20217.6,
           8
          ],
          [
           24880.32,
           8
          ],
          [
           28000,
           8
          ],
          [
           35000,
           6
          ],
          [
           49029,
           1
          ],
          [
           200000,
           0
          ],
          [
           18000,
           4
          ],
          [
           30000,
           17
          ],
          [
           18000,
           0
          ],
          [
           33057,
           6
          ],
          [
           34049,
           6
          ],
          [
           15000,
           8
          ],
          [
           15000,
           8
          ],
          [
           29500,
           4
          ],
          [
           30000,
           9
          ],
          [
           30000,
           8
          ],
          [
           65000,
           4
          ],
          [
           110000,
           4
          ],
          [
           12600,
           8
          ],
          [
           13200,
           8
          ],
          [
           14000,
           8
          ],
          [
           14000,
           8
          ],
          [
           14000,
           8
          ],
          [
           15200,
           8
          ],
          [
           15206.4,
           9
          ],
          [
           16727,
           8
          ],
          [
           17424,
           8
          ],
          [
           18000,
           8
          ],
          [
           18000,
           8
          ],
          [
           18000,
           8
          ],
          [
           18666.66,
           9
          ],
          [
           19008,
           9
          ],
          [
           26437.5,
           6
          ],
          [
           25000,
           6
          ],
          [
           22453.2,
           6
          ],
          [
           22275,
           6
          ],
          [
           162624,
           18
          ],
          [
           203280,
           15
          ],
          [
           218317.27,
           4
          ],
          [
           223850,
           10
          ],
          [
           251680,
           2
          ],
          [
           150875.51,
           7
          ],
          [
           179685,
           5
          ],
          [
           228690,
           14
          ],
          [
           235950,
           19
          ],
          [
           25000,
           4
          ],
          [
           30000,
           17
          ],
          [
           19800,
           1
          ],
          [
           15000,
           11
          ],
          [
           18000,
           9
          ],
          [
           20000,
           1
          ],
          [
           35000,
           6
          ],
          [
           61000,
           10
          ],
          [
           110000,
           9
          ],
          [
           121992,
           5
          ],
          [
           183100,
           17
          ],
          [
           25000,
           6
          ],
          [
           16000,
           6
          ],
          [
           18900,
           6
          ],
          [
           20900,
           6
          ],
          [
           18000,
           4
          ],
          [
           27200,
           8
          ],
          [
           19800,
           8
          ],
          [
           20000,
           8
          ],
          [
           21780,
           1
          ],
          [
           23232,
           6
          ],
          [
           23500.8,
           1
          ],
          [
           28339.2,
           8
          ],
          [
           32832,
           1
          ],
          [
           58752,
           6
          ],
          [
           69300,
           10
          ],
          [
           87609.6,
           6
          ],
          [
           25000,
           4
          ],
          [
           40000,
           1
          ],
          [
           59435.81,
           7
          ],
          [
           101821.5,
           20
          ],
          [
           104544,
           21
          ],
          [
           123420,
           14
          ],
          [
           157164.48,
           3
          ],
          [
           161716.5,
           9
          ],
          [
           170156.25,
           17
          ],
          [
           20790,
           6
          ],
          [
           20790,
           6
          ],
          [
           18000,
           5
          ],
          [
           13068,
           0
          ],
          [
           15000,
           8
          ],
          [
           16500,
           0
          ],
          [
           17424,
           6
          ],
          [
           13068,
           8
          ],
          [
           55000,
           18
          ],
          [
           25000,
           17
          ],
          [
           20000,
           8
          ],
          [
           20217.6,
           8
          ],
          [
           20266.66,
           8
          ],
          [
           20736,
           8
          ],
          [
           21333.33,
           8
          ],
          [
           21600,
           8
          ],
          [
           22809.6,
           8
          ],
          [
           23000,
           8
          ],
          [
           24000,
           9
          ],
          [
           24880.32,
           8
          ],
          [
           25000,
           3
          ],
          [
           20000,
           8
          ],
          [
           27200,
           8
          ],
          [
           33333.33,
           9
          ],
          [
           33696,
           8
          ],
          [
           36000,
           9
          ],
          [
           49029,
           1
          ],
          [
           10000,
           6
          ],
          [
           10300,
           6
          ],
          [
           12000,
           6
          ],
          [
           40000,
           17
          ],
          [
           12000,
           8
          ],
          [
           20000,
           18
          ],
          [
           20000,
           8
          ],
          [
           28000,
           8
          ],
          [
           33333.33,
           9
          ],
          [
           33696,
           8
          ],
          [
           36000,
           9
          ],
          [
           18000,
           4
          ],
          [
           121992,
           5
          ],
          [
           13068,
           8
          ],
          [
           17424,
           6
          ],
          [
           21780,
           1
          ],
          [
           23500.8,
           1
          ],
          [
           23232,
           6
          ],
          [
           28339.2,
           8
          ],
          [
           32832,
           1
          ],
          [
           58752,
           6
          ],
          [
           87609.6,
           6
          ],
          [
           18000,
           8
          ],
          [
           18000,
           8
          ],
          [
           20790,
           6
          ],
          [
           23000,
           8
          ],
          [
           148104,
           20
          ],
          [
           99825,
           5
          ],
          [
           104816.25,
           3
          ],
          [
           198110.88,
           7
          ],
          [
           203280,
           2
          ],
          [
           217800,
           15
          ],
          [
           245025,
           10
          ],
          [
           12000,
           6
          ],
          [
           15000,
           8
          ],
          [
           11000,
           8
          ],
          [
           18000,
           5
          ],
          [
           35000,
           6
          ],
          [
           20000,
           8
          ],
          [
           20000,
           8
          ],
          [
           20000,
           8
          ],
          [
           20266.66,
           8
          ],
          [
           20736,
           8
          ],
          [
           21333.33,
           8
          ],
          [
           21600,
           8
          ],
          [
           22809.6,
           8
          ],
          [
           23000,
           8
          ],
          [
           24000,
           9
          ],
          [
           25000,
           3
          ],
          [
           16000,
           6
          ],
          [
           27200,
           8
          ],
          [
           33696,
           8
          ],
          [
           36000,
           9
          ],
          [
           13068,
           6
          ],
          [
           20217.6,
           8
          ],
          [
           24880.32,
           8
          ],
          [
           28000,
           8
          ],
          [
           49029,
           1
          ],
          [
           106200,
           9
          ],
          [
           199650,
           17
          ],
          [
           18750,
           18
          ],
          [
           19200,
           8
          ],
          [
           33333.33,
           9
          ],
          [
           20000,
           8
          ],
          [
           17000,
           3
          ],
          [
           18823,
           6
          ],
          [
           10560,
           18
          ],
          [
           30000,
           9
          ],
          [
           55000,
           18
          ],
          [
           106200,
           9
          ],
          [
           10000,
           8
          ],
          [
           10000,
           8
          ],
          [
           10000,
           8
          ],
          [
           13068,
           0
          ],
          [
           15000,
           9
          ],
          [
           15000,
           9
          ],
          [
           16500,
           0
          ],
          [
           18000,
           0
          ],
          [
           19000,
           8
          ],
          [
           20000,
           1
          ],
          [
           22000,
           18
          ],
          [
           25000,
           17
          ],
          [
           10000,
           6
          ],
          [
           10300,
           6
          ],
          [
           12000,
           8
          ],
          [
           12000,
           6
          ],
          [
           12000,
           6
          ],
          [
           15000,
           8
          ],
          [
           15000,
           8
          ],
          [
           40000,
           1
          ],
          [
           15000,
           8
          ],
          [
           209632.5,
           3
          ],
          [
           203280,
           2
          ],
          [
           18900,
           6
          ],
          [
           18900,
           6
          ],
          [
           19000,
           6
          ],
          [
           20790,
           6
          ],
          [
           22275,
           6
          ],
          [
           22453.2,
           6
          ],
          [
           23000,
           6
          ],
          [
           25000,
           6
          ],
          [
           25000,
           6
          ],
          [
           26437.5,
           6
          ],
          [
           27000,
           6
          ],
          [
           18000,
           9
          ],
          [
           30000,
           6
          ],
          [
           20000,
           8
          ],
          [
           25000,
           3
          ],
          [
           30000,
           17
          ],
          [
           18000,
           4
          ],
          [
           29500,
           4
          ],
          [
           65000,
           4
          ],
          [
           110000,
           4
          ],
          [
           121992,
           5
          ],
          [
           183100,
           17
          ],
          [
           99316.8,
           7
          ],
          [
           190575,
           17
          ],
          [
           18000,
           8
          ],
          [
           30000,
           8
          ],
          [
           20000,
           18
          ],
          [
           19800,
           1
          ],
          [
           16000,
           6
          ],
          [
           16500,
           0
          ],
          [
           18000,
           0
          ],
          [
           18900,
           6
          ],
          [
           19000,
           6
          ],
          [
           20000,
           1
          ],
          [
           20000,
           8
          ],
          [
           20625,
           9
          ],
          [
           20790,
           6
          ],
          [
           20900,
           6
          ],
          [
           22000,
           18
          ],
          [
           22275,
           6
          ],
          [
           22453.2,
           6
          ],
          [
           23000,
           6
          ],
          [
           23890,
           6
          ],
          [
           25000,
           6
          ],
          [
           25000,
           6
          ],
          [
           26437.5,
           6
          ],
          [
           29000,
           8
          ],
          [
           29500,
           4
          ],
          [
           29857,
           6
          ],
          [
           33057,
           6
          ],
          [
           60348.96,
           19
          ],
          [
           13068,
           0
          ],
          [
           183100,
           17
          ],
          [
           18000,
           9
          ],
          [
           20815,
           6
          ],
          [
           10800,
           6
          ],
          [
           11000,
           8
          ],
          [
           13068,
           8
          ],
          [
           15000,
           8
          ],
          [
           17424,
           6
          ],
          [
           19200,
           8
          ],
          [
           21780,
           1
          ],
          [
           23500.8,
           1
          ],
          [
           23232,
           6
          ],
          [
           28339.2,
           8
          ],
          [
           32832,
           1
          ],
          [
           65000,
           4
          ],
          [
           58752,
           6
          ],
          [
           10000,
           8
          ],
          [
           10000,
           8
          ],
          [
           10000,
           8
          ],
          [
           99825,
           5
          ],
          [
           100843.21,
           7
          ],
          [
           101821.5,
           20
          ],
          [
           102093.75,
           17
          ],
          [
           108900,
           19
          ],
          [
           154275,
           14
          ],
          [
           203280,
           2
          ],
          [
           20790,
           6
          ],
          [
           87609.6,
           6
          ],
          [
           19800,
           8
          ],
          [
           79208.01,
           14
          ],
          [
           98067.06,
           10
          ],
          [
           17000,
           3
          ],
          [
           25000,
           17
          ],
          [
           10800,
           6
          ],
          [
           15000,
           9
          ],
          [
           15000,
           11
          ],
          [
           15000,
           11
          ],
          [
           15000,
           9
          ],
          [
           55000,
           18
          ],
          [
           12600,
           8
          ],
          [
           13200,
           8
          ],
          [
           14000,
           8
          ],
          [
           14000,
           8
          ],
          [
           14000,
           8
          ],
          [
           15200,
           8
          ],
          [
           15206.4,
           9
          ],
          [
           16727,
           8
          ],
          [
           17424,
           8
          ],
          [
           18000,
           8
          ],
          [
           18000,
           8
          ],
          [
           18000,
           8
          ],
          [
           18666.66,
           9
          ],
          [
           19000,
           8
          ],
          [
           19008,
           9
          ],
          [
           23000,
           18
          ],
          [
           20000,
           18
          ],
          [
           12000,
           8
          ],
          [
           12000,
           8
          ],
          [
           110000,
           9
          ],
          [
           110000,
           4
          ],
          [
           30000,
           17
          ],
          [
           40000,
           1
          ],
          [
           61000,
           10
          ],
          [
           15000,
           8
          ],
          [
           10000,
           6
          ],
          [
           10300,
           6
          ],
          [
           12000,
           6
          ],
          [
           12000,
           6
          ],
          [
           12000,
           6
          ],
          [
           79208.01,
           15
          ],
          [
           30000,
           9
          ],
          [
           40000,
           17
          ],
          [
           69300,
           10
          ],
          [
           12000,
           8
          ],
          [
           15000,
           8
          ],
          [
           15000,
           8
          ],
          [
           18000,
           5
          ],
          [
           30000,
           9
          ],
          [
           30000,
           8
          ],
          [
           10000,
           8
          ],
          [
           10560,
           18
          ],
          [
           11520,
           8
          ],
          [
           40000,
           0
          ],
          [
           42000,
           10
          ],
          [
           100000,
           0
          ],
          [
           18480,
           6
          ],
          [
           43200,
           13
          ],
          [
           42000,
           10
          ],
          [
           10300,
           6
          ],
          [
           11000,
           8
          ],
          [
           35000,
           6
          ],
          [
           25000,
           8
          ],
          [
           21780,
           8
          ],
          [
           13068,
           8
          ],
          [
           13068,
           0
          ],
          [
           22000,
           18
          ],
          [
           13200,
           0
          ],
          [
           20000,
           1
          ],
          [
           18000,
           9
          ],
          [
           61000,
           10
          ],
          [
           15000,
           8
          ],
          [
           12000,
           6
          ],
          [
           55000,
           18
          ],
          [
           15000,
           11
          ],
          [
           15000,
           8
          ],
          [
           55000,
           18
          ],
          [
           13200,
           8
          ],
          [
           15000,
           8
          ],
          [
           12000,
           8
          ],
          [
           14040,
           8
          ],
          [
           15000,
           9
          ],
          [
           15000,
           8
          ],
          [
           42900,
           1
          ],
          [
           15000,
           11
          ],
          [
           12000,
           6
          ],
          [
           20000,
           6
          ],
          [
           24856.42,
           7
          ],
          [
           183100,
           17
          ],
          [
           251680,
           15
          ],
          [
           20000,
           18
          ],
          [
           21780,
           8
          ],
          [
           22000,
           18
          ],
          [
           40000,
           0
          ],
          [
           30000,
           8
          ],
          [
           23000,
           18
          ],
          [
           20625,
           9
          ],
          [
           79860,
           5
          ],
          [
           80858.25,
           9
          ],
          [
           87596.44,
           9
          ],
          [
           25000,
           8
          ],
          [
           86510.16,
           7
          ],
          [
           25000,
           17
          ],
          [
           20000,
           6
          ],
          [
           20000,
           18
          ],
          [
           18000,
           8
          ],
          [
           42000,
           10
          ],
          [
           15400,
           6
          ],
          [
           15000,
           18
          ],
          [
           209552.64,
           3
          ],
          [
           15000,
           8
          ],
          [
           61000,
           10
          ],
          [
           15000,
           8
          ],
          [
           110000,
           9
          ],
          [
           12000,
           8
          ],
          [
           10800,
           6
          ],
          [
           183100,
           17
          ],
          [
           229326.24,
           19
          ],
          [
           15000,
           11
          ],
          [
           251559,
           16
          ],
          [
           13068,
           8
          ],
          [
           65000,
           4
          ],
          [
           15000,
           9
          ],
          [
           16000,
           8
          ],
          [
           18000,
           8
          ],
          [
           21600,
           8
          ],
          [
           23400,
           8
          ],
          [
           25000,
           8
          ],
          [
           42900,
           1
          ],
          [
           10560,
           9
          ],
          [
           13200,
           8
          ],
          [
           15000,
           8
          ],
          [
           10560,
           18
          ],
          [
           13200,
           9
          ],
          [
           14000,
           8
          ],
          [
           15000,
           9
          ],
          [
           13068,
           6
          ],
          [
           14000,
           6
          ],
          [
           14000,
           8
          ],
          [
           69300,
           10
          ],
          [
           55000,
           18
          ],
          [
           42900,
           1
          ],
          [
           40000,
           17
          ],
          [
           14000,
           6
          ],
          [
           14000,
           9
          ],
          [
           25000,
           9
          ],
          [
           23400,
           8
          ],
          [
           21600,
           8
          ],
          [
           20625,
           9
          ],
          [
           16500,
           6
          ],
          [
           14000,
           8
          ],
          [
           14400,
           8
          ],
          [
           14040,
           8
          ],
          [
           13068,
           8
          ],
          [
           14400,
           8
          ],
          [
           29500,
           4
          ],
          [
           87609.6,
           6
          ],
          [
           58752,
           6
          ],
          [
           15000,
           9
          ],
          [
           16500,
           18
          ],
          [
           18000,
           0
          ],
          [
           16000,
           8
          ],
          [
           18000,
           8
          ],
          [
           21600,
           8
          ],
          [
           11000,
           8
          ],
          [
           10800,
           6
          ],
          [
           32832,
           1
          ],
          [
           23400,
           8
          ],
          [
           28339.2,
           8
          ],
          [
           25000,
           8
          ],
          [
           23232,
           6
          ],
          [
           20000,
           1
          ],
          [
           21780,
           1
          ],
          [
           23500.8,
           1
          ],
          [
           30000,
           9
          ],
          [
           233772,
           20
          ],
          [
           40000,
           0
          ],
          [
           25000,
           17
          ],
          [
           78516.9,
           7
          ],
          [
           20000,
           8
          ],
          [
           19000,
           8
          ],
          [
           269527.5,
           4
          ],
          [
           12000,
           8
          ],
          [
           110000,
           4
          ],
          [
           20000,
           6
          ],
          [
           110000,
           9
          ],
          [
           20000,
           8
          ],
          [
           14000,
           6
          ],
          [
           14040,
           8
          ],
          [
           14000,
           6
          ],
          [
           17278,
           8
          ],
          [
           15000,
           8
          ],
          [
           15400,
           6
          ],
          [
           15400,
           6
          ],
          [
           40000,
           1
          ],
          [
           15400,
           6
          ],
          [
           42900,
           1
          ],
          [
           16170,
           6
          ],
          [
           215622,
           9
          ],
          [
           209552.64,
           3
          ],
          [
           13943,
           6
          ],
          [
           131921.46,
           7
          ],
          [
           85377.6,
           7
          ],
          [
           16500,
           6
          ],
          [
           25000,
           6
          ],
          [
           20000,
           6
          ],
          [
           40000,
           0
          ],
          [
           16632,
           6
          ],
          [
           19250,
           6
          ],
          [
           19656,
           6
          ],
          [
           20000,
           6
          ],
          [
           69300,
           10
          ],
          [
           12000,
           8
          ],
          [
           19656,
           6
          ],
          [
           12000,
           8
          ],
          [
           25000,
           9
          ],
          [
           12000,
           6
          ],
          [
           110000,
           4
          ],
          [
           12000,
           8
          ],
          [
           13068,
           8
          ],
          [
           12000,
           3
          ],
          [
           17424,
           6
          ],
          [
           21780,
           1
          ],
          [
           18000,
           8
          ],
          [
           23500.8,
           1
          ],
          [
           11520,
           8
          ],
          [
           12000,
           8
          ],
          [
           18000,
           8
          ],
          [
           20000,
           6
          ],
          [
           13068,
           0
          ],
          [
           13200,
           0
          ],
          [
           20625,
           9
          ],
          [
           18500,
           8
          ],
          [
           18000,
           0
          ],
          [
           15200,
           8
          ],
          [
           23000,
           18
          ],
          [
           15200,
           8
          ],
          [
           12600,
           8
          ],
          [
           29500,
           4
          ],
          [
           43200,
           13
          ],
          [
           65000,
           4
          ],
          [
           13068,
           8
          ],
          [
           13200,
           8
          ],
          [
           14400,
           8
          ],
          [
           16000,
           8
          ],
          [
           21600,
           8
          ],
          [
           23400,
           8
          ],
          [
           36000,
           9
          ],
          [
           25000,
           6
          ],
          [
           199650,
           17
          ],
          [
           19250,
           6
          ],
          [
           30000,
           9
          ],
          [
           23000,
           18
          ],
          [
           20000,
           18
          ],
          [
           102850,
           18
          ],
          [
           12000,
           8
          ],
          [
           12000,
           8
          ],
          [
           11520,
           8
          ],
          [
           10000,
           8
          ],
          [
           182952,
           20
          ],
          [
           133100,
           17
          ],
          [
           20000,
           1
          ],
          [
           15000,
           8
          ],
          [
           87947.64,
           7
          ],
          [
           133100,
           17
          ],
          [
           58752,
           6
          ],
          [
           49912.5,
           0
          ],
          [
           14000,
           6
          ],
          [
           14000,
           6
          ],
          [
           16500,
           6
          ],
          [
           16800,
           6
          ],
          [
           17424,
           6
          ],
          [
           19250,
           6
          ],
          [
           20000,
           6
          ],
          [
           21400,
           6
          ],
          [
           18000,
           9
          ],
          [
           209632.5,
           16
          ],
          [
           96800,
           19
          ],
          [
           127050,
           19
          ],
          [
           138772.48,
           21
          ],
          [
           84700,
           1
          ],
          [
           40000,
           17
          ],
          [
           13068,
           6
          ],
          [
           12000,
           6
          ],
          [
           18000,
           9
          ],
          [
           16632,
           6
          ],
          [
           11520,
           8
          ],
          [
           15000,
           8
          ],
          [
           16500,
           6
          ],
          [
           11000,
           8
          ],
          [
           35000,
           6
          ],
          [
           55000,
           18
          ],
          [
           42000,
           10
          ],
          [
           16170,
           6
          ],
          [
           25000,
           17
          ],
          [
           28339.2,
           8
          ],
          [
           12000,
           10
          ],
          [
           32832,
           1
          ],
          [
           12000,
           8
          ],
          [
           87609.6,
           6
          ],
          [
           10300,
           6
          ],
          [
           15400,
           6
          ],
          [
           12000,
           6
          ],
          [
           12000,
           6
          ],
          [
           23232,
           6
          ],
          [
           15400,
           6
          ],
          [
           14000,
           6
          ],
          [
           14000,
           6
          ],
          [
           12000,
           10
          ],
          [
           16500,
           18
          ],
          [
           15000,
           8
          ],
          [
           13943,
           6
          ],
          [
           12000,
           3
          ],
          [
           40000,
           1
          ],
          [
           18000,
           9
          ],
          [
           16500,
           18
          ],
          [
           36000,
           9
          ],
          [
           42000,
           10
          ],
          [
           42000,
           10
          ],
          [
           49000,
           10
          ],
          [
           17424,
           6
          ],
          [
           13068,
           8
          ],
          [
           106480,
           5
          ],
          [
           23500.8,
           1
          ],
          [
           30000,
           8
          ],
          [
           156351.36,
           21
          ],
          [
           40000,
           17
          ],
          [
           21780,
           1
          ],
          [
           20000,
           1
          ],
          [
           58752,
           6
          ],
          [
           15000,
           11
          ],
          [
           12000,
           3
          ],
          [
           25000,
           6
          ],
          [
           87609.6,
           6
          ],
          [
           15000,
           8
          ],
          [
           16500,
           18
          ],
          [
           15000,
           11
          ],
          [
           20000,
           6
          ],
          [
           21780,
           1
          ],
          [
           133100,
           17
          ],
          [
           23500.8,
           1
          ],
          [
           40000,
           1
          ],
          [
           10560,
           9
          ],
          [
           17424,
           6
          ],
          [
           21780,
           8
          ],
          [
           23400,
           8
          ],
          [
           25000,
           9
          ],
          [
           15000,
           8
          ],
          [
           18000,
           0
          ],
          [
           20000,
           6
          ],
          [
           21780,
           1
          ],
          [
           15000,
           8
          ],
          [
           23232,
           6
          ],
          [
           23500.8,
           1
          ],
          [
           32832,
           1
          ],
          [
           49000,
           10
          ],
          [
           25000,
           8
          ],
          [
           13200,
           0
          ],
          [
           13068,
           0
          ],
          [
           235950,
           20
          ],
          [
           229326.24,
           19
          ],
          [
           28339.2,
           8
          ],
          [
           30000,
           9
          ],
          [
           32832,
           1
          ],
          [
           21600,
           8
          ],
          [
           13068,
           8
          ],
          [
           19656,
           6
          ],
          [
           156907.36,
           19
          ],
          [
           15400,
           6
          ],
          [
           58752,
           6
          ],
          [
           22000,
           18
          ],
          [
           15400,
           6
          ],
          [
           15000,
           9
          ],
          [
           205940.91,
           14
          ],
          [
           174240,
           17
          ],
          [
           57750,
           10
          ],
          [
           205940.91,
           15
          ],
          [
           254974.46,
           10
          ],
          [
           14000,
           6
          ],
          [
           10800,
           6
          ],
          [
           87609.6,
           6
          ],
          [
           14000,
           6
          ],
          [
           13943,
           6
          ],
          [
           104776.32,
           3
          ],
          [
           30000,
           9
          ],
          [
           12000,
           10
          ],
          [
           12000,
           6
          ],
          [
           62726.4,
           7
          ],
          [
           15400,
           6
          ],
          [
           11000,
           8
          ],
          [
           96800,
           19
          ],
          [
           95832,
           16
          ],
          [
           12000,
           6
          ],
          [
           19250,
           6
          ],
          [
           12000,
           6
          ],
          [
           121992,
           5
          ],
          [
           10300,
           8
          ],
          [
           15000,
           8
          ],
          [
           13200,
           8
          ],
          [
           10300,
           8
          ],
          [
           69300,
           10
          ],
          [
           19000,
           8
          ],
          [
           20000,
           1
          ],
          [
           16632,
           6
          ],
          [
           17424,
           6
          ],
          [
           72000,
           4
          ],
          [
           16500,
           6
          ],
          [
           16170,
           6
          ],
          [
           43200,
           13
          ],
          [
           12000,
           8
          ],
          [
           72000,
           4
          ],
          [
           14040,
           8
          ],
          [
           17278,
           8
          ],
          [
           36000,
           13
          ],
          [
           19000,
           8
          ],
          [
           20000,
           8
          ],
          [
           15000,
           8
          ],
          [
           35000,
           6
          ],
          [
           39204,
           7
          ],
          [
           32343.3,
           5
          ],
          [
           19800,
           8
          ],
          [
           18500,
           8
          ],
          [
           69300,
           10
          ],
          [
           55000,
           18
          ],
          [
           15840,
           8
          ],
          [
           246235,
           0
          ],
          [
           19800,
           1
          ],
          [
           121992,
           5
          ],
          [
           15200,
           8
          ],
          [
           35000,
           6
          ],
          [
           17278,
           8
          ],
          [
           19250,
           6
          ],
          [
           183100,
           17
          ],
          [
           20000,
           6
          ],
          [
           21400,
           6
          ],
          [
           19800,
           1
          ],
          [
           15200,
           8
          ],
          [
           15840,
           8
          ],
          [
           40761.88,
           12
          ],
          [
           10000,
           6
          ],
          [
           20000,
           8
          ],
          [
           256158.94,
           4
          ],
          [
           16000,
           8
          ],
          [
           14400,
           8
          ],
          [
           14040,
           8
          ],
          [
           13068,
           8
          ],
          [
           12000,
           6
          ],
          [
           12000,
           6
          ],
          [
           12000,
           8
          ],
          [
           14400,
           8
          ],
          [
           13200,
           8
          ],
          [
           10300,
           6
          ],
          [
           174693.75,
           4
          ],
          [
           69300,
           10
          ],
          [
           258456,
           1
          ],
          [
           10000,
           6
          ],
          [
           215622,
           4
          ],
          [
           174693.75,
           0
          ],
          [
           16800,
           6
          ],
          [
           18480,
           6
          ],
          [
           36000,
           9
          ],
          [
           64686.6,
           9
          ],
          [
           19800,
           8
          ],
          [
           14000,
           9
          ],
          [
           14400,
           8
          ],
          [
           14000,
           8
          ],
          [
           23232,
           6
          ],
          [
           13200,
           8
          ],
          [
           207968.75,
           16
          ],
          [
           235950,
           15
          ],
          [
           21780,
           8
          ],
          [
           25000,
           8
          ],
          [
           13068,
           8
          ],
          [
           49000,
           10
          ],
          [
           242000,
           2
          ],
          [
           266200,
           19
          ],
          [
           30000,
           8
          ],
          [
           237160,
           1
          ],
          [
           23232,
           6
          ],
          [
           28339.2,
           8
          ],
          [
           14400,
           8
          ],
          [
           16000,
           8
          ],
          [
           18000,
           9
          ],
          [
           12600,
           8
          ],
          [
           15000,
           8
          ],
          [
           93840,
           9
          ],
          [
           13068,
           8
          ],
          [
           72600,
           17
          ],
          [
           72000,
           4
          ],
          [
           17278,
           8
          ],
          [
           72000,
           4
          ],
          [
           14000,
           8
          ],
          [
           17278,
           8
          ],
          [
           13068,
           6
          ],
          [
           15000,
           8
          ],
          [
           12000,
           6
          ],
          [
           12000,
           6
          ],
          [
           36000,
           13
          ],
          [
           36000,
           13
          ],
          [
           242574.75,
           9
          ],
          [
           143388.63,
           5
          ],
          [
           14000,
           8
          ],
          [
           87609.6,
           6
          ],
          [
           47970.45,
           7
          ],
          [
           32832,
           1
          ],
          [
           20000,
           1
          ],
          [
           72000,
           4
          ],
          [
           42900,
           1
          ],
          [
           13200,
           9
          ],
          [
           28339.2,
           8
          ],
          [
           72000,
           4
          ],
          [
           61000,
           10
          ],
          [
           58752,
           6
          ]
         ],
         "hovertemplate": "Cluster=%{x}<br>Importe=%{customdata[0]}<br>Num_Medio=%{customdata[1]}<extra></extra>",
         "legendgroup": "Cluster 0",
         "marker": {
          "color": "#636efa"
         },
         "name": "Cluster 0",
         "notched": true,
         "offsetgroup": "Cluster 0",
         "showlegend": false,
         "type": "box",
         "x": [
          "Cluster 0",
          "Cluster 0",
          "Cluster 0",
          "Cluster 0",
          "Cluster 0",
          "Cluster 0",
          "Cluster 0",
          "Cluster 0",
          "Cluster 0",
          "Cluster 0",
          "Cluster 0",
          "Cluster 0",
          "Cluster 0",
          "Cluster 0",
          "Cluster 0",
          "Cluster 0",
          "Cluster 0",
          "Cluster 0",
          "Cluster 0",
          "Cluster 0",
          "Cluster 0",
          "Cluster 0",
          "Cluster 0",
          "Cluster 0",
          "Cluster 0",
          "Cluster 0",
          "Cluster 0",
          "Cluster 0",
          "Cluster 0",
          "Cluster 0",
          "Cluster 0",
          "Cluster 0",
          "Cluster 0",
          "Cluster 0",
          "Cluster 0",
          "Cluster 0",
          "Cluster 0",
          "Cluster 0",
          "Cluster 0",
          "Cluster 0",
          "Cluster 0",
          "Cluster 0",
          "Cluster 0",
          "Cluster 0",
          "Cluster 0",
          "Cluster 0",
          "Cluster 0",
          "Cluster 0",
          "Cluster 0",
          "Cluster 0",
          "Cluster 0",
          "Cluster 0",
          "Cluster 0",
          "Cluster 0",
          "Cluster 0",
          "Cluster 0",
          "Cluster 0",
          "Cluster 0",
          "Cluster 0",
          "Cluster 0",
          "Cluster 0",
          "Cluster 0",
          "Cluster 0",
          "Cluster 0",
          "Cluster 0",
          "Cluster 0",
          "Cluster 0",
          "Cluster 0",
          "Cluster 0",
          "Cluster 0",
          "Cluster 0",
          "Cluster 0",
          "Cluster 0",
          "Cluster 0",
          "Cluster 0",
          "Cluster 0",
          "Cluster 0",
          "Cluster 0",
          "Cluster 0",
          "Cluster 0",
          "Cluster 0",
          "Cluster 0",
          "Cluster 0",
          "Cluster 0",
          "Cluster 0",
          "Cluster 0",
          "Cluster 0",
          "Cluster 0",
          "Cluster 0",
          "Cluster 0",
          "Cluster 0",
          "Cluster 0",
          "Cluster 0",
          "Cluster 0",
          "Cluster 0",
          "Cluster 0",
          "Cluster 0",
          "Cluster 0",
          "Cluster 0",
          "Cluster 0",
          "Cluster 0",
          "Cluster 0",
          "Cluster 0",
          "Cluster 0",
          "Cluster 0",
          "Cluster 0",
          "Cluster 0",
          "Cluster 0",
          "Cluster 0",
          "Cluster 0",
          "Cluster 0",
          "Cluster 0",
          "Cluster 0",
          "Cluster 0",
          "Cluster 0",
          "Cluster 0",
          "Cluster 0",
          "Cluster 0",
          "Cluster 0",
          "Cluster 0",
          "Cluster 0",
          "Cluster 0",
          "Cluster 0",
          "Cluster 0",
          "Cluster 0",
          "Cluster 0",
          "Cluster 0",
          "Cluster 0",
          "Cluster 0",
          "Cluster 0",
          "Cluster 0",
          "Cluster 0",
          "Cluster 0",
          "Cluster 0",
          "Cluster 0",
          "Cluster 0",
          "Cluster 0",
          "Cluster 0",
          "Cluster 0",
          "Cluster 0",
          "Cluster 0",
          "Cluster 0",
          "Cluster 0",
          "Cluster 0",
          "Cluster 0",
          "Cluster 0",
          "Cluster 0",
          "Cluster 0",
          "Cluster 0",
          "Cluster 0",
          "Cluster 0",
          "Cluster 0",
          "Cluster 0",
          "Cluster 0",
          "Cluster 0",
          "Cluster 0",
          "Cluster 0",
          "Cluster 0",
          "Cluster 0",
          "Cluster 0",
          "Cluster 0",
          "Cluster 0",
          "Cluster 0",
          "Cluster 0",
          "Cluster 0",
          "Cluster 0",
          "Cluster 0",
          "Cluster 0",
          "Cluster 0",
          "Cluster 0",
          "Cluster 0",
          "Cluster 0",
          "Cluster 0",
          "Cluster 0",
          "Cluster 0",
          "Cluster 0",
          "Cluster 0",
          "Cluster 0",
          "Cluster 0",
          "Cluster 0",
          "Cluster 0",
          "Cluster 0",
          "Cluster 0",
          "Cluster 0",
          "Cluster 0",
          "Cluster 0",
          "Cluster 0",
          "Cluster 0",
          "Cluster 0",
          "Cluster 0",
          "Cluster 0",
          "Cluster 0",
          "Cluster 0",
          "Cluster 0",
          "Cluster 0",
          "Cluster 0",
          "Cluster 0",
          "Cluster 0",
          "Cluster 0",
          "Cluster 0",
          "Cluster 0",
          "Cluster 0",
          "Cluster 0",
          "Cluster 0",
          "Cluster 0",
          "Cluster 0",
          "Cluster 0",
          "Cluster 0",
          "Cluster 0",
          "Cluster 0",
          "Cluster 0",
          "Cluster 0",
          "Cluster 0",
          "Cluster 0",
          "Cluster 0",
          "Cluster 0",
          "Cluster 0",
          "Cluster 0",
          "Cluster 0",
          "Cluster 0",
          "Cluster 0",
          "Cluster 0",
          "Cluster 0",
          "Cluster 0",
          "Cluster 0",
          "Cluster 0",
          "Cluster 0",
          "Cluster 0",
          "Cluster 0",
          "Cluster 0",
          "Cluster 0",
          "Cluster 0",
          "Cluster 0",
          "Cluster 0",
          "Cluster 0",
          "Cluster 0",
          "Cluster 0",
          "Cluster 0",
          "Cluster 0",
          "Cluster 0",
          "Cluster 0",
          "Cluster 0",
          "Cluster 0",
          "Cluster 0",
          "Cluster 0",
          "Cluster 0",
          "Cluster 0",
          "Cluster 0",
          "Cluster 0",
          "Cluster 0",
          "Cluster 0",
          "Cluster 0",
          "Cluster 0",
          "Cluster 0",
          "Cluster 0",
          "Cluster 0",
          "Cluster 0",
          "Cluster 0",
          "Cluster 0",
          "Cluster 0",
          "Cluster 0",
          "Cluster 0",
          "Cluster 0",
          "Cluster 0",
          "Cluster 0",
          "Cluster 0",
          "Cluster 0",
          "Cluster 0",
          "Cluster 0",
          "Cluster 0",
          "Cluster 0",
          "Cluster 0",
          "Cluster 0",
          "Cluster 0",
          "Cluster 0",
          "Cluster 0",
          "Cluster 0",
          "Cluster 0",
          "Cluster 0",
          "Cluster 0",
          "Cluster 0",
          "Cluster 0",
          "Cluster 0",
          "Cluster 0",
          "Cluster 0",
          "Cluster 0",
          "Cluster 0",
          "Cluster 0",
          "Cluster 0",
          "Cluster 0",
          "Cluster 0",
          "Cluster 0",
          "Cluster 0",
          "Cluster 0",
          "Cluster 0",
          "Cluster 0",
          "Cluster 0",
          "Cluster 0",
          "Cluster 0",
          "Cluster 0",
          "Cluster 0",
          "Cluster 0",
          "Cluster 0",
          "Cluster 0",
          "Cluster 0",
          "Cluster 0",
          "Cluster 0",
          "Cluster 0",
          "Cluster 0",
          "Cluster 0",
          "Cluster 0",
          "Cluster 0",
          "Cluster 0",
          "Cluster 0",
          "Cluster 0",
          "Cluster 0",
          "Cluster 0",
          "Cluster 0",
          "Cluster 0",
          "Cluster 0",
          "Cluster 0",
          "Cluster 0",
          "Cluster 0",
          "Cluster 0",
          "Cluster 0",
          "Cluster 0",
          "Cluster 0",
          "Cluster 0",
          "Cluster 0",
          "Cluster 0",
          "Cluster 0",
          "Cluster 0",
          "Cluster 0",
          "Cluster 0",
          "Cluster 0",
          "Cluster 0",
          "Cluster 0",
          "Cluster 0",
          "Cluster 0",
          "Cluster 0",
          "Cluster 0",
          "Cluster 0",
          "Cluster 0",
          "Cluster 0",
          "Cluster 0",
          "Cluster 0",
          "Cluster 0",
          "Cluster 0",
          "Cluster 0",
          "Cluster 0",
          "Cluster 0",
          "Cluster 0",
          "Cluster 0",
          "Cluster 0",
          "Cluster 0",
          "Cluster 0",
          "Cluster 0",
          "Cluster 0",
          "Cluster 0",
          "Cluster 0",
          "Cluster 0",
          "Cluster 0",
          "Cluster 0",
          "Cluster 0",
          "Cluster 0",
          "Cluster 0",
          "Cluster 0",
          "Cluster 0",
          "Cluster 0",
          "Cluster 0",
          "Cluster 0",
          "Cluster 0",
          "Cluster 0",
          "Cluster 0",
          "Cluster 0",
          "Cluster 0",
          "Cluster 0",
          "Cluster 0",
          "Cluster 0",
          "Cluster 0",
          "Cluster 0",
          "Cluster 0",
          "Cluster 0",
          "Cluster 0",
          "Cluster 0",
          "Cluster 0",
          "Cluster 0",
          "Cluster 0",
          "Cluster 0",
          "Cluster 0",
          "Cluster 0",
          "Cluster 0",
          "Cluster 0",
          "Cluster 0",
          "Cluster 0",
          "Cluster 0",
          "Cluster 0",
          "Cluster 0",
          "Cluster 0",
          "Cluster 0",
          "Cluster 0",
          "Cluster 0",
          "Cluster 0",
          "Cluster 0",
          "Cluster 0",
          "Cluster 0",
          "Cluster 0",
          "Cluster 0",
          "Cluster 0",
          "Cluster 0",
          "Cluster 0",
          "Cluster 0",
          "Cluster 0",
          "Cluster 0",
          "Cluster 0",
          "Cluster 0",
          "Cluster 0",
          "Cluster 0",
          "Cluster 0",
          "Cluster 0",
          "Cluster 0",
          "Cluster 0",
          "Cluster 0",
          "Cluster 0",
          "Cluster 0",
          "Cluster 0",
          "Cluster 0",
          "Cluster 0",
          "Cluster 0",
          "Cluster 0",
          "Cluster 0",
          "Cluster 0",
          "Cluster 0",
          "Cluster 0",
          "Cluster 0",
          "Cluster 0",
          "Cluster 0",
          "Cluster 0",
          "Cluster 0",
          "Cluster 0",
          "Cluster 0",
          "Cluster 0",
          "Cluster 0",
          "Cluster 0",
          "Cluster 0",
          "Cluster 0",
          "Cluster 0",
          "Cluster 0",
          "Cluster 0",
          "Cluster 0",
          "Cluster 0",
          "Cluster 0",
          "Cluster 0",
          "Cluster 0",
          "Cluster 0",
          "Cluster 0",
          "Cluster 0",
          "Cluster 0",
          "Cluster 0",
          "Cluster 0",
          "Cluster 0",
          "Cluster 0",
          "Cluster 0",
          "Cluster 0",
          "Cluster 0",
          "Cluster 0",
          "Cluster 0",
          "Cluster 0",
          "Cluster 0",
          "Cluster 0",
          "Cluster 0",
          "Cluster 0",
          "Cluster 0",
          "Cluster 0",
          "Cluster 0",
          "Cluster 0",
          "Cluster 0",
          "Cluster 0",
          "Cluster 0",
          "Cluster 0",
          "Cluster 0",
          "Cluster 0",
          "Cluster 0",
          "Cluster 0",
          "Cluster 0",
          "Cluster 0",
          "Cluster 0",
          "Cluster 0",
          "Cluster 0",
          "Cluster 0",
          "Cluster 0",
          "Cluster 0",
          "Cluster 0",
          "Cluster 0",
          "Cluster 0",
          "Cluster 0",
          "Cluster 0",
          "Cluster 0",
          "Cluster 0",
          "Cluster 0",
          "Cluster 0",
          "Cluster 0",
          "Cluster 0",
          "Cluster 0",
          "Cluster 0",
          "Cluster 0",
          "Cluster 0",
          "Cluster 0",
          "Cluster 0",
          "Cluster 0",
          "Cluster 0",
          "Cluster 0",
          "Cluster 0",
          "Cluster 0",
          "Cluster 0",
          "Cluster 0",
          "Cluster 0",
          "Cluster 0",
          "Cluster 0",
          "Cluster 0",
          "Cluster 0",
          "Cluster 0",
          "Cluster 0",
          "Cluster 0",
          "Cluster 0",
          "Cluster 0",
          "Cluster 0",
          "Cluster 0",
          "Cluster 0",
          "Cluster 0",
          "Cluster 0",
          "Cluster 0",
          "Cluster 0",
          "Cluster 0",
          "Cluster 0",
          "Cluster 0",
          "Cluster 0",
          "Cluster 0",
          "Cluster 0",
          "Cluster 0",
          "Cluster 0",
          "Cluster 0",
          "Cluster 0",
          "Cluster 0",
          "Cluster 0",
          "Cluster 0",
          "Cluster 0",
          "Cluster 0",
          "Cluster 0",
          "Cluster 0",
          "Cluster 0",
          "Cluster 0",
          "Cluster 0",
          "Cluster 0",
          "Cluster 0",
          "Cluster 0",
          "Cluster 0",
          "Cluster 0",
          "Cluster 0",
          "Cluster 0",
          "Cluster 0",
          "Cluster 0",
          "Cluster 0",
          "Cluster 0",
          "Cluster 0",
          "Cluster 0",
          "Cluster 0",
          "Cluster 0",
          "Cluster 0",
          "Cluster 0",
          "Cluster 0",
          "Cluster 0",
          "Cluster 0",
          "Cluster 0",
          "Cluster 0",
          "Cluster 0",
          "Cluster 0",
          "Cluster 0",
          "Cluster 0",
          "Cluster 0",
          "Cluster 0",
          "Cluster 0",
          "Cluster 0",
          "Cluster 0",
          "Cluster 0",
          "Cluster 0",
          "Cluster 0",
          "Cluster 0",
          "Cluster 0",
          "Cluster 0",
          "Cluster 0",
          "Cluster 0",
          "Cluster 0",
          "Cluster 0",
          "Cluster 0",
          "Cluster 0",
          "Cluster 0",
          "Cluster 0",
          "Cluster 0",
          "Cluster 0",
          "Cluster 0",
          "Cluster 0",
          "Cluster 0",
          "Cluster 0",
          "Cluster 0",
          "Cluster 0",
          "Cluster 0",
          "Cluster 0",
          "Cluster 0",
          "Cluster 0",
          "Cluster 0",
          "Cluster 0",
          "Cluster 0",
          "Cluster 0",
          "Cluster 0",
          "Cluster 0",
          "Cluster 0",
          "Cluster 0",
          "Cluster 0",
          "Cluster 0",
          "Cluster 0",
          "Cluster 0",
          "Cluster 0",
          "Cluster 0",
          "Cluster 0",
          "Cluster 0",
          "Cluster 0",
          "Cluster 0",
          "Cluster 0",
          "Cluster 0",
          "Cluster 0",
          "Cluster 0",
          "Cluster 0",
          "Cluster 0",
          "Cluster 0",
          "Cluster 0",
          "Cluster 0",
          "Cluster 0",
          "Cluster 0",
          "Cluster 0",
          "Cluster 0",
          "Cluster 0",
          "Cluster 0",
          "Cluster 0",
          "Cluster 0",
          "Cluster 0",
          "Cluster 0",
          "Cluster 0",
          "Cluster 0",
          "Cluster 0",
          "Cluster 0",
          "Cluster 0",
          "Cluster 0",
          "Cluster 0",
          "Cluster 0",
          "Cluster 0",
          "Cluster 0",
          "Cluster 0",
          "Cluster 0",
          "Cluster 0",
          "Cluster 0",
          "Cluster 0",
          "Cluster 0",
          "Cluster 0",
          "Cluster 0",
          "Cluster 0",
          "Cluster 0",
          "Cluster 0",
          "Cluster 0",
          "Cluster 0",
          "Cluster 0",
          "Cluster 0",
          "Cluster 0",
          "Cluster 0",
          "Cluster 0",
          "Cluster 0",
          "Cluster 0",
          "Cluster 0",
          "Cluster 0",
          "Cluster 0",
          "Cluster 0",
          "Cluster 0",
          "Cluster 0",
          "Cluster 0",
          "Cluster 0",
          "Cluster 0",
          "Cluster 0",
          "Cluster 0",
          "Cluster 0",
          "Cluster 0",
          "Cluster 0",
          "Cluster 0",
          "Cluster 0",
          "Cluster 0",
          "Cluster 0",
          "Cluster 0",
          "Cluster 0",
          "Cluster 0",
          "Cluster 0",
          "Cluster 0",
          "Cluster 0",
          "Cluster 0",
          "Cluster 0",
          "Cluster 0",
          "Cluster 0",
          "Cluster 0",
          "Cluster 0",
          "Cluster 0",
          "Cluster 0",
          "Cluster 0",
          "Cluster 0",
          "Cluster 0",
          "Cluster 0",
          "Cluster 0",
          "Cluster 0",
          "Cluster 0",
          "Cluster 0",
          "Cluster 0",
          "Cluster 0",
          "Cluster 0",
          "Cluster 0",
          "Cluster 0",
          "Cluster 0",
          "Cluster 0",
          "Cluster 0",
          "Cluster 0",
          "Cluster 0",
          "Cluster 0",
          "Cluster 0",
          "Cluster 0",
          "Cluster 0",
          "Cluster 0",
          "Cluster 0",
          "Cluster 0",
          "Cluster 0",
          "Cluster 0",
          "Cluster 0",
          "Cluster 0",
          "Cluster 0",
          "Cluster 0",
          "Cluster 0",
          "Cluster 0",
          "Cluster 0",
          "Cluster 0",
          "Cluster 0",
          "Cluster 0",
          "Cluster 0",
          "Cluster 0",
          "Cluster 0",
          "Cluster 0",
          "Cluster 0",
          "Cluster 0",
          "Cluster 0",
          "Cluster 0",
          "Cluster 0",
          "Cluster 0",
          "Cluster 0",
          "Cluster 0",
          "Cluster 0",
          "Cluster 0",
          "Cluster 0",
          "Cluster 0",
          "Cluster 0",
          "Cluster 0",
          "Cluster 0",
          "Cluster 0",
          "Cluster 0",
          "Cluster 0",
          "Cluster 0",
          "Cluster 0",
          "Cluster 0",
          "Cluster 0",
          "Cluster 0",
          "Cluster 0",
          "Cluster 0",
          "Cluster 0",
          "Cluster 0",
          "Cluster 0",
          "Cluster 0",
          "Cluster 0",
          "Cluster 0",
          "Cluster 0",
          "Cluster 0",
          "Cluster 0",
          "Cluster 0",
          "Cluster 0",
          "Cluster 0",
          "Cluster 0",
          "Cluster 0",
          "Cluster 0",
          "Cluster 0",
          "Cluster 0",
          "Cluster 0",
          "Cluster 0",
          "Cluster 0",
          "Cluster 0",
          "Cluster 0",
          "Cluster 0",
          "Cluster 0",
          "Cluster 0",
          "Cluster 0",
          "Cluster 0",
          "Cluster 0",
          "Cluster 0",
          "Cluster 0",
          "Cluster 0",
          "Cluster 0",
          "Cluster 0",
          "Cluster 0",
          "Cluster 0",
          "Cluster 0",
          "Cluster 0",
          "Cluster 0",
          "Cluster 0",
          "Cluster 0",
          "Cluster 0",
          "Cluster 0",
          "Cluster 0",
          "Cluster 0",
          "Cluster 0",
          "Cluster 0",
          "Cluster 0",
          "Cluster 0",
          "Cluster 0",
          "Cluster 0",
          "Cluster 0",
          "Cluster 0",
          "Cluster 0",
          "Cluster 0",
          "Cluster 0",
          "Cluster 0",
          "Cluster 0",
          "Cluster 0",
          "Cluster 0",
          "Cluster 0",
          "Cluster 0",
          "Cluster 0",
          "Cluster 0",
          "Cluster 0",
          "Cluster 0",
          "Cluster 0",
          "Cluster 0",
          "Cluster 0",
          "Cluster 0",
          "Cluster 0",
          "Cluster 0",
          "Cluster 0",
          "Cluster 0",
          "Cluster 0",
          "Cluster 0",
          "Cluster 0",
          "Cluster 0",
          "Cluster 0",
          "Cluster 0",
          "Cluster 0",
          "Cluster 0",
          "Cluster 0",
          "Cluster 0",
          "Cluster 0",
          "Cluster 0",
          "Cluster 0",
          "Cluster 0",
          "Cluster 0",
          "Cluster 0",
          "Cluster 0",
          "Cluster 0",
          "Cluster 0",
          "Cluster 0",
          "Cluster 0",
          "Cluster 0",
          "Cluster 0",
          "Cluster 0",
          "Cluster 0",
          "Cluster 0",
          "Cluster 0",
          "Cluster 0",
          "Cluster 0",
          "Cluster 0",
          "Cluster 0",
          "Cluster 0",
          "Cluster 0",
          "Cluster 0",
          "Cluster 0",
          "Cluster 0",
          "Cluster 0",
          "Cluster 0",
          "Cluster 0",
          "Cluster 0",
          "Cluster 0",
          "Cluster 0",
          "Cluster 0",
          "Cluster 0",
          "Cluster 0",
          "Cluster 0",
          "Cluster 0",
          "Cluster 0",
          "Cluster 0",
          "Cluster 0",
          "Cluster 0",
          "Cluster 0",
          "Cluster 0",
          "Cluster 0",
          "Cluster 0",
          "Cluster 0",
          "Cluster 0",
          "Cluster 0",
          "Cluster 0",
          "Cluster 0",
          "Cluster 0",
          "Cluster 0",
          "Cluster 0",
          "Cluster 0",
          "Cluster 0",
          "Cluster 0",
          "Cluster 0",
          "Cluster 0",
          "Cluster 0",
          "Cluster 0",
          "Cluster 0",
          "Cluster 0",
          "Cluster 0",
          "Cluster 0",
          "Cluster 0",
          "Cluster 0",
          "Cluster 0",
          "Cluster 0",
          "Cluster 0",
          "Cluster 0",
          "Cluster 0",
          "Cluster 0",
          "Cluster 0",
          "Cluster 0",
          "Cluster 0",
          "Cluster 0",
          "Cluster 0",
          "Cluster 0",
          "Cluster 0",
          "Cluster 0",
          "Cluster 0",
          "Cluster 0",
          "Cluster 0",
          "Cluster 0",
          "Cluster 0",
          "Cluster 0",
          "Cluster 0",
          "Cluster 0",
          "Cluster 0",
          "Cluster 0",
          "Cluster 0",
          "Cluster 0",
          "Cluster 0",
          "Cluster 0",
          "Cluster 0",
          "Cluster 0",
          "Cluster 0",
          "Cluster 0",
          "Cluster 0",
          "Cluster 0",
          "Cluster 0",
          "Cluster 0",
          "Cluster 0",
          "Cluster 0",
          "Cluster 0",
          "Cluster 0",
          "Cluster 0",
          "Cluster 0",
          "Cluster 0",
          "Cluster 0",
          "Cluster 0",
          "Cluster 0",
          "Cluster 0",
          "Cluster 0",
          "Cluster 0",
          "Cluster 0",
          "Cluster 0",
          "Cluster 0",
          "Cluster 0",
          "Cluster 0",
          "Cluster 0",
          "Cluster 0",
          "Cluster 0",
          "Cluster 0",
          "Cluster 0",
          "Cluster 0",
          "Cluster 0",
          "Cluster 0",
          "Cluster 0",
          "Cluster 0",
          "Cluster 0",
          "Cluster 0",
          "Cluster 0",
          "Cluster 0",
          "Cluster 0",
          "Cluster 0",
          "Cluster 0",
          "Cluster 0",
          "Cluster 0",
          "Cluster 0",
          "Cluster 0",
          "Cluster 0",
          "Cluster 0",
          "Cluster 0",
          "Cluster 0",
          "Cluster 0",
          "Cluster 0",
          "Cluster 0",
          "Cluster 0",
          "Cluster 0",
          "Cluster 0",
          "Cluster 0",
          "Cluster 0",
          "Cluster 0",
          "Cluster 0",
          "Cluster 0",
          "Cluster 0",
          "Cluster 0",
          "Cluster 0",
          "Cluster 0",
          "Cluster 0",
          "Cluster 0",
          "Cluster 0",
          "Cluster 0",
          "Cluster 0",
          "Cluster 0",
          "Cluster 0",
          "Cluster 0",
          "Cluster 0",
          "Cluster 0",
          "Cluster 0",
          "Cluster 0",
          "Cluster 0",
          "Cluster 0",
          "Cluster 0",
          "Cluster 0",
          "Cluster 0",
          "Cluster 0",
          "Cluster 0",
          "Cluster 0",
          "Cluster 0",
          "Cluster 0",
          "Cluster 0",
          "Cluster 0",
          "Cluster 0",
          "Cluster 0",
          "Cluster 0",
          "Cluster 0",
          "Cluster 0",
          "Cluster 0",
          "Cluster 0",
          "Cluster 0",
          "Cluster 0",
          "Cluster 0",
          "Cluster 0",
          "Cluster 0",
          "Cluster 0",
          "Cluster 0",
          "Cluster 0",
          "Cluster 0",
          "Cluster 0",
          "Cluster 0",
          "Cluster 0",
          "Cluster 0",
          "Cluster 0",
          "Cluster 0",
          "Cluster 0",
          "Cluster 0",
          "Cluster 0",
          "Cluster 0",
          "Cluster 0",
          "Cluster 0",
          "Cluster 0",
          "Cluster 0",
          "Cluster 0",
          "Cluster 0",
          "Cluster 0",
          "Cluster 0",
          "Cluster 0",
          "Cluster 0",
          "Cluster 0",
          "Cluster 0",
          "Cluster 0",
          "Cluster 0",
          "Cluster 0",
          "Cluster 0",
          "Cluster 0",
          "Cluster 0",
          "Cluster 0",
          "Cluster 0",
          "Cluster 0",
          "Cluster 0",
          "Cluster 0",
          "Cluster 0",
          "Cluster 0",
          "Cluster 0",
          "Cluster 0",
          "Cluster 0",
          "Cluster 0",
          "Cluster 0",
          "Cluster 0",
          "Cluster 0",
          "Cluster 0",
          "Cluster 0",
          "Cluster 0",
          "Cluster 0",
          "Cluster 0",
          "Cluster 0",
          "Cluster 0",
          "Cluster 0",
          "Cluster 0",
          "Cluster 0",
          "Cluster 0",
          "Cluster 0",
          "Cluster 0",
          "Cluster 0",
          "Cluster 0",
          "Cluster 0",
          "Cluster 0",
          "Cluster 0",
          "Cluster 0",
          "Cluster 0",
          "Cluster 0",
          "Cluster 0",
          "Cluster 0",
          "Cluster 0",
          "Cluster 0",
          "Cluster 0",
          "Cluster 0",
          "Cluster 0",
          "Cluster 0",
          "Cluster 0",
          "Cluster 0",
          "Cluster 0",
          "Cluster 0",
          "Cluster 0",
          "Cluster 0",
          "Cluster 0",
          "Cluster 0",
          "Cluster 0",
          "Cluster 0",
          "Cluster 0",
          "Cluster 0",
          "Cluster 0",
          "Cluster 0",
          "Cluster 0",
          "Cluster 0",
          "Cluster 0",
          "Cluster 0",
          "Cluster 0",
          "Cluster 0",
          "Cluster 0",
          "Cluster 0",
          "Cluster 0",
          "Cluster 0",
          "Cluster 0",
          "Cluster 0",
          "Cluster 0",
          "Cluster 0",
          "Cluster 0",
          "Cluster 0",
          "Cluster 0",
          "Cluster 0",
          "Cluster 0",
          "Cluster 0",
          "Cluster 0",
          "Cluster 0",
          "Cluster 0",
          "Cluster 0",
          "Cluster 0",
          "Cluster 0",
          "Cluster 0",
          "Cluster 0",
          "Cluster 0",
          "Cluster 0",
          "Cluster 0",
          "Cluster 0",
          "Cluster 0",
          "Cluster 0",
          "Cluster 0",
          "Cluster 0",
          "Cluster 0",
          "Cluster 0",
          "Cluster 0",
          "Cluster 0",
          "Cluster 0",
          "Cluster 0",
          "Cluster 0",
          "Cluster 0",
          "Cluster 0",
          "Cluster 0",
          "Cluster 0",
          "Cluster 0",
          "Cluster 0",
          "Cluster 0",
          "Cluster 0",
          "Cluster 0",
          "Cluster 0",
          "Cluster 0",
          "Cluster 0",
          "Cluster 0",
          "Cluster 0",
          "Cluster 0",
          "Cluster 0",
          "Cluster 0",
          "Cluster 0",
          "Cluster 0",
          "Cluster 0",
          "Cluster 0",
          "Cluster 0",
          "Cluster 0",
          "Cluster 0",
          "Cluster 0",
          "Cluster 0",
          "Cluster 0",
          "Cluster 0",
          "Cluster 0",
          "Cluster 0",
          "Cluster 0",
          "Cluster 0",
          "Cluster 0",
          "Cluster 0",
          "Cluster 0",
          "Cluster 0",
          "Cluster 0",
          "Cluster 0",
          "Cluster 0",
          "Cluster 0",
          "Cluster 0",
          "Cluster 0",
          "Cluster 0",
          "Cluster 0",
          "Cluster 0",
          "Cluster 0",
          "Cluster 0",
          "Cluster 0",
          "Cluster 0",
          "Cluster 0",
          "Cluster 0",
          "Cluster 0",
          "Cluster 0",
          "Cluster 0",
          "Cluster 0",
          "Cluster 0",
          "Cluster 0",
          "Cluster 0",
          "Cluster 0",
          "Cluster 0",
          "Cluster 0",
          "Cluster 0",
          "Cluster 0",
          "Cluster 0",
          "Cluster 0",
          "Cluster 0",
          "Cluster 0",
          "Cluster 0",
          "Cluster 0",
          "Cluster 0",
          "Cluster 0",
          "Cluster 0",
          "Cluster 0",
          "Cluster 0",
          "Cluster 0",
          "Cluster 0",
          "Cluster 0",
          "Cluster 0",
          "Cluster 0",
          "Cluster 0",
          "Cluster 0",
          "Cluster 0",
          "Cluster 0",
          "Cluster 0",
          "Cluster 0",
          "Cluster 0",
          "Cluster 0",
          "Cluster 0",
          "Cluster 0",
          "Cluster 0",
          "Cluster 0",
          "Cluster 0",
          "Cluster 0",
          "Cluster 0",
          "Cluster 0",
          "Cluster 0",
          "Cluster 0",
          "Cluster 0",
          "Cluster 0",
          "Cluster 0",
          "Cluster 0",
          "Cluster 0",
          "Cluster 0",
          "Cluster 0",
          "Cluster 0",
          "Cluster 0",
          "Cluster 0",
          "Cluster 0",
          "Cluster 0",
          "Cluster 0",
          "Cluster 0",
          "Cluster 0",
          "Cluster 0",
          "Cluster 0",
          "Cluster 0",
          "Cluster 0",
          "Cluster 0",
          "Cluster 0",
          "Cluster 0",
          "Cluster 0",
          "Cluster 0",
          "Cluster 0",
          "Cluster 0",
          "Cluster 0",
          "Cluster 0",
          "Cluster 0",
          "Cluster 0",
          "Cluster 0",
          "Cluster 0",
          "Cluster 0",
          "Cluster 0",
          "Cluster 0",
          "Cluster 0",
          "Cluster 0",
          "Cluster 0",
          "Cluster 0",
          "Cluster 0",
          "Cluster 0",
          "Cluster 0",
          "Cluster 0",
          "Cluster 0",
          "Cluster 0",
          "Cluster 0",
          "Cluster 0",
          "Cluster 0",
          "Cluster 0",
          "Cluster 0",
          "Cluster 0",
          "Cluster 0"
         ],
         "xaxis": "x2",
         "yaxis": "y2"
        },
        {
         "alignmentgroup": "True",
         "bingroup": "x",
         "hovertemplate": "Cluster=%{x}<br>count=%{y}<extra></extra>",
         "legendgroup": "Cluster 1",
         "marker": {
          "color": "#EF553B",
          "opacity": 0.7,
          "pattern": {
           "shape": ""
          }
         },
         "name": "Cluster 1",
         "offsetgroup": "Cluster 1",
         "orientation": "v",
         "showlegend": true,
         "type": "histogram",
         "x": [
          "Cluster 1",
          "Cluster 1",
          "Cluster 1",
          "Cluster 1",
          "Cluster 1",
          "Cluster 1",
          "Cluster 1",
          "Cluster 1",
          "Cluster 1",
          "Cluster 1",
          "Cluster 1",
          "Cluster 1",
          "Cluster 1",
          "Cluster 1",
          "Cluster 1",
          "Cluster 1",
          "Cluster 1",
          "Cluster 1",
          "Cluster 1",
          "Cluster 1",
          "Cluster 1",
          "Cluster 1",
          "Cluster 1",
          "Cluster 1",
          "Cluster 1",
          "Cluster 1",
          "Cluster 1",
          "Cluster 1",
          "Cluster 1",
          "Cluster 1",
          "Cluster 1",
          "Cluster 1",
          "Cluster 1",
          "Cluster 1",
          "Cluster 1",
          "Cluster 1",
          "Cluster 1",
          "Cluster 1",
          "Cluster 1",
          "Cluster 1",
          "Cluster 1",
          "Cluster 1",
          "Cluster 1",
          "Cluster 1",
          "Cluster 1",
          "Cluster 1",
          "Cluster 1",
          "Cluster 1",
          "Cluster 1",
          "Cluster 1",
          "Cluster 1",
          "Cluster 1",
          "Cluster 1",
          "Cluster 1",
          "Cluster 1",
          "Cluster 1",
          "Cluster 1",
          "Cluster 1",
          "Cluster 1",
          "Cluster 1",
          "Cluster 1",
          "Cluster 1",
          "Cluster 1",
          "Cluster 1",
          "Cluster 1",
          "Cluster 1",
          "Cluster 1",
          "Cluster 1",
          "Cluster 1",
          "Cluster 1",
          "Cluster 1",
          "Cluster 1",
          "Cluster 1",
          "Cluster 1",
          "Cluster 1",
          "Cluster 1",
          "Cluster 1",
          "Cluster 1",
          "Cluster 1",
          "Cluster 1",
          "Cluster 1",
          "Cluster 1",
          "Cluster 1",
          "Cluster 1",
          "Cluster 1",
          "Cluster 1",
          "Cluster 1",
          "Cluster 1",
          "Cluster 1",
          "Cluster 1",
          "Cluster 1",
          "Cluster 1",
          "Cluster 1",
          "Cluster 1",
          "Cluster 1",
          "Cluster 1",
          "Cluster 1",
          "Cluster 1",
          "Cluster 1",
          "Cluster 1",
          "Cluster 1",
          "Cluster 1",
          "Cluster 1",
          "Cluster 1",
          "Cluster 1",
          "Cluster 1",
          "Cluster 1",
          "Cluster 1",
          "Cluster 1",
          "Cluster 1",
          "Cluster 1",
          "Cluster 1",
          "Cluster 1",
          "Cluster 1",
          "Cluster 1",
          "Cluster 1",
          "Cluster 1",
          "Cluster 1",
          "Cluster 1",
          "Cluster 1",
          "Cluster 1",
          "Cluster 1",
          "Cluster 1",
          "Cluster 1",
          "Cluster 1",
          "Cluster 1",
          "Cluster 1",
          "Cluster 1",
          "Cluster 1",
          "Cluster 1",
          "Cluster 1",
          "Cluster 1",
          "Cluster 1",
          "Cluster 1",
          "Cluster 1",
          "Cluster 1",
          "Cluster 1",
          "Cluster 1",
          "Cluster 1",
          "Cluster 1",
          "Cluster 1",
          "Cluster 1",
          "Cluster 1",
          "Cluster 1",
          "Cluster 1",
          "Cluster 1",
          "Cluster 1",
          "Cluster 1",
          "Cluster 1",
          "Cluster 1",
          "Cluster 1",
          "Cluster 1",
          "Cluster 1",
          "Cluster 1",
          "Cluster 1",
          "Cluster 1",
          "Cluster 1",
          "Cluster 1",
          "Cluster 1",
          "Cluster 1",
          "Cluster 1",
          "Cluster 1",
          "Cluster 1",
          "Cluster 1",
          "Cluster 1",
          "Cluster 1",
          "Cluster 1",
          "Cluster 1",
          "Cluster 1",
          "Cluster 1",
          "Cluster 1",
          "Cluster 1",
          "Cluster 1",
          "Cluster 1",
          "Cluster 1",
          "Cluster 1",
          "Cluster 1",
          "Cluster 1",
          "Cluster 1",
          "Cluster 1",
          "Cluster 1",
          "Cluster 1",
          "Cluster 1",
          "Cluster 1",
          "Cluster 1",
          "Cluster 1",
          "Cluster 1",
          "Cluster 1",
          "Cluster 1",
          "Cluster 1",
          "Cluster 1",
          "Cluster 1",
          "Cluster 1",
          "Cluster 1",
          "Cluster 1",
          "Cluster 1",
          "Cluster 1",
          "Cluster 1",
          "Cluster 1",
          "Cluster 1",
          "Cluster 1",
          "Cluster 1",
          "Cluster 1",
          "Cluster 1",
          "Cluster 1",
          "Cluster 1",
          "Cluster 1",
          "Cluster 1",
          "Cluster 1",
          "Cluster 1",
          "Cluster 1",
          "Cluster 1",
          "Cluster 1",
          "Cluster 1",
          "Cluster 1",
          "Cluster 1",
          "Cluster 1",
          "Cluster 1",
          "Cluster 1",
          "Cluster 1",
          "Cluster 1",
          "Cluster 1",
          "Cluster 1",
          "Cluster 1",
          "Cluster 1",
          "Cluster 1",
          "Cluster 1",
          "Cluster 1",
          "Cluster 1",
          "Cluster 1",
          "Cluster 1",
          "Cluster 1",
          "Cluster 1",
          "Cluster 1",
          "Cluster 1",
          "Cluster 1",
          "Cluster 1",
          "Cluster 1",
          "Cluster 1",
          "Cluster 1",
          "Cluster 1",
          "Cluster 1",
          "Cluster 1",
          "Cluster 1",
          "Cluster 1",
          "Cluster 1",
          "Cluster 1",
          "Cluster 1",
          "Cluster 1",
          "Cluster 1",
          "Cluster 1",
          "Cluster 1",
          "Cluster 1",
          "Cluster 1",
          "Cluster 1",
          "Cluster 1",
          "Cluster 1",
          "Cluster 1",
          "Cluster 1",
          "Cluster 1",
          "Cluster 1",
          "Cluster 1",
          "Cluster 1",
          "Cluster 1",
          "Cluster 1",
          "Cluster 1",
          "Cluster 1",
          "Cluster 1",
          "Cluster 1",
          "Cluster 1",
          "Cluster 1",
          "Cluster 1",
          "Cluster 1",
          "Cluster 1",
          "Cluster 1",
          "Cluster 1",
          "Cluster 1",
          "Cluster 1",
          "Cluster 1",
          "Cluster 1",
          "Cluster 1",
          "Cluster 1",
          "Cluster 1",
          "Cluster 1",
          "Cluster 1",
          "Cluster 1",
          "Cluster 1",
          "Cluster 1",
          "Cluster 1",
          "Cluster 1",
          "Cluster 1",
          "Cluster 1",
          "Cluster 1",
          "Cluster 1",
          "Cluster 1",
          "Cluster 1",
          "Cluster 1",
          "Cluster 1",
          "Cluster 1",
          "Cluster 1",
          "Cluster 1",
          "Cluster 1",
          "Cluster 1",
          "Cluster 1",
          "Cluster 1",
          "Cluster 1",
          "Cluster 1",
          "Cluster 1",
          "Cluster 1",
          "Cluster 1",
          "Cluster 1",
          "Cluster 1",
          "Cluster 1",
          "Cluster 1",
          "Cluster 1",
          "Cluster 1",
          "Cluster 1",
          "Cluster 1",
          "Cluster 1",
          "Cluster 1",
          "Cluster 1",
          "Cluster 1",
          "Cluster 1",
          "Cluster 1",
          "Cluster 1",
          "Cluster 1",
          "Cluster 1",
          "Cluster 1",
          "Cluster 1",
          "Cluster 1",
          "Cluster 1",
          "Cluster 1",
          "Cluster 1",
          "Cluster 1",
          "Cluster 1",
          "Cluster 1",
          "Cluster 1",
          "Cluster 1",
          "Cluster 1",
          "Cluster 1",
          "Cluster 1",
          "Cluster 1",
          "Cluster 1",
          "Cluster 1",
          "Cluster 1",
          "Cluster 1",
          "Cluster 1",
          "Cluster 1",
          "Cluster 1",
          "Cluster 1",
          "Cluster 1",
          "Cluster 1",
          "Cluster 1",
          "Cluster 1",
          "Cluster 1",
          "Cluster 1",
          "Cluster 1",
          "Cluster 1",
          "Cluster 1",
          "Cluster 1",
          "Cluster 1",
          "Cluster 1",
          "Cluster 1",
          "Cluster 1",
          "Cluster 1",
          "Cluster 1",
          "Cluster 1",
          "Cluster 1",
          "Cluster 1",
          "Cluster 1",
          "Cluster 1",
          "Cluster 1",
          "Cluster 1",
          "Cluster 1",
          "Cluster 1",
          "Cluster 1",
          "Cluster 1",
          "Cluster 1",
          "Cluster 1",
          "Cluster 1",
          "Cluster 1",
          "Cluster 1",
          "Cluster 1",
          "Cluster 1",
          "Cluster 1",
          "Cluster 1",
          "Cluster 1",
          "Cluster 1",
          "Cluster 1",
          "Cluster 1",
          "Cluster 1",
          "Cluster 1",
          "Cluster 1",
          "Cluster 1",
          "Cluster 1",
          "Cluster 1",
          "Cluster 1",
          "Cluster 1",
          "Cluster 1",
          "Cluster 1",
          "Cluster 1",
          "Cluster 1",
          "Cluster 1",
          "Cluster 1",
          "Cluster 1",
          "Cluster 1",
          "Cluster 1",
          "Cluster 1",
          "Cluster 1",
          "Cluster 1",
          "Cluster 1",
          "Cluster 1",
          "Cluster 1",
          "Cluster 1",
          "Cluster 1",
          "Cluster 1",
          "Cluster 1",
          "Cluster 1",
          "Cluster 1",
          "Cluster 1",
          "Cluster 1",
          "Cluster 1",
          "Cluster 1",
          "Cluster 1",
          "Cluster 1",
          "Cluster 1",
          "Cluster 1",
          "Cluster 1",
          "Cluster 1",
          "Cluster 1",
          "Cluster 1",
          "Cluster 1",
          "Cluster 1",
          "Cluster 1",
          "Cluster 1",
          "Cluster 1",
          "Cluster 1",
          "Cluster 1",
          "Cluster 1",
          "Cluster 1",
          "Cluster 1",
          "Cluster 1",
          "Cluster 1",
          "Cluster 1",
          "Cluster 1",
          "Cluster 1",
          "Cluster 1",
          "Cluster 1",
          "Cluster 1",
          "Cluster 1",
          "Cluster 1",
          "Cluster 1",
          "Cluster 1",
          "Cluster 1",
          "Cluster 1",
          "Cluster 1",
          "Cluster 1",
          "Cluster 1",
          "Cluster 1",
          "Cluster 1",
          "Cluster 1",
          "Cluster 1",
          "Cluster 1",
          "Cluster 1",
          "Cluster 1",
          "Cluster 1",
          "Cluster 1",
          "Cluster 1",
          "Cluster 1",
          "Cluster 1",
          "Cluster 1",
          "Cluster 1",
          "Cluster 1",
          "Cluster 1",
          "Cluster 1",
          "Cluster 1",
          "Cluster 1",
          "Cluster 1",
          "Cluster 1",
          "Cluster 1",
          "Cluster 1",
          "Cluster 1",
          "Cluster 1",
          "Cluster 1",
          "Cluster 1",
          "Cluster 1",
          "Cluster 1",
          "Cluster 1",
          "Cluster 1",
          "Cluster 1",
          "Cluster 1",
          "Cluster 1",
          "Cluster 1",
          "Cluster 1",
          "Cluster 1",
          "Cluster 1",
          "Cluster 1",
          "Cluster 1",
          "Cluster 1",
          "Cluster 1",
          "Cluster 1",
          "Cluster 1",
          "Cluster 1",
          "Cluster 1",
          "Cluster 1",
          "Cluster 1",
          "Cluster 1",
          "Cluster 1",
          "Cluster 1",
          "Cluster 1",
          "Cluster 1",
          "Cluster 1",
          "Cluster 1",
          "Cluster 1",
          "Cluster 1",
          "Cluster 1",
          "Cluster 1",
          "Cluster 1",
          "Cluster 1",
          "Cluster 1",
          "Cluster 1",
          "Cluster 1",
          "Cluster 1",
          "Cluster 1",
          "Cluster 1",
          "Cluster 1",
          "Cluster 1",
          "Cluster 1",
          "Cluster 1",
          "Cluster 1",
          "Cluster 1",
          "Cluster 1",
          "Cluster 1",
          "Cluster 1",
          "Cluster 1",
          "Cluster 1",
          "Cluster 1",
          "Cluster 1",
          "Cluster 1",
          "Cluster 1",
          "Cluster 1",
          "Cluster 1",
          "Cluster 1",
          "Cluster 1",
          "Cluster 1",
          "Cluster 1",
          "Cluster 1",
          "Cluster 1",
          "Cluster 1",
          "Cluster 1",
          "Cluster 1",
          "Cluster 1",
          "Cluster 1",
          "Cluster 1",
          "Cluster 1",
          "Cluster 1",
          "Cluster 1",
          "Cluster 1",
          "Cluster 1",
          "Cluster 1",
          "Cluster 1",
          "Cluster 1",
          "Cluster 1",
          "Cluster 1",
          "Cluster 1",
          "Cluster 1",
          "Cluster 1",
          "Cluster 1",
          "Cluster 1",
          "Cluster 1",
          "Cluster 1",
          "Cluster 1",
          "Cluster 1",
          "Cluster 1",
          "Cluster 1",
          "Cluster 1",
          "Cluster 1",
          "Cluster 1",
          "Cluster 1",
          "Cluster 1",
          "Cluster 1",
          "Cluster 1",
          "Cluster 1",
          "Cluster 1",
          "Cluster 1",
          "Cluster 1",
          "Cluster 1",
          "Cluster 1",
          "Cluster 1",
          "Cluster 1",
          "Cluster 1",
          "Cluster 1",
          "Cluster 1",
          "Cluster 1",
          "Cluster 1",
          "Cluster 1",
          "Cluster 1",
          "Cluster 1",
          "Cluster 1",
          "Cluster 1",
          "Cluster 1",
          "Cluster 1",
          "Cluster 1",
          "Cluster 1",
          "Cluster 1",
          "Cluster 1",
          "Cluster 1",
          "Cluster 1",
          "Cluster 1",
          "Cluster 1",
          "Cluster 1",
          "Cluster 1",
          "Cluster 1",
          "Cluster 1",
          "Cluster 1",
          "Cluster 1",
          "Cluster 1",
          "Cluster 1",
          "Cluster 1",
          "Cluster 1",
          "Cluster 1",
          "Cluster 1",
          "Cluster 1",
          "Cluster 1",
          "Cluster 1",
          "Cluster 1",
          "Cluster 1",
          "Cluster 1",
          "Cluster 1",
          "Cluster 1",
          "Cluster 1",
          "Cluster 1",
          "Cluster 1",
          "Cluster 1",
          "Cluster 1",
          "Cluster 1",
          "Cluster 1",
          "Cluster 1",
          "Cluster 1",
          "Cluster 1",
          "Cluster 1",
          "Cluster 1",
          "Cluster 1",
          "Cluster 1",
          "Cluster 1",
          "Cluster 1",
          "Cluster 1",
          "Cluster 1",
          "Cluster 1",
          "Cluster 1",
          "Cluster 1",
          "Cluster 1",
          "Cluster 1",
          "Cluster 1",
          "Cluster 1",
          "Cluster 1",
          "Cluster 1",
          "Cluster 1",
          "Cluster 1",
          "Cluster 1",
          "Cluster 1",
          "Cluster 1",
          "Cluster 1",
          "Cluster 1",
          "Cluster 1",
          "Cluster 1",
          "Cluster 1",
          "Cluster 1",
          "Cluster 1",
          "Cluster 1",
          "Cluster 1",
          "Cluster 1",
          "Cluster 1",
          "Cluster 1",
          "Cluster 1",
          "Cluster 1",
          "Cluster 1",
          "Cluster 1",
          "Cluster 1",
          "Cluster 1",
          "Cluster 1",
          "Cluster 1",
          "Cluster 1",
          "Cluster 1",
          "Cluster 1",
          "Cluster 1",
          "Cluster 1",
          "Cluster 1",
          "Cluster 1",
          "Cluster 1",
          "Cluster 1",
          "Cluster 1",
          "Cluster 1",
          "Cluster 1",
          "Cluster 1",
          "Cluster 1",
          "Cluster 1",
          "Cluster 1",
          "Cluster 1",
          "Cluster 1",
          "Cluster 1",
          "Cluster 1",
          "Cluster 1",
          "Cluster 1",
          "Cluster 1",
          "Cluster 1",
          "Cluster 1",
          "Cluster 1",
          "Cluster 1",
          "Cluster 1",
          "Cluster 1",
          "Cluster 1",
          "Cluster 1",
          "Cluster 1",
          "Cluster 1",
          "Cluster 1",
          "Cluster 1",
          "Cluster 1",
          "Cluster 1",
          "Cluster 1",
          "Cluster 1",
          "Cluster 1",
          "Cluster 1",
          "Cluster 1",
          "Cluster 1",
          "Cluster 1",
          "Cluster 1",
          "Cluster 1",
          "Cluster 1",
          "Cluster 1",
          "Cluster 1",
          "Cluster 1",
          "Cluster 1",
          "Cluster 1",
          "Cluster 1",
          "Cluster 1",
          "Cluster 1",
          "Cluster 1",
          "Cluster 1",
          "Cluster 1",
          "Cluster 1",
          "Cluster 1",
          "Cluster 1",
          "Cluster 1",
          "Cluster 1",
          "Cluster 1",
          "Cluster 1",
          "Cluster 1",
          "Cluster 1",
          "Cluster 1",
          "Cluster 1",
          "Cluster 1",
          "Cluster 1",
          "Cluster 1",
          "Cluster 1",
          "Cluster 1",
          "Cluster 1",
          "Cluster 1",
          "Cluster 1",
          "Cluster 1",
          "Cluster 1",
          "Cluster 1",
          "Cluster 1",
          "Cluster 1",
          "Cluster 1",
          "Cluster 1",
          "Cluster 1",
          "Cluster 1",
          "Cluster 1",
          "Cluster 1",
          "Cluster 1",
          "Cluster 1",
          "Cluster 1",
          "Cluster 1",
          "Cluster 1",
          "Cluster 1",
          "Cluster 1",
          "Cluster 1",
          "Cluster 1",
          "Cluster 1",
          "Cluster 1",
          "Cluster 1",
          "Cluster 1",
          "Cluster 1",
          "Cluster 1",
          "Cluster 1",
          "Cluster 1",
          "Cluster 1",
          "Cluster 1",
          "Cluster 1",
          "Cluster 1",
          "Cluster 1",
          "Cluster 1",
          "Cluster 1",
          "Cluster 1",
          "Cluster 1",
          "Cluster 1",
          "Cluster 1",
          "Cluster 1",
          "Cluster 1",
          "Cluster 1",
          "Cluster 1",
          "Cluster 1",
          "Cluster 1",
          "Cluster 1",
          "Cluster 1",
          "Cluster 1",
          "Cluster 1",
          "Cluster 1",
          "Cluster 1",
          "Cluster 1",
          "Cluster 1",
          "Cluster 1",
          "Cluster 1",
          "Cluster 1",
          "Cluster 1",
          "Cluster 1",
          "Cluster 1",
          "Cluster 1",
          "Cluster 1",
          "Cluster 1",
          "Cluster 1",
          "Cluster 1",
          "Cluster 1",
          "Cluster 1",
          "Cluster 1",
          "Cluster 1",
          "Cluster 1",
          "Cluster 1",
          "Cluster 1",
          "Cluster 1",
          "Cluster 1",
          "Cluster 1",
          "Cluster 1",
          "Cluster 1",
          "Cluster 1",
          "Cluster 1",
          "Cluster 1",
          "Cluster 1",
          "Cluster 1",
          "Cluster 1",
          "Cluster 1",
          "Cluster 1",
          "Cluster 1",
          "Cluster 1",
          "Cluster 1",
          "Cluster 1",
          "Cluster 1",
          "Cluster 1",
          "Cluster 1",
          "Cluster 1",
          "Cluster 1",
          "Cluster 1",
          "Cluster 1",
          "Cluster 1",
          "Cluster 1",
          "Cluster 1",
          "Cluster 1",
          "Cluster 1",
          "Cluster 1",
          "Cluster 1",
          "Cluster 1",
          "Cluster 1",
          "Cluster 1",
          "Cluster 1",
          "Cluster 1",
          "Cluster 1",
          "Cluster 1",
          "Cluster 1",
          "Cluster 1",
          "Cluster 1",
          "Cluster 1",
          "Cluster 1",
          "Cluster 1",
          "Cluster 1",
          "Cluster 1",
          "Cluster 1",
          "Cluster 1",
          "Cluster 1",
          "Cluster 1",
          "Cluster 1",
          "Cluster 1",
          "Cluster 1",
          "Cluster 1",
          "Cluster 1",
          "Cluster 1",
          "Cluster 1",
          "Cluster 1",
          "Cluster 1",
          "Cluster 1",
          "Cluster 1",
          "Cluster 1",
          "Cluster 1",
          "Cluster 1",
          "Cluster 1",
          "Cluster 1",
          "Cluster 1",
          "Cluster 1",
          "Cluster 1",
          "Cluster 1",
          "Cluster 1",
          "Cluster 1",
          "Cluster 1",
          "Cluster 1",
          "Cluster 1",
          "Cluster 1",
          "Cluster 1",
          "Cluster 1",
          "Cluster 1",
          "Cluster 1",
          "Cluster 1",
          "Cluster 1",
          "Cluster 1",
          "Cluster 1",
          "Cluster 1",
          "Cluster 1",
          "Cluster 1",
          "Cluster 1",
          "Cluster 1",
          "Cluster 1",
          "Cluster 1",
          "Cluster 1",
          "Cluster 1",
          "Cluster 1",
          "Cluster 1",
          "Cluster 1",
          "Cluster 1",
          "Cluster 1",
          "Cluster 1",
          "Cluster 1",
          "Cluster 1",
          "Cluster 1",
          "Cluster 1",
          "Cluster 1",
          "Cluster 1",
          "Cluster 1",
          "Cluster 1",
          "Cluster 1",
          "Cluster 1",
          "Cluster 1",
          "Cluster 1",
          "Cluster 1",
          "Cluster 1",
          "Cluster 1",
          "Cluster 1",
          "Cluster 1",
          "Cluster 1",
          "Cluster 1",
          "Cluster 1",
          "Cluster 1",
          "Cluster 1",
          "Cluster 1",
          "Cluster 1",
          "Cluster 1",
          "Cluster 1",
          "Cluster 1",
          "Cluster 1",
          "Cluster 1",
          "Cluster 1",
          "Cluster 1",
          "Cluster 1",
          "Cluster 1",
          "Cluster 1",
          "Cluster 1",
          "Cluster 1",
          "Cluster 1",
          "Cluster 1",
          "Cluster 1",
          "Cluster 1",
          "Cluster 1",
          "Cluster 1",
          "Cluster 1",
          "Cluster 1",
          "Cluster 1",
          "Cluster 1",
          "Cluster 1",
          "Cluster 1",
          "Cluster 1",
          "Cluster 1",
          "Cluster 1",
          "Cluster 1",
          "Cluster 1",
          "Cluster 1",
          "Cluster 1",
          "Cluster 1",
          "Cluster 1",
          "Cluster 1",
          "Cluster 1",
          "Cluster 1",
          "Cluster 1",
          "Cluster 1",
          "Cluster 1",
          "Cluster 1",
          "Cluster 1",
          "Cluster 1",
          "Cluster 1",
          "Cluster 1",
          "Cluster 1",
          "Cluster 1",
          "Cluster 1",
          "Cluster 1",
          "Cluster 1",
          "Cluster 1",
          "Cluster 1",
          "Cluster 1",
          "Cluster 1",
          "Cluster 1",
          "Cluster 1",
          "Cluster 1",
          "Cluster 1",
          "Cluster 1",
          "Cluster 1",
          "Cluster 1",
          "Cluster 1",
          "Cluster 1",
          "Cluster 1",
          "Cluster 1",
          "Cluster 1",
          "Cluster 1",
          "Cluster 1"
         ],
         "xaxis": "x",
         "yaxis": "y"
        },
        {
         "alignmentgroup": "True",
         "customdata": [
          [
           73180.8,
           26
          ],
          [
           80388,
           26
          ],
          [
           13500,
           31
          ],
          [
           40803.84,
           26
          ],
          [
           10560,
           30
          ],
          [
           50000,
           37
          ],
          [
           50000,
           36
          ],
          [
           10000,
           42
          ],
          [
           14520,
           41
          ],
          [
           35000,
           37
          ],
          [
           40000,
           33
          ],
          [
           11000,
           30
          ],
          [
           10000,
           37
          ],
          [
           9500,
           31
          ],
          [
           40000,
           33
          ],
          [
           55750,
           31
          ],
          [
           9600,
           30
          ],
          [
           89100,
           26
          ],
          [
           83160,
           26
          ],
          [
           180000,
           38
          ],
          [
           10000,
           42
          ],
          [
           12000,
           30
          ],
          [
           12000,
           30
          ],
          [
           12960,
           30
          ],
          [
           229326.24,
           32
          ],
          [
           39916.8,
           26
          ],
          [
           35000,
           37
          ],
          [
           30000,
           26
          ],
          [
           20401.92,
           26
          ],
          [
           16632,
           26
          ],
          [
           30000,
           30
          ],
          [
           22000,
           52
          ],
          [
           13200,
           30
          ],
          [
           9600,
           30
          ],
          [
           48400,
           53
          ],
          [
           30000,
           30
          ],
          [
           48400,
           46
          ],
          [
           16000,
           30
          ],
          [
           15000,
           39
          ],
          [
           20000,
           27
          ],
          [
           13200,
           30
          ],
          [
           50077.44,
           26
          ],
          [
           83160,
           26
          ],
          [
           15000,
           30
          ],
          [
           89100,
           26
          ],
          [
           20000,
           27
          ],
          [
           25000,
           39
          ],
          [
           10000,
           46
          ],
          [
           12000,
           30
          ],
          [
           30000,
           47
          ],
          [
           8800,
           30
          ],
          [
           18000,
           39
          ],
          [
           373570.56,
           28
          ],
          [
           18400,
           51
          ],
          [
           20000,
           30
          ],
          [
           10000,
           46
          ],
          [
           20000,
           50
          ],
          [
           10562.75,
           45
          ],
          [
           10560,
           30
          ],
          [
           12000,
           30
          ],
          [
           15000,
           49
          ],
          [
           17000,
           30
          ],
          [
           20000,
           30
          ],
          [
           22650,
           30
          ],
          [
           12000,
           30
          ],
          [
           12960,
           30
          ],
          [
           9000,
           50
          ],
          [
           50000,
           31
          ],
          [
           9000,
           47
          ],
          [
           18000,
           48
          ],
          [
           15000,
           27
          ],
          [
           12000,
           39
          ],
          [
           12000,
           39
          ],
          [
           10000,
           30
          ],
          [
           10000,
           49
          ],
          [
           10000,
           39
          ],
          [
           11800,
           30
          ],
          [
           48000,
           37
          ],
          [
           25000,
           39
          ],
          [
           14400,
           30
          ],
          [
           18000,
           30
          ],
          [
           14400,
           30
          ],
          [
           14400,
           46
          ],
          [
           14400,
           46
          ],
          [
           10000,
           39
          ],
          [
           10000,
           30
          ],
          [
           8800,
           30
          ],
          [
           10000,
           37
          ],
          [
           15000,
           30
          ],
          [
           28000,
           39
          ],
          [
           18000,
           48
          ],
          [
           17000,
           30
          ],
          [
           14400,
           30
          ],
          [
           12000,
           31
          ],
          [
           15000,
           44
          ],
          [
           15000,
           30
          ],
          [
           15000,
           39
          ],
          [
           189486,
           27
          ],
          [
           406287.75,
           34
          ],
          [
           10000,
           49
          ],
          [
           10000,
           37
          ],
          [
           20000,
           27
          ],
          [
           15000,
           49
          ],
          [
           101930.4,
           22
          ],
          [
           10000,
           30
          ],
          [
           18400,
           51
          ],
          [
           83700.54,
           25
          ],
          [
           15000,
           30
          ],
          [
           7260,
           30
          ],
          [
           395176.32,
           33
          ],
          [
           18000,
           33
          ],
          [
           15000,
           44
          ],
          [
           9000,
           47
          ],
          [
           313817.86,
           28
          ],
          [
           7260,
           30
          ],
          [
           15000,
           30
          ],
          [
           10562.75,
           45
          ],
          [
           10000,
           42
          ],
          [
           10000,
           30
          ],
          [
           18000,
           33
          ],
          [
           24000,
           31
          ],
          [
           20000,
           39
          ],
          [
           12000,
           31
          ],
          [
           12000,
           50
          ],
          [
           52000,
           43
          ],
          [
           11800,
           30
          ],
          [
           10000,
           30
          ],
          [
           11000,
           30
          ],
          [
           10000,
           30
          ],
          [
           10000,
           33
          ],
          [
           10000,
           33
          ],
          [
           9000,
           47
          ],
          [
           55000,
           31
          ],
          [
           25000,
           30
          ],
          [
           41164.2,
           37
          ],
          [
           9000,
           50
          ],
          [
           80956.26,
           36
          ],
          [
           30000,
           47
          ],
          [
           10000,
           42
          ],
          [
           17200,
           27
          ],
          [
           12000,
           30
          ],
          [
           52000,
           43
          ],
          [
           25000,
           30
          ],
          [
           21780,
           39
          ],
          [
           32931.36,
           36
          ],
          [
           14400,
           30
          ],
          [
           40803.84,
           26
          ],
          [
           10000,
           33
          ],
          [
           17424,
           30
          ],
          [
           30000,
           58
          ],
          [
           50000,
           31
          ],
          [
           9500,
           31
          ],
          [
           15000,
           39
          ],
          [
           9500,
           31
          ],
          [
           13500,
           31
          ],
          [
           30000,
           39
          ],
          [
           10000,
           42
          ],
          [
           48400,
           46
          ],
          [
           48400,
           53
          ],
          [
           50000,
           36
          ],
          [
           50000,
           37
          ],
          [
           80000,
           34
          ],
          [
           51455.25,
           56
          ],
          [
           24000,
           31
          ],
          [
           17424,
           30
          ],
          [
           219681.79,
           28
          ],
          [
           73180.8,
           26
          ],
          [
           80388,
           26
          ],
          [
           83160,
           26
          ],
          [
           89100,
           26
          ],
          [
           300000,
           26
          ],
          [
           25000,
           30
          ],
          [
           28000,
           39
          ],
          [
           11000,
           30
          ],
          [
           22650,
           30
          ],
          [
           25000,
           29
          ],
          [
           101636.37,
           25
          ],
          [
           117793.5,
           34
          ],
          [
           153912,
           27
          ],
          [
           217119.38,
           23
          ],
          [
           108900,
           54
          ],
          [
           10000,
           33
          ],
          [
           11500,
           31
          ],
          [
           11500,
           31
          ],
          [
           12000,
           30
          ],
          [
           21000,
           27
          ],
          [
           180000,
           38
          ],
          [
           12960,
           30
          ],
          [
           30000,
           33
          ],
          [
           15000,
           30
          ],
          [
           25918.2,
           35
          ],
          [
           119572.2,
           25
          ],
          [
           188669.25,
           34
          ],
          [
           215622,
           23
          ],
          [
           22000,
           52
          ],
          [
           9600,
           30
          ],
          [
           156525.6,
           34
          ],
          [
           111600.72,
           25
          ],
          [
           10562.75,
           45
          ],
          [
           13200,
           30
          ],
          [
           55750,
           31
          ],
          [
           50077.44,
           26
          ],
          [
           48000,
           37
          ],
          [
           37500,
           47
          ],
          [
           14400,
           30
          ],
          [
           14520,
           41
          ],
          [
           425920,
           32
          ],
          [
           20000,
           30
          ],
          [
           20000,
           30
          ],
          [
           20000,
           31
          ],
          [
           20000,
           31
          ],
          [
           20000,
           57
          ],
          [
           20000,
           57
          ],
          [
           25000,
           27
          ],
          [
           21000,
           27
          ],
          [
           11000,
           30
          ],
          [
           24000,
           31
          ],
          [
           29000,
           31
          ],
          [
           25000,
           27
          ],
          [
           40000,
           31
          ],
          [
           16000,
           30
          ],
          [
           40803.84,
           26
          ],
          [
           30000,
           26
          ],
          [
           209251.35,
           25
          ],
          [
           82328.4,
           33
          ],
          [
           30000,
           58
          ],
          [
           18000,
           48
          ],
          [
           20000,
           30
          ],
          [
           20000,
           30
          ],
          [
           52000,
           43
          ],
          [
           20000,
           57
          ],
          [
           55750,
           31
          ],
          [
           180000,
           38
          ],
          [
           48400,
           53
          ],
          [
           48400,
           46
          ],
          [
           50000,
           36
          ],
          [
           50000,
           37
          ],
          [
           43200,
           30
          ],
          [
           70000,
           43
          ],
          [
           509541.65,
           61
          ],
          [
           407060.88,
           62
          ],
          [
           169884,
           24
          ],
          [
           202211.33,
           28
          ],
          [
           209632.5,
           23
          ],
          [
           244952.4,
           71
          ],
          [
           269007.2,
           70
          ],
          [
           628425.6,
           69
          ],
          [
           12000,
           31
          ],
          [
           220000,
           65
          ],
          [
           25206.72,
           68
          ],
          [
           39029.76,
           67
          ],
          [
           46835.71,
           66
          ],
          [
           64795.5,
           35
          ],
          [
           220000,
           65
          ],
          [
           339908.55,
           64
          ],
          [
           341111.97,
           63
          ],
          [
           10000,
           42
          ],
          [
           30000,
           39
          ],
          [
           51455.25,
           56
          ],
          [
           80000,
           34
          ],
          [
           89100,
           26
          ],
          [
           83160,
           26
          ],
          [
           80388,
           26
          ],
          [
           73180.8,
           26
          ],
          [
           50077.44,
           26
          ],
          [
           40803.84,
           26
          ],
          [
           39916.8,
           26
          ],
          [
           30000,
           26
          ],
          [
           20401.92,
           26
          ],
          [
           10000,
           39
          ],
          [
           16632,
           26
          ],
          [
           21780,
           39
          ],
          [
           16632,
           26
          ],
          [
           20401.92,
           26
          ],
          [
           25000,
           29
          ],
          [
           159720,
           28
          ],
          [
           39916.8,
           26
          ],
          [
           13860,
           26
          ],
          [
           20418.75,
           27
          ],
          [
           15000,
           39
          ],
          [
           145955.04,
           22
          ],
          [
           105980.88,
           23
          ],
          [
           102245,
           24
          ],
          [
           79714.8,
           25
          ],
          [
           20000,
           50
          ],
          [
           20000,
           39
          ],
          [
           74250,
           26
          ],
          [
           69300,
           26
          ],
          [
           66990,
           26
          ],
          [
           60984,
           26
          ],
          [
           41731.2,
           26
          ],
          [
           34003.2,
           26
          ],
          [
           33264,
           26
          ],
          [
           25000,
           26
          ],
          [
           17001.6,
           26
          ],
          [
           12000,
           30
          ],
          [
           30000,
           30
          ],
          [
           34848,
           35
          ],
          [
           15000,
           27
          ],
          [
           10000,
           30
          ],
          [
           10000,
           30
          ],
          [
           108900,
           54
          ],
          [
           109771.2,
           33
          ],
          [
           89100,
           26
          ],
          [
           16000,
           30
          ],
          [
           194958.23,
           23
          ],
          [
           221611.5,
           34
          ],
          [
           306680.55,
           27
          ],
          [
           329522.69,
           28
          ],
          [
           73180.8,
           26
          ],
          [
           24000,
           31
          ],
          [
           10000,
           37
          ],
          [
           83160,
           26
          ],
          [
           25000,
           30
          ],
          [
           83700.54,
           25
          ],
          [
           9600,
           30
          ],
          [
           10560,
           30
          ],
          [
           27951,
           34
          ],
          [
           26317.5,
           27
          ],
          [
           11800,
           30
          ],
          [
           12000,
           39
          ],
          [
           12000,
           39
          ],
          [
           18400,
           51
          ],
          [
           11000,
           30
          ],
          [
           28000,
           39
          ],
          [
           52000,
           43
          ],
          [
           18000,
           39
          ],
          [
           22650,
           30
          ],
          [
           30000,
           30
          ],
          [
           13200,
           30
          ],
          [
           10560,
           30
          ],
          [
           20000,
           27
          ],
          [
           13500,
           31
          ],
          [
           50000,
           31
          ],
          [
           50000,
           36
          ],
          [
           20000,
           31
          ],
          [
           20000,
           31
          ],
          [
           20000,
           39
          ],
          [
           24000,
           31
          ],
          [
           24000,
           31
          ],
          [
           12000,
           39
          ],
          [
           29000,
           31
          ],
          [
           12000,
           39
          ],
          [
           12000,
           40
          ],
          [
           40000,
           34
          ],
          [
           55750,
           31
          ],
          [
           60348.96,
           32
          ],
          [
           22650,
           30
          ],
          [
           14520,
           41
          ],
          [
           14520,
           41
          ],
          [
           20000,
           30
          ],
          [
           10000,
           49
          ],
          [
           20000,
           30
          ],
          [
           20401.92,
           26
          ],
          [
           50000,
           37
          ],
          [
           80000,
           34
          ],
          [
           50077.44,
           26
          ],
          [
           25000,
           22
          ],
          [
           37500,
           47
          ],
          [
           43200,
           30
          ],
          [
           51455.25,
           56
          ],
          [
           180000,
           38
          ],
          [
           242000,
           38
          ],
          [
           11500,
           31
          ],
          [
           11500,
           31
          ],
          [
           40803.84,
           26
          ],
          [
           39916.8,
           26
          ],
          [
           30000,
           26
          ],
          [
           17200,
           27
          ],
          [
           16632,
           26
          ],
          [
           105270,
           27
          ],
          [
           34938.75,
           23
          ],
          [
           94743,
           27
          ],
          [
           35000,
           37
          ],
          [
           39916.8,
           26
          ],
          [
           40803.84,
           26
          ],
          [
           50077.44,
           26
          ],
          [
           20000,
           27
          ],
          [
           73180.8,
           26
          ],
          [
           30000,
           26
          ],
          [
           80388,
           26
          ],
          [
           89100,
           26
          ],
          [
           300000,
           26
          ],
          [
           15000,
           49
          ],
          [
           17200,
           27
          ],
          [
           18000,
           48
          ],
          [
           40000,
           33
          ],
          [
           83160,
           26
          ],
          [
           25000,
           30
          ],
          [
           20401.92,
           26
          ],
          [
           16632,
           26
          ],
          [
           109771.2,
           33
          ],
          [
           145200,
           54
          ],
          [
           329522.69,
           28
          ],
          [
           12000,
           30
          ],
          [
           17000,
           30
          ],
          [
           43200,
           30
          ],
          [
           10000,
           42
          ],
          [
           10000,
           30
          ],
          [
           10000,
           30
          ],
          [
           10000,
           39
          ],
          [
           10000,
           39
          ],
          [
           34303.5,
           36
          ],
          [
           34577.93,
           37
          ],
          [
           15000,
           30
          ],
          [
           15000,
           30
          ],
          [
           10000,
           46
          ],
          [
           10000,
           37
          ],
          [
           12000,
           30
          ],
          [
           15000,
           44
          ],
          [
           20000,
           30
          ],
          [
           25000,
           39
          ],
          [
           11000,
           30
          ],
          [
           15000,
           27
          ],
          [
           235224,
           22
          ],
          [
           9000,
           47
          ],
          [
           16000,
           30
          ],
          [
           16000,
           30
          ],
          [
           80388,
           26
          ],
          [
           18000,
           30
          ],
          [
           80681.83,
           37
          ],
          [
           84700,
           38
          ],
          [
           84700,
           38
          ],
          [
           84700,
           38
          ],
          [
           103629.24,
           25
          ],
          [
           20000,
           50
          ],
          [
           51122.5,
           24
          ],
          [
           15000,
           30
          ],
          [
           14400,
           46
          ],
          [
           15000,
           39
          ],
          [
           18000,
           33
          ],
          [
           20000,
           27
          ],
          [
           20000,
           39
          ],
          [
           21780,
           39
          ],
          [
           25000,
           30
          ],
          [
           111804,
           34
          ],
          [
           111804,
           23
          ],
          [
           7260,
           30
          ],
          [
           8800,
           30
          ],
          [
           9000,
           50
          ],
          [
           10000,
           30
          ],
          [
           10000,
           39
          ],
          [
           10000,
           30
          ],
          [
           12000,
           31
          ],
          [
           14400,
           30
          ],
          [
           242000,
           38
          ],
          [
           20000,
           39
          ],
          [
           83700.54,
           25
          ],
          [
           15000,
           31
          ],
          [
           149428.22,
           28
          ],
          [
           12960,
           30
          ],
          [
           12000,
           31
          ],
          [
           12000,
           31
          ],
          [
           10562.75,
           45
          ],
          [
           10560,
           30
          ],
          [
           10000,
           46
          ],
          [
           10000,
           30
          ],
          [
           10000,
           30
          ],
          [
           9000,
           47
          ],
          [
           12000,
           39
          ],
          [
           12000,
           39
          ],
          [
           180000,
           38
          ],
          [
           10560,
           30
          ],
          [
           15000,
           31
          ],
          [
           15000,
           27
          ],
          [
           96558.4,
           32
          ],
          [
           15000,
           30
          ],
          [
           45302.4,
           35
          ],
          [
           15000,
           39
          ],
          [
           67757.57,
           25
          ],
          [
           25000,
           30
          ],
          [
           10000,
           33
          ],
          [
           12000,
           30
          ],
          [
           15000,
           44
          ],
          [
           18000,
           48
          ],
          [
           48400,
           46
          ],
          [
           48400,
           53
          ],
          [
           48400,
           46
          ],
          [
           48400,
           53
          ],
          [
           10000,
           42
          ],
          [
           18000,
           31
          ],
          [
           12960,
           30
          ],
          [
           15000,
           30
          ],
          [
           18400,
           51
          ],
          [
           10000,
           42
          ],
          [
           10562.75,
           45
          ],
          [
           15000,
           49
          ],
          [
           15000,
           49
          ],
          [
           14400,
           30
          ],
          [
           12000,
           39
          ],
          [
           52690.18,
           37
          ],
          [
           53513.46,
           36
          ],
          [
           12000,
           39
          ],
          [
           12000,
           30
          ],
          [
           11500,
           31
          ],
          [
           8800,
           30
          ],
          [
           11500,
           31
          ],
          [
           10000,
           30
          ],
          [
           10000,
           49
          ],
          [
           10000,
           40
          ],
          [
           55750,
           31
          ],
          [
           15000,
           27
          ],
          [
           121992,
           47
          ],
          [
           17200,
           27
          ],
          [
           21780,
           39
          ],
          [
           37500,
           47
          ],
          [
           35000,
           37
          ],
          [
           48000,
           37
          ],
          [
           180000,
           38
          ],
          [
           28000,
           39
          ],
          [
           7260,
           30
          ],
          [
           242000,
           38
          ],
          [
           10560,
           30
          ],
          [
           28000,
           39
          ],
          [
           22000,
           52
          ],
          [
           52000,
           43
          ],
          [
           52000,
           43
          ],
          [
           15000,
           39
          ],
          [
           14520,
           41
          ],
          [
           20000,
           39
          ],
          [
           22000,
           52
          ],
          [
           15000,
           30
          ],
          [
           13500,
           31
          ],
          [
           12960,
           30
          ],
          [
           10000,
           30
          ],
          [
           10000,
           30
          ],
          [
           10000,
           39
          ],
          [
           10000,
           37
          ],
          [
           10000,
           33
          ],
          [
           10000,
           39
          ],
          [
           12000,
           30
          ],
          [
           14400,
           46
          ],
          [
           14400,
           30
          ],
          [
           14400,
           30
          ],
          [
           15000,
           44
          ],
          [
           10000,
           30
          ],
          [
           18000,
           48
          ],
          [
           20000,
           27
          ],
          [
           25000,
           39
          ],
          [
           11800,
           30
          ],
          [
           9000,
           47
          ],
          [
           14400,
           30
          ],
          [
           14400,
           46
          ],
          [
           21780,
           39
          ],
          [
           15000,
           30
          ],
          [
           25000,
           30
          ],
          [
           23232,
           35
          ],
          [
           7260,
           30
          ],
          [
           10000,
           30
          ],
          [
           11000,
           30
          ],
          [
           18400,
           51
          ],
          [
           49265.27,
           46
          ],
          [
           12960,
           30
          ],
          [
           12000,
           30
          ],
          [
           12000,
           30
          ],
          [
           10000,
           42
          ],
          [
           7260,
           30
          ],
          [
           25000,
           39
          ],
          [
           20000,
           30
          ],
          [
           10560,
           30
          ],
          [
           9000,
           50
          ],
          [
           10000,
           49
          ],
          [
           101636.37,
           25
          ],
          [
           102638.25,
           27
          ],
          [
           261499.39,
           28
          ],
          [
           153367.5,
           24
          ],
          [
           25000,
           39
          ],
          [
           246985.2,
           22
          ],
          [
           17000,
           30
          ],
          [
           50000,
           36
          ],
          [
           50000,
           37
          ],
          [
           141134.4,
           22
          ],
          [
           168106.75,
           28
          ],
          [
           111600.72,
           25
          ],
          [
           51110.4,
           35
          ],
          [
           48000,
           37
          ],
          [
           12000,
           30
          ],
          [
           305283,
           27
          ],
          [
           14400,
           30
          ],
          [
           14400,
           46
          ],
          [
           51455.25,
           56
          ],
          [
           12000,
           50
          ],
          [
           11000,
           30
          ],
          [
           16000,
           30
          ],
          [
           18400,
           51
          ],
          [
           30000,
           30
          ],
          [
           13200,
           30
          ],
          [
           52000,
           43
          ],
          [
           48400.97,
           53
          ],
          [
           12000,
           39
          ],
          [
           12000,
           31
          ],
          [
           9600,
           30
          ],
          [
           15000,
           27
          ],
          [
           22650,
           30
          ],
          [
           28000,
           39
          ],
          [
           35000,
           37
          ],
          [
           10000,
           39
          ],
          [
           12000,
           39
          ],
          [
           10000,
           42
          ],
          [
           20000,
           30
          ],
          [
           8800,
           30
          ],
          [
           16000,
           30
          ],
          [
           13200,
           30
          ],
          [
           12000,
           39
          ],
          [
           12000,
           39
          ],
          [
           11000,
           30
          ],
          [
           10000,
           42
          ],
          [
           9600,
           30
          ],
          [
           15000,
           30
          ],
          [
           28000,
           39
          ],
          [
           168106.75,
           28
          ],
          [
           188760,
           54
          ],
          [
           204490,
           54
          ],
          [
           211701.6,
           22
          ],
          [
           235950,
           54
          ],
          [
           141134.4,
           22
          ],
          [
           22000,
           52
          ],
          [
           140088.96,
           28
          ],
          [
           30000,
           30
          ],
          [
           10562.75,
           45
          ],
          [
           30000,
           26
          ],
          [
           20401.92,
           26
          ],
          [
           17200,
           27
          ],
          [
           16632,
           26
          ],
          [
           11000,
           30
          ],
          [
           40000,
           33
          ],
          [
           12000,
           31
          ],
          [
           18000,
           30
          ],
          [
           22650,
           30
          ],
          [
           9000,
           47
          ],
          [
           10000,
           46
          ],
          [
           12000,
           31
          ],
          [
           15000,
           27
          ],
          [
           15000,
           49
          ],
          [
           12000,
           31
          ],
          [
           199650,
           23
          ],
          [
           39916.8,
           26
          ],
          [
           55750,
           31
          ],
          [
           52000,
           43
          ],
          [
           8800,
           30
          ],
          [
           10000,
           49
          ],
          [
           10000,
           30
          ],
          [
           10000,
           42
          ],
          [
           12000,
           31
          ],
          [
           10000,
           42
          ],
          [
           306735,
           24
          ],
          [
           15000,
           44
          ],
          [
           20000,
           30
          ],
          [
           63162,
           27
          ],
          [
           102245,
           24
          ],
          [
           96558.4,
           32
          ],
          [
           12000,
           30
          ],
          [
           20000,
           27
          ],
          [
           167401.08,
           25
          ],
          [
           14520,
           41
          ],
          [
           18400,
           51
          ],
          [
           48000,
           37
          ],
          [
           15000,
           39
          ],
          [
           94743,
           27
          ],
          [
           101636.37,
           25
          ],
          [
           276061.5,
           24
          ],
          [
           17000,
           30
          ],
          [
           73689,
           27
          ],
          [
           119572.2,
           25
          ],
          [
           128955.75,
           27
          ],
          [
           146742.75,
           23
          ],
          [
           159720,
           34
          ],
          [
           49265.27,
           53
          ],
          [
           47371.5,
           27
          ],
          [
           83700.54,
           25
          ],
          [
           92020.5,
           24
          ],
          [
           10000,
           37
          ],
          [
           22650,
           30
          ],
          [
           20000,
           27
          ],
          [
           40803.84,
           26
          ],
          [
           50077.44,
           26
          ],
          [
           12000,
           30
          ],
          [
           73180.8,
           26
          ],
          [
           80388,
           26
          ],
          [
           83160,
           26
          ],
          [
           89100,
           26
          ],
          [
           15000,
           44
          ],
          [
           15000,
           39
          ],
          [
           7260,
           30
          ],
          [
           10000,
           30
          ],
          [
           10000,
           30
          ],
          [
           11000,
           30
          ],
          [
           11500,
           31
          ],
          [
           20000,
           30
          ],
          [
           17200,
           27
          ],
          [
           156907.36,
           32
          ],
          [
           15000,
           31
          ],
          [
           20000,
           39
          ],
          [
           11500,
           31
          ],
          [
           21780,
           39
          ],
          [
           40803.84,
           26
          ],
          [
           10000,
           30
          ],
          [
           15000,
           39
          ],
          [
           17000,
           30
          ],
          [
           18000,
           31
          ],
          [
           9600,
           30
          ],
          [
           13200,
           30
          ],
          [
           14520,
           41
          ],
          [
           16000,
           30
          ],
          [
           30000,
           30
          ],
          [
           10000,
           37
          ],
          [
           16632,
           26
          ],
          [
           20000,
           27
          ],
          [
           20401.92,
           26
          ],
          [
           30000,
           26
          ],
          [
           39916.8,
           26
          ],
          [
           50077.44,
           26
          ],
          [
           11800,
           30
          ],
          [
           13500,
           31
          ],
          [
           25000,
           30
          ],
          [
           12000,
           31
          ],
          [
           12000,
           30
          ],
          [
           14400,
           30
          ],
          [
           15000,
           31
          ],
          [
           15000,
           31
          ],
          [
           18000,
           31
          ],
          [
           18000,
           48
          ],
          [
           9000,
           50
          ],
          [
           89100,
           26
          ],
          [
           83160,
           26
          ],
          [
           37500,
           47
          ],
          [
           80388,
           26
          ],
          [
           73180.8,
           26
          ],
          [
           9000,
           50
          ],
          [
           12000,
           50
          ],
          [
           12000,
           31
          ],
          [
           10000,
           33
          ],
          [
           10000,
           37
          ],
          [
           10000,
           49
          ],
          [
           50000,
           31
          ],
          [
           10000,
           30
          ],
          [
           10000,
           39
          ],
          [
           13500,
           31
          ],
          [
           14400,
           46
          ],
          [
           14400,
           30
          ],
          [
           25000,
           39
          ],
          [
           48400.97,
           46
          ],
          [
           15000,
           31
          ],
          [
           25000,
           30
          ],
          [
           50000,
           31
          ],
          [
           55750,
           31
          ],
          [
           15000,
           30
          ],
          [
           12000,
           50
          ],
          [
           20691,
           55
          ],
          [
           30492,
           55
          ],
          [
           15000,
           49
          ],
          [
           10000,
           40
          ],
          [
           17000,
           30
          ],
          [
           12000,
           30
          ],
          [
           83160,
           26
          ],
          [
           89100,
           26
          ],
          [
           10000,
           33
          ],
          [
           11500,
           31
          ],
          [
           8800,
           30
          ],
          [
           9000,
           50
          ],
          [
           80388,
           26
          ],
          [
           12000,
           50
          ],
          [
           17000,
           30
          ],
          [
           79714.8,
           25
          ],
          [
           198198,
           24
          ],
          [
           199650,
           23
          ],
          [
           11500,
           31
          ],
          [
           11000,
           30
          ],
          [
           15000,
           44
          ],
          [
           73180.8,
           26
          ],
          [
           50077.44,
           26
          ],
          [
           40803.84,
           26
          ],
          [
           14400,
           46
          ],
          [
           14400,
           30
          ],
          [
           10000,
           30
          ],
          [
           16632,
           26
          ],
          [
           20000,
           30
          ],
          [
           20000,
           30
          ],
          [
           20000,
           31
          ],
          [
           20000,
           31
          ],
          [
           10000,
           30
          ],
          [
           20401.92,
           26
          ],
          [
           24000,
           31
          ],
          [
           25000,
           39
          ],
          [
           29000,
           31
          ],
          [
           30000,
           26
          ],
          [
           39916.8,
           26
          ],
          [
           10000,
           30
          ],
          [
           11800,
           30
          ],
          [
           15000,
           49
          ],
          [
           18000,
           39
          ],
          [
           10000,
           40
          ],
          [
           10000,
           30
          ],
          [
           11000,
           30
          ],
          [
           10000,
           46
          ],
          [
           10000,
           40
          ],
          [
           18000,
           30
          ],
          [
           10000,
           42
          ],
          [
           18400,
           51
          ],
          [
           180000,
           38
          ],
          [
           121992,
           47
          ],
          [
           55750,
           31
          ],
          [
           28000,
           39
          ],
          [
           48000,
           37
          ],
          [
           52000,
           43
          ],
          [
           229326.24,
           32
          ],
          [
           12000,
           30
          ],
          [
           12000,
           31
          ],
          [
           14400,
           30
          ],
          [
           245968.8,
           34
          ],
          [
           223698.75,
           27
          ],
          [
           25000,
           30
          ],
          [
           105622.11,
           25
          ],
          [
           9000,
           50
          ],
          [
           141134.4,
           22
          ],
          [
           209211.9,
           28
          ],
          [
           20000,
           30
          ],
          [
           15000,
           27
          ],
          [
           9000,
           47
          ],
          [
           10000,
           49
          ],
          [
           10560,
           30
          ],
          [
           14520,
           41
          ],
          [
           12000,
           39
          ],
          [
           12000,
           39
          ],
          [
           18000,
           48
          ],
          [
           10000,
           39
          ],
          [
           10000,
           30
          ],
          [
           10000,
           30
          ],
          [
           48400,
           53
          ],
          [
           7260,
           30
          ],
          [
           9600,
           30
          ],
          [
           10000,
           33
          ],
          [
           40803.84,
           26
          ],
          [
           12000,
           30
          ],
          [
           48400,
           46
          ],
          [
           13200,
           30
          ],
          [
           20000,
           30
          ],
          [
           30000,
           30
          ],
          [
           39916.8,
           26
          ],
          [
           37500,
           47
          ],
          [
           21780,
           39
          ],
          [
           20401.92,
           26
          ],
          [
           16000,
           30
          ],
          [
           22000,
           52
          ],
          [
           50077.44,
           26
          ],
          [
           22650,
           30
          ],
          [
           110533.5,
           27
          ],
          [
           209632.5,
           23
          ],
          [
           212355,
           24
          ],
          [
           39916.8,
           26
          ],
          [
           25000,
           22
          ],
          [
           51455.25,
           56
          ],
          [
           73180.8,
           26
          ],
          [
           135907.2,
           22
          ],
          [
           153679.68,
           33
          ],
          [
           52000,
           43
          ],
          [
           30000,
           26
          ],
          [
           313817.86,
           28
          ],
          [
           50077.44,
           26
          ],
          [
           73180.8,
           26
          ],
          [
           15000,
           39
          ],
          [
           20000,
           39
          ],
          [
           80388,
           26
          ],
          [
           16632,
           26
          ],
          [
           83160,
           26
          ],
          [
           17200,
           27
          ],
          [
           20000,
           39
          ],
          [
           89100,
           26
          ],
          [
           21780,
           39
          ],
          [
           12000,
           39
          ],
          [
           12000,
           39
          ],
          [
           43200,
           30
          ],
          [
           180000,
           38
          ],
          [
           11800,
           30
          ],
          [
           10000,
           42
          ],
          [
           10000,
           46
          ],
          [
           10000,
           30
          ],
          [
           10000,
           30
          ],
          [
           25000,
           30
          ],
          [
           25000,
           30
          ],
          [
           15000,
           30
          ],
          [
           12000,
           31
          ],
          [
           15000,
           39
          ],
          [
           15000,
           30
          ],
          [
           48000,
           37
          ],
          [
           30000,
           26
          ],
          [
           20401.92,
           26
          ],
          [
           10000,
           33
          ],
          [
           10562.75,
           45
          ],
          [
           11500,
           31
          ],
          [
           11500,
           31
          ],
          [
           12000,
           30
          ],
          [
           12000,
           30
          ],
          [
           12960,
           30
          ],
          [
           15000,
           39
          ],
          [
           16000,
           30
          ],
          [
           12000,
           50
          ],
          [
           14400,
           30
          ],
          [
           15000,
           27
          ],
          [
           15000,
           30
          ],
          [
           37500,
           47
          ],
          [
           12000,
           30
          ],
          [
           25000,
           39
          ],
          [
           10000,
           33
          ],
          [
           11800,
           30
          ],
          [
           11500,
           31
          ],
          [
           15000,
           49
          ],
          [
           10562.75,
           45
          ],
          [
           42398.4,
           35
          ],
          [
           11500,
           31
          ],
          [
           48000,
           37
          ],
          [
           10000,
           49
          ],
          [
           83700.54,
           25
          ],
          [
           9000,
           50
          ],
          [
           121000,
           38
          ],
          [
           141134.4,
           22
          ],
          [
           160052.75,
           34
          ],
          [
           48400,
           53
          ],
          [
           12000,
           31
          ],
          [
           12000,
           31
          ],
          [
           13500,
           31
          ],
          [
           11500,
           31
          ],
          [
           11500,
           31
          ],
          [
           15000,
           39
          ],
          [
           22000,
           52
          ],
          [
           48400,
           46
          ],
          [
           15000,
           39
          ],
          [
           93392.64,
           28
          ],
          [
           18000,
           31
          ],
          [
           18000,
           31
          ],
          [
           18000,
           48
          ],
          [
           15000,
           44
          ],
          [
           15000,
           31
          ],
          [
           15000,
           31
          ],
          [
           15000,
           31
          ],
          [
           15000,
           31
          ],
          [
           205276.5,
           24
          ],
          [
           10000,
           42
          ],
          [
           12000,
           30
          ],
          [
           12000,
           30
          ],
          [
           180000,
           38
          ],
          [
           242000,
           38
          ],
          [
           9000,
           47
          ],
          [
           102453.12,
           33
          ],
          [
           10000,
           30
          ],
          [
           10000,
           30
          ],
          [
           49397.04,
           36
          ],
          [
           39105.99,
           37
          ],
          [
           12000,
           31
          ],
          [
           12000,
           31
          ],
          [
           15000,
           39
          ],
          [
           18000,
           30
          ],
          [
           20000,
           39
          ],
          [
           37500,
           47
          ],
          [
           14400,
           30
          ],
          [
           89100,
           26
          ],
          [
           10562.75,
           45
          ],
          [
           83160,
           26
          ],
          [
           73180.8,
           26
          ],
          [
           15000,
           30
          ],
          [
           16632,
           26
          ],
          [
           17000,
           30
          ],
          [
           17200,
           27
          ],
          [
           20401.92,
           26
          ],
          [
           30000,
           26
          ],
          [
           37500,
           47
          ],
          [
           39916.8,
           26
          ],
          [
           18000,
           48
          ],
          [
           40020.75,
           56
          ],
          [
           40803.84,
           26
          ],
          [
           50077.44,
           26
          ],
          [
           55750,
           31
          ],
          [
           25000,
           30
          ],
          [
           50000,
           31
          ],
          [
           80388,
           26
          ],
          [
           10000,
           46
          ],
          [
           12000,
           50
          ],
          [
           51455.25,
           56
          ],
          [
           9600,
           30
          ],
          [
           20000,
           31
          ],
          [
           50000,
           37
          ],
          [
           96558.4,
           32
          ],
          [
           14400,
           30
          ],
          [
           14400,
           46
          ],
          [
           13500,
           31
          ],
          [
           10000,
           30
          ],
          [
           10000,
           46
          ],
          [
           11800,
           30
          ],
          [
           12000,
           31
          ],
          [
           29000,
           31
          ],
          [
           10000,
           33
          ],
          [
           15000,
           30
          ],
          [
           24000,
           31
          ],
          [
           20000,
           30
          ],
          [
           20000,
           30
          ],
          [
           8800,
           30
          ],
          [
           12000,
           40
          ],
          [
           17200,
           27
          ],
          [
           13200,
           30
          ],
          [
           50000,
           36
          ],
          [
           40000,
           33
          ],
          [
           35000,
           37
          ],
          [
           25000,
           30
          ],
          [
           16000,
           30
          ],
          [
           14520,
           41
          ],
          [
           12960,
           30
          ],
          [
           8800,
           30
          ],
          [
           10000,
           30
          ],
          [
           10000,
           39
          ],
          [
           18000,
           39
          ],
          [
           50000,
           31
          ],
          [
           10000,
           40
          ],
          [
           22650,
           30
          ],
          [
           43200,
           30
          ],
          [
           18000,
           39
          ],
          [
           30000,
           30
          ],
          [
           20000,
           31
          ],
          [
           22650,
           30
          ],
          [
           10000,
           42
          ],
          [
           11000,
           30
          ]
         ],
         "hovertemplate": "Cluster=%{x}<br>Importe=%{customdata[0]}<br>Num_Medio=%{customdata[1]}<extra></extra>",
         "legendgroup": "Cluster 1",
         "marker": {
          "color": "#EF553B"
         },
         "name": "Cluster 1",
         "notched": true,
         "offsetgroup": "Cluster 1",
         "showlegend": false,
         "type": "box",
         "x": [
          "Cluster 1",
          "Cluster 1",
          "Cluster 1",
          "Cluster 1",
          "Cluster 1",
          "Cluster 1",
          "Cluster 1",
          "Cluster 1",
          "Cluster 1",
          "Cluster 1",
          "Cluster 1",
          "Cluster 1",
          "Cluster 1",
          "Cluster 1",
          "Cluster 1",
          "Cluster 1",
          "Cluster 1",
          "Cluster 1",
          "Cluster 1",
          "Cluster 1",
          "Cluster 1",
          "Cluster 1",
          "Cluster 1",
          "Cluster 1",
          "Cluster 1",
          "Cluster 1",
          "Cluster 1",
          "Cluster 1",
          "Cluster 1",
          "Cluster 1",
          "Cluster 1",
          "Cluster 1",
          "Cluster 1",
          "Cluster 1",
          "Cluster 1",
          "Cluster 1",
          "Cluster 1",
          "Cluster 1",
          "Cluster 1",
          "Cluster 1",
          "Cluster 1",
          "Cluster 1",
          "Cluster 1",
          "Cluster 1",
          "Cluster 1",
          "Cluster 1",
          "Cluster 1",
          "Cluster 1",
          "Cluster 1",
          "Cluster 1",
          "Cluster 1",
          "Cluster 1",
          "Cluster 1",
          "Cluster 1",
          "Cluster 1",
          "Cluster 1",
          "Cluster 1",
          "Cluster 1",
          "Cluster 1",
          "Cluster 1",
          "Cluster 1",
          "Cluster 1",
          "Cluster 1",
          "Cluster 1",
          "Cluster 1",
          "Cluster 1",
          "Cluster 1",
          "Cluster 1",
          "Cluster 1",
          "Cluster 1",
          "Cluster 1",
          "Cluster 1",
          "Cluster 1",
          "Cluster 1",
          "Cluster 1",
          "Cluster 1",
          "Cluster 1",
          "Cluster 1",
          "Cluster 1",
          "Cluster 1",
          "Cluster 1",
          "Cluster 1",
          "Cluster 1",
          "Cluster 1",
          "Cluster 1",
          "Cluster 1",
          "Cluster 1",
          "Cluster 1",
          "Cluster 1",
          "Cluster 1",
          "Cluster 1",
          "Cluster 1",
          "Cluster 1",
          "Cluster 1",
          "Cluster 1",
          "Cluster 1",
          "Cluster 1",
          "Cluster 1",
          "Cluster 1",
          "Cluster 1",
          "Cluster 1",
          "Cluster 1",
          "Cluster 1",
          "Cluster 1",
          "Cluster 1",
          "Cluster 1",
          "Cluster 1",
          "Cluster 1",
          "Cluster 1",
          "Cluster 1",
          "Cluster 1",
          "Cluster 1",
          "Cluster 1",
          "Cluster 1",
          "Cluster 1",
          "Cluster 1",
          "Cluster 1",
          "Cluster 1",
          "Cluster 1",
          "Cluster 1",
          "Cluster 1",
          "Cluster 1",
          "Cluster 1",
          "Cluster 1",
          "Cluster 1",
          "Cluster 1",
          "Cluster 1",
          "Cluster 1",
          "Cluster 1",
          "Cluster 1",
          "Cluster 1",
          "Cluster 1",
          "Cluster 1",
          "Cluster 1",
          "Cluster 1",
          "Cluster 1",
          "Cluster 1",
          "Cluster 1",
          "Cluster 1",
          "Cluster 1",
          "Cluster 1",
          "Cluster 1",
          "Cluster 1",
          "Cluster 1",
          "Cluster 1",
          "Cluster 1",
          "Cluster 1",
          "Cluster 1",
          "Cluster 1",
          "Cluster 1",
          "Cluster 1",
          "Cluster 1",
          "Cluster 1",
          "Cluster 1",
          "Cluster 1",
          "Cluster 1",
          "Cluster 1",
          "Cluster 1",
          "Cluster 1",
          "Cluster 1",
          "Cluster 1",
          "Cluster 1",
          "Cluster 1",
          "Cluster 1",
          "Cluster 1",
          "Cluster 1",
          "Cluster 1",
          "Cluster 1",
          "Cluster 1",
          "Cluster 1",
          "Cluster 1",
          "Cluster 1",
          "Cluster 1",
          "Cluster 1",
          "Cluster 1",
          "Cluster 1",
          "Cluster 1",
          "Cluster 1",
          "Cluster 1",
          "Cluster 1",
          "Cluster 1",
          "Cluster 1",
          "Cluster 1",
          "Cluster 1",
          "Cluster 1",
          "Cluster 1",
          "Cluster 1",
          "Cluster 1",
          "Cluster 1",
          "Cluster 1",
          "Cluster 1",
          "Cluster 1",
          "Cluster 1",
          "Cluster 1",
          "Cluster 1",
          "Cluster 1",
          "Cluster 1",
          "Cluster 1",
          "Cluster 1",
          "Cluster 1",
          "Cluster 1",
          "Cluster 1",
          "Cluster 1",
          "Cluster 1",
          "Cluster 1",
          "Cluster 1",
          "Cluster 1",
          "Cluster 1",
          "Cluster 1",
          "Cluster 1",
          "Cluster 1",
          "Cluster 1",
          "Cluster 1",
          "Cluster 1",
          "Cluster 1",
          "Cluster 1",
          "Cluster 1",
          "Cluster 1",
          "Cluster 1",
          "Cluster 1",
          "Cluster 1",
          "Cluster 1",
          "Cluster 1",
          "Cluster 1",
          "Cluster 1",
          "Cluster 1",
          "Cluster 1",
          "Cluster 1",
          "Cluster 1",
          "Cluster 1",
          "Cluster 1",
          "Cluster 1",
          "Cluster 1",
          "Cluster 1",
          "Cluster 1",
          "Cluster 1",
          "Cluster 1",
          "Cluster 1",
          "Cluster 1",
          "Cluster 1",
          "Cluster 1",
          "Cluster 1",
          "Cluster 1",
          "Cluster 1",
          "Cluster 1",
          "Cluster 1",
          "Cluster 1",
          "Cluster 1",
          "Cluster 1",
          "Cluster 1",
          "Cluster 1",
          "Cluster 1",
          "Cluster 1",
          "Cluster 1",
          "Cluster 1",
          "Cluster 1",
          "Cluster 1",
          "Cluster 1",
          "Cluster 1",
          "Cluster 1",
          "Cluster 1",
          "Cluster 1",
          "Cluster 1",
          "Cluster 1",
          "Cluster 1",
          "Cluster 1",
          "Cluster 1",
          "Cluster 1",
          "Cluster 1",
          "Cluster 1",
          "Cluster 1",
          "Cluster 1",
          "Cluster 1",
          "Cluster 1",
          "Cluster 1",
          "Cluster 1",
          "Cluster 1",
          "Cluster 1",
          "Cluster 1",
          "Cluster 1",
          "Cluster 1",
          "Cluster 1",
          "Cluster 1",
          "Cluster 1",
          "Cluster 1",
          "Cluster 1",
          "Cluster 1",
          "Cluster 1",
          "Cluster 1",
          "Cluster 1",
          "Cluster 1",
          "Cluster 1",
          "Cluster 1",
          "Cluster 1",
          "Cluster 1",
          "Cluster 1",
          "Cluster 1",
          "Cluster 1",
          "Cluster 1",
          "Cluster 1",
          "Cluster 1",
          "Cluster 1",
          "Cluster 1",
          "Cluster 1",
          "Cluster 1",
          "Cluster 1",
          "Cluster 1",
          "Cluster 1",
          "Cluster 1",
          "Cluster 1",
          "Cluster 1",
          "Cluster 1",
          "Cluster 1",
          "Cluster 1",
          "Cluster 1",
          "Cluster 1",
          "Cluster 1",
          "Cluster 1",
          "Cluster 1",
          "Cluster 1",
          "Cluster 1",
          "Cluster 1",
          "Cluster 1",
          "Cluster 1",
          "Cluster 1",
          "Cluster 1",
          "Cluster 1",
          "Cluster 1",
          "Cluster 1",
          "Cluster 1",
          "Cluster 1",
          "Cluster 1",
          "Cluster 1",
          "Cluster 1",
          "Cluster 1",
          "Cluster 1",
          "Cluster 1",
          "Cluster 1",
          "Cluster 1",
          "Cluster 1",
          "Cluster 1",
          "Cluster 1",
          "Cluster 1",
          "Cluster 1",
          "Cluster 1",
          "Cluster 1",
          "Cluster 1",
          "Cluster 1",
          "Cluster 1",
          "Cluster 1",
          "Cluster 1",
          "Cluster 1",
          "Cluster 1",
          "Cluster 1",
          "Cluster 1",
          "Cluster 1",
          "Cluster 1",
          "Cluster 1",
          "Cluster 1",
          "Cluster 1",
          "Cluster 1",
          "Cluster 1",
          "Cluster 1",
          "Cluster 1",
          "Cluster 1",
          "Cluster 1",
          "Cluster 1",
          "Cluster 1",
          "Cluster 1",
          "Cluster 1",
          "Cluster 1",
          "Cluster 1",
          "Cluster 1",
          "Cluster 1",
          "Cluster 1",
          "Cluster 1",
          "Cluster 1",
          "Cluster 1",
          "Cluster 1",
          "Cluster 1",
          "Cluster 1",
          "Cluster 1",
          "Cluster 1",
          "Cluster 1",
          "Cluster 1",
          "Cluster 1",
          "Cluster 1",
          "Cluster 1",
          "Cluster 1",
          "Cluster 1",
          "Cluster 1",
          "Cluster 1",
          "Cluster 1",
          "Cluster 1",
          "Cluster 1",
          "Cluster 1",
          "Cluster 1",
          "Cluster 1",
          "Cluster 1",
          "Cluster 1",
          "Cluster 1",
          "Cluster 1",
          "Cluster 1",
          "Cluster 1",
          "Cluster 1",
          "Cluster 1",
          "Cluster 1",
          "Cluster 1",
          "Cluster 1",
          "Cluster 1",
          "Cluster 1",
          "Cluster 1",
          "Cluster 1",
          "Cluster 1",
          "Cluster 1",
          "Cluster 1",
          "Cluster 1",
          "Cluster 1",
          "Cluster 1",
          "Cluster 1",
          "Cluster 1",
          "Cluster 1",
          "Cluster 1",
          "Cluster 1",
          "Cluster 1",
          "Cluster 1",
          "Cluster 1",
          "Cluster 1",
          "Cluster 1",
          "Cluster 1",
          "Cluster 1",
          "Cluster 1",
          "Cluster 1",
          "Cluster 1",
          "Cluster 1",
          "Cluster 1",
          "Cluster 1",
          "Cluster 1",
          "Cluster 1",
          "Cluster 1",
          "Cluster 1",
          "Cluster 1",
          "Cluster 1",
          "Cluster 1",
          "Cluster 1",
          "Cluster 1",
          "Cluster 1",
          "Cluster 1",
          "Cluster 1",
          "Cluster 1",
          "Cluster 1",
          "Cluster 1",
          "Cluster 1",
          "Cluster 1",
          "Cluster 1",
          "Cluster 1",
          "Cluster 1",
          "Cluster 1",
          "Cluster 1",
          "Cluster 1",
          "Cluster 1",
          "Cluster 1",
          "Cluster 1",
          "Cluster 1",
          "Cluster 1",
          "Cluster 1",
          "Cluster 1",
          "Cluster 1",
          "Cluster 1",
          "Cluster 1",
          "Cluster 1",
          "Cluster 1",
          "Cluster 1",
          "Cluster 1",
          "Cluster 1",
          "Cluster 1",
          "Cluster 1",
          "Cluster 1",
          "Cluster 1",
          "Cluster 1",
          "Cluster 1",
          "Cluster 1",
          "Cluster 1",
          "Cluster 1",
          "Cluster 1",
          "Cluster 1",
          "Cluster 1",
          "Cluster 1",
          "Cluster 1",
          "Cluster 1",
          "Cluster 1",
          "Cluster 1",
          "Cluster 1",
          "Cluster 1",
          "Cluster 1",
          "Cluster 1",
          "Cluster 1",
          "Cluster 1",
          "Cluster 1",
          "Cluster 1",
          "Cluster 1",
          "Cluster 1",
          "Cluster 1",
          "Cluster 1",
          "Cluster 1",
          "Cluster 1",
          "Cluster 1",
          "Cluster 1",
          "Cluster 1",
          "Cluster 1",
          "Cluster 1",
          "Cluster 1",
          "Cluster 1",
          "Cluster 1",
          "Cluster 1",
          "Cluster 1",
          "Cluster 1",
          "Cluster 1",
          "Cluster 1",
          "Cluster 1",
          "Cluster 1",
          "Cluster 1",
          "Cluster 1",
          "Cluster 1",
          "Cluster 1",
          "Cluster 1",
          "Cluster 1",
          "Cluster 1",
          "Cluster 1",
          "Cluster 1",
          "Cluster 1",
          "Cluster 1",
          "Cluster 1",
          "Cluster 1",
          "Cluster 1",
          "Cluster 1",
          "Cluster 1",
          "Cluster 1",
          "Cluster 1",
          "Cluster 1",
          "Cluster 1",
          "Cluster 1",
          "Cluster 1",
          "Cluster 1",
          "Cluster 1",
          "Cluster 1",
          "Cluster 1",
          "Cluster 1",
          "Cluster 1",
          "Cluster 1",
          "Cluster 1",
          "Cluster 1",
          "Cluster 1",
          "Cluster 1",
          "Cluster 1",
          "Cluster 1",
          "Cluster 1",
          "Cluster 1",
          "Cluster 1",
          "Cluster 1",
          "Cluster 1",
          "Cluster 1",
          "Cluster 1",
          "Cluster 1",
          "Cluster 1",
          "Cluster 1",
          "Cluster 1",
          "Cluster 1",
          "Cluster 1",
          "Cluster 1",
          "Cluster 1",
          "Cluster 1",
          "Cluster 1",
          "Cluster 1",
          "Cluster 1",
          "Cluster 1",
          "Cluster 1",
          "Cluster 1",
          "Cluster 1",
          "Cluster 1",
          "Cluster 1",
          "Cluster 1",
          "Cluster 1",
          "Cluster 1",
          "Cluster 1",
          "Cluster 1",
          "Cluster 1",
          "Cluster 1",
          "Cluster 1",
          "Cluster 1",
          "Cluster 1",
          "Cluster 1",
          "Cluster 1",
          "Cluster 1",
          "Cluster 1",
          "Cluster 1",
          "Cluster 1",
          "Cluster 1",
          "Cluster 1",
          "Cluster 1",
          "Cluster 1",
          "Cluster 1",
          "Cluster 1",
          "Cluster 1",
          "Cluster 1",
          "Cluster 1",
          "Cluster 1",
          "Cluster 1",
          "Cluster 1",
          "Cluster 1",
          "Cluster 1",
          "Cluster 1",
          "Cluster 1",
          "Cluster 1",
          "Cluster 1",
          "Cluster 1",
          "Cluster 1",
          "Cluster 1",
          "Cluster 1",
          "Cluster 1",
          "Cluster 1",
          "Cluster 1",
          "Cluster 1",
          "Cluster 1",
          "Cluster 1",
          "Cluster 1",
          "Cluster 1",
          "Cluster 1",
          "Cluster 1",
          "Cluster 1",
          "Cluster 1",
          "Cluster 1",
          "Cluster 1",
          "Cluster 1",
          "Cluster 1",
          "Cluster 1",
          "Cluster 1",
          "Cluster 1",
          "Cluster 1",
          "Cluster 1",
          "Cluster 1",
          "Cluster 1",
          "Cluster 1",
          "Cluster 1",
          "Cluster 1",
          "Cluster 1",
          "Cluster 1",
          "Cluster 1",
          "Cluster 1",
          "Cluster 1",
          "Cluster 1",
          "Cluster 1",
          "Cluster 1",
          "Cluster 1",
          "Cluster 1",
          "Cluster 1",
          "Cluster 1",
          "Cluster 1",
          "Cluster 1",
          "Cluster 1",
          "Cluster 1",
          "Cluster 1",
          "Cluster 1",
          "Cluster 1",
          "Cluster 1",
          "Cluster 1",
          "Cluster 1",
          "Cluster 1",
          "Cluster 1",
          "Cluster 1",
          "Cluster 1",
          "Cluster 1",
          "Cluster 1",
          "Cluster 1",
          "Cluster 1",
          "Cluster 1",
          "Cluster 1",
          "Cluster 1",
          "Cluster 1",
          "Cluster 1",
          "Cluster 1",
          "Cluster 1",
          "Cluster 1",
          "Cluster 1",
          "Cluster 1",
          "Cluster 1",
          "Cluster 1",
          "Cluster 1",
          "Cluster 1",
          "Cluster 1",
          "Cluster 1",
          "Cluster 1",
          "Cluster 1",
          "Cluster 1",
          "Cluster 1",
          "Cluster 1",
          "Cluster 1",
          "Cluster 1",
          "Cluster 1",
          "Cluster 1",
          "Cluster 1",
          "Cluster 1",
          "Cluster 1",
          "Cluster 1",
          "Cluster 1",
          "Cluster 1",
          "Cluster 1",
          "Cluster 1",
          "Cluster 1",
          "Cluster 1",
          "Cluster 1",
          "Cluster 1",
          "Cluster 1",
          "Cluster 1",
          "Cluster 1",
          "Cluster 1",
          "Cluster 1",
          "Cluster 1",
          "Cluster 1",
          "Cluster 1",
          "Cluster 1",
          "Cluster 1",
          "Cluster 1",
          "Cluster 1",
          "Cluster 1",
          "Cluster 1",
          "Cluster 1",
          "Cluster 1",
          "Cluster 1",
          "Cluster 1",
          "Cluster 1",
          "Cluster 1",
          "Cluster 1",
          "Cluster 1",
          "Cluster 1",
          "Cluster 1",
          "Cluster 1",
          "Cluster 1",
          "Cluster 1",
          "Cluster 1",
          "Cluster 1",
          "Cluster 1",
          "Cluster 1",
          "Cluster 1",
          "Cluster 1",
          "Cluster 1",
          "Cluster 1",
          "Cluster 1",
          "Cluster 1",
          "Cluster 1",
          "Cluster 1",
          "Cluster 1",
          "Cluster 1",
          "Cluster 1",
          "Cluster 1",
          "Cluster 1",
          "Cluster 1",
          "Cluster 1",
          "Cluster 1",
          "Cluster 1",
          "Cluster 1",
          "Cluster 1",
          "Cluster 1",
          "Cluster 1",
          "Cluster 1",
          "Cluster 1",
          "Cluster 1",
          "Cluster 1",
          "Cluster 1",
          "Cluster 1",
          "Cluster 1",
          "Cluster 1",
          "Cluster 1",
          "Cluster 1",
          "Cluster 1",
          "Cluster 1",
          "Cluster 1",
          "Cluster 1",
          "Cluster 1",
          "Cluster 1",
          "Cluster 1",
          "Cluster 1",
          "Cluster 1",
          "Cluster 1",
          "Cluster 1",
          "Cluster 1",
          "Cluster 1",
          "Cluster 1",
          "Cluster 1",
          "Cluster 1",
          "Cluster 1",
          "Cluster 1",
          "Cluster 1",
          "Cluster 1",
          "Cluster 1",
          "Cluster 1",
          "Cluster 1",
          "Cluster 1",
          "Cluster 1",
          "Cluster 1",
          "Cluster 1",
          "Cluster 1",
          "Cluster 1",
          "Cluster 1",
          "Cluster 1",
          "Cluster 1",
          "Cluster 1",
          "Cluster 1",
          "Cluster 1",
          "Cluster 1",
          "Cluster 1",
          "Cluster 1",
          "Cluster 1",
          "Cluster 1",
          "Cluster 1",
          "Cluster 1",
          "Cluster 1",
          "Cluster 1",
          "Cluster 1",
          "Cluster 1",
          "Cluster 1",
          "Cluster 1",
          "Cluster 1",
          "Cluster 1",
          "Cluster 1",
          "Cluster 1",
          "Cluster 1",
          "Cluster 1",
          "Cluster 1",
          "Cluster 1",
          "Cluster 1",
          "Cluster 1",
          "Cluster 1",
          "Cluster 1",
          "Cluster 1",
          "Cluster 1",
          "Cluster 1",
          "Cluster 1",
          "Cluster 1",
          "Cluster 1",
          "Cluster 1",
          "Cluster 1",
          "Cluster 1",
          "Cluster 1",
          "Cluster 1",
          "Cluster 1",
          "Cluster 1",
          "Cluster 1",
          "Cluster 1",
          "Cluster 1",
          "Cluster 1",
          "Cluster 1",
          "Cluster 1",
          "Cluster 1",
          "Cluster 1",
          "Cluster 1",
          "Cluster 1",
          "Cluster 1",
          "Cluster 1",
          "Cluster 1",
          "Cluster 1",
          "Cluster 1",
          "Cluster 1",
          "Cluster 1",
          "Cluster 1",
          "Cluster 1",
          "Cluster 1",
          "Cluster 1",
          "Cluster 1",
          "Cluster 1",
          "Cluster 1",
          "Cluster 1",
          "Cluster 1",
          "Cluster 1",
          "Cluster 1",
          "Cluster 1",
          "Cluster 1",
          "Cluster 1",
          "Cluster 1",
          "Cluster 1",
          "Cluster 1",
          "Cluster 1",
          "Cluster 1",
          "Cluster 1",
          "Cluster 1",
          "Cluster 1",
          "Cluster 1",
          "Cluster 1",
          "Cluster 1",
          "Cluster 1",
          "Cluster 1",
          "Cluster 1",
          "Cluster 1",
          "Cluster 1",
          "Cluster 1",
          "Cluster 1",
          "Cluster 1",
          "Cluster 1",
          "Cluster 1",
          "Cluster 1",
          "Cluster 1",
          "Cluster 1",
          "Cluster 1",
          "Cluster 1",
          "Cluster 1",
          "Cluster 1",
          "Cluster 1",
          "Cluster 1",
          "Cluster 1",
          "Cluster 1",
          "Cluster 1",
          "Cluster 1",
          "Cluster 1",
          "Cluster 1",
          "Cluster 1",
          "Cluster 1",
          "Cluster 1",
          "Cluster 1",
          "Cluster 1",
          "Cluster 1",
          "Cluster 1",
          "Cluster 1",
          "Cluster 1",
          "Cluster 1",
          "Cluster 1",
          "Cluster 1",
          "Cluster 1",
          "Cluster 1",
          "Cluster 1",
          "Cluster 1",
          "Cluster 1",
          "Cluster 1",
          "Cluster 1",
          "Cluster 1",
          "Cluster 1",
          "Cluster 1",
          "Cluster 1",
          "Cluster 1",
          "Cluster 1",
          "Cluster 1",
          "Cluster 1",
          "Cluster 1",
          "Cluster 1",
          "Cluster 1",
          "Cluster 1",
          "Cluster 1",
          "Cluster 1",
          "Cluster 1",
          "Cluster 1",
          "Cluster 1",
          "Cluster 1",
          "Cluster 1",
          "Cluster 1",
          "Cluster 1",
          "Cluster 1",
          "Cluster 1",
          "Cluster 1",
          "Cluster 1",
          "Cluster 1",
          "Cluster 1",
          "Cluster 1",
          "Cluster 1",
          "Cluster 1",
          "Cluster 1",
          "Cluster 1",
          "Cluster 1",
          "Cluster 1",
          "Cluster 1",
          "Cluster 1",
          "Cluster 1",
          "Cluster 1",
          "Cluster 1",
          "Cluster 1",
          "Cluster 1",
          "Cluster 1",
          "Cluster 1",
          "Cluster 1",
          "Cluster 1",
          "Cluster 1",
          "Cluster 1",
          "Cluster 1",
          "Cluster 1",
          "Cluster 1",
          "Cluster 1",
          "Cluster 1",
          "Cluster 1",
          "Cluster 1",
          "Cluster 1",
          "Cluster 1",
          "Cluster 1",
          "Cluster 1",
          "Cluster 1",
          "Cluster 1",
          "Cluster 1",
          "Cluster 1",
          "Cluster 1",
          "Cluster 1",
          "Cluster 1",
          "Cluster 1",
          "Cluster 1",
          "Cluster 1",
          "Cluster 1",
          "Cluster 1",
          "Cluster 1",
          "Cluster 1",
          "Cluster 1",
          "Cluster 1",
          "Cluster 1",
          "Cluster 1",
          "Cluster 1",
          "Cluster 1",
          "Cluster 1",
          "Cluster 1",
          "Cluster 1",
          "Cluster 1",
          "Cluster 1",
          "Cluster 1",
          "Cluster 1",
          "Cluster 1",
          "Cluster 1"
         ],
         "xaxis": "x2",
         "yaxis": "y2"
        },
        {
         "alignmentgroup": "True",
         "bingroup": "x",
         "hovertemplate": "Cluster=%{x}<br>count=%{y}<extra></extra>",
         "legendgroup": "Cluster 2",
         "marker": {
          "color": "#00cc96",
          "opacity": 0.7,
          "pattern": {
           "shape": ""
          }
         },
         "name": "Cluster 2",
         "offsetgroup": "Cluster 2",
         "orientation": "v",
         "showlegend": true,
         "type": "histogram",
         "x": [
          "Cluster 2",
          "Cluster 2",
          "Cluster 2",
          "Cluster 2",
          "Cluster 2",
          "Cluster 2",
          "Cluster 2",
          "Cluster 2",
          "Cluster 2",
          "Cluster 2",
          "Cluster 2",
          "Cluster 2",
          "Cluster 2",
          "Cluster 2",
          "Cluster 2",
          "Cluster 2",
          "Cluster 2",
          "Cluster 2",
          "Cluster 2",
          "Cluster 2",
          "Cluster 2",
          "Cluster 2",
          "Cluster 2",
          "Cluster 2"
         ],
         "xaxis": "x",
         "yaxis": "y"
        },
        {
         "alignmentgroup": "True",
         "customdata": [
          [
           2134440,
           18
          ],
          [
           1943260,
           10
          ],
          [
           1495560,
           15
          ],
          [
           2972970,
           15
          ],
          [
           2123550,
           15
          ],
          [
           2866792.5,
           10
          ],
          [
           1514515.86,
           7
          ],
          [
           1514515.86,
           7
          ],
          [
           1683648.45,
           0
          ],
          [
           1500097.5,
           10
          ],
          [
           2028444,
           1
          ],
          [
           3234591.36,
           59
          ],
          [
           1513503.09,
           7
          ],
          [
           1514516,
           7
          ],
          [
           2725525,
           2
          ],
          [
           2766665,
           2
          ],
          [
           1514515.86,
           7
          ],
          [
           2062728.3,
           60
          ],
          [
           2180420,
           2
          ],
          [
           2180420,
           2
          ],
          [
           2180420,
           2
          ],
          [
           2014169.02,
           0
          ],
          [
           2178000,
           2
          ],
          [
           2018038,
           1
          ]
         ],
         "hovertemplate": "Cluster=%{x}<br>Importe=%{customdata[0]}<br>Num_Medio=%{customdata[1]}<extra></extra>",
         "legendgroup": "Cluster 2",
         "marker": {
          "color": "#00cc96"
         },
         "name": "Cluster 2",
         "notched": true,
         "offsetgroup": "Cluster 2",
         "showlegend": false,
         "type": "box",
         "x": [
          "Cluster 2",
          "Cluster 2",
          "Cluster 2",
          "Cluster 2",
          "Cluster 2",
          "Cluster 2",
          "Cluster 2",
          "Cluster 2",
          "Cluster 2",
          "Cluster 2",
          "Cluster 2",
          "Cluster 2",
          "Cluster 2",
          "Cluster 2",
          "Cluster 2",
          "Cluster 2",
          "Cluster 2",
          "Cluster 2",
          "Cluster 2",
          "Cluster 2",
          "Cluster 2",
          "Cluster 2",
          "Cluster 2",
          "Cluster 2"
         ],
         "xaxis": "x2",
         "yaxis": "y2"
        },
        {
         "alignmentgroup": "True",
         "bingroup": "x",
         "hovertemplate": "Cluster=%{x}<br>count=%{y}<extra></extra>",
         "legendgroup": "Cluster 3",
         "marker": {
          "color": "#ab63fa",
          "opacity": 0.7,
          "pattern": {
           "shape": ""
          }
         },
         "name": "Cluster 3",
         "offsetgroup": "Cluster 3",
         "orientation": "v",
         "showlegend": true,
         "type": "histogram",
         "x": [
          "Cluster 3",
          "Cluster 3",
          "Cluster 3",
          "Cluster 3",
          "Cluster 3",
          "Cluster 3",
          "Cluster 3",
          "Cluster 3",
          "Cluster 3",
          "Cluster 3",
          "Cluster 3",
          "Cluster 3",
          "Cluster 3",
          "Cluster 3",
          "Cluster 3",
          "Cluster 3",
          "Cluster 3",
          "Cluster 3",
          "Cluster 3",
          "Cluster 3",
          "Cluster 3",
          "Cluster 3",
          "Cluster 3",
          "Cluster 3",
          "Cluster 3",
          "Cluster 3",
          "Cluster 3",
          "Cluster 3",
          "Cluster 3",
          "Cluster 3",
          "Cluster 3",
          "Cluster 3",
          "Cluster 3",
          "Cluster 3",
          "Cluster 3",
          "Cluster 3",
          "Cluster 3",
          "Cluster 3",
          "Cluster 3",
          "Cluster 3",
          "Cluster 3",
          "Cluster 3",
          "Cluster 3",
          "Cluster 3",
          "Cluster 3",
          "Cluster 3",
          "Cluster 3",
          "Cluster 3",
          "Cluster 3",
          "Cluster 3",
          "Cluster 3",
          "Cluster 3",
          "Cluster 3",
          "Cluster 3",
          "Cluster 3",
          "Cluster 3",
          "Cluster 3",
          "Cluster 3",
          "Cluster 3",
          "Cluster 3",
          "Cluster 3",
          "Cluster 3",
          "Cluster 3",
          "Cluster 3",
          "Cluster 3",
          "Cluster 3",
          "Cluster 3",
          "Cluster 3",
          "Cluster 3",
          "Cluster 3",
          "Cluster 3",
          "Cluster 3",
          "Cluster 3",
          "Cluster 3",
          "Cluster 3",
          "Cluster 3",
          "Cluster 3",
          "Cluster 3",
          "Cluster 3",
          "Cluster 3",
          "Cluster 3",
          "Cluster 3",
          "Cluster 3",
          "Cluster 3",
          "Cluster 3",
          "Cluster 3",
          "Cluster 3",
          "Cluster 3",
          "Cluster 3",
          "Cluster 3",
          "Cluster 3",
          "Cluster 3",
          "Cluster 3",
          "Cluster 3",
          "Cluster 3",
          "Cluster 3",
          "Cluster 3",
          "Cluster 3",
          "Cluster 3",
          "Cluster 3",
          "Cluster 3",
          "Cluster 3",
          "Cluster 3",
          "Cluster 3",
          "Cluster 3",
          "Cluster 3",
          "Cluster 3",
          "Cluster 3",
          "Cluster 3",
          "Cluster 3",
          "Cluster 3",
          "Cluster 3",
          "Cluster 3",
          "Cluster 3",
          "Cluster 3",
          "Cluster 3",
          "Cluster 3",
          "Cluster 3",
          "Cluster 3",
          "Cluster 3",
          "Cluster 3",
          "Cluster 3",
          "Cluster 3",
          "Cluster 3",
          "Cluster 3",
          "Cluster 3",
          "Cluster 3",
          "Cluster 3",
          "Cluster 3",
          "Cluster 3",
          "Cluster 3",
          "Cluster 3",
          "Cluster 3",
          "Cluster 3",
          "Cluster 3",
          "Cluster 3",
          "Cluster 3",
          "Cluster 3",
          "Cluster 3",
          "Cluster 3",
          "Cluster 3",
          "Cluster 3",
          "Cluster 3",
          "Cluster 3",
          "Cluster 3",
          "Cluster 3",
          "Cluster 3",
          "Cluster 3",
          "Cluster 3",
          "Cluster 3",
          "Cluster 3",
          "Cluster 3",
          "Cluster 3",
          "Cluster 3",
          "Cluster 3",
          "Cluster 3",
          "Cluster 3",
          "Cluster 3",
          "Cluster 3",
          "Cluster 3",
          "Cluster 3",
          "Cluster 3",
          "Cluster 3",
          "Cluster 3",
          "Cluster 3",
          "Cluster 3",
          "Cluster 3",
          "Cluster 3",
          "Cluster 3",
          "Cluster 3",
          "Cluster 3",
          "Cluster 3",
          "Cluster 3",
          "Cluster 3",
          "Cluster 3",
          "Cluster 3",
          "Cluster 3",
          "Cluster 3",
          "Cluster 3",
          "Cluster 3",
          "Cluster 3",
          "Cluster 3",
          "Cluster 3",
          "Cluster 3"
         ],
         "xaxis": "x",
         "yaxis": "y"
        },
        {
         "alignmentgroup": "True",
         "customdata": [
          [
           320198.67,
           4
          ],
          [
           764110.46,
           4
          ],
          [
           310495.68,
           3
          ],
          [
           465214.75,
           24
          ],
          [
           406560,
           2
          ],
          [
           626651.44,
           9
          ],
          [
           822891.23,
           27
          ],
          [
           332750,
           0
          ],
          [
           435164.4,
           22
          ],
          [
           480000,
           1
          ],
          [
           480000,
           1
          ],
          [
           312400,
           1
          ],
          [
           440440,
           1
          ],
          [
           377200,
           1
          ],
          [
           480000,
           1
          ],
          [
           312400,
           1
          ],
          [
           485149.5,
           9
          ],
          [
           465850,
           10
          ],
          [
           619272.19,
           28
          ],
          [
           986271,
           16
          ],
          [
           275880,
           18
          ],
          [
           313390,
           17
          ],
          [
           314328.96,
           3
          ],
          [
           566280,
           15
          ],
          [
           419105.28,
           3
          ],
          [
           575960,
           14
          ],
          [
           523482.3,
           0
          ],
          [
           323433,
           9
          ],
          [
           363562.65,
           20
          ],
          [
           304920,
           1
          ],
          [
           431244,
           18
          ],
          [
           485149.5,
           9
          ],
          [
           564510.38,
           23
          ],
          [
           1104246,
           24
          ],
          [
           377200,
           1
          ],
          [
           601218.75,
           17
          ],
          [
           480000,
           1
          ],
          [
           1042536,
           2
          ],
          [
           575960,
           1
          ],
          [
           499125,
           16
          ],
          [
           304920,
           1
          ],
          [
           290400,
           2
          ],
          [
           326700,
           2
          ],
          [
           425920,
           10
          ],
          [
           508079,
           24
          ],
          [
           300990.69,
           15
          ],
          [
           300990.69,
           14
          ],
          [
           800496.67,
           4
          ],
          [
           881787.5,
           0
          ],
          [
           925524.16,
           3
          ],
          [
           1089000,
           2
          ],
          [
           1157244,
           1
          ],
          [
           377200,
           1
          ],
          [
           480000,
           1
          ],
          [
           480000,
           1
          ],
          [
           377200,
           1
          ],
          [
           304920,
           1
          ],
          [
           847000,
           17
          ],
          [
           830060,
           1
          ],
          [
           747141.12,
           28
          ],
          [
           617251.25,
           0
          ],
          [
           575960,
           1
          ],
          [
           305644.18,
           3
          ],
          [
           421170.75,
           24
          ],
          [
           498036,
           1
          ],
          [
           498126.75,
           16
          ],
          [
           504570,
           15
          ],
          [
           514552.5,
           10
          ],
          [
           372655.14,
           10
          ],
          [
           606436.88,
           9
          ],
          [
           818689.78,
           4
          ],
          [
           903870,
           18
          ],
          [
           904314.67,
           0
          ],
          [
           366025,
           0
          ],
          [
           563986.3,
           4
          ],
          [
           571331.75,
           16
          ],
          [
           809762.25,
           17
          ],
          [
           402930,
           7
          ],
          [
           404291.25,
           9
          ],
          [
           833690,
           15
          ],
          [
           500940,
           18
          ],
          [
           517093.5,
           34
          ],
          [
           304920,
           1
          ],
          [
           323433,
           9
          ],
          [
           455202,
           16
          ],
          [
           499125,
           0
          ],
          [
           545793.19,
           4
          ],
          [
           1151920,
           1
          ],
          [
           300990.69,
           14
          ],
          [
           300990.69,
           15
          ],
          [
           372655.14,
           10
          ],
          [
           885447.75,
           0
          ],
          [
           818689.78,
           4
          ],
          [
           607934.25,
           16
          ],
          [
           499125,
           17
          ],
          [
           485149.5,
           9
          ],
          [
           406560,
           1
          ],
          [
           705430,
           10
          ],
          [
           544500,
           17
          ],
          [
           291821.75,
           16
          ],
          [
           312400,
           1
          ],
          [
           314448.75,
           23
          ],
          [
           480000,
           1
          ],
          [
           304920,
           1
          ],
          [
           541898.5,
           24
          ],
          [
           500940,
           7
          ],
          [
           480000,
           1
          ],
          [
           377200,
           1
          ],
          [
           413820,
           7
          ],
          [
           382239,
           24
          ],
          [
           784080,
           18
          ],
          [
           1151920,
           1
          ],
          [
           582796.5,
           24
          ],
          [
           464685.38,
           23
          ],
          [
           312400,
           1
          ],
          [
           853776,
           18
          ],
          [
           506112.75,
           24
          ],
          [
           312664,
           1
          ],
          [
           349254.4,
           3
          ],
          [
           435600,
           2
          ],
          [
           559020,
           0
          ],
          [
           480000,
           1
          ],
          [
           377200,
           1
          ],
          [
           377200,
           1
          ],
          [
           480000,
           1
          ],
          [
           575960,
           1
          ],
          [
           314328.96,
           3
          ],
          [
           389317.5,
           0
          ],
          [
           399300,
           5
          ],
          [
           480298.01,
           4
          ],
          [
           485149.5,
           9
          ],
          [
           580800,
           2
          ],
          [
           318532.5,
           24
          ],
          [
           503118,
           18
          ],
          [
           322162.5,
           10
          ],
          [
           305464.5,
           16
          ],
          [
           304920,
           17
          ],
          [
           283140,
           15
          ],
          [
           511225,
           24
          ],
          [
           304920,
           2
          ],
          [
           334413.75,
           16
          ],
          [
           482790,
           1
          ],
          [
           598950,
           10
          ],
          [
           609840,
           15
          ],
          [
           698775,
           0
          ],
          [
           599676,
           1
          ],
          [
           327475.91,
           4
          ],
          [
           349307.64,
           3
          ],
          [
           501393.75,
           17
          ],
          [
           505364.06,
           9
          ],
          [
           719950,
           1
          ],
          [
           629200,
           15
          ],
          [
           508200,
           2
          ],
          [
           492954,
           1
          ],
          [
           485149.5,
           9
          ],
          [
           410927.62,
           28
          ],
          [
           312180,
           18
          ],
          [
           480298.01,
           4
          ],
          [
           762300,
           7
          ],
          [
           457380,
           17
          ],
          [
           550550,
           15
          ],
          [
           577170,
           18
          ],
          [
           704220,
           18
          ],
          [
           480000,
           1
          ],
          [
           337590,
           10
          ],
          [
           467060,
           17
          ],
          [
           363862.13,
           4
          ],
          [
           312400,
           1
          ],
          [
           707759.25,
           16
          ],
          [
           802956,
           2
          ],
          [
           818202,
           1
          ],
          [
           818689.78,
           4
          ],
          [
           459316,
           24
          ],
          [
           585640,
           10
          ],
          [
           480000,
           1
          ],
          [
           575960,
           14
          ],
          [
           348722,
           16
          ],
          [
           338800,
           19
          ],
          [
           303710,
           17
          ],
          [
           685344,
           1
          ],
          [
           435600,
           2
          ],
          [
           366025,
           0
          ],
          [
           452540,
           32
          ],
          [
           512435,
           0
          ]
         ],
         "hovertemplate": "Cluster=%{x}<br>Importe=%{customdata[0]}<br>Num_Medio=%{customdata[1]}<extra></extra>",
         "legendgroup": "Cluster 3",
         "marker": {
          "color": "#ab63fa"
         },
         "name": "Cluster 3",
         "notched": true,
         "offsetgroup": "Cluster 3",
         "showlegend": false,
         "type": "box",
         "x": [
          "Cluster 3",
          "Cluster 3",
          "Cluster 3",
          "Cluster 3",
          "Cluster 3",
          "Cluster 3",
          "Cluster 3",
          "Cluster 3",
          "Cluster 3",
          "Cluster 3",
          "Cluster 3",
          "Cluster 3",
          "Cluster 3",
          "Cluster 3",
          "Cluster 3",
          "Cluster 3",
          "Cluster 3",
          "Cluster 3",
          "Cluster 3",
          "Cluster 3",
          "Cluster 3",
          "Cluster 3",
          "Cluster 3",
          "Cluster 3",
          "Cluster 3",
          "Cluster 3",
          "Cluster 3",
          "Cluster 3",
          "Cluster 3",
          "Cluster 3",
          "Cluster 3",
          "Cluster 3",
          "Cluster 3",
          "Cluster 3",
          "Cluster 3",
          "Cluster 3",
          "Cluster 3",
          "Cluster 3",
          "Cluster 3",
          "Cluster 3",
          "Cluster 3",
          "Cluster 3",
          "Cluster 3",
          "Cluster 3",
          "Cluster 3",
          "Cluster 3",
          "Cluster 3",
          "Cluster 3",
          "Cluster 3",
          "Cluster 3",
          "Cluster 3",
          "Cluster 3",
          "Cluster 3",
          "Cluster 3",
          "Cluster 3",
          "Cluster 3",
          "Cluster 3",
          "Cluster 3",
          "Cluster 3",
          "Cluster 3",
          "Cluster 3",
          "Cluster 3",
          "Cluster 3",
          "Cluster 3",
          "Cluster 3",
          "Cluster 3",
          "Cluster 3",
          "Cluster 3",
          "Cluster 3",
          "Cluster 3",
          "Cluster 3",
          "Cluster 3",
          "Cluster 3",
          "Cluster 3",
          "Cluster 3",
          "Cluster 3",
          "Cluster 3",
          "Cluster 3",
          "Cluster 3",
          "Cluster 3",
          "Cluster 3",
          "Cluster 3",
          "Cluster 3",
          "Cluster 3",
          "Cluster 3",
          "Cluster 3",
          "Cluster 3",
          "Cluster 3",
          "Cluster 3",
          "Cluster 3",
          "Cluster 3",
          "Cluster 3",
          "Cluster 3",
          "Cluster 3",
          "Cluster 3",
          "Cluster 3",
          "Cluster 3",
          "Cluster 3",
          "Cluster 3",
          "Cluster 3",
          "Cluster 3",
          "Cluster 3",
          "Cluster 3",
          "Cluster 3",
          "Cluster 3",
          "Cluster 3",
          "Cluster 3",
          "Cluster 3",
          "Cluster 3",
          "Cluster 3",
          "Cluster 3",
          "Cluster 3",
          "Cluster 3",
          "Cluster 3",
          "Cluster 3",
          "Cluster 3",
          "Cluster 3",
          "Cluster 3",
          "Cluster 3",
          "Cluster 3",
          "Cluster 3",
          "Cluster 3",
          "Cluster 3",
          "Cluster 3",
          "Cluster 3",
          "Cluster 3",
          "Cluster 3",
          "Cluster 3",
          "Cluster 3",
          "Cluster 3",
          "Cluster 3",
          "Cluster 3",
          "Cluster 3",
          "Cluster 3",
          "Cluster 3",
          "Cluster 3",
          "Cluster 3",
          "Cluster 3",
          "Cluster 3",
          "Cluster 3",
          "Cluster 3",
          "Cluster 3",
          "Cluster 3",
          "Cluster 3",
          "Cluster 3",
          "Cluster 3",
          "Cluster 3",
          "Cluster 3",
          "Cluster 3",
          "Cluster 3",
          "Cluster 3",
          "Cluster 3",
          "Cluster 3",
          "Cluster 3",
          "Cluster 3",
          "Cluster 3",
          "Cluster 3",
          "Cluster 3",
          "Cluster 3",
          "Cluster 3",
          "Cluster 3",
          "Cluster 3",
          "Cluster 3",
          "Cluster 3",
          "Cluster 3",
          "Cluster 3",
          "Cluster 3",
          "Cluster 3",
          "Cluster 3",
          "Cluster 3",
          "Cluster 3",
          "Cluster 3",
          "Cluster 3",
          "Cluster 3",
          "Cluster 3",
          "Cluster 3",
          "Cluster 3",
          "Cluster 3",
          "Cluster 3",
          "Cluster 3",
          "Cluster 3",
          "Cluster 3",
          "Cluster 3",
          "Cluster 3"
         ],
         "xaxis": "x2",
         "yaxis": "y2"
        }
       ],
       "layout": {
        "barmode": "relative",
        "height": 600,
        "legend": {
         "title": {
          "text": "Cluster"
         },
         "tracegroupgap": 0
        },
        "margin": {
         "t": 60
        },
        "template": {
         "data": {
          "bar": [
           {
            "error_x": {
             "color": "#2a3f5f"
            },
            "error_y": {
             "color": "#2a3f5f"
            },
            "marker": {
             "line": {
              "color": "#E5ECF6",
              "width": 0.5
             },
             "pattern": {
              "fillmode": "overlay",
              "size": 10,
              "solidity": 0.2
             }
            },
            "type": "bar"
           }
          ],
          "barpolar": [
           {
            "marker": {
             "line": {
              "color": "#E5ECF6",
              "width": 0.5
             },
             "pattern": {
              "fillmode": "overlay",
              "size": 10,
              "solidity": 0.2
             }
            },
            "type": "barpolar"
           }
          ],
          "carpet": [
           {
            "aaxis": {
             "endlinecolor": "#2a3f5f",
             "gridcolor": "white",
             "linecolor": "white",
             "minorgridcolor": "white",
             "startlinecolor": "#2a3f5f"
            },
            "baxis": {
             "endlinecolor": "#2a3f5f",
             "gridcolor": "white",
             "linecolor": "white",
             "minorgridcolor": "white",
             "startlinecolor": "#2a3f5f"
            },
            "type": "carpet"
           }
          ],
          "choropleth": [
           {
            "colorbar": {
             "outlinewidth": 0,
             "ticks": ""
            },
            "type": "choropleth"
           }
          ],
          "contour": [
           {
            "colorbar": {
             "outlinewidth": 0,
             "ticks": ""
            },
            "colorscale": [
             [
              0,
              "#0d0887"
             ],
             [
              0.1111111111111111,
              "#46039f"
             ],
             [
              0.2222222222222222,
              "#7201a8"
             ],
             [
              0.3333333333333333,
              "#9c179e"
             ],
             [
              0.4444444444444444,
              "#bd3786"
             ],
             [
              0.5555555555555556,
              "#d8576b"
             ],
             [
              0.6666666666666666,
              "#ed7953"
             ],
             [
              0.7777777777777778,
              "#fb9f3a"
             ],
             [
              0.8888888888888888,
              "#fdca26"
             ],
             [
              1,
              "#f0f921"
             ]
            ],
            "type": "contour"
           }
          ],
          "contourcarpet": [
           {
            "colorbar": {
             "outlinewidth": 0,
             "ticks": ""
            },
            "type": "contourcarpet"
           }
          ],
          "heatmap": [
           {
            "colorbar": {
             "outlinewidth": 0,
             "ticks": ""
            },
            "colorscale": [
             [
              0,
              "#0d0887"
             ],
             [
              0.1111111111111111,
              "#46039f"
             ],
             [
              0.2222222222222222,
              "#7201a8"
             ],
             [
              0.3333333333333333,
              "#9c179e"
             ],
             [
              0.4444444444444444,
              "#bd3786"
             ],
             [
              0.5555555555555556,
              "#d8576b"
             ],
             [
              0.6666666666666666,
              "#ed7953"
             ],
             [
              0.7777777777777778,
              "#fb9f3a"
             ],
             [
              0.8888888888888888,
              "#fdca26"
             ],
             [
              1,
              "#f0f921"
             ]
            ],
            "type": "heatmap"
           }
          ],
          "heatmapgl": [
           {
            "colorbar": {
             "outlinewidth": 0,
             "ticks": ""
            },
            "colorscale": [
             [
              0,
              "#0d0887"
             ],
             [
              0.1111111111111111,
              "#46039f"
             ],
             [
              0.2222222222222222,
              "#7201a8"
             ],
             [
              0.3333333333333333,
              "#9c179e"
             ],
             [
              0.4444444444444444,
              "#bd3786"
             ],
             [
              0.5555555555555556,
              "#d8576b"
             ],
             [
              0.6666666666666666,
              "#ed7953"
             ],
             [
              0.7777777777777778,
              "#fb9f3a"
             ],
             [
              0.8888888888888888,
              "#fdca26"
             ],
             [
              1,
              "#f0f921"
             ]
            ],
            "type": "heatmapgl"
           }
          ],
          "histogram": [
           {
            "marker": {
             "pattern": {
              "fillmode": "overlay",
              "size": 10,
              "solidity": 0.2
             }
            },
            "type": "histogram"
           }
          ],
          "histogram2d": [
           {
            "colorbar": {
             "outlinewidth": 0,
             "ticks": ""
            },
            "colorscale": [
             [
              0,
              "#0d0887"
             ],
             [
              0.1111111111111111,
              "#46039f"
             ],
             [
              0.2222222222222222,
              "#7201a8"
             ],
             [
              0.3333333333333333,
              "#9c179e"
             ],
             [
              0.4444444444444444,
              "#bd3786"
             ],
             [
              0.5555555555555556,
              "#d8576b"
             ],
             [
              0.6666666666666666,
              "#ed7953"
             ],
             [
              0.7777777777777778,
              "#fb9f3a"
             ],
             [
              0.8888888888888888,
              "#fdca26"
             ],
             [
              1,
              "#f0f921"
             ]
            ],
            "type": "histogram2d"
           }
          ],
          "histogram2dcontour": [
           {
            "colorbar": {
             "outlinewidth": 0,
             "ticks": ""
            },
            "colorscale": [
             [
              0,
              "#0d0887"
             ],
             [
              0.1111111111111111,
              "#46039f"
             ],
             [
              0.2222222222222222,
              "#7201a8"
             ],
             [
              0.3333333333333333,
              "#9c179e"
             ],
             [
              0.4444444444444444,
              "#bd3786"
             ],
             [
              0.5555555555555556,
              "#d8576b"
             ],
             [
              0.6666666666666666,
              "#ed7953"
             ],
             [
              0.7777777777777778,
              "#fb9f3a"
             ],
             [
              0.8888888888888888,
              "#fdca26"
             ],
             [
              1,
              "#f0f921"
             ]
            ],
            "type": "histogram2dcontour"
           }
          ],
          "mesh3d": [
           {
            "colorbar": {
             "outlinewidth": 0,
             "ticks": ""
            },
            "type": "mesh3d"
           }
          ],
          "parcoords": [
           {
            "line": {
             "colorbar": {
              "outlinewidth": 0,
              "ticks": ""
             }
            },
            "type": "parcoords"
           }
          ],
          "pie": [
           {
            "automargin": true,
            "type": "pie"
           }
          ],
          "scatter": [
           {
            "fillpattern": {
             "fillmode": "overlay",
             "size": 10,
             "solidity": 0.2
            },
            "type": "scatter"
           }
          ],
          "scatter3d": [
           {
            "line": {
             "colorbar": {
              "outlinewidth": 0,
              "ticks": ""
             }
            },
            "marker": {
             "colorbar": {
              "outlinewidth": 0,
              "ticks": ""
             }
            },
            "type": "scatter3d"
           }
          ],
          "scattercarpet": [
           {
            "marker": {
             "colorbar": {
              "outlinewidth": 0,
              "ticks": ""
             }
            },
            "type": "scattercarpet"
           }
          ],
          "scattergeo": [
           {
            "marker": {
             "colorbar": {
              "outlinewidth": 0,
              "ticks": ""
             }
            },
            "type": "scattergeo"
           }
          ],
          "scattergl": [
           {
            "marker": {
             "colorbar": {
              "outlinewidth": 0,
              "ticks": ""
             }
            },
            "type": "scattergl"
           }
          ],
          "scattermapbox": [
           {
            "marker": {
             "colorbar": {
              "outlinewidth": 0,
              "ticks": ""
             }
            },
            "type": "scattermapbox"
           }
          ],
          "scatterpolar": [
           {
            "marker": {
             "colorbar": {
              "outlinewidth": 0,
              "ticks": ""
             }
            },
            "type": "scatterpolar"
           }
          ],
          "scatterpolargl": [
           {
            "marker": {
             "colorbar": {
              "outlinewidth": 0,
              "ticks": ""
             }
            },
            "type": "scatterpolargl"
           }
          ],
          "scatterternary": [
           {
            "marker": {
             "colorbar": {
              "outlinewidth": 0,
              "ticks": ""
             }
            },
            "type": "scatterternary"
           }
          ],
          "surface": [
           {
            "colorbar": {
             "outlinewidth": 0,
             "ticks": ""
            },
            "colorscale": [
             [
              0,
              "#0d0887"
             ],
             [
              0.1111111111111111,
              "#46039f"
             ],
             [
              0.2222222222222222,
              "#7201a8"
             ],
             [
              0.3333333333333333,
              "#9c179e"
             ],
             [
              0.4444444444444444,
              "#bd3786"
             ],
             [
              0.5555555555555556,
              "#d8576b"
             ],
             [
              0.6666666666666666,
              "#ed7953"
             ],
             [
              0.7777777777777778,
              "#fb9f3a"
             ],
             [
              0.8888888888888888,
              "#fdca26"
             ],
             [
              1,
              "#f0f921"
             ]
            ],
            "type": "surface"
           }
          ],
          "table": [
           {
            "cells": {
             "fill": {
              "color": "#EBF0F8"
             },
             "line": {
              "color": "white"
             }
            },
            "header": {
             "fill": {
              "color": "#C8D4E3"
             },
             "line": {
              "color": "white"
             }
            },
            "type": "table"
           }
          ]
         },
         "layout": {
          "annotationdefaults": {
           "arrowcolor": "#2a3f5f",
           "arrowhead": 0,
           "arrowwidth": 1
          },
          "autotypenumbers": "strict",
          "coloraxis": {
           "colorbar": {
            "outlinewidth": 0,
            "ticks": ""
           }
          },
          "colorscale": {
           "diverging": [
            [
             0,
             "#8e0152"
            ],
            [
             0.1,
             "#c51b7d"
            ],
            [
             0.2,
             "#de77ae"
            ],
            [
             0.3,
             "#f1b6da"
            ],
            [
             0.4,
             "#fde0ef"
            ],
            [
             0.5,
             "#f7f7f7"
            ],
            [
             0.6,
             "#e6f5d0"
            ],
            [
             0.7,
             "#b8e186"
            ],
            [
             0.8,
             "#7fbc41"
            ],
            [
             0.9,
             "#4d9221"
            ],
            [
             1,
             "#276419"
            ]
           ],
           "sequential": [
            [
             0,
             "#0d0887"
            ],
            [
             0.1111111111111111,
             "#46039f"
            ],
            [
             0.2222222222222222,
             "#7201a8"
            ],
            [
             0.3333333333333333,
             "#9c179e"
            ],
            [
             0.4444444444444444,
             "#bd3786"
            ],
            [
             0.5555555555555556,
             "#d8576b"
            ],
            [
             0.6666666666666666,
             "#ed7953"
            ],
            [
             0.7777777777777778,
             "#fb9f3a"
            ],
            [
             0.8888888888888888,
             "#fdca26"
            ],
            [
             1,
             "#f0f921"
            ]
           ],
           "sequentialminus": [
            [
             0,
             "#0d0887"
            ],
            [
             0.1111111111111111,
             "#46039f"
            ],
            [
             0.2222222222222222,
             "#7201a8"
            ],
            [
             0.3333333333333333,
             "#9c179e"
            ],
            [
             0.4444444444444444,
             "#bd3786"
            ],
            [
             0.5555555555555556,
             "#d8576b"
            ],
            [
             0.6666666666666666,
             "#ed7953"
            ],
            [
             0.7777777777777778,
             "#fb9f3a"
            ],
            [
             0.8888888888888888,
             "#fdca26"
            ],
            [
             1,
             "#f0f921"
            ]
           ]
          },
          "colorway": [
           "#636efa",
           "#EF553B",
           "#00cc96",
           "#ab63fa",
           "#FFA15A",
           "#19d3f3",
           "#FF6692",
           "#B6E880",
           "#FF97FF",
           "#FECB52"
          ],
          "font": {
           "color": "#2a3f5f"
          },
          "geo": {
           "bgcolor": "white",
           "lakecolor": "white",
           "landcolor": "#E5ECF6",
           "showlakes": true,
           "showland": true,
           "subunitcolor": "white"
          },
          "hoverlabel": {
           "align": "left"
          },
          "hovermode": "closest",
          "mapbox": {
           "style": "light"
          },
          "paper_bgcolor": "white",
          "plot_bgcolor": "#E5ECF6",
          "polar": {
           "angularaxis": {
            "gridcolor": "white",
            "linecolor": "white",
            "ticks": ""
           },
           "bgcolor": "#E5ECF6",
           "radialaxis": {
            "gridcolor": "white",
            "linecolor": "white",
            "ticks": ""
           }
          },
          "scene": {
           "xaxis": {
            "backgroundcolor": "#E5ECF6",
            "gridcolor": "white",
            "gridwidth": 2,
            "linecolor": "white",
            "showbackground": true,
            "ticks": "",
            "zerolinecolor": "white"
           },
           "yaxis": {
            "backgroundcolor": "#E5ECF6",
            "gridcolor": "white",
            "gridwidth": 2,
            "linecolor": "white",
            "showbackground": true,
            "ticks": "",
            "zerolinecolor": "white"
           },
           "zaxis": {
            "backgroundcolor": "#E5ECF6",
            "gridcolor": "white",
            "gridwidth": 2,
            "linecolor": "white",
            "showbackground": true,
            "ticks": "",
            "zerolinecolor": "white"
           }
          },
          "shapedefaults": {
           "line": {
            "color": "#2a3f5f"
           }
          },
          "ternary": {
           "aaxis": {
            "gridcolor": "white",
            "linecolor": "white",
            "ticks": ""
           },
           "baxis": {
            "gridcolor": "white",
            "linecolor": "white",
            "ticks": ""
           },
           "bgcolor": "#E5ECF6",
           "caxis": {
            "gridcolor": "white",
            "linecolor": "white",
            "ticks": ""
           }
          },
          "title": {
           "x": 0.05
          },
          "xaxis": {
           "automargin": true,
           "gridcolor": "white",
           "linecolor": "white",
           "ticks": "",
           "title": {
            "standoff": 15
           },
           "zerolinecolor": "white",
           "zerolinewidth": 2
          },
          "yaxis": {
           "automargin": true,
           "gridcolor": "white",
           "linecolor": "white",
           "ticks": "",
           "title": {
            "standoff": 15
           },
           "zerolinecolor": "white",
           "zerolinewidth": 2
          }
         }
        },
        "xaxis": {
         "anchor": "y",
         "categoryarray": [
          "Cluster 0",
          "Cluster 1",
          "Cluster 2",
          "Cluster 3"
         ],
         "categoryorder": "array",
         "domain": [
          0,
          1
         ],
         "title": {
          "text": "Cluster"
         }
        },
        "xaxis2": {
         "anchor": "y2",
         "domain": [
          0,
          1
         ],
         "matches": "x",
         "showgrid": true,
         "showticklabels": false
        },
        "yaxis": {
         "anchor": "x",
         "domain": [
          0,
          0.7326
         ],
         "title": {
          "text": "count"
         }
        },
        "yaxis2": {
         "anchor": "x2",
         "domain": [
          0.7426,
          1
         ],
         "matches": "y2",
         "showgrid": false,
         "showline": false,
         "showticklabels": false,
         "ticks": ""
        }
       }
      }
     },
     "metadata": {},
     "output_type": "display_data"
    },
    {
     "data": {
      "application/vnd.plotly.v1+json": {
       "config": {
        "plotlyServerURL": "https://plotly.com"
       },
       "data": [
        {
         "customdata": [
          [
           15400
          ],
          [
           15000
          ],
          [
           17000
          ],
          [
           18000
          ],
          [
           19000
          ],
          [
           30000
          ],
          [
           30000
          ],
          [
           40000
          ],
          [
           65000
          ],
          [
           69300
          ],
          [
           110000
          ],
          [
           183100
          ],
          [
           10000
          ],
          [
           10000
          ],
          [
           10000
          ],
          [
           10300
          ],
          [
           11000
          ],
          [
           12000
          ],
          [
           12000
          ],
          [
           15000
          ],
          [
           18000
          ],
          [
           20000
          ],
          [
           20000
          ],
          [
           25000
          ],
          [
           15000
          ],
          [
           40000
          ],
          [
           242574.75
          ],
          [
           209632.5
          ],
          [
           14000
          ],
          [
           14400
          ],
          [
           14400
          ],
          [
           15200
          ],
          [
           15200
          ],
          [
           15840
          ],
          [
           16000
          ],
          [
           18000
          ],
          [
           19800
          ],
          [
           19800
          ],
          [
           20000
          ],
          [
           20000
          ],
          [
           21600
          ],
          [
           23400
          ],
          [
           25000
          ],
          [
           36000
          ],
          [
           15000
          ],
          [
           22000
          ],
          [
           49658.4
          ],
          [
           106200
          ],
          [
           119790
          ],
          [
           154819.5
          ],
          [
           198893.75
          ],
          [
           218317.27
          ],
          [
           55000
          ],
          [
           12000
          ],
          [
           14000
          ],
          [
           58752
          ],
          [
           87609.6
          ],
          [
           13200
          ],
          [
           35000
          ],
          [
           110406.45
          ],
          [
           209552.64
          ],
          [
           15000
          ],
          [
           15000
          ],
          [
           152460
          ],
          [
           15000
          ],
          [
           49658.4
          ],
          [
           119790
          ],
          [
           199650
          ],
          [
           203643
          ],
          [
           214623.75
          ],
          [
           15000
          ],
          [
           10000
          ],
          [
           10000
          ],
          [
           10000
          ],
          [
           15000
          ],
          [
           10000
          ],
          [
           17000
          ],
          [
           18000
          ],
          [
           32832
          ],
          [
           30000
          ],
          [
           28339.2
          ],
          [
           23500.8
          ],
          [
           15000
          ],
          [
           15400
          ],
          [
           15400
          ],
          [
           15935
          ],
          [
           16000
          ],
          [
           16170
          ],
          [
           16500
          ],
          [
           16632
          ],
          [
           17600
          ],
          [
           19250
          ],
          [
           19656
          ],
          [
           14000
          ],
          [
           20000
          ],
          [
           22857
          ],
          [
           28057
          ],
          [
           10800
          ],
          [
           15000
          ],
          [
           61000
          ],
          [
           110000
          ],
          [
           121992
          ],
          [
           17424
          ],
          [
           13068
          ],
          [
           21780
          ],
          [
           23232
          ],
          [
           20000
          ],
          [
           14000
          ],
          [
           14000
          ],
          [
           13200
          ],
          [
           49029
          ],
          [
           10560
          ],
          [
           11000
          ],
          [
           11250
          ],
          [
           11616
          ],
          [
           12600
          ],
          [
           13068
          ],
          [
           13200
          ],
          [
           13200
          ],
          [
           14000
          ],
          [
           14000
          ],
          [
           14000
          ],
          [
           14000
          ],
          [
           14400
          ],
          [
           14400
          ],
          [
           15000
          ],
          [
           15200
          ],
          [
           15200
          ],
          [
           15840
          ],
          [
           16000
          ],
          [
           18000
          ],
          [
           19200
          ],
          [
           19800
          ],
          [
           35000
          ],
          [
           17278
          ],
          [
           14040
          ],
          [
           12000
          ],
          [
           15000
          ],
          [
           20000
          ],
          [
           26625
          ],
          [
           29000
          ],
          [
           40000
          ],
          [
           69300
          ],
          [
           10800
          ],
          [
           17000
          ],
          [
           13068
          ],
          [
           159720
          ],
          [
           10000
          ],
          [
           19800
          ],
          [
           11520
          ],
          [
           12000
          ],
          [
           20000
          ],
          [
           20000
          ],
          [
           20000
          ],
          [
           23000
          ],
          [
           61000
          ],
          [
           110000
          ],
          [
           199650
          ],
          [
           209552.64
          ],
          [
           218317.27
          ],
          [
           242000
          ],
          [
           12000
          ],
          [
           40000
          ],
          [
           20000
          ],
          [
           21600
          ],
          [
           10000
          ],
          [
           10560
          ],
          [
           11520
          ],
          [
           12000
          ],
          [
           12000
          ],
          [
           13068
          ],
          [
           15000
          ],
          [
           16500
          ],
          [
           18000
          ],
          [
           20000
          ],
          [
           23000
          ],
          [
           40000
          ],
          [
           13068
          ],
          [
           15000
          ],
          [
           12000
          ],
          [
           14040
          ],
          [
           17278
          ],
          [
           49029
          ],
          [
           10560
          ],
          [
           11616
          ],
          [
           12600
          ],
          [
           13068
          ],
          [
           13200
          ],
          [
           199650
          ],
          [
           29000
          ],
          [
           20625
          ],
          [
           20000
          ],
          [
           23400
          ],
          [
           25000
          ],
          [
           29500
          ],
          [
           36000
          ],
          [
           13068
          ],
          [
           17424
          ],
          [
           23500.8
          ],
          [
           21780
          ],
          [
           23232
          ],
          [
           28339.2
          ],
          [
           32832
          ],
          [
           20000
          ],
          [
           58752
          ],
          [
           18000
          ],
          [
           12000
          ],
          [
           88500
          ],
          [
           30000
          ],
          [
           96558.4
          ],
          [
           126732.9
          ],
          [
           126732.9
          ],
          [
           156907.4
          ],
          [
           10000
          ],
          [
           15000
          ],
          [
           20000
          ],
          [
           87609.6
          ],
          [
           96558.4
          ],
          [
           126732.9
          ],
          [
           126732.9
          ],
          [
           14000
          ],
          [
           14040
          ],
          [
           15400
          ],
          [
           15400
          ],
          [
           15935
          ],
          [
           16000
          ],
          [
           16170
          ],
          [
           16500
          ],
          [
           16632
          ],
          [
           17278
          ],
          [
           17600
          ],
          [
           18000
          ],
          [
           18000
          ],
          [
           19000
          ],
          [
           19250
          ],
          [
           19656
          ],
          [
           20000
          ],
          [
           20000
          ],
          [
           20625
          ],
          [
           22857
          ],
          [
           28057
          ],
          [
           40000
          ],
          [
           49029
          ],
          [
           12000
          ],
          [
           12000
          ],
          [
           12000
          ],
          [
           55000
          ],
          [
           13068
          ],
          [
           13200
          ],
          [
           15000
          ],
          [
           15000
          ],
          [
           18000
          ],
          [
           30000
          ],
          [
           30000
          ],
          [
           15000
          ],
          [
           20000
          ],
          [
           96558.4
          ],
          [
           126732.9
          ],
          [
           110000
          ],
          [
           126732.9
          ],
          [
           174240
          ],
          [
           15000
          ],
          [
           40000
          ],
          [
           152460
          ],
          [
           193600
          ],
          [
           235950
          ],
          [
           239580
          ],
          [
           10000
          ],
          [
           10300
          ],
          [
           12000
          ],
          [
           12000
          ],
          [
           156907.4
          ],
          [
           13068
          ],
          [
           120987.9
          ],
          [
           11616
          ],
          [
           32832
          ],
          [
           36000
          ],
          [
           58752
          ],
          [
           87609.6
          ],
          [
           10560
          ],
          [
           10800
          ],
          [
           29500
          ],
          [
           47044.8
          ],
          [
           65000
          ],
          [
           99825
          ],
          [
           104776.32
          ],
          [
           110000
          ],
          [
           199650
          ],
          [
           240149
          ],
          [
           10000
          ],
          [
           11520
          ],
          [
           12000
          ],
          [
           12000
          ],
          [
           12000
          ],
          [
           15000
          ],
          [
           20000
          ],
          [
           23000
          ],
          [
           25000
          ],
          [
           28339.2
          ],
          [
           25000
          ],
          [
           23500.8
          ],
          [
           23400
          ],
          [
           12600
          ],
          [
           13068
          ],
          [
           13068
          ],
          [
           13200
          ],
          [
           13200
          ],
          [
           14000
          ],
          [
           14000
          ],
          [
           14000
          ],
          [
           14000
          ],
          [
           14400
          ],
          [
           14400
          ],
          [
           10560
          ],
          [
           15200
          ],
          [
           15840
          ],
          [
           16000
          ],
          [
           17424
          ],
          [
           18000
          ],
          [
           19800
          ],
          [
           19800
          ],
          [
           20000
          ],
          [
           20000
          ],
          [
           21600
          ],
          [
           21780
          ],
          [
           23232
          ],
          [
           15200
          ],
          [
           15000
          ],
          [
           88500
          ],
          [
           15000
          ],
          [
           23500.8
          ],
          [
           25000
          ],
          [
           28339.2
          ],
          [
           30000
          ],
          [
           30000
          ],
          [
           32832
          ],
          [
           40000
          ],
          [
           55000
          ],
          [
           58752
          ],
          [
           87609.6
          ],
          [
           10000
          ],
          [
           11520
          ],
          [
           12000
          ],
          [
           12000
          ],
          [
           13068
          ],
          [
           13068
          ],
          [
           13200
          ],
          [
           18000
          ],
          [
           20000
          ],
          [
           23000
          ],
          [
           10560
          ],
          [
           19000
          ],
          [
           29500
          ],
          [
           23232
          ],
          [
           21780
          ],
          [
           15000
          ],
          [
           15000
          ],
          [
           156907.4
          ],
          [
           12000
          ],
          [
           14000
          ],
          [
           15400
          ],
          [
           151250
          ],
          [
           15935
          ],
          [
           16000
          ],
          [
           16170
          ],
          [
           16500
          ],
          [
           16632
          ],
          [
           17600
          ],
          [
           65000
          ],
          [
           19250
          ],
          [
           20000
          ],
          [
           20000
          ],
          [
           22857
          ],
          [
           28057
          ],
          [
           10300
          ],
          [
           12000
          ],
          [
           12000
          ],
          [
           17424
          ],
          [
           106200
          ],
          [
           183100
          ],
          [
           13068
          ],
          [
           19656
          ],
          [
           40000
          ],
          [
           69300
          ],
          [
           40000
          ],
          [
           20000
          ],
          [
           20000
          ],
          [
           21600
          ],
          [
           23400
          ],
          [
           25000
          ],
          [
           36000
          ],
          [
           10800
          ],
          [
           11000
          ],
          [
           12000
          ],
          [
           14040
          ],
          [
           15000
          ],
          [
           17278
          ],
          [
           49029
          ],
          [
           15000
          ],
          [
           22000
          ],
          [
           30000
          ],
          [
           35000
          ],
          [
           110000
          ],
          [
           121992
          ],
          [
           13200
          ],
          [
           250470
          ],
          [
           156816
          ],
          [
           108900
          ],
          [
           20000
          ],
          [
           20000
          ],
          [
           19800
          ],
          [
           19800
          ],
          [
           20000
          ],
          [
           12000
          ],
          [
           18000
          ],
          [
           20625
          ],
          [
           22000
          ],
          [
           43200
          ],
          [
           61000
          ],
          [
           10560
          ],
          [
           11616
          ],
          [
           12600
          ],
          [
           13068
          ],
          [
           110000
          ],
          [
           13200
          ],
          [
           14000
          ],
          [
           14000
          ],
          [
           14000
          ],
          [
           14000
          ],
          [
           14400
          ],
          [
           14400
          ],
          [
           15200
          ],
          [
           15200
          ],
          [
           15840
          ],
          [
           16000
          ],
          [
           18000
          ],
          [
           13200
          ],
          [
           30000
          ],
          [
           40000
          ],
          [
           30000
          ],
          [
           200000
          ],
          [
           17000
          ],
          [
           10000
          ],
          [
           10000
          ],
          [
           10000
          ],
          [
           40000
          ],
          [
           100843.21
          ],
          [
           101821.5
          ],
          [
           108900
          ],
          [
           154275
          ],
          [
           159720
          ],
          [
           209088
          ],
          [
           55000
          ],
          [
           10000
          ],
          [
           10000
          ],
          [
           10300
          ],
          [
           11520
          ],
          [
           12000
          ],
          [
           12000
          ],
          [
           12000
          ],
          [
           12000
          ],
          [
           12000
          ],
          [
           12000
          ],
          [
           33057
          ],
          [
           15000
          ],
          [
           29857
          ],
          [
           25000
          ],
          [
           65000
          ],
          [
           110000
          ],
          [
           18000
          ],
          [
           20000
          ],
          [
           20000
          ],
          [
           20625
          ],
          [
           22000
          ],
          [
           29000
          ],
          [
           106200
          ],
          [
           110000
          ],
          [
           121992
          ],
          [
           183100
          ],
          [
           16000
          ],
          [
           18900
          ],
          [
           19000
          ],
          [
           20790
          ],
          [
           20815
          ],
          [
           20900
          ],
          [
           22275
          ],
          [
           22453.2
          ],
          [
           23000
          ],
          [
           23890
          ],
          [
           25000
          ],
          [
           26437.5
          ],
          [
           15000
          ],
          [
           15000
          ],
          [
           20000
          ],
          [
           14000
          ],
          [
           15200
          ],
          [
           15206.4
          ],
          [
           16727
          ],
          [
           17424
          ],
          [
           18000
          ],
          [
           18000
          ],
          [
           18000
          ],
          [
           18666.66
          ],
          [
           19008
          ],
          [
           19800
          ],
          [
           19800
          ],
          [
           20000
          ],
          [
           20000
          ],
          [
           20000
          ],
          [
           20266.66
          ],
          [
           20736
          ],
          [
           21333.33
          ],
          [
           21600
          ],
          [
           22809.6
          ],
          [
           23000
          ],
          [
           24000
          ],
          [
           25000
          ],
          [
           14000
          ],
          [
           14000
          ],
          [
           13200
          ],
          [
           12600
          ],
          [
           23000
          ],
          [
           30000
          ],
          [
           30000
          ],
          [
           30000
          ],
          [
           40000
          ],
          [
           69300
          ],
          [
           10560
          ],
          [
           15000
          ],
          [
           15000
          ],
          [
           19000
          ],
          [
           61000
          ],
          [
           29500
          ],
          [
           25000
          ],
          [
           200000
          ],
          [
           13068
          ],
          [
           15000
          ],
          [
           15000
          ],
          [
           20000
          ],
          [
           20000
          ],
          [
           20217.6
          ],
          [
           24880.32
          ],
          [
           28000
          ],
          [
           35000
          ],
          [
           49029
          ],
          [
           200000
          ],
          [
           18000
          ],
          [
           30000
          ],
          [
           18000
          ],
          [
           33057
          ],
          [
           34049
          ],
          [
           15000
          ],
          [
           15000
          ],
          [
           29500
          ],
          [
           30000
          ],
          [
           30000
          ],
          [
           65000
          ],
          [
           110000
          ],
          [
           12600
          ],
          [
           13200
          ],
          [
           14000
          ],
          [
           14000
          ],
          [
           14000
          ],
          [
           15200
          ],
          [
           15206.4
          ],
          [
           16727
          ],
          [
           17424
          ],
          [
           18000
          ],
          [
           18000
          ],
          [
           18000
          ],
          [
           18666.66
          ],
          [
           19008
          ],
          [
           26437.5
          ],
          [
           25000
          ],
          [
           22453.2
          ],
          [
           22275
          ],
          [
           162624
          ],
          [
           203280
          ],
          [
           218317.27
          ],
          [
           223850
          ],
          [
           251680
          ],
          [
           150875.51
          ],
          [
           179685
          ],
          [
           228690
          ],
          [
           235950
          ],
          [
           25000
          ],
          [
           30000
          ],
          [
           19800
          ],
          [
           15000
          ],
          [
           18000
          ],
          [
           20000
          ],
          [
           35000
          ],
          [
           61000
          ],
          [
           110000
          ],
          [
           121992
          ],
          [
           183100
          ],
          [
           25000
          ],
          [
           16000
          ],
          [
           18900
          ],
          [
           20900
          ],
          [
           18000
          ],
          [
           27200
          ],
          [
           19800
          ],
          [
           20000
          ],
          [
           21780
          ],
          [
           23232
          ],
          [
           23500.8
          ],
          [
           28339.2
          ],
          [
           32832
          ],
          [
           58752
          ],
          [
           69300
          ],
          [
           87609.6
          ],
          [
           25000
          ],
          [
           40000
          ],
          [
           59435.81
          ],
          [
           101821.5
          ],
          [
           104544
          ],
          [
           123420
          ],
          [
           157164.48
          ],
          [
           161716.5
          ],
          [
           170156.25
          ],
          [
           20790
          ],
          [
           20790
          ],
          [
           18000
          ],
          [
           13068
          ],
          [
           15000
          ],
          [
           16500
          ],
          [
           17424
          ],
          [
           13068
          ],
          [
           55000
          ],
          [
           25000
          ],
          [
           20000
          ],
          [
           20217.6
          ],
          [
           20266.66
          ],
          [
           20736
          ],
          [
           21333.33
          ],
          [
           21600
          ],
          [
           22809.6
          ],
          [
           23000
          ],
          [
           24000
          ],
          [
           24880.32
          ],
          [
           25000
          ],
          [
           20000
          ],
          [
           27200
          ],
          [
           33333.33
          ],
          [
           33696
          ],
          [
           36000
          ],
          [
           49029
          ],
          [
           10000
          ],
          [
           10300
          ],
          [
           12000
          ],
          [
           40000
          ],
          [
           12000
          ],
          [
           20000
          ],
          [
           20000
          ],
          [
           28000
          ],
          [
           33333.33
          ],
          [
           33696
          ],
          [
           36000
          ],
          [
           18000
          ],
          [
           121992
          ],
          [
           13068
          ],
          [
           17424
          ],
          [
           21780
          ],
          [
           23500.8
          ],
          [
           23232
          ],
          [
           28339.2
          ],
          [
           32832
          ],
          [
           58752
          ],
          [
           87609.6
          ],
          [
           18000
          ],
          [
           18000
          ],
          [
           20790
          ],
          [
           23000
          ],
          [
           148104
          ],
          [
           99825
          ],
          [
           104816.25
          ],
          [
           198110.88
          ],
          [
           203280
          ],
          [
           217800
          ],
          [
           245025
          ],
          [
           12000
          ],
          [
           15000
          ],
          [
           11000
          ],
          [
           18000
          ],
          [
           35000
          ],
          [
           20000
          ],
          [
           20000
          ],
          [
           20000
          ],
          [
           20266.66
          ],
          [
           20736
          ],
          [
           21333.33
          ],
          [
           21600
          ],
          [
           22809.6
          ],
          [
           23000
          ],
          [
           24000
          ],
          [
           25000
          ],
          [
           16000
          ],
          [
           27200
          ],
          [
           33696
          ],
          [
           36000
          ],
          [
           13068
          ],
          [
           20217.6
          ],
          [
           24880.32
          ],
          [
           28000
          ],
          [
           49029
          ],
          [
           106200
          ],
          [
           199650
          ],
          [
           18750
          ],
          [
           19200
          ],
          [
           33333.33
          ],
          [
           20000
          ],
          [
           17000
          ],
          [
           18823
          ],
          [
           10560
          ],
          [
           30000
          ],
          [
           55000
          ],
          [
           106200
          ],
          [
           10000
          ],
          [
           10000
          ],
          [
           10000
          ],
          [
           13068
          ],
          [
           15000
          ],
          [
           15000
          ],
          [
           16500
          ],
          [
           18000
          ],
          [
           19000
          ],
          [
           20000
          ],
          [
           22000
          ],
          [
           25000
          ],
          [
           10000
          ],
          [
           10300
          ],
          [
           12000
          ],
          [
           12000
          ],
          [
           12000
          ],
          [
           15000
          ],
          [
           15000
          ],
          [
           40000
          ],
          [
           15000
          ],
          [
           209632.5
          ],
          [
           203280
          ],
          [
           18900
          ],
          [
           18900
          ],
          [
           19000
          ],
          [
           20790
          ],
          [
           22275
          ],
          [
           22453.2
          ],
          [
           23000
          ],
          [
           25000
          ],
          [
           25000
          ],
          [
           26437.5
          ],
          [
           27000
          ],
          [
           18000
          ],
          [
           30000
          ],
          [
           20000
          ],
          [
           25000
          ],
          [
           30000
          ],
          [
           18000
          ],
          [
           29500
          ],
          [
           65000
          ],
          [
           110000
          ],
          [
           121992
          ],
          [
           183100
          ],
          [
           99316.8
          ],
          [
           190575
          ],
          [
           18000
          ],
          [
           30000
          ],
          [
           20000
          ],
          [
           19800
          ],
          [
           16000
          ],
          [
           16500
          ],
          [
           18000
          ],
          [
           18900
          ],
          [
           19000
          ],
          [
           20000
          ],
          [
           20000
          ],
          [
           20625
          ],
          [
           20790
          ],
          [
           20900
          ],
          [
           22000
          ],
          [
           22275
          ],
          [
           22453.2
          ],
          [
           23000
          ],
          [
           23890
          ],
          [
           25000
          ],
          [
           25000
          ],
          [
           26437.5
          ],
          [
           29000
          ],
          [
           29500
          ],
          [
           29857
          ],
          [
           33057
          ],
          [
           60348.96
          ],
          [
           13068
          ],
          [
           183100
          ],
          [
           18000
          ],
          [
           20815
          ],
          [
           10800
          ],
          [
           11000
          ],
          [
           13068
          ],
          [
           15000
          ],
          [
           17424
          ],
          [
           19200
          ],
          [
           21780
          ],
          [
           23500.8
          ],
          [
           23232
          ],
          [
           28339.2
          ],
          [
           32832
          ],
          [
           65000
          ],
          [
           58752
          ],
          [
           10000
          ],
          [
           10000
          ],
          [
           10000
          ],
          [
           99825
          ],
          [
           100843.21
          ],
          [
           101821.5
          ],
          [
           102093.75
          ],
          [
           108900
          ],
          [
           154275
          ],
          [
           203280
          ],
          [
           20790
          ],
          [
           87609.6
          ],
          [
           19800
          ],
          [
           79208.01
          ],
          [
           98067.06
          ],
          [
           17000
          ],
          [
           25000
          ],
          [
           10800
          ],
          [
           15000
          ],
          [
           15000
          ],
          [
           15000
          ],
          [
           15000
          ],
          [
           55000
          ],
          [
           12600
          ],
          [
           13200
          ],
          [
           14000
          ],
          [
           14000
          ],
          [
           14000
          ],
          [
           15200
          ],
          [
           15206.4
          ],
          [
           16727
          ],
          [
           17424
          ],
          [
           18000
          ],
          [
           18000
          ],
          [
           18000
          ],
          [
           18666.66
          ],
          [
           19000
          ],
          [
           19008
          ],
          [
           23000
          ],
          [
           20000
          ],
          [
           12000
          ],
          [
           12000
          ],
          [
           110000
          ],
          [
           110000
          ],
          [
           30000
          ],
          [
           40000
          ],
          [
           61000
          ],
          [
           15000
          ],
          [
           10000
          ],
          [
           10300
          ],
          [
           12000
          ],
          [
           12000
          ],
          [
           12000
          ],
          [
           79208.01
          ],
          [
           30000
          ],
          [
           40000
          ],
          [
           69300
          ],
          [
           12000
          ],
          [
           15000
          ],
          [
           15000
          ],
          [
           18000
          ],
          [
           30000
          ],
          [
           30000
          ],
          [
           10000
          ],
          [
           10560
          ],
          [
           11520
          ],
          [
           40000
          ],
          [
           42000
          ],
          [
           100000
          ],
          [
           18480
          ],
          [
           43200
          ],
          [
           42000
          ],
          [
           10300
          ],
          [
           11000
          ],
          [
           35000
          ],
          [
           25000
          ],
          [
           21780
          ],
          [
           13068
          ],
          [
           13068
          ],
          [
           22000
          ],
          [
           13200
          ],
          [
           20000
          ],
          [
           18000
          ],
          [
           61000
          ],
          [
           15000
          ],
          [
           12000
          ],
          [
           55000
          ],
          [
           15000
          ],
          [
           15000
          ],
          [
           55000
          ],
          [
           13200
          ],
          [
           15000
          ],
          [
           12000
          ],
          [
           14040
          ],
          [
           15000
          ],
          [
           15000
          ],
          [
           42900
          ],
          [
           15000
          ],
          [
           12000
          ],
          [
           20000
          ],
          [
           24856.42
          ],
          [
           183100
          ],
          [
           251680
          ],
          [
           20000
          ],
          [
           21780
          ],
          [
           22000
          ],
          [
           40000
          ],
          [
           30000
          ],
          [
           23000
          ],
          [
           20625
          ],
          [
           79860
          ],
          [
           80858.25
          ],
          [
           87596.44
          ],
          [
           25000
          ],
          [
           86510.16
          ],
          [
           25000
          ],
          [
           20000
          ],
          [
           20000
          ],
          [
           18000
          ],
          [
           42000
          ],
          [
           15400
          ],
          [
           15000
          ],
          [
           209552.64
          ],
          [
           15000
          ],
          [
           61000
          ],
          [
           15000
          ],
          [
           110000
          ],
          [
           12000
          ],
          [
           10800
          ],
          [
           183100
          ],
          [
           229326.24
          ],
          [
           15000
          ],
          [
           251559
          ],
          [
           13068
          ],
          [
           65000
          ],
          [
           15000
          ],
          [
           16000
          ],
          [
           18000
          ],
          [
           21600
          ],
          [
           23400
          ],
          [
           25000
          ],
          [
           42900
          ],
          [
           10560
          ],
          [
           13200
          ],
          [
           15000
          ],
          [
           10560
          ],
          [
           13200
          ],
          [
           14000
          ],
          [
           15000
          ],
          [
           13068
          ],
          [
           14000
          ],
          [
           14000
          ],
          [
           69300
          ],
          [
           55000
          ],
          [
           42900
          ],
          [
           40000
          ],
          [
           14000
          ],
          [
           14000
          ],
          [
           25000
          ],
          [
           23400
          ],
          [
           21600
          ],
          [
           20625
          ],
          [
           16500
          ],
          [
           14000
          ],
          [
           14400
          ],
          [
           14040
          ],
          [
           13068
          ],
          [
           14400
          ],
          [
           29500
          ],
          [
           87609.6
          ],
          [
           58752
          ],
          [
           15000
          ],
          [
           16500
          ],
          [
           18000
          ],
          [
           16000
          ],
          [
           18000
          ],
          [
           21600
          ],
          [
           11000
          ],
          [
           10800
          ],
          [
           32832
          ],
          [
           23400
          ],
          [
           28339.2
          ],
          [
           25000
          ],
          [
           23232
          ],
          [
           20000
          ],
          [
           21780
          ],
          [
           23500.8
          ],
          [
           30000
          ],
          [
           233772
          ],
          [
           40000
          ],
          [
           25000
          ],
          [
           78516.9
          ],
          [
           20000
          ],
          [
           19000
          ],
          [
           269527.5
          ],
          [
           12000
          ],
          [
           110000
          ],
          [
           20000
          ],
          [
           110000
          ],
          [
           20000
          ],
          [
           14000
          ],
          [
           14040
          ],
          [
           14000
          ],
          [
           17278
          ],
          [
           15000
          ],
          [
           15400
          ],
          [
           15400
          ],
          [
           40000
          ],
          [
           15400
          ],
          [
           42900
          ],
          [
           16170
          ],
          [
           215622
          ],
          [
           209552.64
          ],
          [
           13943
          ],
          [
           131921.46
          ],
          [
           85377.6
          ],
          [
           16500
          ],
          [
           25000
          ],
          [
           20000
          ],
          [
           40000
          ],
          [
           16632
          ],
          [
           19250
          ],
          [
           19656
          ],
          [
           20000
          ],
          [
           69300
          ],
          [
           12000
          ],
          [
           19656
          ],
          [
           12000
          ],
          [
           25000
          ],
          [
           12000
          ],
          [
           110000
          ],
          [
           12000
          ],
          [
           13068
          ],
          [
           12000
          ],
          [
           17424
          ],
          [
           21780
          ],
          [
           18000
          ],
          [
           23500.8
          ],
          [
           11520
          ],
          [
           12000
          ],
          [
           18000
          ],
          [
           20000
          ],
          [
           13068
          ],
          [
           13200
          ],
          [
           20625
          ],
          [
           18500
          ],
          [
           18000
          ],
          [
           15200
          ],
          [
           23000
          ],
          [
           15200
          ],
          [
           12600
          ],
          [
           29500
          ],
          [
           43200
          ],
          [
           65000
          ],
          [
           13068
          ],
          [
           13200
          ],
          [
           14400
          ],
          [
           16000
          ],
          [
           21600
          ],
          [
           23400
          ],
          [
           36000
          ],
          [
           25000
          ],
          [
           199650
          ],
          [
           19250
          ],
          [
           30000
          ],
          [
           23000
          ],
          [
           20000
          ],
          [
           102850
          ],
          [
           12000
          ],
          [
           12000
          ],
          [
           11520
          ],
          [
           10000
          ],
          [
           182952
          ],
          [
           133100
          ],
          [
           20000
          ],
          [
           15000
          ],
          [
           87947.64
          ],
          [
           133100
          ],
          [
           58752
          ],
          [
           49912.5
          ],
          [
           14000
          ],
          [
           14000
          ],
          [
           16500
          ],
          [
           16800
          ],
          [
           17424
          ],
          [
           19250
          ],
          [
           20000
          ],
          [
           21400
          ],
          [
           18000
          ],
          [
           209632.5
          ],
          [
           96800
          ],
          [
           127050
          ],
          [
           138772.48
          ],
          [
           84700
          ],
          [
           40000
          ],
          [
           13068
          ],
          [
           12000
          ],
          [
           18000
          ],
          [
           16632
          ],
          [
           11520
          ],
          [
           15000
          ],
          [
           16500
          ],
          [
           11000
          ],
          [
           35000
          ],
          [
           55000
          ],
          [
           42000
          ],
          [
           16170
          ],
          [
           25000
          ],
          [
           28339.2
          ],
          [
           12000
          ],
          [
           32832
          ],
          [
           12000
          ],
          [
           87609.6
          ],
          [
           10300
          ],
          [
           15400
          ],
          [
           12000
          ],
          [
           12000
          ],
          [
           23232
          ],
          [
           15400
          ],
          [
           14000
          ],
          [
           14000
          ],
          [
           12000
          ],
          [
           16500
          ],
          [
           15000
          ],
          [
           13943
          ],
          [
           12000
          ],
          [
           40000
          ],
          [
           18000
          ],
          [
           16500
          ],
          [
           36000
          ],
          [
           42000
          ],
          [
           42000
          ],
          [
           49000
          ],
          [
           17424
          ],
          [
           13068
          ],
          [
           106480
          ],
          [
           23500.8
          ],
          [
           30000
          ],
          [
           156351.36
          ],
          [
           40000
          ],
          [
           21780
          ],
          [
           20000
          ],
          [
           58752
          ],
          [
           15000
          ],
          [
           12000
          ],
          [
           25000
          ],
          [
           87609.6
          ],
          [
           15000
          ],
          [
           16500
          ],
          [
           15000
          ],
          [
           20000
          ],
          [
           21780
          ],
          [
           133100
          ],
          [
           23500.8
          ],
          [
           40000
          ],
          [
           10560
          ],
          [
           17424
          ],
          [
           21780
          ],
          [
           23400
          ],
          [
           25000
          ],
          [
           15000
          ],
          [
           18000
          ],
          [
           20000
          ],
          [
           21780
          ],
          [
           15000
          ],
          [
           23232
          ],
          [
           23500.8
          ],
          [
           32832
          ],
          [
           49000
          ],
          [
           25000
          ],
          [
           13200
          ],
          [
           13068
          ],
          [
           235950
          ],
          [
           229326.24
          ],
          [
           28339.2
          ],
          [
           30000
          ],
          [
           32832
          ],
          [
           21600
          ],
          [
           13068
          ],
          [
           19656
          ],
          [
           156907.36
          ],
          [
           15400
          ],
          [
           58752
          ],
          [
           22000
          ],
          [
           15400
          ],
          [
           15000
          ],
          [
           205940.91
          ],
          [
           174240
          ],
          [
           57750
          ],
          [
           205940.91
          ],
          [
           254974.46
          ],
          [
           14000
          ],
          [
           10800
          ],
          [
           87609.6
          ],
          [
           14000
          ],
          [
           13943
          ],
          [
           104776.32
          ],
          [
           30000
          ],
          [
           12000
          ],
          [
           12000
          ],
          [
           62726.4
          ],
          [
           15400
          ],
          [
           11000
          ],
          [
           96800
          ],
          [
           95832
          ],
          [
           12000
          ],
          [
           19250
          ],
          [
           12000
          ],
          [
           121992
          ],
          [
           10300
          ],
          [
           15000
          ],
          [
           13200
          ],
          [
           10300
          ],
          [
           69300
          ],
          [
           19000
          ],
          [
           20000
          ],
          [
           16632
          ],
          [
           17424
          ],
          [
           72000
          ],
          [
           16500
          ],
          [
           16170
          ],
          [
           43200
          ],
          [
           12000
          ],
          [
           72000
          ],
          [
           14040
          ],
          [
           17278
          ],
          [
           36000
          ],
          [
           19000
          ],
          [
           20000
          ],
          [
           15000
          ],
          [
           35000
          ],
          [
           39204
          ],
          [
           32343.3
          ],
          [
           19800
          ],
          [
           18500
          ],
          [
           69300
          ],
          [
           55000
          ],
          [
           15840
          ],
          [
           246235
          ],
          [
           19800
          ],
          [
           121992
          ],
          [
           15200
          ],
          [
           35000
          ],
          [
           17278
          ],
          [
           19250
          ],
          [
           183100
          ],
          [
           20000
          ],
          [
           21400
          ],
          [
           19800
          ],
          [
           15200
          ],
          [
           15840
          ],
          [
           40761.88
          ],
          [
           10000
          ],
          [
           20000
          ],
          [
           256158.94
          ],
          [
           16000
          ],
          [
           14400
          ],
          [
           14040
          ],
          [
           13068
          ],
          [
           12000
          ],
          [
           12000
          ],
          [
           12000
          ],
          [
           14400
          ],
          [
           13200
          ],
          [
           10300
          ],
          [
           174693.75
          ],
          [
           69300
          ],
          [
           258456
          ],
          [
           10000
          ],
          [
           215622
          ],
          [
           174693.75
          ],
          [
           16800
          ],
          [
           18480
          ],
          [
           36000
          ],
          [
           64686.6
          ],
          [
           19800
          ],
          [
           14000
          ],
          [
           14400
          ],
          [
           14000
          ],
          [
           23232
          ],
          [
           13200
          ],
          [
           207968.75
          ],
          [
           235950
          ],
          [
           21780
          ],
          [
           25000
          ],
          [
           13068
          ],
          [
           49000
          ],
          [
           242000
          ],
          [
           266200
          ],
          [
           30000
          ],
          [
           237160
          ],
          [
           23232
          ],
          [
           28339.2
          ],
          [
           14400
          ],
          [
           16000
          ],
          [
           18000
          ],
          [
           12600
          ],
          [
           15000
          ],
          [
           93840
          ],
          [
           13068
          ],
          [
           72600
          ],
          [
           72000
          ],
          [
           17278
          ],
          [
           72000
          ],
          [
           14000
          ],
          [
           17278
          ],
          [
           13068
          ],
          [
           15000
          ],
          [
           12000
          ],
          [
           12000
          ],
          [
           36000
          ],
          [
           36000
          ],
          [
           242574.75
          ],
          [
           143388.63
          ],
          [
           14000
          ],
          [
           87609.6
          ],
          [
           47970.45
          ],
          [
           32832
          ],
          [
           20000
          ],
          [
           72000
          ],
          [
           42900
          ],
          [
           13200
          ],
          [
           28339.2
          ],
          [
           72000
          ],
          [
           61000
          ],
          [
           58752
          ]
         ],
         "hovertemplate": "Cluster=Cluster 0<br>0=%{x}<br>1=%{y}<br>2=%{z}<br>Feature=%{customdata[0]}<extra></extra>",
         "legendgroup": "Cluster 0",
         "marker": {
          "color": "#636efa",
          "opacity": 0.7,
          "symbol": "circle"
         },
         "mode": "markers",
         "name": "Cluster 0",
         "scene": "scene",
         "showlegend": true,
         "type": "scatter3d",
         "x": [
          0.30691054,
          -1.169257,
          -6.2667623,
          -4.6680355,
          -3.5949087,
          8.410671,
          3.100185,
          -20.93774,
          -4.198181,
          4.2407694,
          -4.075477,
          0.3474451,
          2.7784054,
          2.3555014,
          2.7784054,
          -5.516043,
          4.7039256,
          -0.048719566,
          -0.7109469,
          -0.804543,
          -4.6680355,
          9.406715,
          -2.5575576,
          6.327972,
          -0.6749277,
          5.8820524,
          -2.920928,
          -6.0746527,
          16.174072,
          8.7466135,
          8.570516,
          -3.4479008,
          -3.6912804,
          -4.858482,
          -4.933398,
          13.953491,
          -13.554848,
          -1.6718315,
          -2.422294,
          -2.614929,
          -4.437246,
          -3.1511357,
          10.180778,
          6.5352926,
          9.787067,
          9.759387,
          0.25683376,
          1.2372783,
          3.7441773,
          2.3642848,
          -0.24641177,
          -5.270515,
          5.8985796,
          -0.6936405,
          -1.0871874,
          -0.9013212,
          -1.2913725,
          17.475897,
          -1.867251,
          -3.1104224,
          -5.322435,
          15.597019,
          9.787067,
          1.9262512,
          15.694865,
          0.2567971,
          3.7440922,
          -0.104132265,
          -0.58629215,
          -6.177383,
          -1.3613048,
          2.2937317,
          2.8813262,
          2.9425719,
          11.994957,
          -5.65416,
          -6.2667623,
          13.3655,
          -19.18661,
          8.293173,
          1.8763001,
          -16.001661,
          15.6947,
          0.3085819,
          -0.22714107,
          0.38993415,
          0.32607853,
          0.49557438,
          1.1568798,
          0.96486604,
          2.4946709,
          6.0265865,
          6.562445,
          7.681922,
          7.042425,
          2.5935547,
          -1.4905437,
          -4.534901,
          11.871048,
          4.8978815,
          0.9073701,
          -3.3488245,
          2.0836096,
          15.923897,
          -15.083809,
          1.7911903,
          7.039235,
          8.156015,
          8.325791,
          16.760475,
          -21.299278,
          17.54231,
          4.7039256,
          10.596178,
          6.3334727,
          13.303178,
          15.960253,
          17.627575,
          16.760475,
          7.979506,
          7.932025,
          7.7683783,
          16.67876,
          8.570516,
          8.570516,
          -0.8474015,
          -3.4479008,
          -3.353631,
          -4.8584795,
          -4.933398,
          13.788477,
          -3.418761,
          -13.173195,
          -2.046529,
          -5.304763,
          7.4674783,
          8.260021,
          11.820377,
          -2.9456358,
          9.5608425,
          2.5196617,
          -20.937727,
          4.2407694,
          -4.534901,
          -6.2667623,
          -0.9660229,
          1.670181,
          2.4872699,
          -1.6718315,
          6.040839,
          8.223293,
          9.867464,
          9.326502,
          -2.3374884,
          9.632384,
          4.803202,
          0.9322956,
          -0.10413243,
          -5.3224354,
          -5.270626,
          -6.440589,
          8.7310915,
          5.8820524,
          -2.708179,
          -4.437246,
          2.363649,
          10.758606,
          6.040839,
          8.714753,
          7.8799534,
          -13.926549,
          16.088285,
          -14.592275,
          -14.715593,
          9.981606,
          9.61252,
          -20.50396,
          -0.9660229,
          -1.664537,
          8.253212,
          7.4674783,
          -5.067643,
          -21.299278,
          17.54231,
          6.3334727,
          13.303179,
          15.908996,
          17.473808,
          -0.4585667,
          2.8224082,
          12.2341,
          -2.1558542,
          -3.277482,
          10.180778,
          -4.6097755,
          6.7578287,
          15.688289,
          2.232551,
          -16.001661,
          -14.953634,
          2.0180686,
          2.0672615,
          -19.18661,
          -1.8780797,
          -0.9013212,
          13.549473,
          0.011723563,
          2.2233467,
          6.1288934,
          4.4476113,
          2.9528484,
          2.9689193,
          -0.70186555,
          -5.7312613,
          11.654557,
          -14.076301,
          -1.3908856,
          4.4476113,
          2.9528482,
          2.9689193,
          -0.84625983,
          7.4674783,
          0.30691054,
          -0.17285828,
          0.38993415,
          0.21590075,
          0.76513755,
          0.89050394,
          1.1035556,
          -5.304763,
          2.4946709,
          -5.084045,
          13.539055,
          -3.5949094,
          6.1015673,
          6.562445,
          6.485306,
          6.660341,
          12.234099,
          2.7095947,
          -1.4905434,
          -20.937708,
          -21.066483,
          -1.2515821,
          8.584673,
          8.516318,
          5.8985806,
          -0.9660228,
          -14.212442,
          -1.1656182,
          -1.7015766,
          -14.856872,
          8.100677,
          3.3575807,
          15.597019,
          6.4966884,
          4.44759,
          2.9528484,
          0.9340289,
          2.9689577,
          1.115897,
          9.787067,
          -20.209791,
          1.8848319,
          -5.2809334,
          -1.6818495,
          -1.6472267,
          -5.8146214,
          -5.219923,
          -0.10883049,
          -0.9625076,
          -0.70186555,
          -13.869235,
          3.7620401,
          6.3334727,
          -19.186617,
          6.814121,
          -0.9013221,
          -1.2939296,
          10.758606,
          -4.534901,
          -4.6420236,
          0.32125515,
          -4.302346,
          -2.855616,
          -4.675617,
          -4.0132213,
          -5.8799143,
          -5.847296,
          2.1262276,
          6.0402226,
          8.666611,
          7.9029374,
          13.315552,
          11.708469,
          9.981606,
          10.237904,
          6.327972,
          1.9408119,
          10.181001,
          -16.001661,
          -3.1511357,
          13.303178,
          15.9205675,
          15.79676,
          17.624935,
          16.760475,
          7.967498,
          7.9702864,
          7.6302876,
          16.67876,
          8.7466135,
          8.570516,
          17.54231,
          -3.6912804,
          -4.858482,
          -4.933398,
          2.000319,
          13.369348,
          -1.6718315,
          -13.554848,
          -2.3054488,
          -2.394116,
          -4.443799,
          -15.083816,
          1.8224384,
          -3.353631,
          11.983599,
          2.2233467,
          -2.180981,
          -16.001661,
          6.327972,
          1.9358907,
          8.297434,
          3.100185,
          -19.18661,
          -20.938217,
          5.8985806,
          -0.9013221,
          -1.4026135,
          2.2379377,
          6.040839,
          9.070491,
          8.761411,
          -13.798714,
          -0.9660228,
          -14.128057,
          -14.968532,
          9.867464,
          10.227186,
          10.758606,
          -3.5949087,
          -4.6420236,
          1.9256558,
          -14.953634,
          -2.26536,
          -1.8426367,
          -0.70186555,
          -0.93514043,
          -0.8455263,
          0.101638496,
          1.9356668,
          0.38993415,
          0.63871956,
          0.44899777,
          0.88773316,
          1.3238113,
          2.4946709,
          -4.302346,
          6.0280485,
          6.8712134,
          6.239811,
          2.469298,
          -1.4905437,
          -5.337693,
          -0.69641024,
          -1.0542973,
          1.9733626,
          1.3909457,
          0.6737217,
          15.773588,
          6.562445,
          5.8827486,
          4.492486,
          -20.298111,
          -2.240149,
          -2.8898242,
          -4.08682,
          -3.1511357,
          10.1807785,
          6.814121,
          -4.534901,
          4.7039256,
          9.008848,
          7.4674783,
          -2.0910676,
          -5.067643,
          -21.299278,
          11.654557,
          10.043137,
          8.296541,
          -2.0453606,
          1.0616107,
          -3.3488245,
          17.626665,
          -1.3784249,
          2.3136566,
          3.9637187,
          -2.280783,
          9.490541,
          -1.6718315,
          -13.434043,
          -13.968264,
          8.374525,
          -5.149843,
          12.227709,
          10.043137,
          9.460531,
          4.8978815,
          17.54231,
          6.3332872,
          13.303179,
          15.940547,
          -4.075477,
          17.423098,
          8.105805,
          8.577316,
          8.262218,
          16.315859,
          8.570516,
          8.570516,
          -3.353631,
          -3.6912804,
          -4.8584795,
          -4.7096734,
          13.526831,
          16.760475,
          8.410812,
          5.8827486,
          8.100677,
          -5.8830256,
          -6.2667623,
          2.2256272,
          2.3901186,
          1.9983629,
          -20.937727,
          -0.3567892,
          4.3613787,
          4.094161,
          2.5904274,
          -3.7942448,
          -0.04354167,
          5.8985806,
          1.9983629,
          -6.067437,
          -5.5923414,
          6.040839,
          8.415803,
          7.8820825,
          8.717601,
          -1.1035746,
          -0.3343198,
          -0.41998702,
          -1.8895962,
          16.187714,
          -1.7172608,
          -0.30793175,
          -4.302346,
          -4.0754437,
          13.852423,
          -13.486505,
          -1.8041347,
          10.724148,
          10.216253,
          2.788504,
          1.3909284,
          0.9814622,
          -3.3487062,
          0.60818255,
          0.6045051,
          5.8623643,
          5.689599,
          6.2873187,
          5.9802446,
          5.9528813,
          3.4033368,
          3.1923778,
          2.2791772,
          1.0194767,
          -0.403679,
          -1.1017898,
          -0.5746322,
          -2.2484,
          9.49022,
          7.6128016,
          -3.353631,
          15.688262,
          -5.132925,
          -5.276659,
          -5.11065,
          -4.5167203,
          -4.427531,
          13.404229,
          12.915028,
          -13.812149,
          -1.6718026,
          -2.7173042,
          -1.6534048,
          -1.8947227,
          -3.6482031,
          -3.9332836,
          -4.3874555,
          -4.7781262,
          -3.6477983,
          -3.67822,
          10.546306,
          -6.2245946,
          8.391339,
          8.391339,
          17.607956,
          13.303178,
          9.841514,
          8.148795,
          8.100677,
          3.100185,
          5.8827486,
          4.435767,
          10.75757,
          11.694485,
          11.682983,
          -3.5949116,
          5.0307364,
          -4.6420236,
          6.327972,
          -5.8830256,
          -0.96604484,
          16.087255,
          9.787067,
          9.326502,
          -2.674253,
          -3.6381571,
          -2.0296233,
          1.8333875,
          -1.6512603,
          -21.299278,
          -5.8830256,
          -4.6680355,
          6.1288934,
          -14.968939,
          -1.889596,
          -2.052776,
          -2.515841,
          -2.1448812,
          -4.6420236,
          8.324294,
          3.461984,
          -4.302346,
          -4.0132837,
          13.303178,
          17.526798,
          8.551124,
          8.609773,
          8.710804,
          -3.353631,
          15.688262,
          -5.132925,
          -5.276659,
          -4.663071,
          -4.5167203,
          -5.2906156,
          13.210833,
          12.921316,
          -1.1017898,
          -0.30793175,
          3.0908542,
          3.4033368,
          1.5575348,
          -0.9984852,
          -5.2706256,
          -2.8152227,
          -6.7069325,
          -2.1628757,
          -4.15066,
          -1.6517369,
          -0.95248365,
          -4.619801,
          6.1288934,
          -13.214819,
          11.820377,
          13.852423,
          -13.730365,
          -1.867251,
          5.0307364,
          1.052358,
          -3.3488243,
          0.67317396,
          -0.4036774,
          0.30402064,
          5.8623643,
          5.9528813,
          -4.6680355,
          1.1748635,
          -1.6718315,
          -1.7800024,
          -15.083816,
          2.0000627,
          -16.35237,
          2.081096,
          -19.18661,
          -0.9013212,
          4.5791883,
          -1.2913725,
          -4.619801,
          -20.50396,
          0.03408913,
          4.3613787,
          4.2770553,
          3.006689,
          -4.3217144,
          -0.87612015,
          1.0941386,
          6.3097005,
          5.989974,
          -2.0593338,
          -13.960375,
          -1.7159111,
          -14.337194,
          2.2392626,
          15.739082,
          5.89858,
          6.327972,
          -1.5119561,
          -3.6381571,
          -3.6482031,
          -3.9332836,
          -4.387455,
          -4.4476056,
          -3.6477983,
          -3.5756915,
          10.546306,
          -2.0296233,
          -6.2245946,
          -1.7179388,
          1.1748635,
          7.181523,
          3.2279043,
          6.494953,
          -21.066483,
          -6.028172,
          -5.1022587,
          -1.0199189,
          5.8827486,
          7.702485,
          9.981606,
          -2.1616933,
          1.6925806,
          7.18152,
          3.227904,
          6.663805,
          -4.6680355,
          -3.348756,
          15.942326,
          2.0836096,
          -15.086354,
          -16.35237,
          2.0171487,
          1.9391989,
          -19.18661,
          -0.9013212,
          -1.3906695,
          -4.835198,
          -4.8477645,
          6.1089573,
          -3.67822,
          2.5518413,
          -2.8556159,
          -4.6753807,
          -3.2932303,
          -5.4578357,
          -1.3022282,
          -2.8775914,
          -0.7648932,
          -1.2885097,
          4.7039256,
          -2.0593338,
          -1.6512603,
          -2.7566319,
          -2.126201,
          -2.7853324,
          -3.6475337,
          -3.9332836,
          -4.387495,
          -4.0349894,
          -3.6477983,
          -3.698646,
          10.546345,
          -6.2245946,
          0.21590075,
          1.1748635,
          3.227904,
          6.7578287,
          -0.9660229,
          -3.6381574,
          -2.0296233,
          1.6497163,
          -21.299278,
          1.2306658,
          -0.10413141,
          9.579674,
          -3.418761,
          7.18152,
          -2.1108959,
          -6.2667623,
          5.544245,
          10.758606,
          8.324294,
          5.8985806,
          1.3905219,
          2.7037706,
          1.972497,
          2.7784054,
          -13.765615,
          15.597019,
          15.694921,
          -14.797238,
          -14.681883,
          -3.594909,
          -13.551793,
          10.043137,
          6.327972,
          -5.65416,
          -5.0628123,
          7.8634186,
          -1.0181895,
          -0.12881087,
          -1.6087565,
          -1.2272204,
          -20.50396,
          -1.7011266,
          -5.325334,
          -5.45854,
          5.5503826,
          5.5503826,
          5.91949,
          6.1089573,
          3.4033368,
          3.1923778,
          2.433935,
          -0.3080538,
          -0.3080538,
          -1.1017898,
          -1.2868524,
          13.953491,
          -1.7304118,
          -2.1344953,
          -6.2245946,
          6.1288934,
          -4.6680355,
          -4.6097755,
          -4.198181,
          -4.0132666,
          -3.348756,
          0.5582524,
          -0.36418375,
          0.107643254,
          -4.7693615,
          3.1625202,
          9.406211,
          -13.40099,
          0.21590075,
          -14.451204,
          -14.744754,
          5.5503826,
          6.039832,
          -14.076301,
          -1.9713365,
          12.227709,
          6.2873187,
          5.9528813,
          10.043137,
          3.4033368,
          3.0909193,
          2.488323,
          1.0179422,
          -0.3114088,
          -0.30793175,
          -1.1017898,
          2.7107666,
          -4.6420236,
          -1.7172608,
          -1.889596,
          6.082497,
          -13.765629,
          0.6701545,
          13.632749,
          5.9802446,
          -4.534901,
          4.7039256,
          15.908984,
          -0.68907624,
          2.000319,
          -3.418761,
          -15.083813,
          -16.001661,
          1.8649404,
          1.8763001,
          -19.18661,
          -4.198181,
          -0.9013212,
          2.4656117,
          2.3555014,
          2.2904127,
          -2.855616,
          -0.3567893,
          4.3613815,
          3.916296,
          4.0941615,
          2.5904274,
          -5.4585404,
          6.2873187,
          -1.4026135,
          -1.6718034,
          4.1213713,
          1.8498244,
          -6.2667623,
          6.327972,
          -4.534901,
          16.36406,
          12.051117,
          12.126876,
          16.187744,
          5.8985796,
          13.303178,
          17.50955,
          7.926772,
          8.551124,
          8.325791,
          -3.6912804,
          15.688264,
          -5.132925,
          -5.276659,
          -5.200287,
          -5.245699,
          -4.7693615,
          13.378375,
          -3.5949109,
          12.915028,
          9.999531,
          9.981606,
          7.5848813,
          8.072059,
          1.0614337,
          -4.0133224,
          6.1288934,
          -20.298111,
          5.0307364,
          -1.951848,
          -5.7544312,
          -5.337693,
          -0.40024427,
          0.0954171,
          -0.035372186,
          4.131438,
          8.147528,
          5.8827486,
          4.383595,
          8.544628,
          -1.5514423,
          -0.7895126,
          -2.0593338,
          8.145929,
          3.461984,
          2.4901466,
          10.758606,
          6.040839,
          -20.937748,
          6.429814,
          -21.586752,
          5.2325153,
          9.460531,
          6.4298186,
          -5.4055347,
          4.703926,
          -1.7530718,
          -1.9108647,
          -4.3576283,
          15.428068,
          -13.926549,
          10.043137,
          -14.128057,
          -13.725424,
          13.442381,
          5.2569723,
          -2.3192863,
          -0.4377006,
          5.8985806,
          11.820377,
          -1.5422683,
          5.8985806,
          17.574509,
          -1.0799254,
          7.9196672,
          7.4674783,
          16.07129,
          -0.8844025,
          -20.799622,
          11.871048,
          -0.1997241,
          7.0230784,
          0.84434575,
          0.38430882,
          -2.003907,
          9.867464,
          -4.3577437,
          10.274749,
          -20.938272,
          3.1547718,
          10.071221,
          12.234099,
          -2.647237,
          2.6792462,
          2.2789602,
          -1.9108647,
          -0.3447299,
          6.302743,
          6.781827,
          9.867464,
          -4.421973,
          6.4298716,
          -0.22714107,
          9.787067,
          -5.3224354,
          -2.4091961,
          5.1313105,
          -1.6668878,
          1.0134888,
          8.372562,
          -4.534901,
          0.3474449,
          -0.866049,
          11.654557,
          -1.8951914,
          15.326415,
          -4.302346,
          16.369404,
          -4.933398,
          -4.4511805,
          -4.437246,
          -3.1511357,
          -1.9108647,
          -20.799622,
          17.54231,
          17.434265,
          -1.054088,
          10.75757,
          16.760475,
          7.714462,
          16.372234,
          -0.96602273,
          -0.78737485,
          8.78886,
          4.556933,
          5.8985806,
          -20.799622,
          5.8820524,
          -0.78737485,
          16.174072,
          10.1807785,
          -3.058981,
          -4.726397,
          12.227709,
          1.1093069,
          8.523573,
          8.401069,
          7.4674783,
          15.531974,
          8.399561,
          -4.6420236,
          -1.3907293,
          -0.90131927,
          16.098581,
          9.563373,
          -14.764072,
          -4.933398,
          -4.835067,
          -4.437246,
          4.7039256,
          -4.534901,
          -19.18504,
          -3.371427,
          2.2934384,
          -1.9108647,
          1.9235377,
          -13.968264,
          -15.083816,
          -16.001661,
          8.4037485,
          -0.75567424,
          -20.937708,
          6.327972,
          -0.2572076,
          -1.5649403,
          -3.5949116,
          -6.708579,
          8.9341,
          -4.075477,
          6.239811,
          0.9301216,
          -2.6577146,
          -0.49756938,
          7.4674783,
          -1.0822066,
          -5.067643,
          -1.9034067,
          -0.22714107,
          0.101638496,
          -20.11766,
          -0.17218594,
          -20.799622,
          0.44899777,
          -2.8497112,
          -5.3224354,
          -0.8520579,
          -2.050641,
          -0.3359106,
          0.6599918,
          -0.40367514,
          6.239811,
          -20.938217,
          1.1035556,
          6.1015673,
          6.562445,
          6.4346457,
          4.6738462,
          8.958349,
          6.562445,
          7.894786,
          10.181001,
          -1.2238846,
          -4.075477,
          8.203463,
          15.761674,
          -6.287171,
          2.2848203,
          -15.086338,
          -5.084035,
          -16.001661,
          6.040839,
          7.5904913,
          -4.604552,
          6.8741164,
          -13.879508,
          -14.248645,
          12.227709,
          -4.241282,
          -14.967601,
          -3.6562068,
          9.489712,
          -3.6562068,
          13.303178,
          -4.6420236,
          9.460531,
          -4.198181,
          15.802953,
          17.583244,
          8.761187,
          -4.827987,
          -4.7783074,
          -3.277482,
          6.5352926,
          -0.30798545,
          -0.10412906,
          6.2928567,
          8.100677,
          9.489712,
          9.488653,
          4.128678,
          9.009112,
          7.813993,
          6.040839,
          2.86392,
          1.656344,
          2.6389084,
          -14.170113,
          -2.1722791,
          -0.3554942,
          2.6389084,
          -0.9013212,
          -21.111113,
          -0.9769473,
          -0.4981146,
          0.6737184,
          1.3321127,
          2.4424875,
          6.315292,
          6.8711767,
          5.3913126,
          13.815707,
          -0.7709838,
          4.441435,
          3.478301,
          2.9323862,
          -21.570646,
          5.8820524,
          -0.96602273,
          0.08147733,
          13.953491,
          1.1035556,
          6.040839,
          -1.3148301,
          1.2336667,
          4.703926,
          -1.7530718,
          5.8985806,
          6.4298186,
          0.49557438,
          6.327972,
          2.293498,
          13.315556,
          -19.186617,
          8.378693,
          -1.3907158,
          -5.5791554,
          0.3271296,
          -0.62300444,
          -1.0763099,
          1.9131334,
          -0.22714107,
          -0.85174996,
          -0.4981146,
          13.315552,
          9.563373,
          -2.3256004,
          -0.5278776,
          -6.287171,
          -20.192175,
          13.369348,
          9.563369,
          6.7578287,
          6.429814,
          6.4298186,
          6.0164595,
          2.4293692,
          15.779412,
          -3.0363743,
          -16.001661,
          3.3575807,
          2.4894812,
          5.8827486,
          -15.086338,
          -13.486505,
          -0.9013212,
          11.871048,
          -6.287171,
          -0.40367267,
          -1.2924072,
          -0.79562014,
          9.563373,
          11.654557,
          6.5500045,
          -15.083816,
          2.6389084,
          -16.35237,
          -20.117756,
          17.54231,
          2.452085,
          -4.358026,
          -3.277462,
          10.180778,
          -2.56689,
          -14.968532,
          6.4346457,
          -15.086338,
          -1.3290788,
          1.7911903,
          -16.001661,
          -19.186617,
          6.0164595,
          -1.9108678,
          -14.238079,
          -13.926549,
          -0.78060746,
          -0.866054,
          2.2212512,
          8.100677,
          -19.186617,
          -4.08682,
          15.68829,
          6.562445,
          2.0491314,
          -0.22714107,
          -0.901319,
          10.043137,
          -0.22714107,
          15.597019,
          -1.309357,
          0.9312306,
          5.3317676,
          -1.0553124,
          -2.9046621,
          -0.41247255,
          -4.534901,
          -1.4026163,
          -0.50663763,
          -1.0110434,
          -4.6755757,
          8.4037485,
          13.315261,
          -0.7446895,
          0.043136925,
          0.3271296,
          4.7039256,
          4.441435,
          3.9143884,
          -0.33505395,
          6.1015673,
          -0.4609631,
          -3.3487065,
          3.021896,
          -1.0111359,
          17.434265,
          3.021896,
          4.556933,
          -3.5949113,
          -13.5532,
          0.96486604,
          2.452085,
          -4.0650153,
          0.6164335,
          0.74267375,
          9.46053,
          8.7763605,
          -4.064874,
          7.4674783,
          -5.067643,
          9.538547,
          -3.5949094,
          -1.8118781,
          -1.2769378,
          -1.7530718,
          0.56714916,
          -2.2481074,
          -1.6718315,
          -4.241282,
          4.2407694,
          5.8985806,
          -4.8584824,
          -6.867741,
          -13.812149,
          -3.3487062,
          -3.6912804,
          -1.7530718,
          -5.067643,
          6.315292,
          0.3461578,
          7.0570846,
          5.3913126,
          -13.241972,
          -3.353631,
          -4.8584824,
          9.627942,
          -6.0210834,
          -1.7070869,
          -6.276206,
          -4.9706383,
          8.399561,
          7.4674783,
          15.965527,
          -0.26603544,
          -0.6297391,
          7.9565635,
          8.761187,
          17.474022,
          -5.0940843,
          -4.373944,
          4.6712976,
          -7.0938473,
          -5.951154,
          -5.1826277,
          -5.6420493,
          1.3321127,
          5.2325153,
          6.5116606,
          3.6861703,
          -1.6718,
          16.658566,
          8.401069,
          7.5996013,
          1.9716274,
          17.583359,
          -0.7233437,
          -1.6818495,
          -4.3574743,
          -1.9108647,
          15.688288,
          6.0164595,
          -6.4405894,
          -1.5418549,
          3.3496327,
          -6.54782,
          1.8224381,
          2.2166,
          8.788363,
          -4.933398,
          13.608402,
          13.303178,
          -2.0138688,
          1.9251422,
          15.320207,
          5.1888165,
          -4.0649996,
          -5.067643,
          -4.0650153,
          8.25555,
          -5.304763,
          -0.9660228,
          -1.7203785,
          -1.259275,
          0.15660527,
          9.538547,
          9.538547,
          -2.9209285,
          -3.5214584,
          8.584226,
          -1.3906695,
          0.29924953,
          -19.186617,
          -13.968264,
          -4.0650153,
          -20.799622,
          16.760475,
          2.1620889,
          -4.0649996,
          5.255525,
          -0.9013212
         ],
         "y": [
          -15.118161,
          15.609363,
          -8.418141,
          -8.243309,
          19.938948,
          -8.339326,
          8.262355,
          -2.741512,
          3.7169616,
          -2.7623143,
          2.3655376,
          0.2565113,
          -18.458858,
          -18.29519,
          -18.458858,
          -19.413576,
          -17.336187,
          -17.981314,
          -18.017529,
          15.727969,
          -8.243309,
          9.762839,
          16.804424,
          9.088634,
          15.548089,
          7.397054,
          -1.4768386,
          -2.3947587,
          -1.8410978,
          23.582209,
          23.324871,
          19.145336,
          19.079855,
          20.459732,
          20.445795,
          -7.0470443,
          -4.0869484,
          18.916899,
          15.903742,
          16.335165,
          13.220161,
          12.0473585,
          -8.453676,
          -7.666566,
          11.778272,
          8.634318,
          2.9552448,
          -1.1743023,
          0.761961,
          -0.7484947,
          -0.19451755,
          -1.6797233,
          5.0090904,
          -18.317486,
          -17.34935,
          2.1405983,
          2.1139133,
          -11.641942,
          1.1936269,
          1.8615723,
          -1.7265668,
          -2.6732094,
          11.778271,
          0.4735233,
          -2.6495714,
          2.9551842,
          0.76224035,
          -0.42820057,
          -0.41600817,
          -2.4202871,
          15.4296255,
          -17.879972,
          -18.125544,
          -17.951084,
          -0.96475875,
          -20.297977,
          -8.418141,
          -6.6875515,
          -5.7062526,
          -8.630697,
          8.85705,
          -5.591463,
          -2.6494944,
          -15.117091,
          -15.017678,
          -13.60054,
          -13.238057,
          -12.965943,
          -11.88843,
          -11.588437,
          -9.68152,
          -6.325998,
          -5.2924323,
          19.33213,
          -4.3933063,
          -0.31561694,
          0.6002331,
          -19.477608,
          -0.9816186,
          -3.408474,
          -1.038726,
          1.4977576,
          -10.072642,
          -12.8093,
          -4.79779,
          -0.4749257,
          -4.3962436,
          18.91486,
          19.686914,
          -1.3987182,
          -4.970164,
          -0.80448353,
          -17.336187,
          12.00531,
          -16.701162,
          -13.815646,
          -12.750483,
          -12.2117195,
          -1.3987182,
          19.32896,
          19.19335,
          19.330065,
          -2.1667886,
          23.324871,
          23.324871,
          16.464327,
          19.145336,
          19.310402,
          20.45973,
          20.445795,
          -6.779704,
          19.775751,
          -4.066592,
          1.0218321,
          20.832977,
          20.724068,
          -15.262566,
          -1.4507086,
          16.662533,
          -8.478954,
          8.728709,
          -2.7415116,
          -2.7623143,
          -19.477608,
          -8.418141,
          -17.907198,
          0.32027963,
          -17.502243,
          18.916899,
          -16.817158,
          -14.829193,
          9.765058,
          9.885194,
          17.169483,
          8.139039,
          -3.4121394,
          -1.0504643,
          -0.4282004,
          -1.7265667,
          -1.6803268,
          -2.278671,
          -15.918497,
          7.397054,
          16.975872,
          13.220161,
          -17.56135,
          11.964677,
          -16.817158,
          -14.823333,
          -15.796702,
          3.4615562,
          -2.9863436,
          3.2736385,
          2.8847752,
          10.1088915,
          8.375578,
          -5.5545006,
          -17.907198,
          16.59301,
          -14.871022,
          20.724068,
          21.118109,
          -4.970164,
          -0.80448353,
          -16.701162,
          -13.815646,
          -12.370661,
          -11.6413145,
          -0.26850048,
          9.2198715,
          -7.8864646,
          16.01549,
          11.683326,
          -8.453676,
          -7.221376,
          -7.525973,
          -11.958773,
          -9.81343,
          -5.591463,
          -4.97879,
          0.29807842,
          9.257317,
          -5.7062526,
          15.998992,
          2.1405983,
          -6.5843587,
          -17.386166,
          -1.4865057,
          8.504488,
          1.2470974,
          2.7855918,
          2.5924568,
          -0.81420255,
          -19.875723,
          -1.3321129,
          -4.1859045,
          1.9113865,
          1.2470974,
          2.7855918,
          2.5924568,
          -17.017412,
          20.724068,
          -15.118161,
          -14.700142,
          -13.60054,
          -13.438187,
          -12.906608,
          -12.114688,
          -11.390348,
          20.832977,
          -9.68152,
          20.625967,
          -7.0714808,
          19.938948,
          -6.558182,
          -5.2924323,
          -4.115708,
          -4.5310216,
          -7.8864646,
          0.054236315,
          0.6002331,
          -2.7415116,
          -4.974063,
          -17.90569,
          -15.518648,
          -15.864928,
          5.009091,
          -17.907196,
          3.893708,
          15.074987,
          14.889184,
          3.2832625,
          -8.738774,
          8.739362,
          -2.6732094,
          -4.113115,
          1.2463466,
          2.7855918,
          -0.93104357,
          2.592489,
          0.03136684,
          11.778271,
          -5.692821,
          0.9166572,
          -1.7656184,
          -1.4525323,
          -1.6778209,
          -19.775301,
          -19.578772,
          -17.732517,
          -17.652685,
          -0.8142025,
          3.5395644,
          0.18385725,
          -16.701162,
          -5.7062583,
          -7.3496876,
          2.1405976,
          2.1109695,
          11.964677,
          -19.477608,
          -7.22171,
          3.0116162,
          3.513988,
          2.0997055,
          2.9224148,
          2.463357,
          -2.3228757,
          -1.9363974,
          -18.393929,
          -16.817087,
          -14.990479,
          -16.025276,
          -1.9448346,
          -0.8566432,
          10.1088915,
          8.209353,
          9.088634,
          8.968006,
          -8.45431,
          -5.591463,
          12.0473585,
          -13.815646,
          -12.807752,
          -12.000992,
          -12.332625,
          -1.3987182,
          18.932339,
          20.016546,
          19.21283,
          -2.1667886,
          23.582209,
          23.324871,
          -0.80448353,
          19.079855,
          20.459732,
          20.445795,
          -9.793275,
          -6.655072,
          18.916899,
          -4.0869484,
          16.432085,
          15.894006,
          13.830868,
          -4.797787,
          -0.3468227,
          19.310402,
          -1.3326623,
          -1.4865057,
          15.728465,
          -5.591463,
          9.088634,
          8.993901,
          -8.644183,
          8.262355,
          -5.7062526,
          -2.7415147,
          5.009091,
          2.1405976,
          1.8794305,
          -17.934454,
          -16.817158,
          -15.616512,
          -14.902829,
          3.3194711,
          -17.907196,
          3.8785713,
          3.3359296,
          9.765058,
          8.205139,
          11.964677,
          19.938948,
          -7.22171,
          0.022561394,
          -4.97879,
          15.11403,
          16.706554,
          -0.8142025,
          -17.393763,
          -17.01723,
          -14.759013,
          0.9473993,
          -13.60054,
          -13.440467,
          -12.723047,
          -11.749108,
          -11.679991,
          -9.68152,
          3.513988,
          -6.325949,
          -4.1334605,
          -4.3089614,
          -0.64265084,
          0.6002331,
          -20.172928,
          -18.560228,
          -18.264261,
          -9.893827,
          -0.8289209,
          -0.047759484,
          -11.951685,
          -5.2924323,
          7.396862,
          -2.6777935,
          -5.2415934,
          16.896671,
          16.35694,
          13.68035,
          12.0473585,
          -8.453685,
          -7.3496876,
          -19.477608,
          -17.336187,
          -15.155522,
          20.724068,
          15.229825,
          21.118109,
          -4.970164,
          -1.3321129,
          8.947669,
          -8.645448,
          1.0262944,
          -0.6578821,
          1.4977576,
          -12.19975,
          -2.684624,
          -0.767526,
          1.4997617,
          17.017569,
          10.108843,
          18.916899,
          -3.5512824,
          -3.6608026,
          -15.1926,
          21.318874,
          -7.866663,
          8.947669,
          -0.9879667,
          -3.408474,
          -0.80448353,
          -16.70108,
          -13.815646,
          -12.874616,
          2.3655376,
          -11.715321,
          19.276752,
          19.266056,
          19.353592,
          -1.9694688,
          23.324871,
          23.324871,
          19.310402,
          19.079855,
          20.45973,
          20.58033,
          -7.059202,
          -1.3987182,
          -8.338569,
          7.3968616,
          -8.738774,
          -2.326565,
          -8.418141,
          -18.504639,
          -18.419249,
          -17.86031,
          -2.7415116,
          1.2655718,
          0.57791775,
          0.9929834,
          2.6534696,
          -0.016534988,
          -3.016593,
          5.009091,
          -17.86031,
          -19.800417,
          -19.62656,
          -16.817158,
          -15.831371,
          -15.07841,
          -15.401045,
          -18.380398,
          -17.169214,
          -17.78024,
          0.85815877,
          -2.938178,
          0.68267554,
          0.62051266,
          3.513988,
          2.3656132,
          -7.27124,
          -4.346168,
          16.862562,
          -1.0552275,
          8.664513,
          9.241167,
          -0.82896274,
          -0.9315179,
          1.4977787,
          0.17402387,
          -13.508773,
          -7.2199306,
          -6.752089,
          -2.482354,
          -2.5849335,
          -2.249887,
          -0.66596055,
          -0.33118436,
          -0.54299575,
          0.16873592,
          0.3349162,
          0.54626244,
          15.973097,
          15.19573,
          10.108632,
          19.485949,
          19.310402,
          -3.289394,
          20.888487,
          21.12286,
          21.35232,
          20.702208,
          21.100142,
          -7.511344,
          -7.197967,
          -3.6187425,
          18.917126,
          16.720217,
          16.537632,
          16.697903,
          15.026777,
          14.639636,
          13.832998,
          13.537278,
          12.280447,
          11.970093,
          -8.391536,
          -7.829999,
          20.044376,
          20.044376,
          -12.331225,
          -13.815646,
          8.342798,
          -8.255029,
          -8.738774,
          8.262355,
          7.3968616,
          -2.5057387,
          11.971975,
          -0.8985563,
          -0.9292304,
          19.938944,
          -3.1273541,
          -7.22171,
          9.088634,
          -2.326565,
          -17.907173,
          -2.986721,
          11.778272,
          9.885194,
          16.33049,
          15.0400915,
          11.275221,
          9.664071,
          1.103575,
          -4.970164,
          -2.326565,
          -8.243309,
          8.504488,
          3.4904418,
          0.85815865,
          0.8130261,
          15.62781,
          16.219982,
          -7.22171,
          -8.08947,
          8.728138,
          3.513988,
          2.463271,
          -13.815646,
          -12.172252,
          19.780424,
          19.097511,
          19.753977,
          19.310402,
          -3.289394,
          20.888487,
          21.12286,
          21.408344,
          20.702208,
          21.079844,
          -7.511359,
          -7.4701266,
          0.54626244,
          0.62051284,
          -0.64420325,
          -0.66596055,
          0.25843942,
          -0.5651572,
          -1.6803272,
          -1.4409068,
          -2.3583248,
          0.12183833,
          -0.6377306,
          -1.2032231,
          -2.7253754,
          -7.655495,
          8.504489,
          -3.7955236,
          -1.4507086,
          -7.27124,
          -4.4797134,
          1.1936269,
          -3.1273541,
          -0.6414471,
          1.4977574,
          -0.050793372,
          0.33491406,
          -13.239031,
          -7.2199306,
          -2.249887,
          -8.243309,
          9.713253,
          18.916899,
          17.033733,
          -4.797787,
          0.26307887,
          -5.4772935,
          9.22343,
          -5.7062526,
          2.1405983,
          -2.3943465,
          2.1139133,
          -7.655495,
          -5.5545006,
          2.7367775,
          0.57791775,
          -0.17804398,
          2.8121529,
          -0.35397518,
          -0.7661816,
          0.50431275,
          -2.3731875,
          -2.6406202,
          -7.902,
          3.9187977,
          15.23398,
          2.868052,
          -9.817174,
          -12.403496,
          5.009091,
          9.088634,
          16.451185,
          15.0400915,
          15.026777,
          14.639636,
          13.833,
          13.829962,
          12.280447,
          12.313362,
          -8.391536,
          11.275221,
          -7.829999,
          16.037842,
          9.713253,
          -8.134173,
          7.4008284,
          -7.8246565,
          -4.974063,
          -19.73757,
          -20.208746,
          -17.896782,
          7.3968616,
          -15.0776005,
          10.1088915,
          16.588364,
          9.436003,
          -8.134175,
          7.4008284,
          -7.475911,
          -8.243309,
          1.4984568,
          -12.671692,
          -10.072642,
          -4.981877,
          -5.4772935,
          0.27581587,
          9.000744,
          -5.7062526,
          2.1405983,
          1.9120483,
          21.30279,
          20.93959,
          -2.4069433,
          11.970093,
          -0.6630781,
          2.0997057,
          2.9224038,
          -1.1462556,
          -1.9402006,
          -0.95960003,
          -1.4926417,
          -17.123894,
          16.795053,
          -17.336187,
          -7.9019995,
          1.103575,
          16.187788,
          16.107626,
          16.869871,
          15.026646,
          14.639636,
          13.833325,
          13.468077,
          12.280447,
          12.199347,
          -8.391603,
          -7.829999,
          -13.438187,
          9.713253,
          7.4008284,
          -7.525973,
          -17.907198,
          15.0400915,
          11.275221,
          9.313062,
          -4.970164,
          -1.1818548,
          -0.42820132,
          10.5705805,
          19.775751,
          -8.134175,
          17.172499,
          -8.418141,
          -7.191,
          11.964677,
          -8.08947,
          5.009091,
          -0.8322457,
          -17.555403,
          -18.121237,
          -18.458858,
          3.2170455,
          -2.6732094,
          -2.6495967,
          3.7281451,
          2.878005,
          19.938948,
          -3.9397328,
          8.947669,
          9.088634,
          -20.297977,
          -20.069029,
          -16.039722,
          -17.315426,
          -18.423033,
          15.286292,
          16.288153,
          -5.5545006,
          14.928078,
          -1.7298465,
          -1.9393253,
          -7.12766,
          -7.12766,
          -6.8572745,
          -2.4069433,
          -0.6659605,
          -0.33118436,
          -0.0831643,
          0.6205257,
          0.6205257,
          0.54626244,
          0.55539775,
          -7.0470443,
          0.6906439,
          16.428463,
          -7.829999,
          8.504488,
          -8.243309,
          -7.221376,
          3.7169616,
          2.46325,
          1.4984568,
          0.24758245,
          1.2924207,
          0.124648124,
          20.558714,
          8.547539,
          9.763352,
          -3.5477238,
          -13.438187,
          3.1812,
          2.9354181,
          -7.12766,
          -7.163705,
          -4.1859045,
          15.948092,
          -7.866663,
          -2.482354,
          -2.249887,
          8.947669,
          -0.66596055,
          -0.64406663,
          0.043416016,
          0.1690303,
          0.30690888,
          0.62051284,
          0.54626244,
          9.0215,
          -7.22171,
          0.68267554,
          0.85815865,
          4.3169303,
          3.2170231,
          -0.059948992,
          -6.628673,
          -2.5849335,
          -19.477608,
          -17.336187,
          -12.370626,
          16.083094,
          -9.793275,
          19.775751,
          -4.79779,
          -5.591463,
          -0.26796317,
          8.85705,
          -5.7062526,
          3.7169616,
          2.1405983,
          -18.18761,
          -18.29519,
          -17.690437,
          2.0997055,
          1.2655718,
          0.57791907,
          2.1256113,
          0.9929832,
          2.6534696,
          -1.9393253,
          -2.482354,
          1.8794305,
          18.917126,
          3.4475937,
          -0.9314282,
          -8.418141,
          9.088634,
          -19.477608,
          -3.1147153,
          -0.975272,
          -1.1279975,
          -2.9381995,
          5.0090904,
          -13.815646,
          -12.1051445,
          19.991234,
          19.780424,
          19.686914,
          19.079855,
          -3.2893953,
          20.888487,
          21.12286,
          20.837458,
          20.868567,
          20.558714,
          -7.2916,
          19.938944,
          -7.197967,
          8.062571,
          10.1088915,
          -15.509329,
          -15.537732,
          -0.6587668,
          2.4632192,
          8.504488,
          -5.2415934,
          -3.1273541,
          16.65244,
          -20.429325,
          -20.172928,
          -18.547888,
          -18.037836,
          -17.426693,
          3.3802233,
          -8.256636,
          7.3968616,
          -2.7936945,
          -16.19609,
          15.837455,
          15.451307,
          -7.902,
          -8.25982,
          8.728138,
          -17.613184,
          11.964677,
          -16.817158,
          -2.7415168,
          -4.6142273,
          -3.621125,
          -7.6224957,
          -0.9879667,
          -4.6142564,
          -19.415724,
          -17.336187,
          0.80386096,
          11.21175,
          13.268475,
          -12.439912,
          3.4615562,
          8.947669,
          3.8785713,
          -4.4806523,
          -6.956158,
          -3.027972,
          16.28169,
          -17.883646,
          5.009091,
          -1.4507086,
          15.918953,
          5.009091,
          -12.270085,
          16.594772,
          -15.480825,
          20.724068,
          -2.9767416,
          15.302428,
          -5.490997,
          -0.9816186,
          -18.31922,
          -4.2184696,
          3.4477913,
          0.3777543,
          -1.8734548,
          9.765058,
          13.268484,
          8.688445,
          -2.7415216,
          8.536287,
          8.06747,
          -7.8864646,
          2.661161,
          -1.7794403,
          -1.514282,
          11.21175,
          1.5131974,
          9.112687,
          -4.524637,
          9.765058,
          20.970268,
          -4.614283,
          -15.017678,
          11.778271,
          -1.7265667,
          15.729925,
          -3.2151923,
          15.805921,
          -0.82015675,
          -16.17826,
          -19.477608,
          0.25651124,
          -2.6707072,
          -1.3321129,
          -1.9943942,
          -12.423436,
          3.513988,
          -3.1084354,
          20.445795,
          21.161419,
          13.220161,
          12.0473585,
          11.21175,
          -5.490997,
          -0.80448353,
          -11.788012,
          15.954164,
          11.971975,
          -1.3987182,
          19.829931,
          -3.0948231,
          -17.907196,
          -17.64812,
          19.506107,
          -2.610596,
          5.009091,
          -5.490997,
          7.397054,
          -17.64812,
          -1.8410978,
          -8.453685,
          11.86001,
          13.663252,
          -7.866663,
          -12.139478,
          19.069485,
          23.53384,
          20.724068,
          -12.780012,
          23.342665,
          -7.22171,
          1.9118795,
          2.1405988,
          -2.8652616,
          11.461122,
          3.0606039,
          20.445795,
          21.301693,
          13.220161,
          -17.336187,
          -19.477608,
          -5.6976123,
          11.824878,
          9.63242,
          11.21175,
          0.015633628,
          -3.6608026,
          -4.797787,
          -5.591463,
          -8.143142,
          -2.9046178,
          -2.7415116,
          9.088634,
          1.6089277,
          16.62036,
          19.938944,
          -2.22371,
          -15.444331,
          2.3655374,
          -4.3089614,
          -0.9466681,
          17.11559,
          -17.124022,
          20.724068,
          -17.376509,
          21.118109,
          16.353243,
          -15.017678,
          -14.759013,
          -5.371497,
          -14.699669,
          -5.490997,
          -12.723047,
          -1.388592,
          -1.7265669,
          -17.64984,
          0.23224892,
          1.5295304,
          -11.966502,
          0.3349117,
          -4.3089614,
          -2.7415147,
          -11.390348,
          -6.558182,
          -5.2924323,
          -4.4999747,
          -2.3721192,
          -15.281397,
          -5.2924323,
          -15.6867895,
          -8.45431,
          -17.515886,
          2.3655376,
          -16.086378,
          -12.395326,
          -8.7403145,
          -10.195087,
          -4.9818892,
          20.62596,
          -5.591463,
          -16.817158,
          -15.462262,
          21.384333,
          -4.4915037,
          3.5522,
          4.0399327,
          -7.866663,
          20.51772,
          3.4862068,
          19.408344,
          8.271352,
          19.408344,
          -13.815646,
          -7.22171,
          -0.9879672,
          3.7169616,
          -12.016593,
          -11.935054,
          23.26795,
          20.683832,
          13.536285,
          11.683326,
          -7.666566,
          0.6205187,
          -0.42820334,
          -6.460416,
          -8.738774,
          8.271352,
          10.107778,
          1.6115711,
          -15.767959,
          -15.024792,
          -16.817158,
          -17.778652,
          -1.0620617,
          1.3840543,
          -3.9181771,
          15.986647,
          1.4915121,
          1.3840543,
          2.1405983,
          -3.0680501,
          -17.405846,
          -17.484518,
          -11.765533,
          -11.181828,
          -10.198831,
          -6.518472,
          -4.133447,
          -1.8516438,
          -7.2167754,
          -0.66215605,
          1.2411941,
          0.5911988,
          -1.0846364,
          -3.7034414,
          7.397054,
          -17.907196,
          -17.603235,
          -7.0470443,
          -11.390348,
          -16.817158,
          14.919914,
          -12.048864,
          -17.336187,
          0.80386096,
          5.009091,
          -4.6142564,
          -12.965943,
          9.088634,
          9.632576,
          -1.9448338,
          -5.7062583,
          -14.70337,
          1.9119176,
          -19.717493,
          -14.921884,
          -18.391623,
          -18.199518,
          -0.11271818,
          -15.017678,
          -17.021564,
          -17.484518,
          -1.9448347,
          11.461122,
          16.352398,
          -17.479443,
          -8.7403145,
          -5.6746407,
          -6.655072,
          11.46112,
          -7.525973,
          -4.6142273,
          -4.6142564,
          -4.159494,
          -10.204362,
          -12.455179,
          1.9712702,
          -5.591463,
          8.739362,
          -1.2291185,
          7.396862,
          -4.9818892,
          -4.346168,
          2.1405983,
          -0.9816186,
          -8.7403145,
          0.3349086,
          2.114668,
          16.330948,
          11.461122,
          -1.3321129,
          -4.1052675,
          -4.797787,
          1.3840543,
          -5.4772935,
          -5.371443,
          -0.80448353,
          -10.014473,
          13.268405,
          11.683326,
          -8.453676,
          15.950228,
          3.3359296,
          -4.4999747,
          -4.9818892,
          16.21149,
          -0.4749257,
          -5.591463,
          -5.7062583,
          -4.159494,
          11.21461,
          3.9702034,
          3.4615562,
          -2.913911,
          -2.670711,
          9.536044,
          -8.738774,
          -5.7062583,
          13.68035,
          -11.9587755,
          -5.2924323,
          -0.23171186,
          -15.017678,
          2.1405964,
          8.947669,
          -15.017678,
          -2.6732094,
          -0.720769,
          0.4281669,
          -3.4669485,
          -0.63992524,
          -1.5204843,
          -17.34681,
          -19.477608,
          1.8794234,
          -17.114655,
          -17.293941,
          2.922875,
          -8.143142,
          -1.9448419,
          -17.589905,
          2.6982107,
          -14.921884,
          -17.336187,
          1.2411941,
          2.8377967,
          -17.412727,
          -6.558182,
          -17.175768,
          1.497779,
          -17.917042,
          15.097578,
          -11.788012,
          -17.917042,
          -2.610596,
          19.938944,
          -3.9350631,
          -11.588437,
          -10.014473,
          3.4608767,
          -11.85942,
          -12.855143,
          -0.98796356,
          -16.039005,
          3.4611292,
          20.724068,
          21.118109,
          -0.98902303,
          19.938948,
          16.286972,
          16.663664,
          0.80386096,
          3.2232974,
          -7.6804867,
          18.916899,
          20.51772,
          -2.7623143,
          5.009091,
          20.45973,
          -2.5708427,
          -3.6187425,
          1.4977787,
          19.079855,
          0.80386096,
          21.118109,
          -6.518472,
          0.26289335,
          -4.2672977,
          -1.8516439,
          -4.187217,
          19.310402,
          20.45973,
          -1.0154461,
          -20.113834,
          16.899755,
          -2.0804365,
          20.697079,
          23.342665,
          20.724068,
          -12.794158,
          -18.27291,
          -17.294704,
          -14.762319,
          23.26795,
          -11.641615,
          -19.838287,
          -0.65855294,
          -2.3710265,
          -2.5210009,
          -20.24423,
          -1.62216,
          -2.2197022,
          -11.181828,
          -7.6224957,
          -7.821346,
          -3.0927396,
          18.917131,
          -2.1293159,
          23.53384,
          19.666304,
          0.0790272,
          -11.935823,
          -0.5983819,
          -1.4525323,
          13.268473,
          11.21175,
          -11.958775,
          -4.159494,
          -2.2786708,
          -2.9908803,
          8.515064,
          -2.4136803,
          -0.3468219,
          9.526817,
          23.296787,
          20.445795,
          -6.612214,
          -13.815646,
          15.510961,
          -1.3209531,
          -12.328445,
          4.4387383,
          3.460906,
          21.118109,
          3.4608767,
          19.023096,
          20.832977,
          -17.907196,
          16.537933,
          -17.778801,
          -17.9926,
          -0.98902303,
          -0.98902303,
          -1.4768386,
          0.6329024,
          19.481844,
          1.9120483,
          2.992238,
          -5.7062583,
          -3.6608026,
          3.4608767,
          -5.490997,
          -1.3987182,
          9.372284,
          3.460906,
          -3.033535,
          2.1405983
         ],
         "z": [
          -12.268384,
          4.652689,
          -18.13097,
          -17.855146,
          -6.7715807,
          -5.1304483,
          -17.736198,
          -8.877082,
          -12.855331,
          -6.326469,
          -8.930573,
          1.2366745,
          7.843322,
          7.423862,
          7.843322,
          0.8578524,
          5.921589,
          -1.9807208,
          -1.790669,
          4.4634824,
          -17.855146,
          9.176073,
          -9.561464,
          5.9350343,
          3.9398842,
          5.0445404,
          -4.252642,
          -7.9153986,
          -10.007274,
          1.531304,
          1.2715129,
          4.971331,
          4.669726,
          2.085401,
          1.6038629,
          -8.4317255,
          -14.084339,
          -9.070981,
          -10.027509,
          -9.532768,
          -14.424364,
          -17.081455,
          -6.572005,
          -5.1860194,
          10.398786,
          8.517185,
          -15.665303,
          -7.34223,
          3.667619,
          3.5946498,
          0.96792513,
          -6.2399006,
          4.5485497,
          -3.0083969,
          -8.396743,
          -14.510972,
          -10.984481,
          0.6498549,
          -17.838886,
          -8.988249,
          -6.8155465,
          -10.305979,
          10.398786,
          2.1647027,
          -9.687997,
          -15.665325,
          3.667679,
          0.8907817,
          0.27936795,
          -7.835915,
          2.9916334,
          8.379016,
          8.2578125,
          8.131609,
          -6.892514,
          1.3500739,
          -18.13097,
          -8.863573,
          -9.153589,
          -5.1096816,
          -17.748095,
          -11.375561,
          -9.688151,
          -12.265099,
          -12.274025,
          -13.021826,
          -13.019854,
          -13.786624,
          -14.091343,
          -14.793192,
          -15.984204,
          -18.195734,
          -19.029837,
          2.0608892,
          -19.75287,
          -22.328413,
          -19.964594,
          0.41855234,
          -6.4331937,
          -6.56121,
          -7.3447766,
          -8.335718,
          -16.007158,
          0.5303067,
          -12.304978,
          -21.925196,
          -19.760262,
          1.9557471,
          1.2187319,
          -10.231632,
          -7.081629,
          -9.259961,
          5.921589,
          10.896242,
          4.5204434,
          1.8094052,
          1.0971739,
          0.7889471,
          -10.231632,
          1.220848,
          2.2356443,
          1.3368175,
          -10.305679,
          1.2715129,
          1.2715129,
          3.4962156,
          4.971331,
          4.6285787,
          2.0854,
          1.6038629,
          -8.304815,
          -7.120734,
          -13.662319,
          -17.782892,
          -1.9567212,
          3.148516,
          1.5831879,
          -6.542377,
          -10.123793,
          -6.212287,
          -17.99162,
          -8.877081,
          -6.326469,
          0.41855234,
          -18.13097,
          -6.560301,
          2.0385957,
          7.8290267,
          -9.070981,
          4.761988,
          2.7937403,
          9.272318,
          8.989786,
          -10.033603,
          8.247865,
          -6.318911,
          -7.095252,
          0.890782,
          -6.8155456,
          -6.239837,
          -6.6089687,
          2.8035452,
          5.0445404,
          -10.486947,
          -14.424364,
          7.6452823,
          10.930501,
          4.761988,
          2.192417,
          1.8065884,
          -12.721261,
          -10.496475,
          -12.744826,
          -12.401914,
          8.830327,
          7.708614,
          -8.211658,
          -6.560301,
          4.3384056,
          1.8377181,
          3.148516,
          -1.9217573,
          -7.081629,
          -9.259961,
          4.5204434,
          1.8094053,
          1.2889123,
          0.64835906,
          0.25735477,
          -17.917612,
          -7.761375,
          -10.532246,
          -16.944345,
          -6.572005,
          -18.080841,
          -4.666527,
          0.5684836,
          -15.504872,
          -11.375561,
          -12.286049,
          -21.939186,
          -17.256147,
          -9.153589,
          -9.782588,
          -14.510972,
          -8.476371,
          -2.4089212,
          -7.1959577,
          5.5908933,
          4.0044575,
          0.9280228,
          1.1753384,
          -6.2470922,
          1.5028251,
          -6.9392705,
          -13.839358,
          -11.058608,
          4.0044575,
          0.9280228,
          1.1753384,
          -8.282036,
          3.148516,
          -12.268384,
          -11.861096,
          -13.021826,
          -13.339419,
          -13.564188,
          -14.556185,
          -14.42622,
          -1.9567212,
          -15.984204,
          -3.9013288,
          -9.050818,
          -6.771581,
          -18.495241,
          -19.029837,
          -19.311111,
          -19.990248,
          -7.761377,
          -21.885914,
          -19.964594,
          -8.87708,
          -6.907382,
          -2.2391434,
          1.6011344,
          1.6952491,
          4.5485497,
          -6.560302,
          -12.643626,
          4.3177357,
          3.665698,
          -11.859905,
          -5.599671,
          -17.302462,
          -10.305979,
          -19.306587,
          4.00419,
          0.9280228,
          -7.4400377,
          1.1753755,
          1.7704055,
          10.398786,
          -7.8817325,
          1.7229058,
          -7.5578313,
          -0.0076138945,
          0.31141928,
          1.4401101,
          1.2340789,
          -3.049859,
          -1.8745183,
          -6.247092,
          -11.894797,
          4.1065187,
          4.5204434,
          -9.153593,
          -5.010903,
          -14.510969,
          -10.979611,
          10.930501,
          0.41855234,
          -17.781595,
          -15.787158,
          -12.8871765,
          -9.634309,
          -9.189218,
          -8.853737,
          -8.078949,
          -5.905917,
          8.070985,
          4.76137,
          1.8291801,
          2.4794002,
          -7.78748,
          -6.7881885,
          8.830327,
          7.8410926,
          5.9350343,
          -18.026758,
          -6.5720243,
          -11.375561,
          -17.081455,
          1.8094052,
          0.52851343,
          1.1033783,
          0.594256,
          -10.231632,
          1.6825048,
          1.5429506,
          1.7571583,
          -10.305679,
          1.531304,
          1.2715129,
          -9.259961,
          4.669726,
          2.085401,
          1.6038629,
          -15.724349,
          -8.819784,
          -9.070981,
          -14.084339,
          -10.793654,
          -9.9809475,
          -14.803688,
          -12.304985,
          -22.248852,
          4.6285787,
          -6.47632,
          -7.1959577,
          3.050591,
          -11.375561,
          5.9350343,
          -17.37301,
          -5.129935,
          -17.736198,
          -9.153589,
          -8.8771,
          4.5485497,
          -14.510969,
          -11.066956,
          7.3970866,
          4.761988,
          2.1922493,
          2.6816568,
          -12.007173,
          -6.560302,
          -11.923525,
          -12.507527,
          9.272318,
          7.83888,
          10.930501,
          -6.7715807,
          -17.781595,
          -22.336817,
          -12.286049,
          3.7626595,
          3.8786547,
          -6.247092,
          -2.0466852,
          -8.28184,
          -11.809577,
          1.7500732,
          -13.021826,
          -13.172212,
          -13.475609,
          -14.046962,
          -14.654351,
          -15.984204,
          -12.8871765,
          -18.198072,
          -19.32926,
          -19.631327,
          -22.087921,
          -19.964594,
          0.55849344,
          -2.4059048,
          -2.821703,
          -15.883908,
          -7.3920527,
          0.9331071,
          1.032765,
          -19.029837,
          5.0450215,
          -6.8979416,
          -8.082168,
          -9.574215,
          -10.037953,
          -14.683191,
          -17.081455,
          -6.5720043,
          -5.010903,
          0.41855234,
          5.9215894,
          2.2457304,
          3.148516,
          3.3171074,
          -1.9217573,
          -7.081629,
          -6.9392705,
          8.0008335,
          -5.130393,
          -17.784044,
          -7.121857,
          -8.335718,
          0.7986748,
          1.7292168,
          3.565876,
          3.3263905,
          -10.692902,
          8.705245,
          -9.070981,
          -13.72566,
          -13.341306,
          3.0557094,
          -3.9055922,
          -7.752824,
          8.0008335,
          -5.6483955,
          -6.56121,
          -9.259961,
          4.5202785,
          1.8094053,
          0.75277567,
          -8.930573,
          0.26196134,
          2.3242953,
          1.4044938,
          2.3513455,
          -10.483515,
          1.2715129,
          1.2715129,
          4.6285787,
          4.669726,
          2.0854,
          1.6308901,
          -9.052031,
          -10.231632,
          -5.130752,
          5.045022,
          -5.599671,
          -8.074185,
          -18.13097,
          7.7786655,
          8.243991,
          8.025318,
          -8.877081,
          -10.412624,
          4.3231173,
          3.8232942,
          0.6224089,
          -7.3603983,
          3.5328188,
          4.5485497,
          8.025318,
          1.0179111,
          0.5518932,
          4.761988,
          2.953314,
          2.7725205,
          3.0127766,
          -2.499136,
          -2.7117672,
          -1.7740172,
          -18.305395,
          -9.624305,
          -19.34274,
          -21.44801,
          -12.8871765,
          -8.930497,
          -8.809895,
          -13.30533,
          -10.615313,
          -6.2019577,
          8.500623,
          -17.502989,
          -7.392105,
          -7.002148,
          -8.335696,
          0.8124555,
          -13.283372,
          -17.819323,
          -17.788597,
          -20.810804,
          -20.851852,
          -20.668362,
          -21.79454,
          -21.836346,
          -21.65074,
          -21.825531,
          -21.513933,
          -20.69101,
          3.9267788,
          4.1914372,
          8.705659,
          1.9277366,
          4.6285787,
          -9.97265,
          -0.73620725,
          -2.4130142,
          -3.8995352,
          -3.8108902,
          -3.8417916,
          -8.293721,
          -8.219412,
          -13.9505415,
          -9.070949,
          -10.617379,
          -9.719822,
          -9.55114,
          -11.29517,
          -12.698761,
          -14.114681,
          -14.646779,
          -16.43728,
          -16.650845,
          -6.770658,
          -18.132172,
          1.7685659,
          1.7685659,
          0.443107,
          1.8094052,
          7.614294,
          -5.7843137,
          -5.599671,
          -17.736198,
          5.045022,
          -6.2635016,
          10.928399,
          -6.8787003,
          -6.9132676,
          -6.7715845,
          -6.1085668,
          -17.781595,
          5.9350343,
          -8.074185,
          -6.5605893,
          -10.496858,
          10.398786,
          8.989786,
          -10.497786,
          -11.234335,
          -17.621284,
          -17.864672,
          -17.825125,
          -7.081629,
          -8.074185,
          -17.855146,
          5.5908933,
          -12.033096,
          -18.305395,
          -18.020348,
          3.4684446,
          3.0359285,
          -17.781595,
          -5.5630507,
          -17.724194,
          -12.8871765,
          -8.853793,
          1.8094052,
          0.19333887,
          2.1260495,
          1.7033674,
          1.579921,
          4.6285787,
          -9.97265,
          -0.73620725,
          -2.4130142,
          -3.8162498,
          -3.8108902,
          -3.943138,
          -8.601846,
          -8.492123,
          -20.69101,
          -21.44801,
          -22.045921,
          -21.79454,
          1.9904456,
          -0.15739305,
          -6.239837,
          -4.2651105,
          -6.461324,
          -7.2818136,
          -6.9087367,
          -0.33005252,
          2.2621334,
          -18.080004,
          5.5908937,
          -13.441702,
          -6.542377,
          -8.809895,
          -13.677663,
          -17.838886,
          -6.1085668,
          -7.3091507,
          -8.335718,
          0.9366597,
          -21.513931,
          -13.030279,
          -17.819323,
          -20.668362,
          -17.855146,
          -17.721085,
          -9.070981,
          -10.223612,
          -12.304985,
          -22.098421,
          -11.790116,
          -18.157555,
          -9.153589,
          -14.510972,
          -6.374769,
          -10.984482,
          -18.080004,
          -8.211658,
          -15.136496,
          4.3231173,
          4.669841,
          0.96612173,
          -7.515306,
          -6.277809,
          1.3250899,
          -20.611387,
          -20.7629,
          -17.269445,
          -12.399705,
          3.0564635,
          -12.315404,
          -15.501725,
          0.28888315,
          4.5485497,
          5.9350343,
          -10.101484,
          -11.234335,
          -11.29517,
          -12.698761,
          -14.114682,
          -14.803773,
          -16.43728,
          -16.810148,
          -6.770658,
          -17.621284,
          -18.132172,
          -10.105052,
          -17.721085,
          -5.0012994,
          -16.76456,
          -4.888764,
          -6.907382,
          1.1342179,
          0.94867367,
          -3.0511932,
          5.045022,
          2.4902678,
          8.830327,
          -10.836387,
          -17.446314,
          -5.001304,
          -16.76456,
          -5.198439,
          -17.855146,
          -8.334701,
          1.1779739,
          -16.007158,
          -12.442421,
          -11.790116,
          -21.814077,
          -17.366045,
          -9.153589,
          -14.510972,
          -11.058384,
          -4.2238994,
          -4.304553,
          -20.449913,
          -16.650845,
          3.6914694,
          -9.634308,
          -9.188155,
          -5.475309,
          -7.364334,
          -0.08698249,
          -4.134944,
          -2.4143171,
          3.8569002,
          5.921589,
          -17.269403,
          -17.825125,
          -9.812705,
          -9.542819,
          -9.788199,
          -11.295186,
          -12.698761,
          -14.114836,
          -14.548295,
          -16.43728,
          -16.844336,
          -6.770644,
          -18.132172,
          -13.339419,
          -17.721085,
          -16.76456,
          -4.666527,
          -6.560301,
          -11.234335,
          -17.621284,
          -17.96246,
          -7.081629,
          -7.167697,
          0.89078104,
          9.42539,
          -7.120734,
          -5.001304,
          -10.411002,
          -18.13097,
          -17.717869,
          10.930501,
          -5.5630507,
          4.5485497,
          -7.39194,
          7.9601226,
          7.7073894,
          7.843322,
          -12.297898,
          -10.305979,
          -9.687946,
          -12.396517,
          -12.07676,
          -6.7715807,
          -13.095482,
          8.0008335,
          5.9350343,
          1.3500739,
          1.1385826,
          2.2260385,
          -2.7519433,
          -2.424768,
          4.609231,
          4.681872,
          -8.211658,
          4.137501,
          -6.8129935,
          -7.364444,
          -18.050447,
          -18.050447,
          -17.707514,
          -20.449913,
          -21.79454,
          -21.836346,
          -21.541662,
          -21.448187,
          -21.448187,
          -20.69101,
          -20.395044,
          -8.4317255,
          -19.290827,
          -9.41639,
          -18.132172,
          5.5908933,
          -17.855146,
          -18.080841,
          -12.855331,
          -8.853864,
          -8.334701,
          0.8225331,
          -10.466259,
          0.74727976,
          -3.854856,
          -17.205166,
          9.174869,
          -13.50103,
          -13.339419,
          -11.786063,
          -12.485321,
          -18.050447,
          -18.052301,
          -13.839358,
          -10.394304,
          -7.752824,
          -20.810804,
          -20.668362,
          8.0008335,
          -21.79454,
          -22.04606,
          -22.254276,
          -21.822973,
          -21.376434,
          -21.44801,
          -20.69101,
          -18.057774,
          -17.781595,
          -19.34274,
          -18.305395,
          4.8228006,
          -12.298041,
          0.9522874,
          -8.398589,
          -20.851852,
          0.41855234,
          5.921589,
          1.2889127,
          3.407425,
          -15.724349,
          -7.120734,
          -12.304983,
          -11.375561,
          -21.575829,
          -17.748095,
          -9.153589,
          -12.855331,
          -14.510972,
          8.4008255,
          7.423862,
          7.5093317,
          -9.634309,
          -10.412625,
          4.3231173,
          2.80522,
          3.8232942,
          0.6224089,
          -7.364444,
          -20.810804,
          -11.066956,
          -9.070947,
          1.770468,
          -6.705827,
          -18.13097,
          5.9350343,
          0.41855234,
          -10.117143,
          -6.8278613,
          -6.6114917,
          -9.624327,
          4.5485497,
          1.8094052,
          0.16197601,
          1.5232613,
          2.1260495,
          1.2187319,
          4.669726,
          -9.972651,
          -0.73620725,
          -2.4130142,
          -4.1023436,
          -4.0081825,
          -3.854856,
          -8.102114,
          -6.7715836,
          -8.219412,
          8.292426,
          8.830327,
          2.436271,
          2.9790957,
          -7.1223674,
          -8.8538265,
          5.5908933,
          -8.082168,
          -6.1085668,
          3.5465844,
          1.0105598,
          0.55849344,
          -2.714063,
          -2.7632034,
          -2.8543534,
          1.9358718,
          -5.785423,
          5.045022,
          -6.85144,
          2.3117015,
          3.7879217,
          3.213822,
          -17.26942,
          -5.782983,
          -17.724194,
          8.222969,
          10.930501,
          4.761988,
          -8.87708,
          -5.853919,
          -6.2092466,
          -17.49693,
          -5.6483955,
          -5.8539553,
          1.039509,
          5.9215894,
          -17.740341,
          -17.629099,
          -15.038392,
          1.095446,
          -12.721261,
          8.0008335,
          -11.923525,
          -13.674252,
          -9.0403185,
          -6.5075793,
          3.475952,
          -3.2215188,
          4.5485497,
          -6.542377,
          4.7697244,
          4.5485497,
          0.2998659,
          4.1312003,
          1.6835642,
          3.148516,
          -10.505876,
          3.5092268,
          -7.5962906,
          -6.4331937,
          -2.050178,
          -19.471294,
          -16.706852,
          1.0183717,
          0.08289719,
          9.272318,
          -15.038418,
          8.465117,
          -8.877102,
          -17.211296,
          8.260943,
          -7.761377,
          -11.62581,
          -7.1130223,
          -7.1863866,
          -17.629099,
          -11.044087,
          5.9062157,
          -19.973326,
          9.272318,
          -3.811384,
          -5.8539453,
          -12.274025,
          10.398785,
          -6.8155456,
          4.1901245,
          -6.683594,
          2.7712045,
          -7.0009236,
          2.5802429,
          0.41855234,
          1.2366747,
          2.304726,
          -6.9392705,
          0.35811567,
          0.7807733,
          -12.8871765,
          -10.1020355,
          1.6038629,
          -3.8498466,
          -14.424364,
          -17.081455,
          -17.629099,
          -7.5962906,
          -9.259961,
          0.2073606,
          2.9905472,
          10.928399,
          -10.231632,
          1.5500443,
          -9.943777,
          -6.560302,
          -8.461095,
          1.7522506,
          -6.8970795,
          4.5485497,
          -7.5962906,
          5.0445404,
          -8.461095,
          -10.007274,
          -6.5720043,
          -16.783127,
          -14.717846,
          -7.752824,
          -14.469876,
          2.0753634,
          1.5744064,
          3.148516,
          0.6279486,
          1.6420664,
          -17.781595,
          -11.058447,
          -14.510966,
          -9.57524,
          10.071589,
          -11.894473,
          1.6038629,
          -4.2248826,
          -14.424364,
          5.921589,
          0.41855234,
          -9.1539135,
          -17.181767,
          -17.817492,
          -17.629099,
          -22.338873,
          -13.341306,
          -12.304985,
          -11.375561,
          -5.287312,
          2.6615286,
          -8.87708,
          5.9350343,
          -11.49237,
          -10.419337,
          -6.7715845,
          -5.3864255,
          1.8521274,
          -8.930573,
          -19.631327,
          -7.433756,
          -10.150748,
          -8.248119,
          3.148516,
          -8.411529,
          -1.9217573,
          4.5907497,
          -12.274025,
          -11.809577,
          -7.860918,
          -11.86132,
          -7.5962906,
          -13.475609,
          -4.503086,
          -6.815546,
          -8.152085,
          -7.430588,
          -11.104912,
          -14.4765625,
          -21.513927,
          -19.631327,
          -8.8771,
          -14.42622,
          -18.495241,
          -19.029837,
          -19.939419,
          -6.5789165,
          2.7030895,
          -19.029837,
          2.795035,
          -6.5720243,
          -2.4608562,
          -8.930573,
          1.8668132,
          0.2902687,
          -18.124725,
          -15.9713,
          -12.442411,
          -3.9013276,
          -11.375561,
          4.761988,
          2.0795722,
          -3.8343685,
          -19.926311,
          -11.885263,
          -12.181696,
          -7.752824,
          -5.3036184,
          -12.026521,
          4.8599987,
          8.031612,
          4.8599987,
          1.8094052,
          -17.781595,
          -5.6483955,
          -12.855331,
          1.1248225,
          0.87885815,
          1.6274136,
          1.6509125,
          -14.646218,
          -16.944345,
          -5.1860194,
          -21.44809,
          0.8907791,
          -18.196787,
          -5.599671,
          8.031612,
          8.7064495,
          3.4217982,
          2.5290296,
          1.9144439,
          4.761988,
          8.136245,
          3.265018,
          2.0714943,
          -13.745552,
          4.5250983,
          -10.968291,
          2.0714943,
          -14.510972,
          -8.373636,
          -8.544053,
          -8.4639,
          -14.196745,
          -14.871531,
          -15.821416,
          -18.266413,
          -19.329243,
          -21.03448,
          -8.895255,
          0.33415392,
          4.000609,
          3.5555742,
          4.333713,
          -6.2376785,
          5.0445404,
          -6.560302,
          -2.183225,
          -8.4317255,
          -14.42622,
          4.761988,
          3.4382703,
          -14.271712,
          5.9215894,
          -17.740341,
          4.5485497,
          -5.8539553,
          -13.786624,
          5.9350343,
          -17.816813,
          -7.787434,
          -9.153593,
          2.3907702,
          -11.058433,
          0.49598587,
          -11.941001,
          -2.0102153,
          -2.086888,
          -21.537008,
          -12.274025,
          -8.273545,
          -8.4639,
          -7.7874794,
          10.071589,
          4.087931,
          -8.061277,
          -18.124725,
          -7.8694544,
          -8.819784,
          10.071589,
          -4.666527,
          -5.853919,
          -5.8539553,
          -6.0201287,
          -15.83898,
          0.29439506,
          -9.233331,
          -11.375561,
          -17.302462,
          4.090574,
          5.0450215,
          -12.442411,
          -13.30533,
          -14.510972,
          -6.4331937,
          -18.124725,
          -21.513922,
          -10.987335,
          4.2627554,
          10.071589,
          -6.9392705,
          -19.294209,
          -12.304985,
          2.0714943,
          -11.790116,
          -7.8610225,
          -9.259961,
          -15.5478735,
          -15.038428,
          -16.944319,
          -6.572005,
          3.8298185,
          -12.507527,
          -19.939419,
          -12.442411,
          2.9455342,
          -21.925196,
          -11.375561,
          -9.153593,
          -6.0201287,
          -17.631062,
          -12.53124,
          -12.721261,
          2.6438148,
          2.304725,
          -17.382183,
          -5.599671,
          -9.153593,
          -14.683191,
          0.56848013,
          -19.029837,
          2.8764224,
          -12.274025,
          -14.510968,
          8.0008335,
          -12.274025,
          -10.305979,
          -0.46284938,
          1.2384667,
          -6.290869,
          -0.13995497,
          -4.0721955,
          -8.297776,
          0.41855234,
          -11.0669565,
          -8.240105,
          -8.06684,
          -9.188848,
          -5.287312,
          -7.787509,
          -3.147822,
          -14.931244,
          -11.941001,
          5.9215894,
          4.000609,
          2.205872,
          -1.941806,
          -18.495241,
          -2.1924212,
          -8.335696,
          7.371512,
          3.9875786,
          0.2073606,
          7.371512,
          -6.8970795,
          -6.7715845,
          -13.095359,
          -14.793192,
          -15.5478735,
          -12.442404,
          -14.35614,
          -13.504855,
          -5.6483984,
          2.038748,
          -12.442415,
          3.148516,
          -1.9217573,
          -5.679758,
          -6.7715816,
          -10.648457,
          3.3252609,
          -17.740341,
          -16.240055,
          -17.340055,
          -9.070981,
          -5.3036184,
          -6.326469,
          4.5485497,
          2.0854008,
          -7.217834,
          -13.9505415,
          -8.335696,
          4.669726,
          -17.740341,
          -1.9217573,
          -18.266413,
          1.2317331,
          -19.555746,
          -21.03448,
          -13.786253,
          4.6285787,
          2.0854008,
          -5.7326493,
          0.8322295,
          -9.939322,
          -5.629154,
          1.6692995,
          1.6420664,
          3.148516,
          1.0347103,
          -3.0211785,
          -2.974635,
          2.2412505,
          1.6274136,
          0.64920205,
          1.260638,
          -7.1778803,
          -6.5697346,
          -6.6362166,
          0.8482349,
          -6.3018036,
          -8.382536,
          -14.871531,
          -17.49693,
          -4.8408394,
          -6.9479547,
          -9.070934,
          -9.921189,
          1.5744064,
          1.6340622,
          -21.574028,
          0.87907875,
          0.32585126,
          -0.0076139085,
          -15.038361,
          -17.629099,
          0.5684808,
          -6.0201287,
          -6.608969,
          1.8713843,
          -17.872614,
          -7.0924582,
          -22.248852,
          -17.373947,
          1.6145704,
          1.6038629,
          -8.41871,
          1.8094052,
          4.639007,
          -7.232047,
          0.7604505,
          3.756431,
          -12.442404,
          -1.9217573,
          -12.442404,
          1.4179113,
          -1.9567212,
          -6.560302,
          3.1065083,
          -2.746903,
          -2.5149274,
          -5.679758,
          -5.679758,
          -4.252642,
          -7.7558246,
          2.2347174,
          -11.058384,
          -15.745299,
          -9.153593,
          -13.341306,
          -12.442404,
          -7.5962906,
          -10.231632,
          -18.13513,
          -12.442404,
          -6.5254188,
          -14.510972
         ]
        },
        {
         "customdata": [
          [
           73180.8
          ],
          [
           80388
          ],
          [
           13500
          ],
          [
           40803.84
          ],
          [
           10560
          ],
          [
           50000
          ],
          [
           50000
          ],
          [
           10000
          ],
          [
           14520
          ],
          [
           35000
          ],
          [
           40000
          ],
          [
           11000
          ],
          [
           10000
          ],
          [
           9500
          ],
          [
           40000
          ],
          [
           55750
          ],
          [
           9600
          ],
          [
           89100
          ],
          [
           83160
          ],
          [
           180000
          ],
          [
           10000
          ],
          [
           12000
          ],
          [
           12000
          ],
          [
           12960
          ],
          [
           229326.24
          ],
          [
           39916.8
          ],
          [
           35000
          ],
          [
           30000
          ],
          [
           20401.92
          ],
          [
           16632
          ],
          [
           30000
          ],
          [
           22000
          ],
          [
           13200
          ],
          [
           9600
          ],
          [
           48400
          ],
          [
           30000
          ],
          [
           48400
          ],
          [
           16000
          ],
          [
           15000
          ],
          [
           20000
          ],
          [
           13200
          ],
          [
           50077.44
          ],
          [
           83160
          ],
          [
           15000
          ],
          [
           89100
          ],
          [
           20000
          ],
          [
           25000
          ],
          [
           10000
          ],
          [
           12000
          ],
          [
           30000
          ],
          [
           8800
          ],
          [
           18000
          ],
          [
           373570.56
          ],
          [
           18400
          ],
          [
           20000
          ],
          [
           10000
          ],
          [
           20000
          ],
          [
           10562.75
          ],
          [
           10560
          ],
          [
           12000
          ],
          [
           15000
          ],
          [
           17000
          ],
          [
           20000
          ],
          [
           22650
          ],
          [
           12000
          ],
          [
           12960
          ],
          [
           9000
          ],
          [
           50000
          ],
          [
           9000
          ],
          [
           18000
          ],
          [
           15000
          ],
          [
           12000
          ],
          [
           12000
          ],
          [
           10000
          ],
          [
           10000
          ],
          [
           10000
          ],
          [
           11800
          ],
          [
           48000
          ],
          [
           25000
          ],
          [
           14400
          ],
          [
           18000
          ],
          [
           14400
          ],
          [
           14400
          ],
          [
           14400
          ],
          [
           10000
          ],
          [
           10000
          ],
          [
           8800
          ],
          [
           10000
          ],
          [
           15000
          ],
          [
           28000
          ],
          [
           18000
          ],
          [
           17000
          ],
          [
           14400
          ],
          [
           12000
          ],
          [
           15000
          ],
          [
           15000
          ],
          [
           15000
          ],
          [
           189486
          ],
          [
           406287.75
          ],
          [
           10000
          ],
          [
           10000
          ],
          [
           20000
          ],
          [
           15000
          ],
          [
           101930.4
          ],
          [
           10000
          ],
          [
           18400
          ],
          [
           83700.54
          ],
          [
           15000
          ],
          [
           7260
          ],
          [
           395176.32
          ],
          [
           18000
          ],
          [
           15000
          ],
          [
           9000
          ],
          [
           313817.86
          ],
          [
           7260
          ],
          [
           15000
          ],
          [
           10562.75
          ],
          [
           10000
          ],
          [
           10000
          ],
          [
           18000
          ],
          [
           24000
          ],
          [
           20000
          ],
          [
           12000
          ],
          [
           12000
          ],
          [
           52000
          ],
          [
           11800
          ],
          [
           10000
          ],
          [
           11000
          ],
          [
           10000
          ],
          [
           10000
          ],
          [
           10000
          ],
          [
           9000
          ],
          [
           55000
          ],
          [
           25000
          ],
          [
           41164.2
          ],
          [
           9000
          ],
          [
           80956.26
          ],
          [
           30000
          ],
          [
           10000
          ],
          [
           17200
          ],
          [
           12000
          ],
          [
           52000
          ],
          [
           25000
          ],
          [
           21780
          ],
          [
           32931.36
          ],
          [
           14400
          ],
          [
           40803.84
          ],
          [
           10000
          ],
          [
           17424
          ],
          [
           30000
          ],
          [
           50000
          ],
          [
           9500
          ],
          [
           15000
          ],
          [
           9500
          ],
          [
           13500
          ],
          [
           30000
          ],
          [
           10000
          ],
          [
           48400
          ],
          [
           48400
          ],
          [
           50000
          ],
          [
           50000
          ],
          [
           80000
          ],
          [
           51455.25
          ],
          [
           24000
          ],
          [
           17424
          ],
          [
           219681.79
          ],
          [
           73180.8
          ],
          [
           80388
          ],
          [
           83160
          ],
          [
           89100
          ],
          [
           300000
          ],
          [
           25000
          ],
          [
           28000
          ],
          [
           11000
          ],
          [
           22650
          ],
          [
           25000
          ],
          [
           101636.37
          ],
          [
           117793.5
          ],
          [
           153912
          ],
          [
           217119.38
          ],
          [
           108900
          ],
          [
           10000
          ],
          [
           11500
          ],
          [
           11500
          ],
          [
           12000
          ],
          [
           21000
          ],
          [
           180000
          ],
          [
           12960
          ],
          [
           30000
          ],
          [
           15000
          ],
          [
           25918.2
          ],
          [
           119572.2
          ],
          [
           188669.25
          ],
          [
           215622
          ],
          [
           22000
          ],
          [
           9600
          ],
          [
           156525.6
          ],
          [
           111600.72
          ],
          [
           10562.75
          ],
          [
           13200
          ],
          [
           55750
          ],
          [
           50077.44
          ],
          [
           48000
          ],
          [
           37500
          ],
          [
           14400
          ],
          [
           14520
          ],
          [
           425920
          ],
          [
           20000
          ],
          [
           20000
          ],
          [
           20000
          ],
          [
           20000
          ],
          [
           20000
          ],
          [
           20000
          ],
          [
           25000
          ],
          [
           21000
          ],
          [
           11000
          ],
          [
           24000
          ],
          [
           29000
          ],
          [
           25000
          ],
          [
           40000
          ],
          [
           16000
          ],
          [
           40803.84
          ],
          [
           30000
          ],
          [
           209251.35
          ],
          [
           82328.4
          ],
          [
           30000
          ],
          [
           18000
          ],
          [
           20000
          ],
          [
           20000
          ],
          [
           52000
          ],
          [
           20000
          ],
          [
           55750
          ],
          [
           180000
          ],
          [
           48400
          ],
          [
           48400
          ],
          [
           50000
          ],
          [
           50000
          ],
          [
           43200
          ],
          [
           70000
          ],
          [
           509541.65
          ],
          [
           407060.88
          ],
          [
           169884
          ],
          [
           202211.33
          ],
          [
           209632.5
          ],
          [
           244952.4
          ],
          [
           269007.2
          ],
          [
           628425.6
          ],
          [
           12000
          ],
          [
           220000
          ],
          [
           25206.72
          ],
          [
           39029.76
          ],
          [
           46835.71
          ],
          [
           64795.5
          ],
          [
           220000
          ],
          [
           339908.55
          ],
          [
           341111.97
          ],
          [
           10000
          ],
          [
           30000
          ],
          [
           51455.25
          ],
          [
           80000
          ],
          [
           89100
          ],
          [
           83160
          ],
          [
           80388
          ],
          [
           73180.8
          ],
          [
           50077.44
          ],
          [
           40803.84
          ],
          [
           39916.8
          ],
          [
           30000
          ],
          [
           20401.92
          ],
          [
           10000
          ],
          [
           16632
          ],
          [
           21780
          ],
          [
           16632
          ],
          [
           20401.92
          ],
          [
           25000
          ],
          [
           159720
          ],
          [
           39916.8
          ],
          [
           13860
          ],
          [
           20418.75
          ],
          [
           15000
          ],
          [
           145955.04
          ],
          [
           105980.88
          ],
          [
           102245
          ],
          [
           79714.8
          ],
          [
           20000
          ],
          [
           20000
          ],
          [
           74250
          ],
          [
           69300
          ],
          [
           66990
          ],
          [
           60984
          ],
          [
           41731.2
          ],
          [
           34003.2
          ],
          [
           33264
          ],
          [
           25000
          ],
          [
           17001.6
          ],
          [
           12000
          ],
          [
           30000
          ],
          [
           34848
          ],
          [
           15000
          ],
          [
           10000
          ],
          [
           10000
          ],
          [
           108900
          ],
          [
           109771.2
          ],
          [
           89100
          ],
          [
           16000
          ],
          [
           194958.23
          ],
          [
           221611.5
          ],
          [
           306680.55
          ],
          [
           329522.69
          ],
          [
           73180.8
          ],
          [
           24000
          ],
          [
           10000
          ],
          [
           83160
          ],
          [
           25000
          ],
          [
           83700.54
          ],
          [
           9600
          ],
          [
           10560
          ],
          [
           27951
          ],
          [
           26317.5
          ],
          [
           11800
          ],
          [
           12000
          ],
          [
           12000
          ],
          [
           18400
          ],
          [
           11000
          ],
          [
           28000
          ],
          [
           52000
          ],
          [
           18000
          ],
          [
           22650
          ],
          [
           30000
          ],
          [
           13200
          ],
          [
           10560
          ],
          [
           20000
          ],
          [
           13500
          ],
          [
           50000
          ],
          [
           50000
          ],
          [
           20000
          ],
          [
           20000
          ],
          [
           20000
          ],
          [
           24000
          ],
          [
           24000
          ],
          [
           12000
          ],
          [
           29000
          ],
          [
           12000
          ],
          [
           12000
          ],
          [
           40000
          ],
          [
           55750
          ],
          [
           60348.96
          ],
          [
           22650
          ],
          [
           14520
          ],
          [
           14520
          ],
          [
           20000
          ],
          [
           10000
          ],
          [
           20000
          ],
          [
           20401.92
          ],
          [
           50000
          ],
          [
           80000
          ],
          [
           50077.44
          ],
          [
           25000
          ],
          [
           37500
          ],
          [
           43200
          ],
          [
           51455.25
          ],
          [
           180000
          ],
          [
           242000
          ],
          [
           11500
          ],
          [
           11500
          ],
          [
           40803.84
          ],
          [
           39916.8
          ],
          [
           30000
          ],
          [
           17200
          ],
          [
           16632
          ],
          [
           105270
          ],
          [
           34938.75
          ],
          [
           94743
          ],
          [
           35000
          ],
          [
           39916.8
          ],
          [
           40803.84
          ],
          [
           50077.44
          ],
          [
           20000
          ],
          [
           73180.8
          ],
          [
           30000
          ],
          [
           80388
          ],
          [
           89100
          ],
          [
           300000
          ],
          [
           15000
          ],
          [
           17200
          ],
          [
           18000
          ],
          [
           40000
          ],
          [
           83160
          ],
          [
           25000
          ],
          [
           20401.92
          ],
          [
           16632
          ],
          [
           109771.2
          ],
          [
           145200
          ],
          [
           329522.69
          ],
          [
           12000
          ],
          [
           17000
          ],
          [
           43200
          ],
          [
           10000
          ],
          [
           10000
          ],
          [
           10000
          ],
          [
           10000
          ],
          [
           10000
          ],
          [
           34303.5
          ],
          [
           34577.93
          ],
          [
           15000
          ],
          [
           15000
          ],
          [
           10000
          ],
          [
           10000
          ],
          [
           12000
          ],
          [
           15000
          ],
          [
           20000
          ],
          [
           25000
          ],
          [
           11000
          ],
          [
           15000
          ],
          [
           235224
          ],
          [
           9000
          ],
          [
           16000
          ],
          [
           16000
          ],
          [
           80388
          ],
          [
           18000
          ],
          [
           80681.83
          ],
          [
           84700
          ],
          [
           84700
          ],
          [
           84700
          ],
          [
           103629.24
          ],
          [
           20000
          ],
          [
           51122.5
          ],
          [
           15000
          ],
          [
           14400
          ],
          [
           15000
          ],
          [
           18000
          ],
          [
           20000
          ],
          [
           20000
          ],
          [
           21780
          ],
          [
           25000
          ],
          [
           111804
          ],
          [
           111804
          ],
          [
           7260
          ],
          [
           8800
          ],
          [
           9000
          ],
          [
           10000
          ],
          [
           10000
          ],
          [
           10000
          ],
          [
           12000
          ],
          [
           14400
          ],
          [
           242000
          ],
          [
           20000
          ],
          [
           83700.54
          ],
          [
           15000
          ],
          [
           149428.22
          ],
          [
           12960
          ],
          [
           12000
          ],
          [
           12000
          ],
          [
           10562.75
          ],
          [
           10560
          ],
          [
           10000
          ],
          [
           10000
          ],
          [
           10000
          ],
          [
           9000
          ],
          [
           12000
          ],
          [
           12000
          ],
          [
           180000
          ],
          [
           10560
          ],
          [
           15000
          ],
          [
           15000
          ],
          [
           96558.4
          ],
          [
           15000
          ],
          [
           45302.4
          ],
          [
           15000
          ],
          [
           67757.57
          ],
          [
           25000
          ],
          [
           10000
          ],
          [
           12000
          ],
          [
           15000
          ],
          [
           18000
          ],
          [
           48400
          ],
          [
           48400
          ],
          [
           48400
          ],
          [
           48400
          ],
          [
           10000
          ],
          [
           18000
          ],
          [
           12960
          ],
          [
           15000
          ],
          [
           18400
          ],
          [
           10000
          ],
          [
           10562.75
          ],
          [
           15000
          ],
          [
           15000
          ],
          [
           14400
          ],
          [
           12000
          ],
          [
           52690.18
          ],
          [
           53513.46
          ],
          [
           12000
          ],
          [
           12000
          ],
          [
           11500
          ],
          [
           8800
          ],
          [
           11500
          ],
          [
           10000
          ],
          [
           10000
          ],
          [
           10000
          ],
          [
           55750
          ],
          [
           15000
          ],
          [
           121992
          ],
          [
           17200
          ],
          [
           21780
          ],
          [
           37500
          ],
          [
           35000
          ],
          [
           48000
          ],
          [
           180000
          ],
          [
           28000
          ],
          [
           7260
          ],
          [
           242000
          ],
          [
           10560
          ],
          [
           28000
          ],
          [
           22000
          ],
          [
           52000
          ],
          [
           52000
          ],
          [
           15000
          ],
          [
           14520
          ],
          [
           20000
          ],
          [
           22000
          ],
          [
           15000
          ],
          [
           13500
          ],
          [
           12960
          ],
          [
           10000
          ],
          [
           10000
          ],
          [
           10000
          ],
          [
           10000
          ],
          [
           10000
          ],
          [
           10000
          ],
          [
           12000
          ],
          [
           14400
          ],
          [
           14400
          ],
          [
           14400
          ],
          [
           15000
          ],
          [
           10000
          ],
          [
           18000
          ],
          [
           20000
          ],
          [
           25000
          ],
          [
           11800
          ],
          [
           9000
          ],
          [
           14400
          ],
          [
           14400
          ],
          [
           21780
          ],
          [
           15000
          ],
          [
           25000
          ],
          [
           23232
          ],
          [
           7260
          ],
          [
           10000
          ],
          [
           11000
          ],
          [
           18400
          ],
          [
           49265.27
          ],
          [
           12960
          ],
          [
           12000
          ],
          [
           12000
          ],
          [
           10000
          ],
          [
           7260
          ],
          [
           25000
          ],
          [
           20000
          ],
          [
           10560
          ],
          [
           9000
          ],
          [
           10000
          ],
          [
           101636.37
          ],
          [
           102638.25
          ],
          [
           261499.39
          ],
          [
           153367.5
          ],
          [
           25000
          ],
          [
           246985.2
          ],
          [
           17000
          ],
          [
           50000
          ],
          [
           50000
          ],
          [
           141134.4
          ],
          [
           168106.75
          ],
          [
           111600.72
          ],
          [
           51110.4
          ],
          [
           48000
          ],
          [
           12000
          ],
          [
           305283
          ],
          [
           14400
          ],
          [
           14400
          ],
          [
           51455.25
          ],
          [
           12000
          ],
          [
           11000
          ],
          [
           16000
          ],
          [
           18400
          ],
          [
           30000
          ],
          [
           13200
          ],
          [
           52000
          ],
          [
           48400.97
          ],
          [
           12000
          ],
          [
           12000
          ],
          [
           9600
          ],
          [
           15000
          ],
          [
           22650
          ],
          [
           28000
          ],
          [
           35000
          ],
          [
           10000
          ],
          [
           12000
          ],
          [
           10000
          ],
          [
           20000
          ],
          [
           8800
          ],
          [
           16000
          ],
          [
           13200
          ],
          [
           12000
          ],
          [
           12000
          ],
          [
           11000
          ],
          [
           10000
          ],
          [
           9600
          ],
          [
           15000
          ],
          [
           28000
          ],
          [
           168106.75
          ],
          [
           188760
          ],
          [
           204490
          ],
          [
           211701.6
          ],
          [
           235950
          ],
          [
           141134.4
          ],
          [
           22000
          ],
          [
           140088.96
          ],
          [
           30000
          ],
          [
           10562.75
          ],
          [
           30000
          ],
          [
           20401.92
          ],
          [
           17200
          ],
          [
           16632
          ],
          [
           11000
          ],
          [
           40000
          ],
          [
           12000
          ],
          [
           18000
          ],
          [
           22650
          ],
          [
           9000
          ],
          [
           10000
          ],
          [
           12000
          ],
          [
           15000
          ],
          [
           15000
          ],
          [
           12000
          ],
          [
           199650
          ],
          [
           39916.8
          ],
          [
           55750
          ],
          [
           52000
          ],
          [
           8800
          ],
          [
           10000
          ],
          [
           10000
          ],
          [
           10000
          ],
          [
           12000
          ],
          [
           10000
          ],
          [
           306735
          ],
          [
           15000
          ],
          [
           20000
          ],
          [
           63162
          ],
          [
           102245
          ],
          [
           96558.4
          ],
          [
           12000
          ],
          [
           20000
          ],
          [
           167401.08
          ],
          [
           14520
          ],
          [
           18400
          ],
          [
           48000
          ],
          [
           15000
          ],
          [
           94743
          ],
          [
           101636.37
          ],
          [
           276061.5
          ],
          [
           17000
          ],
          [
           73689
          ],
          [
           119572.2
          ],
          [
           128955.75
          ],
          [
           146742.75
          ],
          [
           159720
          ],
          [
           49265.27
          ],
          [
           47371.5
          ],
          [
           83700.54
          ],
          [
           92020.5
          ],
          [
           10000
          ],
          [
           22650
          ],
          [
           20000
          ],
          [
           40803.84
          ],
          [
           50077.44
          ],
          [
           12000
          ],
          [
           73180.8
          ],
          [
           80388
          ],
          [
           83160
          ],
          [
           89100
          ],
          [
           15000
          ],
          [
           15000
          ],
          [
           7260
          ],
          [
           10000
          ],
          [
           10000
          ],
          [
           11000
          ],
          [
           11500
          ],
          [
           20000
          ],
          [
           17200
          ],
          [
           156907.36
          ],
          [
           15000
          ],
          [
           20000
          ],
          [
           11500
          ],
          [
           21780
          ],
          [
           40803.84
          ],
          [
           10000
          ],
          [
           15000
          ],
          [
           17000
          ],
          [
           18000
          ],
          [
           9600
          ],
          [
           13200
          ],
          [
           14520
          ],
          [
           16000
          ],
          [
           30000
          ],
          [
           10000
          ],
          [
           16632
          ],
          [
           20000
          ],
          [
           20401.92
          ],
          [
           30000
          ],
          [
           39916.8
          ],
          [
           50077.44
          ],
          [
           11800
          ],
          [
           13500
          ],
          [
           25000
          ],
          [
           12000
          ],
          [
           12000
          ],
          [
           14400
          ],
          [
           15000
          ],
          [
           15000
          ],
          [
           18000
          ],
          [
           18000
          ],
          [
           9000
          ],
          [
           89100
          ],
          [
           83160
          ],
          [
           37500
          ],
          [
           80388
          ],
          [
           73180.8
          ],
          [
           9000
          ],
          [
           12000
          ],
          [
           12000
          ],
          [
           10000
          ],
          [
           10000
          ],
          [
           10000
          ],
          [
           50000
          ],
          [
           10000
          ],
          [
           10000
          ],
          [
           13500
          ],
          [
           14400
          ],
          [
           14400
          ],
          [
           25000
          ],
          [
           48400.97
          ],
          [
           15000
          ],
          [
           25000
          ],
          [
           50000
          ],
          [
           55750
          ],
          [
           15000
          ],
          [
           12000
          ],
          [
           20691
          ],
          [
           30492
          ],
          [
           15000
          ],
          [
           10000
          ],
          [
           17000
          ],
          [
           12000
          ],
          [
           83160
          ],
          [
           89100
          ],
          [
           10000
          ],
          [
           11500
          ],
          [
           8800
          ],
          [
           9000
          ],
          [
           80388
          ],
          [
           12000
          ],
          [
           17000
          ],
          [
           79714.8
          ],
          [
           198198
          ],
          [
           199650
          ],
          [
           11500
          ],
          [
           11000
          ],
          [
           15000
          ],
          [
           73180.8
          ],
          [
           50077.44
          ],
          [
           40803.84
          ],
          [
           14400
          ],
          [
           14400
          ],
          [
           10000
          ],
          [
           16632
          ],
          [
           20000
          ],
          [
           20000
          ],
          [
           20000
          ],
          [
           20000
          ],
          [
           10000
          ],
          [
           20401.92
          ],
          [
           24000
          ],
          [
           25000
          ],
          [
           29000
          ],
          [
           30000
          ],
          [
           39916.8
          ],
          [
           10000
          ],
          [
           11800
          ],
          [
           15000
          ],
          [
           18000
          ],
          [
           10000
          ],
          [
           10000
          ],
          [
           11000
          ],
          [
           10000
          ],
          [
           10000
          ],
          [
           18000
          ],
          [
           10000
          ],
          [
           18400
          ],
          [
           180000
          ],
          [
           121992
          ],
          [
           55750
          ],
          [
           28000
          ],
          [
           48000
          ],
          [
           52000
          ],
          [
           229326.24
          ],
          [
           12000
          ],
          [
           12000
          ],
          [
           14400
          ],
          [
           245968.8
          ],
          [
           223698.75
          ],
          [
           25000
          ],
          [
           105622.11
          ],
          [
           9000
          ],
          [
           141134.4
          ],
          [
           209211.9
          ],
          [
           20000
          ],
          [
           15000
          ],
          [
           9000
          ],
          [
           10000
          ],
          [
           10560
          ],
          [
           14520
          ],
          [
           12000
          ],
          [
           12000
          ],
          [
           18000
          ],
          [
           10000
          ],
          [
           10000
          ],
          [
           10000
          ],
          [
           48400
          ],
          [
           7260
          ],
          [
           9600
          ],
          [
           10000
          ],
          [
           40803.84
          ],
          [
           12000
          ],
          [
           48400
          ],
          [
           13200
          ],
          [
           20000
          ],
          [
           30000
          ],
          [
           39916.8
          ],
          [
           37500
          ],
          [
           21780
          ],
          [
           20401.92
          ],
          [
           16000
          ],
          [
           22000
          ],
          [
           50077.44
          ],
          [
           22650
          ],
          [
           110533.5
          ],
          [
           209632.5
          ],
          [
           212355
          ],
          [
           39916.8
          ],
          [
           25000
          ],
          [
           51455.25
          ],
          [
           73180.8
          ],
          [
           135907.2
          ],
          [
           153679.68
          ],
          [
           52000
          ],
          [
           30000
          ],
          [
           313817.86
          ],
          [
           50077.44
          ],
          [
           73180.8
          ],
          [
           15000
          ],
          [
           20000
          ],
          [
           80388
          ],
          [
           16632
          ],
          [
           83160
          ],
          [
           17200
          ],
          [
           20000
          ],
          [
           89100
          ],
          [
           21780
          ],
          [
           12000
          ],
          [
           12000
          ],
          [
           43200
          ],
          [
           180000
          ],
          [
           11800
          ],
          [
           10000
          ],
          [
           10000
          ],
          [
           10000
          ],
          [
           10000
          ],
          [
           25000
          ],
          [
           25000
          ],
          [
           15000
          ],
          [
           12000
          ],
          [
           15000
          ],
          [
           15000
          ],
          [
           48000
          ],
          [
           30000
          ],
          [
           20401.92
          ],
          [
           10000
          ],
          [
           10562.75
          ],
          [
           11500
          ],
          [
           11500
          ],
          [
           12000
          ],
          [
           12000
          ],
          [
           12960
          ],
          [
           15000
          ],
          [
           16000
          ],
          [
           12000
          ],
          [
           14400
          ],
          [
           15000
          ],
          [
           15000
          ],
          [
           37500
          ],
          [
           12000
          ],
          [
           25000
          ],
          [
           10000
          ],
          [
           11800
          ],
          [
           11500
          ],
          [
           15000
          ],
          [
           10562.75
          ],
          [
           42398.4
          ],
          [
           11500
          ],
          [
           48000
          ],
          [
           10000
          ],
          [
           83700.54
          ],
          [
           9000
          ],
          [
           121000
          ],
          [
           141134.4
          ],
          [
           160052.75
          ],
          [
           48400
          ],
          [
           12000
          ],
          [
           12000
          ],
          [
           13500
          ],
          [
           11500
          ],
          [
           11500
          ],
          [
           15000
          ],
          [
           22000
          ],
          [
           48400
          ],
          [
           15000
          ],
          [
           93392.64
          ],
          [
           18000
          ],
          [
           18000
          ],
          [
           18000
          ],
          [
           15000
          ],
          [
           15000
          ],
          [
           15000
          ],
          [
           15000
          ],
          [
           15000
          ],
          [
           205276.5
          ],
          [
           10000
          ],
          [
           12000
          ],
          [
           12000
          ],
          [
           180000
          ],
          [
           242000
          ],
          [
           9000
          ],
          [
           102453.12
          ],
          [
           10000
          ],
          [
           10000
          ],
          [
           49397.04
          ],
          [
           39105.99
          ],
          [
           12000
          ],
          [
           12000
          ],
          [
           15000
          ],
          [
           18000
          ],
          [
           20000
          ],
          [
           37500
          ],
          [
           14400
          ],
          [
           89100
          ],
          [
           10562.75
          ],
          [
           83160
          ],
          [
           73180.8
          ],
          [
           15000
          ],
          [
           16632
          ],
          [
           17000
          ],
          [
           17200
          ],
          [
           20401.92
          ],
          [
           30000
          ],
          [
           37500
          ],
          [
           39916.8
          ],
          [
           18000
          ],
          [
           40020.75
          ],
          [
           40803.84
          ],
          [
           50077.44
          ],
          [
           55750
          ],
          [
           25000
          ],
          [
           50000
          ],
          [
           80388
          ],
          [
           10000
          ],
          [
           12000
          ],
          [
           51455.25
          ],
          [
           9600
          ],
          [
           20000
          ],
          [
           50000
          ],
          [
           96558.4
          ],
          [
           14400
          ],
          [
           14400
          ],
          [
           13500
          ],
          [
           10000
          ],
          [
           10000
          ],
          [
           11800
          ],
          [
           12000
          ],
          [
           29000
          ],
          [
           10000
          ],
          [
           15000
          ],
          [
           24000
          ],
          [
           20000
          ],
          [
           20000
          ],
          [
           8800
          ],
          [
           12000
          ],
          [
           17200
          ],
          [
           13200
          ],
          [
           50000
          ],
          [
           40000
          ],
          [
           35000
          ],
          [
           25000
          ],
          [
           16000
          ],
          [
           14520
          ],
          [
           12960
          ],
          [
           8800
          ],
          [
           10000
          ],
          [
           10000
          ],
          [
           18000
          ],
          [
           50000
          ],
          [
           10000
          ],
          [
           22650
          ],
          [
           43200
          ],
          [
           18000
          ],
          [
           30000
          ],
          [
           20000
          ],
          [
           22650
          ],
          [
           10000
          ],
          [
           11000
          ]
         ],
         "hovertemplate": "Cluster=Cluster 1<br>0=%{x}<br>1=%{y}<br>2=%{z}<br>Feature=%{customdata[0]}<extra></extra>",
         "legendgroup": "Cluster 1",
         "marker": {
          "color": "#EF553B",
          "opacity": 0.7,
          "symbol": "circle"
         },
         "mode": "markers",
         "name": "Cluster 1",
         "scene": "scene",
         "showlegend": true,
         "type": "scatter3d",
         "x": [
          8.574842,
          6.9024987,
          1.0894792,
          12.8164425,
          -1.9238681,
          -6.624758,
          -5.616799,
          -3.6573145,
          -5.205583,
          -6.6839056,
          -3.4795935,
          -2.782711,
          -13.772169,
          4.2825685,
          -3.4796047,
          -5.9578953,
          3.7841015,
          5.29244,
          6.1504045,
          -4.3594885,
          -3.7645118,
          -6.7654753,
          -7.09682,
          -10.2148,
          -2.8561382,
          12.788549,
          -6.6839056,
          14.721248,
          15.971871,
          16.580715,
          -10.088961,
          18.556198,
          -10.701205,
          3.7841012,
          20.076014,
          -10.088959,
          7.5952525,
          -17.254374,
          -12.40716,
          15.639486,
          -10.790573,
          11.446762,
          6.505062,
          -16.78871,
          5.245979,
          15.583631,
          -17.678154,
          5.9840655,
          -6.765323,
          8.718492,
          4.0894547,
          -14.394319,
          -2.6788123,
          17.426195,
          -15.003989,
          5.956947,
          15.720304,
          4.037493,
          -1.9238683,
          -6.3959694,
          12.7143545,
          -17.014809,
          -15.686247,
          -13.133294,
          -6.702125,
          -10.129611,
          15.359443,
          -5.9333243,
          7.9653296,
          10.393624,
          17.144045,
          -10.380445,
          -9.914403,
          1.1557324,
          12.962679,
          -8.876044,
          -5.1528964,
          -6.201355,
          -17.74791,
          -15.876069,
          -16.481901,
          -16.074684,
          5.947905,
          5.9482517,
          -9.088116,
          1.6008866,
          4.0894547,
          -13.772161,
          -16.939386,
          -18.585585,
          10.393549,
          -17.014809,
          -16.688581,
          2.9836996,
          2.6436346,
          -16.497244,
          -12.351036,
          0.82482344,
          -3.1159818,
          12.9281845,
          -13.772159,
          15.611961,
          12.667921,
          4.3916187,
          1.3952681,
          17.426195,
          6.8485527,
          -17.087187,
          4.2274246,
          -3.0471377,
          -2.7339683,
          2.6436343,
          7.9653296,
          -1.9340056,
          4.2274246,
          -17.217934,
          4.037493,
          -3.6170614,
          1.3567464,
          -2.7339683,
          -2.9314582,
          -15.42846,
          2.6440742,
          15.292438,
          -0.3702716,
          -5.1528964,
          1.5768107,
          -3.0097845,
          1.3361892,
          -2.332413,
          -2.4917815,
          7.9653296,
          -5.509394,
          -11.856789,
          -6.7135024,
          15.359438,
          -5.454237,
          8.718632,
          -3.8865654,
          16.465391,
          -6.866755,
          -0.3702716,
          -11.942207,
          -16.266977,
          -5.6125517,
          -16.407215,
          12.867145,
          -2.4917815,
          -16.72791,
          21.704882,
          -5.933352,
          4.2825685,
          -12.141156,
          4.2825685,
          1.0894792,
          -19.105465,
          -3.7099056,
          7.595333,
          20.076014,
          -5.618423,
          -6.624758,
          -4.5215316,
          21.513468,
          -2.9315012,
          -16.72791,
          0.21215583,
          8.4447775,
          6.9196587,
          6.1400013,
          5.4344473,
          -1.754385,
          -11.616479,
          -18.681377,
          -2.8184521,
          -13.133294,
          -12.551166,
          5.069861,
          -4.1178703,
          1.6427029,
          0.10571754,
          21.179659,
          -2.332413,
          2.8886561,
          3.2145617,
          -6.081533,
          15.25878,
          -4.3594885,
          -10.2148,
          -3.230131,
          -17.315483,
          -4.6853504,
          4.3836913,
          -3.5372531,
          0.1336748,
          18.556198,
          3.7841015,
          -3.7717357,
          4.6772094,
          4.037493,
          -10.670705,
          -5.9578953,
          11.357833,
          -6.6139846,
          8.57977,
          -16.173195,
          -5.205583,
          -3.184352,
          -15.318126,
          -15.078869,
          -1.9967483,
          -1.9967483,
          21.540653,
          21.540653,
          14.5203,
          15.255415,
          -2.782711,
          -2.9339528,
          -3.4553165,
          14.5203,
          -5.4621263,
          -17.254374,
          12.195486,
          14.721248,
          0.4330583,
          -4.4755073,
          21.704882,
          10.393549,
          -14.929458,
          -14.915624,
          -0.3702716,
          21.540653,
          -5.9578953,
          -4.3594885,
          20.076014,
          7.5953336,
          -5.618423,
          -6.624758,
          -8.248382,
          -0.40778297,
          22.12937,
          22.121174,
          1.5626494,
          0.53169996,
          0.26127014,
          22.172163,
          22.166553,
          22.143847,
          2.0927405,
          22.141027,
          22.094547,
          22.09183,
          22.086416,
          -4.9583716,
          22.141026,
          22.130524,
          22.122194,
          -3.745385,
          -19.105467,
          21.513468,
          -4.521531,
          5.5782313,
          6.3672214,
          7.2145295,
          8.750647,
          11.195905,
          12.397357,
          13.105575,
          14.721234,
          15.968824,
          -9.108923,
          16.48585,
          -16.23749,
          16.917175,
          16.392895,
          -12.551166,
          1.4631282,
          13.225911,
          17.058231,
          15.49781,
          -12.385795,
          2.7734418,
          4.5972724,
          5.0470166,
          7.028224,
          15.720304,
          -15.341933,
          8.291526,
          9.050483,
          9.237789,
          9.977817,
          12.305244,
          14.125465,
          14.222552,
          15.523909,
          16.550894,
          -5.9991302,
          -10.088961,
          -4.775042,
          17.198631,
          0.5104398,
          0.3030014,
          21.17966,
          -4.2255344,
          5.29244,
          -17.254374,
          0.65139395,
          -3.2251546,
          -1.8270081,
          -2.1287808,
          8.598689,
          -2.9314582,
          -13.772143,
          6.3489084,
          -11.718423,
          6.848553,
          3.784101,
          -1.923868,
          -3.8167822,
          14.380909,
          -5.1012206,
          -10.270919,
          -9.865011,
          17.426195,
          -3.1422894,
          -18.731922,
          -0.3702716,
          -14.394319,
          -13.133294,
          -10.088959,
          -10.790573,
          -1.923868,
          15.580933,
          1.0894873,
          -5.71908,
          -5.6184406,
          -1.9967483,
          -1.9967483,
          -15.42846,
          -2.9314582,
          -2.8200653,
          -9.926137,
          -3.4553165,
          -10.305273,
          -7.3611836,
          -3.9742696,
          -5.9578953,
          -5.283706,
          -13.133294,
          -5.205583,
          -5.205583,
          -15.238363,
          12.870401,
          -15.350451,
          16.416676,
          -6.168798,
          -4.521531,
          11.2417555,
          11.652434,
          8.580023,
          -8.248382,
          21.513468,
          -4.3594885,
          -3.7861068,
          3.2145617,
          3.0781589,
          12.659684,
          12.613644,
          14.721248,
          16.459936,
          16.814623,
          3.2837522,
          11.623766,
          3.486055,
          -6.6839056,
          13.221004,
          12.346392,
          11.17952,
          15.637927,
          8.750647,
          14.721248,
          6.9024987,
          5.3416915,
          -1.7543826,
          12.667929,
          16.494986,
          10.393617,
          -3.4795935,
          6.532255,
          -11.717938,
          16.07886,
          16.492447,
          -4.2255344,
          21.29833,
          -2.1287951,
          -7.04337,
          -16.675306,
          -8.248382,
          -3.7099056,
          0.79070705,
          0.26736596,
          -8.807261,
          -9.25635,
          -5.6163435,
          -6.6899376,
          -17.2988,
          -16.536026,
          5.9840655,
          -13.772148,
          -6.6729293,
          2.6436343,
          -15.369223,
          -17.68085,
          -2.8161485,
          17.173298,
          -0.32795972,
          7.9653296,
          -17.254564,
          -17.254374,
          6.945296,
          -16.481901,
          -5.7048516,
          -5.7426376,
          -5.7426376,
          -5.7426686,
          4.983297,
          15.720304,
          11.504197,
          -17.298738,
          5.922805,
          -12.141156,
          -2.7339683,
          15.59958,
          -15.519492,
          -16.242163,
          -11.610604,
          -4.1829143,
          4.4395237,
          4.2274246,
          4.0894547,
          15.242359,
          1.4329752,
          -9.107775,
          1.6234574,
          2.223252,
          -16.649435,
          -3.7854917,
          -15.42846,
          6.848551,
          0.029874923,
          1.6482899,
          -10.235465,
          2.0973155,
          2.9622154,
          4.037493,
          -1.9238683,
          5.984065,
          1.1011016,
          1.1525079,
          7.9653296,
          -9.96615,
          -9.96615,
          -4.3594885,
          -1.923868,
          0.029876584,
          17.159176,
          -4.3967786,
          -16.624802,
          -4.8887362,
          -12.424632,
          7.7158895,
          -11.616482,
          -2.3313498,
          -7.007523,
          2.6436343,
          10.3934965,
          7.595389,
          20.076014,
          7.595333,
          20.076014,
          -3.8700516,
          -1.4078101,
          -10.2148,
          -16.991161,
          17.426195,
          -3.8520906,
          4.037493,
          12.40839,
          12.53668,
          -16.269735,
          -10.172085,
          -6.4271874,
          -5.603504,
          -10.274386,
          -6.702125,
          3.0781589,
          4.0894547,
          3.4562292,
          1.4773462,
          12.870366,
          -7.367883,
          -5.5520654,
          17.198631,
          7.763092,
          16.50742,
          -16.381332,
          8.579983,
          -6.683905,
          -6.801949,
          -4.359488,
          -18.675127,
          4.2274246,
          -3.7854917,
          -1.9238682,
          -18.57348,
          18.556198,
          -0.3702716,
          -0.3702716,
          -12.0648155,
          -5.205584,
          -15.518893,
          18.556198,
          -16.626986,
          1.0894873,
          -10.129611,
          0.732725,
          1.6700466,
          -9.222781,
          -13.77216,
          -2.4917815,
          -8.876044,
          -6.702125,
          5.9125586,
          -16.407215,
          -15.892044,
          2.6436317,
          0.26178074,
          10.393624,
          15.622621,
          -17.678154,
          -5.1012206,
          7.9653296,
          -16.407215,
          5.922805,
          -16.354214,
          -16.524376,
          -11.922845,
          -4.6628118,
          4.2274246,
          1.3493512,
          -3.1422894,
          17.426195,
          7.5866494,
          -10.129611,
          -5.947153,
          -5.9468865,
          -3.8520906,
          4.2274246,
          -17.68085,
          -15.147952,
          -1.923868,
          15.359438,
          12.943742,
          5.0698614,
          3.3414972,
          -1.0621111,
          2.1351125,
          -17.783682,
          -0.5472762,
          -17.014809,
          -5.618423,
          -6.170736,
          2.892006,
          1.2949207,
          4.6772094,
          -4.933037,
          -6.801949,
          -6.1714435,
          -1.8095019,
          -16.407215,
          5.922805,
          21.513466,
          15.464437,
          -3.1422894,
          -17.254564,
          17.426195,
          -10.088959,
          -10.701205,
          -0.3702847,
          20.075605,
          -9.873019,
          2.223252,
          3.7841015,
          17.133617,
          -13.133317,
          -18.681377,
          -6.683905,
          -8.807261,
          -10.146312,
          -3.5586758,
          -15.384086,
          4.0894547,
          -17.254374,
          -10.790573,
          -10.371981,
          -10.2743845,
          -3.1422894,
          -3.8437355,
          3.7841015,
          -16.88773,
          -18.675127,
          1.2949207,
          21.40445,
          21.42674,
          0.09640739,
          21.46545,
          2.8920074,
          18.556198,
          1.8258882,
          -10.088959,
          4.037493,
          14.721248,
          16.135069,
          16.511698,
          16.868362,
          -2.9935708,
          -3.4796047,
          2.3565736,
          -16.481901,
          -13.133294,
          7.9653325,
          5.955872,
          2.2309897,
          17.126013,
          12.668275,
          2.82154,
          0.5204727,
          13.061259,
          -5.8129225,
          -0.3702716,
          4.0894547,
          12.867894,
          0.34859812,
          -3.6403813,
          2.82154,
          -3.7219217,
          -1.8523686,
          2.6436317,
          -15.0362215,
          8.785787,
          5.0470166,
          -4.3967786,
          -6.513523,
          15.610111,
          1.6080221,
          -5.205583,
          17.426195,
          -6.801949,
          -12.141156,
          3.4864204,
          5.0698647,
          -1.4590124,
          -16.675306,
          8.567283,
          4.383726,
          2.342631,
          2.6197453,
          -3.7517593,
          20.09631,
          10.125222,
          6.8485518,
          5.4681435,
          -13.772153,
          -13.133317,
          15.639347,
          12.519342,
          11.374018,
          -6.6236525,
          8.598689,
          7.143959,
          6.23874,
          5.245979,
          2.6436343,
          -12.141156,
          4.2274246,
          1.2997397,
          0.48507315,
          -3.0091848,
          3.543568,
          -15.582468,
          16.47349,
          -3.6134095,
          0.029874923,
          -15.42846,
          2.8307085,
          -16.266977,
          12.378384,
          0.58105797,
          -12.141156,
          -16.848906,
          -1.4078101,
          3.784101,
          -10.790573,
          -5.205584,
          -17.254374,
          -10.088959,
          -13.77222,
          16.911448,
          15.583631,
          16.515944,
          14.721248,
          12.778855,
          11.17952,
          -5.1012206,
          1.0894792,
          -11.675329,
          2.2235756,
          -6.602495,
          -16.407215,
          0.030460052,
          0.029874923,
          -1.4078101,
          10.393598,
          15.483588,
          5.3416915,
          6.6173987,
          8.580073,
          7.1136713,
          8.702962,
          15.216367,
          15.461986,
          2.9778624,
          -2.3313498,
          -13.772144,
          12.693266,
          -5.71908,
          0.82050896,
          -8.807261,
          1.0894873,
          5.922805,
          -15.875074,
          -17.68085,
          7.5953755,
          0.03175525,
          -11.685269,
          -5.71908,
          -5.8129225,
          -16.95118,
          15.531952,
          20.963104,
          20.987484,
          12.53668,
          -7.367894,
          -16.851328,
          -6.31948,
          6.617371,
          5.4344473,
          -2.4917815,
          3.4562292,
          4.0894547,
          15.359438,
          7.2081885,
          15.531952,
          -17.014809,
          7.028224,
          0.6672867,
          0.52047247,
          3.2145617,
          -2.8585963,
          2.6436343,
          8.431214,
          11.313871,
          12.195486,
          5.9482517,
          -16.407215,
          0.88003445,
          17.065966,
          -15.260625,
          -15.634622,
          -1.9967483,
          -1.9967483,
          0.63990915,
          16.2066,
          -2.8200536,
          -17.785875,
          -3.4553165,
          14.721248,
          12.618677,
          0.8200587,
          -5.1012206,
          12.7143545,
          -14.394319,
          -7.367894,
          1.546477,
          -3.1422894,
          5.956947,
          -7.367894,
          -16.481901,
          -3.9003057,
          17.426195,
          -4.359488,
          7.763093,
          -5.8129225,
          -18.591131,
          -6.801949,
          -0.3702847,
          -2.8561382,
          -6.702125,
          2.6670642,
          -16.269735,
          -3.1189144,
          0.15366936,
          -11.807198,
          4.9053273,
          15.483588,
          2.8920074,
          0.40293336,
          -15.503804,
          17.152594,
          7.9653296,
          12.697215,
          -1.9238683,
          -5.205584,
          -10.239949,
          -9.942373,
          10.393549,
          -9.263701,
          0.9244488,
          0.4292859,
          20.076033,
          4.2274246,
          3.7841012,
          -2.332413,
          12.813086,
          -6.2073846,
          7.5953336,
          -10.797457,
          -15.12621,
          -10.088959,
          12.648005,
          8.580018,
          -16.381332,
          16.41764,
          -17.254564,
          18.556198,
          11.374018,
          -13.133317,
          3.1493442,
          0.26126388,
          0.305502,
          13.068452,
          11.652442,
          21.513466,
          8.690819,
          3.0415406,
          -3.722625,
          -0.3702716,
          14.721248,
          -1.9339739,
          11.374018,
          8.431214,
          -12.141156,
          -15.431501,
          6.9024987,
          17.06424,
          6.1504045,
          16.519148,
          -15.42846,
          5.5782313,
          -16.381332,
          -10.380514,
          -9.965687,
          -8.248382,
          -4.359488,
          -5.1012206,
          -3.6403813,
          5.955872,
          1.0001482,
          1.3443284,
          -11.931744,
          -11.807198,
          -17.315983,
          2.4050558,
          -12.424632,
          -16.496387,
          -6.801949,
          14.721248,
          16.135069,
          -2.332413,
          4.037493,
          2.8307085,
          3.543568,
          -6.189782,
          -6.659189,
          -10.2148,
          -12.424632,
          -17.254564,
          15.292438,
          -16.269735,
          17.130539,
          -16.945486,
          8.579827,
          -6.4228897,
          -17.74791,
          -2.332413,
          -4.9962053,
          3.5406618,
          12.411585,
          4.037493,
          -4.859559,
          2.8886561,
          -6.201355,
          12.95236,
          6.848553,
          15.242081,
          -5.2992377,
          2.8920057,
          -3.749889,
          20.076014,
          2.6425073,
          2.488263,
          1.0894873,
          3.0852036,
          2.9968185,
          -12.09523,
          18.556198,
          7.595333,
          -12.351036,
          3.3713338,
          -1.4078101,
          -1.4078101,
          10.393598,
          2.6436307,
          0.031772256,
          0.031772256,
          0.029874923,
          0.030460052,
          0.4766086,
          -3.3405309,
          -6.0341244,
          -6.4758425,
          -4.359488,
          -3.7861068,
          7.9653296,
          -4.301584,
          0.8445249,
          0.48589268,
          -5.61697,
          -6.730663,
          2.535927,
          2.82154,
          -12.141156,
          -16.481901,
          -15.341135,
          8.57999,
          -15.9556465,
          5.575886,
          4.037493,
          6.2791367,
          8.598689,
          -17.244072,
          16.48585,
          -17.014809,
          16.476202,
          16.515944,
          14.721248,
          8.580074,
          12.926208,
          10.393549,
          21.405684,
          12.816654,
          11.446762,
          -5.9578953,
          -11.876594,
          -5.71908,
          7.113555,
          5.984065,
          15.292438,
          21.513466,
          3.7841012,
          -1.9781557,
          -6.1717563,
          -4.3967786,
          -16.687695,
          5.912558,
          1.0899602,
          1.6620269,
          5.956947,
          -5.099899,
          2.1887665,
          -3.4553165,
          -2.4917815,
          -16.99236,
          -2.8200548,
          -15.169477,
          -15.584824,
          4.089451,
          -7.3611836,
          16.50742,
          -10.701205,
          -5.618423,
          -3.4795935,
          -6.6839056,
          -11.876568,
          -17.254374,
          -5.205583,
          -10.2148,
          4.0894547,
          0.696754,
          -9.107775,
          -14.394319,
          -5.9333243,
          -7.3679376,
          -13.133294,
          -8.248382,
          -14.394319,
          -10.088959,
          -1.99675,
          -13.133294,
          -3.8700516,
          -3.1422894
         ],
         "y": [
          -4.7339926,
          -5.4054775,
          -4.3394256,
          -1.4395655,
          8.779356,
          -9.279137,
          -8.327417,
          8.946548,
          8.956868,
          -10.317548,
          -6.9484005,
          10.108276,
          4.3500834,
          -8.459288,
          -6.948431,
          -2.1743298,
          5.541299,
          -6.3232946,
          -5.916192,
          -6.1620693,
          9.616653,
          11.704077,
          12.22502,
          13.44372,
          -4.7696166,
          -0.64891297,
          -10.317548,
          1.2211951,
          2.9240139,
          3.111275,
          -0.099544,
          8.70536,
          13.449011,
          5.5412993,
          8.752664,
          -0.099543855,
          12.169301,
          5.264747,
          7.458262,
          -1.0699728,
          13.11146,
          -2.607351,
          -5.662178,
          8.090792,
          -5.878161,
          -1.8970276,
          8.856061,
          10.358485,
          11.704013,
          11.38521,
          5.7873373,
          8.184633,
          -6.5899944,
          8.87508,
          1.3078561,
          9.891958,
          8.816149,
          10.234336,
          8.779356,
          12.830097,
          9.74987,
          3.7529879,
          1.0165293,
          0.06473673,
          12.13969,
          13.166504,
          9.639446,
          -1.76884,
          10.070368,
          10.130378,
          -1.9517026,
          6.798974,
          7.166727,
          5.2171655,
          9.938908,
          6.240354,
          12.687159,
          -9.665237,
          8.692325,
          9.78681,
          2.8832371,
          10.301517,
          10.673741,
          10.672721,
          6.7958884,
          6.295535,
          5.7873373,
          4.350083,
          7.586219,
          9.360242,
          10.130414,
          3.7529879,
          10.067395,
          -6.408004,
          10.197265,
          7.8529806,
          7.3821797,
          -4.948195,
          -7.353053,
          9.948842,
          4.3500943,
          -1.2617934,
          9.4211855,
          -1.3053308,
          5.300652,
          8.87508,
          -3.2528934,
          7.5583415,
          7.4420443,
          -7.27254,
          -7.8480186,
          10.197265,
          10.070368,
          -6.074121,
          7.4420447,
          7.687209,
          10.234336,
          9.130405,
          5.183376,
          -7.8480186,
          -1.761668,
          8.582292,
          -6.705126,
          9.159468,
          10.300381,
          12.687159,
          5.7514467,
          9.87506,
          5.8035417,
          -8.156288,
          -8.121861,
          10.070368,
          -1.9998599,
          -0.40852842,
          -10.05609,
          9.639448,
          -7.4601946,
          11.3852415,
          9.715551,
          -1.9839522,
          12.520587,
          10.300381,
          -0.070276305,
          8.50446,
          -9.162353,
          9.852618,
          -1.46928,
          -8.121861,
          3.3335526,
          6.9989223,
          -1.7687415,
          -8.459288,
          7.8920712,
          -8.459288,
          -4.3394256,
          9.159827,
          8.96175,
          12.169308,
          8.752664,
          -8.326429,
          -9.279137,
          -5.3926864,
          7.7808366,
          -1.7617427,
          3.3335526,
          -5.127263,
          -4.699053,
          -5.748957,
          -5.6964006,
          -6.4030194,
          -5.6872873,
          -0.110808074,
          8.796788,
          10.066427,
          0.06473725,
          2.6861403,
          -3.5942519,
          -4.798754,
          -5.2018414,
          -3.6044986,
          8.905011,
          -8.156288,
          -8.098142,
          -7.9344034,
          12.653342,
          -1.3420792,
          -6.1620693,
          13.44372,
          -7.277343,
          7.976782,
          -8.314743,
          -3.7474158,
          -5.021187,
          -3.5904157,
          8.70536,
          5.541299,
          -4.9168544,
          -3.676348,
          10.234336,
          13.111263,
          -2.1743298,
          -2.4804528,
          -9.751819,
          11.611205,
          10.34339,
          8.956868,
          -7.3313212,
          0.60026586,
          0.66550463,
          -2.15637,
          -2.15637,
          7.09167,
          7.09167,
          -1.3850071,
          -1.7023252,
          10.108276,
          -1.7681409,
          -1.6857758,
          -1.3850071,
          -1.5496384,
          5.264747,
          -0.8472353,
          1.2211951,
          -4.09699,
          -4.8338704,
          6.9989223,
          10.130413,
          0.9267903,
          1.0080937,
          10.300381,
          7.09167,
          -2.1743298,
          -6.1620693,
          8.752664,
          12.169308,
          -8.326429,
          -9.279137,
          -0.80312085,
          10.461197,
          7.686091,
          7.5855794,
          -3.2046084,
          -5.0951514,
          -3.5290492,
          7.1042066,
          7.168791,
          7.706844,
          -6.7328515,
          7.173567,
          6.320249,
          6.337955,
          6.353686,
          -7.04827,
          7.173567,
          7.433989,
          7.467841,
          9.560815,
          9.159827,
          7.780836,
          -5.3926864,
          -6.1067133,
          -6.2026463,
          -5.764563,
          -5.126233,
          -2.3588605,
          -1.0821084,
          -0.9370416,
          1.2211909,
          2.8325074,
          6.780681,
          3.4504852,
          8.8096,
          3.3264365,
          2.4304945,
          2.6861403,
          -5.2349544,
          -1.0209037,
          3.4744189,
          -1.2413026,
          7.4434695,
          -1.6679972,
          -2.0134625,
          -2.686971,
          -3.236217,
          8.816149,
          8.40177,
          -5.1031013,
          -4.619564,
          -4.463974,
          -3.8067904,
          -1.3767579,
          0.58028924,
          0.6927897,
          2.0305178,
          3.48002,
          12.419813,
          -0.099544,
          -8.17462,
          -1.3609021,
          6.35373,
          5.528138,
          8.905011,
          -4.5742793,
          -6.3232946,
          5.264747,
          -3.3459253,
          -5.038033,
          -5.892008,
          -6.198994,
          -5.127173,
          -1.761668,
          4.3500867,
          -6.194527,
          -0.38744277,
          -3.252894,
          5.5412993,
          8.779355,
          -7.8608594,
          -1.3706769,
          12.428592,
          6.4943094,
          7.103308,
          8.87508,
          9.774524,
          8.856665,
          10.300381,
          8.184633,
          0.06473725,
          -0.099543855,
          13.11146,
          8.779355,
          -1.6919386,
          -4.339417,
          -1.6723212,
          -8.326441,
          -2.15637,
          -2.15637,
          8.582292,
          -1.761668,
          -1.7129339,
          6.699832,
          -1.6857758,
          7.0432405,
          8.439483,
          -7.4709945,
          -2.1743298,
          -2.8382325,
          0.06473719,
          8.956868,
          8.956868,
          1.174621,
          9.459064,
          0.6603018,
          2.8,
          -9.409744,
          -5.392686,
          -2.4923904,
          1.6380463,
          11.611279,
          -0.8031208,
          7.780836,
          -6.1620693,
          -5.8260016,
          -7.9344034,
          -8.254621,
          -1.305681,
          -0.45664525,
          1.2211951,
          -1.7781177,
          2.9379344,
          -6.0114975,
          1.4611431,
          -6.134393,
          -10.317548,
          -1.021792,
          -1.032918,
          -2.3583417,
          -1.362767,
          -5.126233,
          1.2211951,
          -5.4054775,
          -5.824448,
          -5.687287,
          9.421192,
          -1.2170099,
          10.130409,
          -6.9484005,
          -6.194204,
          -0.38689014,
          2.989643,
          3.1891363,
          -4.5742793,
          8.965311,
          -6.1990004,
          12.0632305,
          3.8372471,
          -0.8031208,
          8.96175,
          5.2623835,
          6.1160607,
          6.695796,
          6.2449174,
          -9.125053,
          -10.339696,
          8.183956,
          7.9603753,
          10.358485,
          4.3500834,
          12.626112,
          10.197265,
          1.031887,
          9.060013,
          10.068202,
          -1.132636,
          -3.4826527,
          10.070368,
          5.2656384,
          5.264747,
          -5.803576,
          2.8832371,
          -7.846255,
          -7.9136806,
          -7.9136806,
          -7.913757,
          -3.6082752,
          8.816149,
          1.0917648,
          8.184006,
          10.38409,
          7.8920712,
          -7.8480186,
          -1.4033666,
          8.126765,
          8.820629,
          0.013264837,
          -4.843014,
          -1.9936886,
          7.4420447,
          5.7873373,
          9.168096,
          5.2599287,
          6.0811715,
          6.4211717,
          -6.543873,
          10.158852,
          -5.826517,
          8.582292,
          -3.2528932,
          -3.559038,
          -5.2904077,
          13.000133,
          -6.7067204,
          -6.4736123,
          10.234336,
          8.779356,
          10.358485,
          5.5729003,
          6.4773474,
          10.070368,
          6.646086,
          6.646086,
          -6.1620693,
          8.779355,
          -3.5590358,
          -1.8396301,
          -4.2247415,
          7.8722486,
          -7.8761334,
          7.6912637,
          -3.1800823,
          -0.11083219,
          -8.153901,
          12.568001,
          10.197265,
          10.130418,
          12.169306,
          8.752665,
          12.169308,
          8.752665,
          9.412184,
          -2.500062,
          13.44372,
          7.975666,
          8.87508,
          9.786765,
          10.234336,
          9.474304,
          9.865502,
          9.98455,
          7.2014303,
          -8.9525585,
          -8.173254,
          6.4956183,
          12.13969,
          -8.254621,
          5.7873373,
          -8.032728,
          6.4585805,
          9.459081,
          8.435838,
          -1.9469714,
          -1.3609021,
          13.736166,
          -1.5554266,
          8.577244,
          11.61128,
          -10.317547,
          -9.287011,
          -6.1620693,
          9.187659,
          7.4420447,
          -5.826517,
          8.779356,
          9.258586,
          8.70536,
          10.300381,
          10.300381,
          7.379273,
          8.956867,
          8.125009,
          8.70536,
          7.677436,
          -4.339417,
          13.166504,
          6.205142,
          5.753481,
          6.533531,
          4.350094,
          -8.121861,
          6.240354,
          12.13969,
          10.106111,
          9.852618,
          9.756135,
          10.197267,
          5.922941,
          10.130378,
          -1.6545438,
          8.856061,
          12.428592,
          10.070368,
          9.852618,
          10.38409,
          8.339114,
          7.9582644,
          0.04931174,
          -8.341651,
          7.4420447,
          6.065768,
          9.774524,
          8.87508,
          12.186326,
          13.166504,
          12.036772,
          12.040518,
          9.786765,
          7.4420447,
          9.060013,
          0.62348604,
          8.779355,
          9.639448,
          9.948014,
          -3.594252,
          -6.0482764,
          -5.635445,
          -2.8569384,
          8.806748,
          -3.6037786,
          3.7529879,
          -8.326429,
          -9.411152,
          -1.6306567,
          -5.1939864,
          -3.676348,
          -7.671109,
          -9.287011,
          11.862693,
          -5.881558,
          9.852618,
          10.38409,
          7.780836,
          8.930323,
          9.774524,
          5.2656384,
          8.87508,
          -0.099543855,
          13.449011,
          10.300321,
          8.752472,
          7.1247582,
          -6.543873,
          5.541299,
          -1.4821604,
          0.06485182,
          8.796788,
          -10.317547,
          6.695796,
          7.220493,
          9.076646,
          0.758131,
          5.7873373,
          5.264747,
          13.11146,
          6.627009,
          6.4956174,
          9.774524,
          9.272732,
          5.541299,
          7.597122,
          9.187659,
          -5.1939864,
          8.957344,
          8.944909,
          -3.2944348,
          8.906622,
          -1.6306559,
          8.70536,
          -5.3516927,
          -0.09954388,
          10.234336,
          1.2211951,
          2.5697222,
          -1.0894742,
          3.3794072,
          9.892604,
          -6.948431,
          -6.4557185,
          2.8832371,
          0.06473719,
          10.070364,
          9.891277,
          -6.7724366,
          -1.950575,
          9.421281,
          -6.320286,
          -3.4034047,
          -0.88967454,
          -1.7992579,
          10.300381,
          5.7873373,
          9.459689,
          5.987973,
          9.153737,
          -6.320286,
          9.538349,
          -5.423939,
          10.197268,
          1.3256409,
          -3.99589,
          -2.686971,
          -4.2247415,
          11.928813,
          -1.8133918,
          -3.4913538,
          8.956868,
          8.87508,
          -9.287011,
          7.8920712,
          -6.134606,
          -3.5942514,
          -5.085538,
          3.8372471,
          -4.1376977,
          -3.7474036,
          -5.494181,
          -2.1729107,
          -4.9290814,
          8.762855,
          -2.7189806,
          -3.2528937,
          -2.5763218,
          4.3500934,
          0.06485114,
          -1.0690098,
          -1.0307077,
          -2.6198237,
          12.740969,
          -5.127173,
          -5.511134,
          -5.5521994,
          -5.878161,
          10.197265,
          7.8920712,
          7.4420447,
          6.706353,
          5.5976152,
          9.875609,
          -7.8782244,
          0.8000835,
          -1.533189,
          -4.652455,
          -3.559038,
          8.582292,
          -8.235421,
          8.50446,
          -0.9147611,
          5.2604017,
          7.8920712,
          3.941468,
          -2.500062,
          5.5412993,
          13.11146,
          8.956867,
          5.264747,
          -0.099543855,
          4.3500934,
          2.871763,
          -1.8970276,
          2.4887447,
          1.2211951,
          -0.6302448,
          -2.3583417,
          12.428592,
          -4.3394256,
          0.24373789,
          -6.807716,
          12.742681,
          9.852618,
          -3.5591786,
          -3.559038,
          -2.500062,
          10.130391,
          9.348431,
          -5.824448,
          -5.938493,
          11.611274,
          -5.937672,
          -4.9158473,
          9.169547,
          8.929513,
          -6.4181595,
          -8.153901,
          4.350094,
          9.719404,
          -1.6723212,
          5.1169496,
          6.695796,
          -4.339417,
          10.38409,
          9.789615,
          9.060013,
          12.169323,
          -3.5594285,
          0.2545826,
          -1.6723212,
          -1.7992579,
          8.134153,
          9.431561,
          7.6095333,
          7.76252,
          9.865502,
          8.435838,
          3.941016,
          12.445396,
          -5.93814,
          -6.4030194,
          -8.121861,
          -8.032728,
          5.7873373,
          9.639448,
          -5.694412,
          9.431561,
          3.7529879,
          -3.236217,
          -3.648695,
          -3.4034047,
          -7.9344034,
          10.029785,
          10.197265,
          -4.717257,
          -2.4398012,
          -0.8472353,
          10.672721,
          9.852618,
          6.707089,
          3.016448,
          1.0930288,
          1.1283528,
          -2.15637,
          -2.15637,
          6.5626626,
          2.9742358,
          -1.7129238,
          8.790095,
          -1.6857758,
          1.2211951,
          -0.47580045,
          6.231209,
          12.428592,
          9.74987,
          8.184633,
          8.435839,
          5.725316,
          9.774524,
          9.891958,
          8.435837,
          2.8832371,
          9.713518,
          8.87508,
          -6.1620693,
          13.736163,
          -1.7992579,
          9.070087,
          -9.287011,
          10.300321,
          -4.7696166,
          12.13969,
          -6.6824985,
          9.98455,
          -5.054819,
          -4.995134,
          0.2799577,
          -3.6228402,
          9.348431,
          -1.6306559,
          -5.096492,
          1.306676,
          -1.2527742,
          10.070368,
          9.710902,
          8.779356,
          8.956867,
          7.134357,
          7.201976,
          10.130413,
          6.338164,
          6.5603,
          5.591299,
          8.7527275,
          7.4420447,
          5.5412993,
          -8.156288,
          -1.34925,
          11.761291,
          12.169308,
          13.501971,
          1.3452301,
          -0.099543884,
          -0.5252433,
          11.611278,
          8.577244,
          2.7987127,
          5.2656384,
          8.70536,
          -2.6198237,
          0.064851835,
          -5.927479,
          -3.5290499,
          -3.8253472,
          -0.87472284,
          1.6380463,
          7.780836,
          -4.8929543,
          -1.5926495,
          -4.768741,
          10.300381,
          1.2211951,
          -6.0745635,
          -2.6198237,
          -4.717257,
          7.8920712,
          8.168185,
          -5.4054775,
          2.9702144,
          -5.916192,
          -1.1459318,
          8.582292,
          -6.1067133,
          8.577244,
          6.7984705,
          6.6469436,
          -0.8031208,
          -6.1620693,
          12.428592,
          9.153737,
          9.891277,
          5.8932624,
          6.3374624,
          -0.00045817453,
          0.2799577,
          7.975149,
          -6.205998,
          7.6912637,
          7.853075,
          -9.287011,
          1.2211951,
          2.5697222,
          -8.156288,
          10.234336,
          -8.235421,
          -7.8782244,
          11.758258,
          12.153746,
          13.44372,
          7.6912637,
          5.2656384,
          9.159468,
          9.98455,
          -1.8106523,
          8.1277075,
          11.611203,
          11.654299,
          8.692325,
          -8.156288,
          12.567383,
          -7.876538,
          9.472951,
          10.234336,
          -7.9691744,
          -8.098142,
          -9.665237,
          9.945297,
          -3.252894,
          9.167923,
          -7.342576,
          -1.6306567,
          -4.930453,
          8.752665,
          -6.703988,
          -6.1613507,
          -4.339417,
          -8.248244,
          -8.288631,
          7.3981433,
          8.70536,
          12.169308,
          7.3821797,
          -6.227128,
          -2.500062,
          -2.500062,
          10.13039,
          10.197269,
          -3.5594325,
          -3.5594325,
          -3.559038,
          -3.5591786,
          -3.7420912,
          9.471782,
          12.590276,
          12.857381,
          -6.1620693,
          -5.8260016,
          10.070368,
          -4.6024556,
          5.38125,
          6.4271307,
          -8.359433,
          -10.097831,
          -6.3585224,
          -6.320286,
          7.8920712,
          2.8832371,
          8.405604,
          11.6112795,
          9.839557,
          -6.100215,
          10.234336,
          -5.540958,
          -5.127173,
          8.070022,
          3.4504852,
          3.7529879,
          -1.9546604,
          2.4887447,
          1.2211951,
          11.611275,
          -0.7402049,
          10.130413,
          7.5808673,
          -1.3528229,
          -2.607351,
          -2.1743298,
          -0.38722417,
          -1.6723212,
          -5.9376645,
          10.358485,
          9.159468,
          7.780836,
          5.5412993,
          -2.1132102,
          -9.411082,
          -4.2247415,
          10.072169,
          10.106111,
          -4.338955,
          5.920368,
          9.891958,
          12.430018,
          -6.824255,
          -1.6857758,
          -8.121861,
          7.9760704,
          -1.7129254,
          1.1236339,
          0.8257251,
          5.787317,
          8.439483,
          -1.5554266,
          13.449011,
          -8.326429,
          -6.9484005,
          -10.317548,
          -0.38725716,
          5.264747,
          8.956868,
          13.44372,
          5.7873373,
          5.7624393,
          6.0811715,
          8.184633,
          -1.76884,
          8.435824,
          0.06473719,
          -0.8031208,
          8.184633,
          -0.099543884,
          -2.156369,
          0.06473725,
          9.412184,
          9.774524
         ],
         "z": [
          10.077538,
          9.671349,
          22.288507,
          13.120516,
          16.242458,
          13.629879,
          14.856439,
          -2.8018632,
          -2.5785577,
          14.87346,
          17.897234,
          16.232784,
          1.4502528,
          22.480629,
          17.897335,
          15.846973,
          15.545679,
          8.301775,
          9.39603,
          10.853594,
          -2.50683,
          11.030672,
          11.126336,
          10.145834,
          10.624908,
          12.503247,
          14.87346,
          12.267078,
          11.005249,
          10.3307905,
          15.472726,
          -4.164514,
          9.68533,
          15.545679,
          -4.01177,
          15.472725,
          -7.5962367,
          10.133457,
          -1.5363814,
          3.249296,
          10.009876,
          12.174906,
          8.870586,
          9.346774,
          8.2615385,
          3.1115336,
          -3.3797996,
          -3.8854914,
          11.0306015,
          -6.529905,
          17.55627,
          -2.1440911,
          4.72936,
          -4.1086526,
          12.604387,
          -4.1224217,
          -4.5087743,
          -4.058019,
          16.242458,
          11.241315,
          -4.495305,
          10.852621,
          12.721099,
          13.936725,
          11.66708,
          9.785391,
          -3.677286,
          16.338482,
          -4.231208,
          -4.5910287,
          3.3646894,
          0.5629494,
          0.11028472,
          15.619761,
          -3.9097764,
          0.84640884,
          12.519602,
          13.954436,
          -3.222098,
          8.284563,
          11.435232,
          8.398478,
          -4.3821006,
          -4.382606,
          1.3542807,
          14.751929,
          17.55627,
          1.4502529,
          8.648628,
          -3.3885188,
          -4.591039,
          10.852621,
          8.491763,
          21.925034,
          -3.9072278,
          8.785951,
          -1.1472075,
          6.4002976,
          5.329156,
          -3.8794353,
          1.4502573,
          2.8763475,
          -4.4024014,
          5.283739,
          14.757613,
          -4.1086526,
          7.6126533,
          9.068188,
          18.261698,
          5.2929244,
          18.945293,
          -3.907228,
          -4.2312074,
          4.996471,
          18.261698,
          9.162227,
          -4.058019,
          -3.178931,
          15.016481,
          18.945293,
          20.09422,
          -2.3825347,
          22.243195,
          -4.0464005,
          -3.9455273,
          12.519602,
          14.608762,
          15.916482,
          15.896157,
          19.317394,
          19.452522,
          -4.231208,
          15.855024,
          14.749081,
          14.323999,
          -3.6772892,
          13.316976,
          -6.52997,
          -3.0845397,
          3.1664467,
          10.769122,
          -3.9455273,
          14.968772,
          -2.9848456,
          15.841397,
          7.9882994,
          12.991186,
          19.452522,
          11.172776,
          -4.239339,
          16.338428,
          22.480629,
          -1.370451,
          22.480629,
          22.288507,
          -3.4402385,
          -3.014984,
          -7.5962343,
          -4.01177,
          14.856468,
          13.629879,
          14.353745,
          -4.0973196,
          20.094236,
          11.172776,
          6.208163,
          10.289965,
          9.844145,
          9.337017,
          8.148632,
          4.6858535,
          14.323359,
          -3.4892805,
          16.417318,
          13.936725,
          13.329626,
          6.6410527,
          13.25855,
          7.0776305,
          4.3081913,
          -2.7866724,
          19.317394,
          20.87075,
          20.76799,
          11.041478,
          3.0251272,
          10.853594,
          10.145834,
          18.252748,
          8.686274,
          16.624348,
          6.4744153,
          11.420675,
          4.3225546,
          -4.164514,
          15.545679,
          12.093629,
          6.5329356,
          -4.058019,
          9.649146,
          15.846973,
          12.075904,
          13.721198,
          -6.8668714,
          8.266928,
          -2.5785577,
          5.1683936,
          12.784597,
          12.445738,
          20.803816,
          20.803816,
          -4.43615,
          -4.43615,
          3.3205476,
          3.4017017,
          16.232784,
          20.094421,
          19.3936,
          3.3205476,
          17.055733,
          10.133457,
          12.898107,
          12.267078,
          5.18164,
          14.305261,
          -4.239339,
          -4.591039,
          12.401549,
          12.400293,
          -3.9455273,
          -4.43615,
          15.846973,
          10.853594,
          -4.01177,
          -7.5962343,
          14.856468,
          13.629879,
          15.751795,
          -4.1473975,
          -0.6857997,
          -0.91412127,
          5.1315613,
          6.400524,
          4.382873,
          -1.5174739,
          -1.4366611,
          -0.55273753,
          21.750727,
          -1.5576178,
          -2.9606032,
          -2.953424,
          -2.9634104,
          14.822287,
          -1.5576179,
          -1.1452135,
          -1.1279752,
          -2.4721339,
          -3.4402385,
          -4.09732,
          14.353746,
          7.8995814,
          9.228959,
          9.393254,
          10.1523,
          12.182115,
          13.303153,
          12.559654,
          12.267054,
          10.886279,
          1.3722274,
          10.602729,
          -2.8727465,
          10.959053,
          10.908695,
          13.329626,
          7.0415854,
          12.954987,
          10.398068,
          3.546153,
          -1.5392109,
          4.660435,
          5.7309213,
          6.2642303,
          7.7413497,
          -4.5087743,
          -2.7912877,
          10.361587,
          10.497573,
          10.607692,
          11.129536,
          12.982889,
          12.502006,
          12.467533,
          11.666669,
          10.864844,
          10.782092,
          15.472726,
          16.346601,
          3.4988241,
          14.697964,
          15.290328,
          -2.786671,
          13.636865,
          8.301775,
          10.133457,
          4.538323,
          10.772906,
          4.87001,
          4.910292,
          10.465839,
          20.09422,
          1.4502572,
          9.2471,
          14.467913,
          7.6126537,
          15.545679,
          16.242458,
          17.57831,
          3.3372068,
          12.5212145,
          0.251428,
          0.036786344,
          -4.1086526,
          16.34054,
          -3.1691113,
          -3.9455273,
          -2.1440911,
          13.936725,
          15.472725,
          10.009876,
          16.242458,
          2.8696487,
          22.288515,
          16.27561,
          14.856492,
          20.803816,
          20.803816,
          -2.3825347,
          20.09422,
          19.995035,
          -0.06441881,
          19.3936,
          0.56273746,
          -1.892449,
          17.241734,
          15.846973,
          15.537906,
          13.936725,
          -2.5785577,
          -2.5785577,
          12.258401,
          -3.7671962,
          12.873794,
          11.37578,
          13.750745,
          14.353745,
          12.432408,
          10.012057,
          -6.8670015,
          15.751795,
          -4.09732,
          10.853594,
          10.221359,
          20.76799,
          21.43086,
          13.305109,
          12.929153,
          12.267078,
          2.82466,
          10.395349,
          8.3686905,
          10.090288,
          8.566719,
          14.87346,
          12.992814,
          13.271803,
          12.235163,
          3.6348262,
          10.1523,
          12.267078,
          9.671349,
          8.115477,
          4.685855,
          -4.402409,
          2.8930283,
          -4.5910206,
          17.897234,
          9.036116,
          14.4670515,
          11.214969,
          10.347793,
          13.636865,
          -2.3414068,
          4.910287,
          10.982593,
          10.807751,
          15.751795,
          -3.014984,
          14.677086,
          15.207369,
          0.98992574,
          1.3465573,
          15.791664,
          14.899239,
          8.974782,
          9.172979,
          -3.8854914,
          1.4502528,
          10.699156,
          -3.907228,
          12.220391,
          -3.196324,
          16.412874,
          3.1429377,
          3.7296066,
          -4.2312074,
          10.133276,
          10.133457,
          9.82888,
          11.435232,
          12.668854,
          12.311721,
          12.311721,
          12.311684,
          6.6104503,
          -4.5087743,
          10.216698,
          8.975106,
          -4.654596,
          -1.370451,
          18.945293,
          2.8248825,
          -2.4117694,
          -2.8512213,
          14.333716,
          13.450289,
          5.645171,
          18.261698,
          17.55627,
          -3.4523394,
          15.442421,
          1.0708523,
          15.160995,
          21.439205,
          8.459866,
          10.221545,
          -2.3825347,
          7.612652,
          21.855978,
          7.173166,
          10.1259775,
          21.674461,
          22.0081,
          -4.058019,
          16.242458,
          -3.8854911,
          14.386446,
          14.571082,
          -4.2312074,
          -0.053268768,
          -0.053268768,
          10.853594,
          16.242458,
          21.855976,
          3.4989867,
          14.059428,
          8.59992,
          15.842582,
          -0.99568975,
          8.289036,
          14.32336,
          19.318155,
          11.259646,
          -3.907228,
          -4.59105,
          -7.596229,
          -4.0117693,
          -7.5962343,
          -4.0117693,
          -3.277468,
          21.172964,
          10.145834,
          8.50081,
          -4.1086526,
          -2.8100505,
          -4.058019,
          -4.2216415,
          -4.372163,
          8.744393,
          0.46039575,
          13.624373,
          14.66935,
          0.25655538,
          11.66708,
          21.43086,
          17.55627,
          21.305893,
          15.509474,
          -3.767157,
          -1.8871381,
          15.726866,
          3.4988241,
          -6.9346213,
          3.6498458,
          -2.5649333,
          -6.867007,
          14.873461,
          14.1256,
          10.853594,
          -3.1001427,
          18.261698,
          10.221545,
          16.242458,
          -3.575869,
          -4.164514,
          -3.9455273,
          -3.9455273,
          -1.4051292,
          -2.5785596,
          -2.4130507,
          -4.164514,
          9.160296,
          22.288515,
          9.785391,
          15.886849,
          14.9796095,
          1.43965,
          1.450253,
          19.452522,
          0.84640884,
          11.66708,
          -4.690845,
          7.9882994,
          8.308242,
          -3.9072218,
          14.856814,
          -4.5910287,
          3.6286607,
          -3.3797996,
          12.5212145,
          -4.2312074,
          7.9882994,
          -4.654596,
          -2.801044,
          9.151293,
          14.950432,
          16.683405,
          18.261698,
          14.4274025,
          16.34054,
          -4.1086526,
          -7.6040726,
          9.785391,
          10.994057,
          10.991315,
          -2.8100505,
          18.261698,
          -3.196324,
          12.450312,
          16.242458,
          -3.6772892,
          -3.8960128,
          6.6410527,
          8.426088,
          5.478687,
          5.2078223,
          -2.9966922,
          3.628193,
          10.852621,
          14.856468,
          13.750778,
          4.7056417,
          6.9205804,
          6.5329356,
          15.5420065,
          14.1256,
          10.745129,
          4.8782735,
          7.9882994,
          -4.654596,
          -4.09732,
          -3.790044,
          16.34054,
          10.133276,
          -4.1086526,
          15.472725,
          9.68533,
          -3.9454727,
          -4.0117025,
          0.05186984,
          21.439205,
          15.545679,
          2.7546794,
          13.9366865,
          -3.4892805,
          14.873461,
          0.98992574,
          0.42691526,
          -2.6097226,
          12.962703,
          17.55627,
          10.133457,
          10.009876,
          0.46403688,
          0.2565534,
          16.34054,
          -3.2802675,
          15.545679,
          8.633786,
          -3.1001427,
          6.9205804,
          -1.9818543,
          -1.918419,
          3.9675293,
          -1.8303357,
          4.7056427,
          -4.164514,
          7.2965617,
          15.472725,
          -4.058019,
          12.267078,
          10.766627,
          3.1831157,
          10.963239,
          15.917106,
          17.897335,
          21.360163,
          11.435232,
          13.936725,
          -4.231208,
          -4.1243043,
          22.114195,
          2.9762175,
          -4.4026375,
          21.502304,
          4.4873986,
          12.527458,
          15.629161,
          -3.9455273,
          17.55627,
          -3.765281,
          15.637362,
          -2.5036466,
          21.502304,
          -2.462946,
          4.2244973,
          -3.9072218,
          12.64151,
          11.961119,
          6.2642303,
          14.059428,
          10.591007,
          3.5190215,
          5.445756,
          -2.5785577,
          -4.1086526,
          14.1256,
          -1.370451,
          8.566719,
          6.641055,
          4.2770467,
          10.807751,
          11.884597,
          6.4744263,
          7.5857754,
          4.9504957,
          12.025464,
          -3.9990354,
          12.8868885,
          7.612652,
          6.4506645,
          1.4502572,
          13.9366865,
          3.2397635,
          12.434705,
          12.405175,
          11.474787,
          10.465839,
          9.363618,
          9.160128,
          8.2615385,
          -3.907228,
          -1.370451,
          18.261698,
          15.07681,
          15.724978,
          15.916463,
          21.088173,
          12.396059,
          2.7632895,
          12.249978,
          21.855978,
          -2.3825347,
          21.102018,
          -2.9848456,
          12.520157,
          15.251311,
          -1.370451,
          11.10254,
          21.172964,
          15.545679,
          10.009876,
          -2.5785596,
          10.133457,
          15.472725,
          1.4502572,
          10.471436,
          3.1115336,
          11.132797,
          12.267078,
          13.30387,
          12.235163,
          12.5212145,
          22.288507,
          14.501333,
          22.082575,
          11.474938,
          7.9882994,
          21.854216,
          21.855978,
          21.172964,
          -4.591032,
          -3.4128518,
          8.115477,
          8.8426,
          -6.86699,
          9.638216,
          10.021359,
          -3.4670236,
          -3.7909799,
          21.953407,
          19.318155,
          1.4502577,
          -3.67415,
          16.27561,
          15.110972,
          0.98992574,
          22.288515,
          -4.654596,
          8.283245,
          -3.196324,
          -7.5962343,
          21.850601,
          14.520836,
          16.27561,
          15.629161,
          9.34666,
          -4.074778,
          -4.6221633,
          -4.4871225,
          -4.372163,
          -1.8871385,
          11.103068,
          10.561714,
          8.842502,
          8.148632,
          19.452522,
          21.305893,
          17.55627,
          -3.6772892,
          9.366079,
          -4.074778,
          10.852621,
          7.741349,
          4.87381,
          4.487399,
          20.76799,
          15.985982,
          -3.907228,
          10.33489,
          12.08151,
          12.898107,
          -4.382606,
          7.9882994,
          15.202839,
          10.843963,
          13.040872,
          12.8004265,
          20.803816,
          20.803816,
          14.978443,
          11.327277,
          19.995028,
          -3.0021813,
          19.3936,
          12.267078,
          13.076774,
          14.419797,
          12.5212145,
          -4.495305,
          -2.1440911,
          -1.8871385,
          15.662112,
          16.34054,
          -4.1224217,
          -1.8871385,
          11.435232,
          -3.0876944,
          -4.1086526,
          10.853594,
          -6.934595,
          15.629161,
          -3.6662464,
          14.1256,
          -3.9454727,
          10.624908,
          11.66708,
          22.24262,
          8.744393,
          10.519249,
          5.9735994,
          14.777768,
          6.587286,
          -3.4128518,
          4.7056427,
          6.318952,
          12.768584,
          2.869513,
          -4.231208,
          -3.6737466,
          16.242458,
          -2.5785596,
          0.51897806,
          0.16170493,
          -4.591039,
          1.4004742,
          15.684267,
          14.718283,
          -4.011719,
          18.261698,
          15.545679,
          19.317394,
          12.582342,
          11.337452,
          -7.5962343,
          10.000884,
          12.786665,
          15.472725,
          12.638494,
          -6.867001,
          -2.5649333,
          11.375519,
          10.133276,
          -4.164514,
          12.405175,
          13.9366865,
          8.238286,
          4.3828645,
          4.755815,
          13.264919,
          10.012056,
          -4.09732,
          10.019031,
          4.7687006,
          12.2673,
          -3.9455273,
          12.267078,
          4.99669,
          12.405175,
          10.33489,
          -1.370451,
          -2.665258,
          9.671349,
          10.797889,
          9.39603,
          3.4450667,
          -2.3825347,
          7.8995814,
          -2.5649333,
          0.5627894,
          -0.05357941,
          15.751795,
          10.853594,
          12.5212145,
          -2.5036466,
          -4.1243043,
          16.02485,
          15.799962,
          14.963222,
          14.777768,
          8.686757,
          22.014452,
          -0.99568975,
          8.788447,
          14.1256,
          12.267078,
          10.766627,
          19.317394,
          -4.058019,
          21.102018,
          21.088173,
          11.310218,
          10.558988,
          10.145834,
          -0.99568975,
          10.133276,
          -4.0464005,
          8.744393,
          2.839603,
          9.3504,
          -6.8668604,
          11.344219,
          -3.2220986,
          19.317394,
          12.377593,
          21.061886,
          -4.2254143,
          -4.058019,
          15.992423,
          20.87075,
          13.954436,
          -3.903158,
          7.6126537,
          -3.4525137,
          11.816647,
          4.7056417,
          12.018592,
          -4.0117693,
          22.243065,
          21.980957,
          22.288515,
          21.435408,
          21.376467,
          -1.4963421,
          -4.164514,
          -7.5962343,
          -1.1472075,
          8.793416,
          21.172964,
          21.172964,
          -4.591032,
          -3.907222,
          21.850554,
          21.850554,
          21.855978,
          21.854216,
          4.8152432,
          -2.9299295,
          11.041119,
          11.054901,
          10.853594,
          10.221359,
          -4.2312074,
          13.840865,
          15.820132,
          15.476278,
          14.893696,
          14.54406,
          21.352346,
          21.502304,
          -1.370451,
          11.435232,
          -2.7912726,
          -6.8670073,
          8.574363,
          7.899534,
          -4.058019,
          9.1042795,
          10.465839,
          9.238309,
          10.602729,
          10.852621,
          3.362439,
          11.132797,
          12.267078,
          -6.86699,
          13.312881,
          -4.591039,
          -4.338996,
          12.586938,
          12.174906,
          15.846973,
          14.794584,
          16.27561,
          9.638392,
          -3.8854911,
          -4.0464005,
          -4.09732,
          15.545679,
          20.806456,
          13.750894,
          14.059428,
          8.489719,
          -4.690845,
          22.289034,
          15.312778,
          -4.1224217,
          12.519777,
          21.988316,
          19.3936,
          19.452522,
          8.501064,
          19.995028,
          13.015639,
          12.384818,
          17.556314,
          -1.892449,
          3.6498458,
          9.68533,
          14.856468,
          17.897234,
          14.87346,
          14.794528,
          10.133457,
          -2.5785577,
          10.145834,
          17.55627,
          14.427773,
          1.0708523,
          -2.1440911,
          16.338482,
          -1.8871249,
          13.936725,
          15.751795,
          -2.1440911,
          15.472725,
          20.803818,
          13.936725,
          -3.277468,
          16.34054
         ]
        },
        {
         "customdata": [
          [
           2134440
          ],
          [
           1943260
          ],
          [
           1495560
          ],
          [
           2972970
          ],
          [
           2123550
          ],
          [
           2866792.5
          ],
          [
           1514515.86
          ],
          [
           1514515.86
          ],
          [
           1683648.45
          ],
          [
           1500097.5
          ],
          [
           2028444
          ],
          [
           3234591.36
          ],
          [
           1513503.09
          ],
          [
           1514516
          ],
          [
           2725525
          ],
          [
           2766665
          ],
          [
           1514515.86
          ],
          [
           2062728.3
          ],
          [
           2180420
          ],
          [
           2180420
          ],
          [
           2180420
          ],
          [
           2014169.02
          ],
          [
           2178000
          ],
          [
           2018038
          ]
         ],
         "hovertemplate": "Cluster=Cluster 2<br>0=%{x}<br>1=%{y}<br>2=%{z}<br>Feature=%{customdata[0]}<extra></extra>",
         "legendgroup": "Cluster 2",
         "marker": {
          "color": "#00cc96",
          "opacity": 0.7,
          "symbol": "circle"
         },
         "mode": "markers",
         "name": "Cluster 2",
         "scene": "scene",
         "showlegend": true,
         "type": "scatter3d",
         "x": [
          -11.630765,
          -11.591401,
          -11.103291,
          -12.313132,
          -11.664148,
          -12.305104,
          -11.192038,
          -11.192038,
          -11.434648,
          -11.159155,
          -11.822662,
          -12.208369,
          -11.191992,
          -11.192038,
          -12.291995,
          -12.310797,
          -11.192038,
          -11.19839,
          -11.949792,
          -11.949792,
          -11.949792,
          -11.824018,
          -11.947675,
          -11.812436
         ],
         "y": [
          -13.358803,
          -13.127946,
          -12.291905,
          -13.948286,
          -13.366736,
          -13.932482,
          -12.328571,
          -12.328571,
          -12.713843,
          -12.30138,
          -13.340861,
          -13.906664,
          -12.326179,
          -12.328572,
          -13.902904,
          -13.9169,
          -12.328571,
          -13.132993,
          -13.541449,
          -13.541449,
          -13.541449,
          -13.325491,
          -13.538912,
          -13.32273
         ],
         "z": [
          5.5734544,
          5.1489253,
          4.507929,
          6.1207237,
          5.49931,
          6.0183964,
          4.476412,
          4.476412,
          4.654819,
          4.474192,
          5.0601068,
          6.4988265,
          4.4741483,
          4.476412,
          5.8516407,
          5.8849044,
          4.476412,
          6.0949173,
          5.2718215,
          5.2718215,
          5.2718215,
          5.025443,
          5.268748,
          5.0484796
         ]
        },
        {
         "customdata": [
          [
           320198.67
          ],
          [
           764110.46
          ],
          [
           310495.68
          ],
          [
           465214.75
          ],
          [
           406560
          ],
          [
           626651.44
          ],
          [
           822891.23
          ],
          [
           332750
          ],
          [
           435164.4
          ],
          [
           480000
          ],
          [
           480000
          ],
          [
           312400
          ],
          [
           440440
          ],
          [
           377200
          ],
          [
           480000
          ],
          [
           312400
          ],
          [
           485149.5
          ],
          [
           465850
          ],
          [
           619272.19
          ],
          [
           986271
          ],
          [
           275880
          ],
          [
           313390
          ],
          [
           314328.96
          ],
          [
           566280
          ],
          [
           419105.28
          ],
          [
           575960
          ],
          [
           523482.3
          ],
          [
           323433
          ],
          [
           363562.65
          ],
          [
           304920
          ],
          [
           431244
          ],
          [
           485149.5
          ],
          [
           564510.38
          ],
          [
           1104246
          ],
          [
           377200
          ],
          [
           601218.75
          ],
          [
           480000
          ],
          [
           1042536
          ],
          [
           575960
          ],
          [
           499125
          ],
          [
           304920
          ],
          [
           290400
          ],
          [
           326700
          ],
          [
           425920
          ],
          [
           508079
          ],
          [
           300990.69
          ],
          [
           300990.69
          ],
          [
           800496.67
          ],
          [
           881787.5
          ],
          [
           925524.16
          ],
          [
           1089000
          ],
          [
           1157244
          ],
          [
           377200
          ],
          [
           480000
          ],
          [
           480000
          ],
          [
           377200
          ],
          [
           304920
          ],
          [
           847000
          ],
          [
           830060
          ],
          [
           747141.12
          ],
          [
           617251.25
          ],
          [
           575960
          ],
          [
           305644.18
          ],
          [
           421170.75
          ],
          [
           498036
          ],
          [
           498126.75
          ],
          [
           504570
          ],
          [
           514552.5
          ],
          [
           372655.14
          ],
          [
           606436.88
          ],
          [
           818689.78
          ],
          [
           903870
          ],
          [
           904314.67
          ],
          [
           366025
          ],
          [
           563986.3
          ],
          [
           571331.75
          ],
          [
           809762.25
          ],
          [
           402930
          ],
          [
           404291.25
          ],
          [
           833690
          ],
          [
           500940
          ],
          [
           517093.5
          ],
          [
           304920
          ],
          [
           323433
          ],
          [
           455202
          ],
          [
           499125
          ],
          [
           545793.19
          ],
          [
           1151920
          ],
          [
           300990.69
          ],
          [
           300990.69
          ],
          [
           372655.14
          ],
          [
           885447.75
          ],
          [
           818689.78
          ],
          [
           607934.25
          ],
          [
           499125
          ],
          [
           485149.5
          ],
          [
           406560
          ],
          [
           705430
          ],
          [
           544500
          ],
          [
           291821.75
          ],
          [
           312400
          ],
          [
           314448.75
          ],
          [
           480000
          ],
          [
           304920
          ],
          [
           541898.5
          ],
          [
           500940
          ],
          [
           480000
          ],
          [
           377200
          ],
          [
           413820
          ],
          [
           382239
          ],
          [
           784080
          ],
          [
           1151920
          ],
          [
           582796.5
          ],
          [
           464685.38
          ],
          [
           312400
          ],
          [
           853776
          ],
          [
           506112.75
          ],
          [
           312664
          ],
          [
           349254.4
          ],
          [
           435600
          ],
          [
           559020
          ],
          [
           480000
          ],
          [
           377200
          ],
          [
           377200
          ],
          [
           480000
          ],
          [
           575960
          ],
          [
           314328.96
          ],
          [
           389317.5
          ],
          [
           399300
          ],
          [
           480298.01
          ],
          [
           485149.5
          ],
          [
           580800
          ],
          [
           318532.5
          ],
          [
           503118
          ],
          [
           322162.5
          ],
          [
           305464.5
          ],
          [
           304920
          ],
          [
           283140
          ],
          [
           511225
          ],
          [
           304920
          ],
          [
           334413.75
          ],
          [
           482790
          ],
          [
           598950
          ],
          [
           609840
          ],
          [
           698775
          ],
          [
           599676
          ],
          [
           327475.91
          ],
          [
           349307.64
          ],
          [
           501393.75
          ],
          [
           505364.06
          ],
          [
           719950
          ],
          [
           629200
          ],
          [
           508200
          ],
          [
           492954
          ],
          [
           485149.5
          ],
          [
           410927.62
          ],
          [
           312180
          ],
          [
           480298.01
          ],
          [
           762300
          ],
          [
           457380
          ],
          [
           550550
          ],
          [
           577170
          ],
          [
           704220
          ],
          [
           480000
          ],
          [
           337590
          ],
          [
           467060
          ],
          [
           363862.13
          ],
          [
           312400
          ],
          [
           707759.25
          ],
          [
           802956
          ],
          [
           818202
          ],
          [
           818689.78
          ],
          [
           459316
          ],
          [
           585640
          ],
          [
           480000
          ],
          [
           575960
          ],
          [
           348722
          ],
          [
           338800
          ],
          [
           303710
          ],
          [
           685344
          ],
          [
           435600
          ],
          [
           366025
          ],
          [
           452540
          ],
          [
           512435
          ]
         ],
         "hovertemplate": "Cluster=Cluster 3<br>0=%{x}<br>1=%{y}<br>2=%{z}<br>Feature=%{customdata[0]}<extra></extra>",
         "legendgroup": "Cluster 3",
         "marker": {
          "color": "#ab63fa",
          "opacity": 0.7,
          "symbol": "circle"
         },
         "mode": "markers",
         "name": "Cluster 3",
         "scene": "scene",
         "showlegend": true,
         "type": "scatter3d",
         "x": [
          -8.227185,
          -10.861321,
          -8.274893,
          -4.3351445,
          -10.590178,
          -8.715432,
          -7.9086676,
          -9.8569765,
          -4.2338247,
          -11.61367,
          -11.740083,
          -9.192204,
          -11.325391,
          -10.376944,
          -12.068755,
          -9.192204,
          -8.155401,
          -7.9321523,
          -5.4481497,
          -9.310937,
          -2.0298183,
          -2.8913116,
          -8.371175,
          -7.0428095,
          -10.537113,
          -7.3734965,
          -12.115208,
          -6.4329386,
          -3.1540203,
          -8.850533,
          -5.0538583,
          -8.155339,
          -5.364395,
          -9.303536,
          -10.376926,
          -7.079207,
          -11.613563,
          -10.9928055,
          -11.741912,
          -6.0238223,
          -8.850533,
          -8.154701,
          -9.0047245,
          -7.6563168,
          -4.764801,
          -3.0246296,
          -3.1793623,
          -10.8551235,
          -11.207519,
          -10.981874,
          -10.998471,
          -11.036416,
          -10.376926,
          -11.613973,
          -11.763555,
          -10.376926,
          -8.850533,
          -8.768256,
          -11.173396,
          -7.495845,
          -11.723358,
          -11.741912,
          -8.158795,
          -3.846896,
          -11.866028,
          -6.010504,
          -6.2651815,
          -8.082294,
          -6.9532585,
          -8.63772,
          -10.847095,
          -8.894041,
          -11.186906,
          -10.483275,
          -11.089585,
          -6.9121356,
          -8.640436,
          -7.9607334,
          -7.549173,
          -8.887722,
          -5.7208533,
          -3.626664,
          -8.888545,
          -6.432938,
          -5.5333242,
          -12.281401,
          -11.015727,
          -11.034089,
          -3.1793623,
          -3.0246296,
          -6.953268,
          -11.203089,
          -10.847095,
          -7.300343,
          -5.8641186,
          -8.155407,
          -10.754976,
          -9.233384,
          -6.432275,
          -2.7272913,
          -9.192204,
          -1.9517012,
          -12.051297,
          -8.888545,
          -5.074004,
          -8.6677885,
          -11.614319,
          -10.376926,
          -8.0246725,
          -3.176613,
          -8.471223,
          -11.034089,
          -5.391939,
          -4.4214892,
          -9.192204,
          -8.72612,
          -4.744744,
          -9.105871,
          -9.018735,
          -11.057015,
          -11.972133,
          -11.755089,
          -10.376928,
          -10.376945,
          -11.75518,
          -11.741912,
          -8.371175,
          -10.781958,
          -8.776141,
          -10.649192,
          -8.155355,
          -11.550534,
          -1.9741147,
          -5.7474318,
          -6.3516865,
          -2.9303615,
          -2.771327,
          -2.748278,
          -4.7954698,
          -8.462201,
          -3.220659,
          -11.774313,
          -8.449509,
          -7.4863315,
          -11.370152,
          -11.69497,
          -8.373681,
          -9.019917,
          -5.8927927,
          -8.219771,
          -11.255368,
          -7.648185,
          -11.462418,
          -11.903313,
          -8.155338,
          -3.1892304,
          -2.7723408,
          -10.6492,
          -10.359597,
          -5.4267383,
          -6.8523855,
          -6.656946,
          -8.008461,
          -11.756147,
          -6.499555,
          -5.515333,
          -8.945398,
          -9.192204,
          -8.167496,
          -11.099901,
          -11.176919,
          -10.847111,
          -4.274429,
          -8.400015,
          -12.0685625,
          -7.3734965,
          -3.3342056,
          -3.0194802,
          -2.7528539,
          -11.376873,
          -11.057015,
          -10.483054,
          -3.326179,
          -12.167906
         ],
         "y": [
          -2.912732,
          -9.362145,
          -2.7485144,
          -7.3105035,
          -4.257524,
          -7.973095,
          -9.887579,
          -3.042101,
          -6.959464,
          -5.9998684,
          -5.5539055,
          -2.6659405,
          -5.010725,
          -3.6794546,
          -5.7376943,
          -2.6659405,
          -5.9579163,
          -5.7603793,
          -8.484164,
          -10.465178,
          -3.048499,
          -3.521428,
          -2.7952073,
          -7.832751,
          -4.5529833,
          -7.852312,
          -6.7115574,
          -3.867324,
          -4.591382,
          -2.8724642,
          -6.6900687,
          -5.957841,
          -8.088971,
          -10.755255,
          -3.679476,
          -8.277154,
          -5.9998493,
          -10.882761,
          -7.5118313,
          -7.193809,
          -2.872464,
          -2.5931084,
          -2.929959,
          -5.099375,
          -7.6844935,
          -3.0894463,
          -3.020691,
          -9.581675,
          -10.159922,
          -10.345498,
          -11.037285,
          -11.226088,
          -3.679476,
          -5.999953,
          -5.544886,
          -3.679476,
          -2.872464,
          -9.972387,
          -9.843332,
          -9.694311,
          -7.975832,
          -7.5118313,
          -2.6958787,
          -6.9178667,
          -6.1919155,
          -7.183034,
          -7.1642256,
          -6.33347,
          -4.2734866,
          -7.833287,
          -9.711334,
          -10.174438,
          -10.27937,
          -3.4787498,
          -7.2939863,
          -7.9544673,
          -9.833808,
          -4.5753803,
          -4.682391,
          -9.908935,
          -7.3362737,
          -7.696281,
          -2.5390425,
          -3.8673244,
          -6.8164744,
          -6.2762547,
          -7.085699,
          -11.211219,
          -3.020691,
          -3.0894463,
          -4.273434,
          -10.181747,
          -9.711334,
          -8.278157,
          -7.261585,
          -5.9579396,
          -4.1772256,
          -8.82543,
          -7.7419043,
          -3.0387726,
          -2.6659405,
          -5.333369,
          -5.78088,
          -2.5390425,
          -7.9544373,
          -6.0833654,
          -6.0000496,
          -3.679476,
          -4.681321,
          -6.4087386,
          -9.731269,
          -11.211219,
          -8.220999,
          -7.263974,
          -2.6659405,
          -9.998351,
          -7.6680713,
          -3.0377283,
          -3.250785,
          -4.8797855,
          -7.2994175,
          -5.5506635,
          -3.6794693,
          -3.6794457,
          -5.550645,
          -7.5118313,
          -2.7952073,
          -3.8144672,
          -4.323507,
          -5.8066473,
          -5.95784,
          -7.532473,
          -5.5134945,
          -7.362603,
          -3.8626788,
          -3.270034,
          -3.3974829,
          -2.7609987,
          -7.711241,
          -2.6336532,
          -3.6479492,
          -6.151353,
          -7.8087974,
          -8.225027,
          -8.858018,
          -7.76725,
          -2.990358,
          -3.2510374,
          -7.2867727,
          -6.1618953,
          -9.055818,
          -8.390068,
          -6.351781,
          -5.999369,
          -5.957841,
          -6.9439816,
          -3.6458101,
          -5.806609,
          -9.343356,
          -6.880542,
          -7.669375,
          -8.110847,
          -9.191617,
          -5.5504436,
          -3.9560966,
          -6.9558268,
          -3.5069048,
          -2.6659405,
          -9.141662,
          -9.635298,
          -9.764299,
          -9.711342,
          -7.2594094,
          -7.6946745,
          -5.738264,
          -7.852312,
          -3.8185992,
          -4.138737,
          -3.3793497,
          -8.744699,
          -4.879782,
          -3.4787517,
          -7.4340267,
          -6.528138
         ],
         "z": [
          -3.9347618,
          2.0787935,
          -4.470542,
          3.5767612,
          -2.5339866,
          1.4938158,
          3.804339,
          -4.765206,
          3.2381768,
          -1.2272112,
          -0.797148,
          -5.078837,
          -1.7865856,
          -3.3113093,
          -1.1439129,
          -5.078837,
          -0.008498643,
          -0.12028814,
          4.0091114,
          3.6163335,
          1.3777814,
          0.92729735,
          -4.3702536,
          1.9631299,
          -2.1061337,
          1.8502146,
          -0.33251393,
          -1.3977507,
          1.801628,
          -5.4086976,
          2.020332,
          -0.008537407,
          3.5379615,
          3.89083,
          -3.3112955,
          2.4223282,
          -1.2271446,
          3.304789,
          0.394175,
          1.8265889,
          -5.4086976,
          -5.35893,
          -4.404917,
          -0.63551164,
          3.5940392,
          0.32585117,
          0.09160345,
          2.2607226,
          2.6159377,
          2.8497884,
          3.4324846,
          3.5806983,
          -3.3112955,
          -1.2274011,
          -0.7981673,
          -3.3112955,
          -5.4086976,
          3.3976054,
          2.367893,
          3.8588495,
          0.7631473,
          0.39417505,
          -4.598706,
          3.646504,
          -0.548794,
          1.8231393,
          1.6802313,
          0.3331726,
          -1.1573038,
          1.3953376,
          2.3691876,
          3.5341275,
          2.7207901,
          -3.779161,
          0.391498,
          2.147632,
          3.3144083,
          -1.2655275,
          -0.9943068,
          3.28397,
          2.2107432,
          5.1065993,
          -5.3637695,
          -1.3977506,
          1.7457571,
          -0.71412915,
          0.25239077,
          3.568601,
          0.09160345,
          0.32585117,
          -1.1572983,
          2.6289513,
          2.3691876,
          2.3030524,
          2.0020597,
          -0.008480046,
          -2.7136033,
          2.1091502,
          2.1839843,
          0.5838888,
          -5.078837,
          3.9921014,
          -1.1847308,
          -5.3637695,
          3.6323755,
          -0.019521292,
          -1.227618,
          -3.3112955,
          -1.1798297,
          3.821161,
          3.2857826,
          3.568601,
          3.6784875,
          3.415718,
          -5.078837,
          3.446023,
          3.5904818,
          -5.1503778,
          -3.539902,
          -1.868186,
          0.16829528,
          -0.7973861,
          -3.3112981,
          -3.3113112,
          -0.7973939,
          0.39417505,
          -4.3702536,
          -3.254321,
          -1.8555689,
          -0.6761734,
          -0.008547392,
          0.45967937,
          4.189641,
          2.2192945,
          -1.3432337,
          0.6185742,
          0.9229996,
          0.25326163,
          3.5967753,
          -4.971241,
          0.72594243,
          -1.1780969,
          1.4351566,
          2.1655228,
          1.5397028,
          0.6077749,
          -3.7968578,
          -3.538917,
          2.01102,
          0.15010901,
          1.7267027,
          2.2637374,
          -0.41403025,
          -0.5238813,
          -0.008537411,
          4.54858,
          1.1890879,
          -0.6762059,
          2.22012,
          1.8985176,
          1.8866612,
          2.5025363,
          2.9263637,
          -0.79749167,
          -1.3017741,
          1.9144927,
          -3.0722656,
          -5.078837,
          2.8012037,
          2.2218394,
          2.304554,
          2.3691907,
          3.5803218,
          1.3530575,
          -1.1445084,
          1.8502146,
          0.79615664,
          1.4536115,
          0.92328477,
          1.4509709,
          -1.8681883,
          -3.7790618,
          5.121657,
          -0.50499886
         ]
        }
       ],
       "layout": {
        "height": 800,
        "legend": {
         "title": {
          "text": "Cluster"
         },
         "tracegroupgap": 0
        },
        "scene": {
         "domain": {
          "x": [
           0,
           1
          ],
          "y": [
           0,
           1
          ]
         },
         "xaxis": {
          "title": {
           "text": "0"
          }
         },
         "yaxis": {
          "title": {
           "text": "1"
          }
         },
         "zaxis": {
          "title": {
           "text": "2"
          }
         }
        },
        "template": {
         "data": {
          "bar": [
           {
            "error_x": {
             "color": "#2a3f5f"
            },
            "error_y": {
             "color": "#2a3f5f"
            },
            "marker": {
             "line": {
              "color": "#E5ECF6",
              "width": 0.5
             },
             "pattern": {
              "fillmode": "overlay",
              "size": 10,
              "solidity": 0.2
             }
            },
            "type": "bar"
           }
          ],
          "barpolar": [
           {
            "marker": {
             "line": {
              "color": "#E5ECF6",
              "width": 0.5
             },
             "pattern": {
              "fillmode": "overlay",
              "size": 10,
              "solidity": 0.2
             }
            },
            "type": "barpolar"
           }
          ],
          "carpet": [
           {
            "aaxis": {
             "endlinecolor": "#2a3f5f",
             "gridcolor": "white",
             "linecolor": "white",
             "minorgridcolor": "white",
             "startlinecolor": "#2a3f5f"
            },
            "baxis": {
             "endlinecolor": "#2a3f5f",
             "gridcolor": "white",
             "linecolor": "white",
             "minorgridcolor": "white",
             "startlinecolor": "#2a3f5f"
            },
            "type": "carpet"
           }
          ],
          "choropleth": [
           {
            "colorbar": {
             "outlinewidth": 0,
             "ticks": ""
            },
            "type": "choropleth"
           }
          ],
          "contour": [
           {
            "colorbar": {
             "outlinewidth": 0,
             "ticks": ""
            },
            "colorscale": [
             [
              0,
              "#0d0887"
             ],
             [
              0.1111111111111111,
              "#46039f"
             ],
             [
              0.2222222222222222,
              "#7201a8"
             ],
             [
              0.3333333333333333,
              "#9c179e"
             ],
             [
              0.4444444444444444,
              "#bd3786"
             ],
             [
              0.5555555555555556,
              "#d8576b"
             ],
             [
              0.6666666666666666,
              "#ed7953"
             ],
             [
              0.7777777777777778,
              "#fb9f3a"
             ],
             [
              0.8888888888888888,
              "#fdca26"
             ],
             [
              1,
              "#f0f921"
             ]
            ],
            "type": "contour"
           }
          ],
          "contourcarpet": [
           {
            "colorbar": {
             "outlinewidth": 0,
             "ticks": ""
            },
            "type": "contourcarpet"
           }
          ],
          "heatmap": [
           {
            "colorbar": {
             "outlinewidth": 0,
             "ticks": ""
            },
            "colorscale": [
             [
              0,
              "#0d0887"
             ],
             [
              0.1111111111111111,
              "#46039f"
             ],
             [
              0.2222222222222222,
              "#7201a8"
             ],
             [
              0.3333333333333333,
              "#9c179e"
             ],
             [
              0.4444444444444444,
              "#bd3786"
             ],
             [
              0.5555555555555556,
              "#d8576b"
             ],
             [
              0.6666666666666666,
              "#ed7953"
             ],
             [
              0.7777777777777778,
              "#fb9f3a"
             ],
             [
              0.8888888888888888,
              "#fdca26"
             ],
             [
              1,
              "#f0f921"
             ]
            ],
            "type": "heatmap"
           }
          ],
          "heatmapgl": [
           {
            "colorbar": {
             "outlinewidth": 0,
             "ticks": ""
            },
            "colorscale": [
             [
              0,
              "#0d0887"
             ],
             [
              0.1111111111111111,
              "#46039f"
             ],
             [
              0.2222222222222222,
              "#7201a8"
             ],
             [
              0.3333333333333333,
              "#9c179e"
             ],
             [
              0.4444444444444444,
              "#bd3786"
             ],
             [
              0.5555555555555556,
              "#d8576b"
             ],
             [
              0.6666666666666666,
              "#ed7953"
             ],
             [
              0.7777777777777778,
              "#fb9f3a"
             ],
             [
              0.8888888888888888,
              "#fdca26"
             ],
             [
              1,
              "#f0f921"
             ]
            ],
            "type": "heatmapgl"
           }
          ],
          "histogram": [
           {
            "marker": {
             "pattern": {
              "fillmode": "overlay",
              "size": 10,
              "solidity": 0.2
             }
            },
            "type": "histogram"
           }
          ],
          "histogram2d": [
           {
            "colorbar": {
             "outlinewidth": 0,
             "ticks": ""
            },
            "colorscale": [
             [
              0,
              "#0d0887"
             ],
             [
              0.1111111111111111,
              "#46039f"
             ],
             [
              0.2222222222222222,
              "#7201a8"
             ],
             [
              0.3333333333333333,
              "#9c179e"
             ],
             [
              0.4444444444444444,
              "#bd3786"
             ],
             [
              0.5555555555555556,
              "#d8576b"
             ],
             [
              0.6666666666666666,
              "#ed7953"
             ],
             [
              0.7777777777777778,
              "#fb9f3a"
             ],
             [
              0.8888888888888888,
              "#fdca26"
             ],
             [
              1,
              "#f0f921"
             ]
            ],
            "type": "histogram2d"
           }
          ],
          "histogram2dcontour": [
           {
            "colorbar": {
             "outlinewidth": 0,
             "ticks": ""
            },
            "colorscale": [
             [
              0,
              "#0d0887"
             ],
             [
              0.1111111111111111,
              "#46039f"
             ],
             [
              0.2222222222222222,
              "#7201a8"
             ],
             [
              0.3333333333333333,
              "#9c179e"
             ],
             [
              0.4444444444444444,
              "#bd3786"
             ],
             [
              0.5555555555555556,
              "#d8576b"
             ],
             [
              0.6666666666666666,
              "#ed7953"
             ],
             [
              0.7777777777777778,
              "#fb9f3a"
             ],
             [
              0.8888888888888888,
              "#fdca26"
             ],
             [
              1,
              "#f0f921"
             ]
            ],
            "type": "histogram2dcontour"
           }
          ],
          "mesh3d": [
           {
            "colorbar": {
             "outlinewidth": 0,
             "ticks": ""
            },
            "type": "mesh3d"
           }
          ],
          "parcoords": [
           {
            "line": {
             "colorbar": {
              "outlinewidth": 0,
              "ticks": ""
             }
            },
            "type": "parcoords"
           }
          ],
          "pie": [
           {
            "automargin": true,
            "type": "pie"
           }
          ],
          "scatter": [
           {
            "fillpattern": {
             "fillmode": "overlay",
             "size": 10,
             "solidity": 0.2
            },
            "type": "scatter"
           }
          ],
          "scatter3d": [
           {
            "line": {
             "colorbar": {
              "outlinewidth": 0,
              "ticks": ""
             }
            },
            "marker": {
             "colorbar": {
              "outlinewidth": 0,
              "ticks": ""
             }
            },
            "type": "scatter3d"
           }
          ],
          "scattercarpet": [
           {
            "marker": {
             "colorbar": {
              "outlinewidth": 0,
              "ticks": ""
             }
            },
            "type": "scattercarpet"
           }
          ],
          "scattergeo": [
           {
            "marker": {
             "colorbar": {
              "outlinewidth": 0,
              "ticks": ""
             }
            },
            "type": "scattergeo"
           }
          ],
          "scattergl": [
           {
            "marker": {
             "colorbar": {
              "outlinewidth": 0,
              "ticks": ""
             }
            },
            "type": "scattergl"
           }
          ],
          "scattermapbox": [
           {
            "marker": {
             "colorbar": {
              "outlinewidth": 0,
              "ticks": ""
             }
            },
            "type": "scattermapbox"
           }
          ],
          "scatterpolar": [
           {
            "marker": {
             "colorbar": {
              "outlinewidth": 0,
              "ticks": ""
             }
            },
            "type": "scatterpolar"
           }
          ],
          "scatterpolargl": [
           {
            "marker": {
             "colorbar": {
              "outlinewidth": 0,
              "ticks": ""
             }
            },
            "type": "scatterpolargl"
           }
          ],
          "scatterternary": [
           {
            "marker": {
             "colorbar": {
              "outlinewidth": 0,
              "ticks": ""
             }
            },
            "type": "scatterternary"
           }
          ],
          "surface": [
           {
            "colorbar": {
             "outlinewidth": 0,
             "ticks": ""
            },
            "colorscale": [
             [
              0,
              "#0d0887"
             ],
             [
              0.1111111111111111,
              "#46039f"
             ],
             [
              0.2222222222222222,
              "#7201a8"
             ],
             [
              0.3333333333333333,
              "#9c179e"
             ],
             [
              0.4444444444444444,
              "#bd3786"
             ],
             [
              0.5555555555555556,
              "#d8576b"
             ],
             [
              0.6666666666666666,
              "#ed7953"
             ],
             [
              0.7777777777777778,
              "#fb9f3a"
             ],
             [
              0.8888888888888888,
              "#fdca26"
             ],
             [
              1,
              "#f0f921"
             ]
            ],
            "type": "surface"
           }
          ],
          "table": [
           {
            "cells": {
             "fill": {
              "color": "#EBF0F8"
             },
             "line": {
              "color": "white"
             }
            },
            "header": {
             "fill": {
              "color": "#C8D4E3"
             },
             "line": {
              "color": "white"
             }
            },
            "type": "table"
           }
          ]
         },
         "layout": {
          "annotationdefaults": {
           "arrowcolor": "#2a3f5f",
           "arrowhead": 0,
           "arrowwidth": 1
          },
          "autotypenumbers": "strict",
          "coloraxis": {
           "colorbar": {
            "outlinewidth": 0,
            "ticks": ""
           }
          },
          "colorscale": {
           "diverging": [
            [
             0,
             "#8e0152"
            ],
            [
             0.1,
             "#c51b7d"
            ],
            [
             0.2,
             "#de77ae"
            ],
            [
             0.3,
             "#f1b6da"
            ],
            [
             0.4,
             "#fde0ef"
            ],
            [
             0.5,
             "#f7f7f7"
            ],
            [
             0.6,
             "#e6f5d0"
            ],
            [
             0.7,
             "#b8e186"
            ],
            [
             0.8,
             "#7fbc41"
            ],
            [
             0.9,
             "#4d9221"
            ],
            [
             1,
             "#276419"
            ]
           ],
           "sequential": [
            [
             0,
             "#0d0887"
            ],
            [
             0.1111111111111111,
             "#46039f"
            ],
            [
             0.2222222222222222,
             "#7201a8"
            ],
            [
             0.3333333333333333,
             "#9c179e"
            ],
            [
             0.4444444444444444,
             "#bd3786"
            ],
            [
             0.5555555555555556,
             "#d8576b"
            ],
            [
             0.6666666666666666,
             "#ed7953"
            ],
            [
             0.7777777777777778,
             "#fb9f3a"
            ],
            [
             0.8888888888888888,
             "#fdca26"
            ],
            [
             1,
             "#f0f921"
            ]
           ],
           "sequentialminus": [
            [
             0,
             "#0d0887"
            ],
            [
             0.1111111111111111,
             "#46039f"
            ],
            [
             0.2222222222222222,
             "#7201a8"
            ],
            [
             0.3333333333333333,
             "#9c179e"
            ],
            [
             0.4444444444444444,
             "#bd3786"
            ],
            [
             0.5555555555555556,
             "#d8576b"
            ],
            [
             0.6666666666666666,
             "#ed7953"
            ],
            [
             0.7777777777777778,
             "#fb9f3a"
            ],
            [
             0.8888888888888888,
             "#fdca26"
            ],
            [
             1,
             "#f0f921"
            ]
           ]
          },
          "colorway": [
           "#636efa",
           "#EF553B",
           "#00cc96",
           "#ab63fa",
           "#FFA15A",
           "#19d3f3",
           "#FF6692",
           "#B6E880",
           "#FF97FF",
           "#FECB52"
          ],
          "font": {
           "color": "#2a3f5f"
          },
          "geo": {
           "bgcolor": "white",
           "lakecolor": "white",
           "landcolor": "#E5ECF6",
           "showlakes": true,
           "showland": true,
           "subunitcolor": "white"
          },
          "hoverlabel": {
           "align": "left"
          },
          "hovermode": "closest",
          "mapbox": {
           "style": "light"
          },
          "paper_bgcolor": "white",
          "plot_bgcolor": "#E5ECF6",
          "polar": {
           "angularaxis": {
            "gridcolor": "white",
            "linecolor": "white",
            "ticks": ""
           },
           "bgcolor": "#E5ECF6",
           "radialaxis": {
            "gridcolor": "white",
            "linecolor": "white",
            "ticks": ""
           }
          },
          "scene": {
           "xaxis": {
            "backgroundcolor": "#E5ECF6",
            "gridcolor": "white",
            "gridwidth": 2,
            "linecolor": "white",
            "showbackground": true,
            "ticks": "",
            "zerolinecolor": "white"
           },
           "yaxis": {
            "backgroundcolor": "#E5ECF6",
            "gridcolor": "white",
            "gridwidth": 2,
            "linecolor": "white",
            "showbackground": true,
            "ticks": "",
            "zerolinecolor": "white"
           },
           "zaxis": {
            "backgroundcolor": "#E5ECF6",
            "gridcolor": "white",
            "gridwidth": 2,
            "linecolor": "white",
            "showbackground": true,
            "ticks": "",
            "zerolinecolor": "white"
           }
          },
          "shapedefaults": {
           "line": {
            "color": "#2a3f5f"
           }
          },
          "ternary": {
           "aaxis": {
            "gridcolor": "white",
            "linecolor": "white",
            "ticks": ""
           },
           "baxis": {
            "gridcolor": "white",
            "linecolor": "white",
            "ticks": ""
           },
           "bgcolor": "#E5ECF6",
           "caxis": {
            "gridcolor": "white",
            "linecolor": "white",
            "ticks": ""
           }
          },
          "title": {
           "x": 0.05
          },
          "xaxis": {
           "automargin": true,
           "gridcolor": "white",
           "linecolor": "white",
           "ticks": "",
           "title": {
            "standoff": 15
           },
           "zerolinecolor": "white",
           "zerolinewidth": 2
          },
          "yaxis": {
           "automargin": true,
           "gridcolor": "white",
           "linecolor": "white",
           "ticks": "",
           "title": {
            "standoff": 15
           },
           "zerolinecolor": "white",
           "zerolinewidth": 2
          }
         }
        },
        "title": {
         "text": "3d TSNE Plot for Clusters"
        },
        "width": 900
       }
      }
     },
     "metadata": {},
     "output_type": "display_data"
    },
    {
     "data": {
      "application/vnd.plotly.v1+json": {
       "config": {
        "plotlyServerURL": "https://plotly.com"
       },
       "data": [
        {
         "customdata": [
          [
           15400
          ],
          [
           15000
          ],
          [
           17000
          ],
          [
           18000
          ],
          [
           19000
          ],
          [
           30000
          ],
          [
           30000
          ],
          [
           40000
          ],
          [
           65000
          ],
          [
           69300
          ],
          [
           110000
          ],
          [
           183100
          ],
          [
           10000
          ],
          [
           10000
          ],
          [
           10000
          ],
          [
           10300
          ],
          [
           11000
          ],
          [
           12000
          ],
          [
           12000
          ],
          [
           15000
          ],
          [
           18000
          ],
          [
           20000
          ],
          [
           20000
          ],
          [
           25000
          ],
          [
           15000
          ],
          [
           40000
          ],
          [
           242574.75
          ],
          [
           209632.5
          ],
          [
           14000
          ],
          [
           14400
          ],
          [
           14400
          ],
          [
           15200
          ],
          [
           15200
          ],
          [
           15840
          ],
          [
           16000
          ],
          [
           18000
          ],
          [
           19800
          ],
          [
           19800
          ],
          [
           20000
          ],
          [
           20000
          ],
          [
           21600
          ],
          [
           23400
          ],
          [
           25000
          ],
          [
           36000
          ],
          [
           15000
          ],
          [
           22000
          ],
          [
           49658.4
          ],
          [
           106200
          ],
          [
           119790
          ],
          [
           154819.5
          ],
          [
           198893.75
          ],
          [
           218317.27
          ],
          [
           55000
          ],
          [
           12000
          ],
          [
           14000
          ],
          [
           58752
          ],
          [
           87609.6
          ],
          [
           13200
          ],
          [
           35000
          ],
          [
           110406.45
          ],
          [
           209552.64
          ],
          [
           15000
          ],
          [
           15000
          ],
          [
           152460
          ],
          [
           15000
          ],
          [
           49658.4
          ],
          [
           119790
          ],
          [
           199650
          ],
          [
           203643
          ],
          [
           214623.75
          ],
          [
           15000
          ],
          [
           10000
          ],
          [
           10000
          ],
          [
           10000
          ],
          [
           15000
          ],
          [
           10000
          ],
          [
           17000
          ],
          [
           18000
          ],
          [
           32832
          ],
          [
           30000
          ],
          [
           28339.2
          ],
          [
           23500.8
          ],
          [
           15000
          ],
          [
           15400
          ],
          [
           15400
          ],
          [
           15935
          ],
          [
           16000
          ],
          [
           16170
          ],
          [
           16500
          ],
          [
           16632
          ],
          [
           17600
          ],
          [
           19250
          ],
          [
           19656
          ],
          [
           14000
          ],
          [
           20000
          ],
          [
           22857
          ],
          [
           28057
          ],
          [
           10800
          ],
          [
           15000
          ],
          [
           61000
          ],
          [
           110000
          ],
          [
           121992
          ],
          [
           17424
          ],
          [
           13068
          ],
          [
           21780
          ],
          [
           23232
          ],
          [
           20000
          ],
          [
           14000
          ],
          [
           14000
          ],
          [
           13200
          ],
          [
           49029
          ],
          [
           10560
          ],
          [
           11000
          ],
          [
           11250
          ],
          [
           11616
          ],
          [
           12600
          ],
          [
           13068
          ],
          [
           13200
          ],
          [
           13200
          ],
          [
           14000
          ],
          [
           14000
          ],
          [
           14000
          ],
          [
           14000
          ],
          [
           14400
          ],
          [
           14400
          ],
          [
           15000
          ],
          [
           15200
          ],
          [
           15200
          ],
          [
           15840
          ],
          [
           16000
          ],
          [
           18000
          ],
          [
           19200
          ],
          [
           19800
          ],
          [
           35000
          ],
          [
           17278
          ],
          [
           14040
          ],
          [
           12000
          ],
          [
           15000
          ],
          [
           20000
          ],
          [
           26625
          ],
          [
           29000
          ],
          [
           40000
          ],
          [
           69300
          ],
          [
           10800
          ],
          [
           17000
          ],
          [
           13068
          ],
          [
           159720
          ],
          [
           10000
          ],
          [
           19800
          ],
          [
           11520
          ],
          [
           12000
          ],
          [
           20000
          ],
          [
           20000
          ],
          [
           20000
          ],
          [
           23000
          ],
          [
           61000
          ],
          [
           110000
          ],
          [
           199650
          ],
          [
           209552.64
          ],
          [
           218317.27
          ],
          [
           242000
          ],
          [
           12000
          ],
          [
           40000
          ],
          [
           20000
          ],
          [
           21600
          ],
          [
           10000
          ],
          [
           10560
          ],
          [
           11520
          ],
          [
           12000
          ],
          [
           12000
          ],
          [
           13068
          ],
          [
           15000
          ],
          [
           16500
          ],
          [
           18000
          ],
          [
           20000
          ],
          [
           23000
          ],
          [
           40000
          ],
          [
           13068
          ],
          [
           15000
          ],
          [
           12000
          ],
          [
           14040
          ],
          [
           17278
          ],
          [
           49029
          ],
          [
           10560
          ],
          [
           11616
          ],
          [
           12600
          ],
          [
           13068
          ],
          [
           13200
          ],
          [
           199650
          ],
          [
           29000
          ],
          [
           20625
          ],
          [
           20000
          ],
          [
           23400
          ],
          [
           25000
          ],
          [
           29500
          ],
          [
           36000
          ],
          [
           13068
          ],
          [
           17424
          ],
          [
           23500.8
          ],
          [
           21780
          ],
          [
           23232
          ],
          [
           28339.2
          ],
          [
           32832
          ],
          [
           20000
          ],
          [
           58752
          ],
          [
           18000
          ],
          [
           12000
          ],
          [
           88500
          ],
          [
           30000
          ],
          [
           96558.4
          ],
          [
           126732.9
          ],
          [
           126732.9
          ],
          [
           156907.4
          ],
          [
           10000
          ],
          [
           15000
          ],
          [
           20000
          ],
          [
           87609.6
          ],
          [
           96558.4
          ],
          [
           126732.9
          ],
          [
           126732.9
          ],
          [
           14000
          ],
          [
           14040
          ],
          [
           15400
          ],
          [
           15400
          ],
          [
           15935
          ],
          [
           16000
          ],
          [
           16170
          ],
          [
           16500
          ],
          [
           16632
          ],
          [
           17278
          ],
          [
           17600
          ],
          [
           18000
          ],
          [
           18000
          ],
          [
           19000
          ],
          [
           19250
          ],
          [
           19656
          ],
          [
           20000
          ],
          [
           20000
          ],
          [
           20625
          ],
          [
           22857
          ],
          [
           28057
          ],
          [
           40000
          ],
          [
           49029
          ],
          [
           12000
          ],
          [
           12000
          ],
          [
           12000
          ],
          [
           55000
          ],
          [
           13068
          ],
          [
           13200
          ],
          [
           15000
          ],
          [
           15000
          ],
          [
           18000
          ],
          [
           30000
          ],
          [
           30000
          ],
          [
           15000
          ],
          [
           20000
          ],
          [
           96558.4
          ],
          [
           126732.9
          ],
          [
           110000
          ],
          [
           126732.9
          ],
          [
           174240
          ],
          [
           15000
          ],
          [
           40000
          ],
          [
           152460
          ],
          [
           193600
          ],
          [
           235950
          ],
          [
           239580
          ],
          [
           10000
          ],
          [
           10300
          ],
          [
           12000
          ],
          [
           12000
          ],
          [
           156907.4
          ],
          [
           13068
          ],
          [
           120987.9
          ],
          [
           11616
          ],
          [
           32832
          ],
          [
           36000
          ],
          [
           58752
          ],
          [
           87609.6
          ],
          [
           10560
          ],
          [
           10800
          ],
          [
           29500
          ],
          [
           47044.8
          ],
          [
           65000
          ],
          [
           99825
          ],
          [
           104776.32
          ],
          [
           110000
          ],
          [
           199650
          ],
          [
           240149
          ],
          [
           10000
          ],
          [
           11520
          ],
          [
           12000
          ],
          [
           12000
          ],
          [
           12000
          ],
          [
           15000
          ],
          [
           20000
          ],
          [
           23000
          ],
          [
           25000
          ],
          [
           28339.2
          ],
          [
           25000
          ],
          [
           23500.8
          ],
          [
           23400
          ],
          [
           12600
          ],
          [
           13068
          ],
          [
           13068
          ],
          [
           13200
          ],
          [
           13200
          ],
          [
           14000
          ],
          [
           14000
          ],
          [
           14000
          ],
          [
           14000
          ],
          [
           14400
          ],
          [
           14400
          ],
          [
           10560
          ],
          [
           15200
          ],
          [
           15840
          ],
          [
           16000
          ],
          [
           17424
          ],
          [
           18000
          ],
          [
           19800
          ],
          [
           19800
          ],
          [
           20000
          ],
          [
           20000
          ],
          [
           21600
          ],
          [
           21780
          ],
          [
           23232
          ],
          [
           15200
          ],
          [
           15000
          ],
          [
           88500
          ],
          [
           15000
          ],
          [
           23500.8
          ],
          [
           25000
          ],
          [
           28339.2
          ],
          [
           30000
          ],
          [
           30000
          ],
          [
           32832
          ],
          [
           40000
          ],
          [
           55000
          ],
          [
           58752
          ],
          [
           87609.6
          ],
          [
           10000
          ],
          [
           11520
          ],
          [
           12000
          ],
          [
           12000
          ],
          [
           13068
          ],
          [
           13068
          ],
          [
           13200
          ],
          [
           18000
          ],
          [
           20000
          ],
          [
           23000
          ],
          [
           10560
          ],
          [
           19000
          ],
          [
           29500
          ],
          [
           23232
          ],
          [
           21780
          ],
          [
           15000
          ],
          [
           15000
          ],
          [
           156907.4
          ],
          [
           12000
          ],
          [
           14000
          ],
          [
           15400
          ],
          [
           151250
          ],
          [
           15935
          ],
          [
           16000
          ],
          [
           16170
          ],
          [
           16500
          ],
          [
           16632
          ],
          [
           17600
          ],
          [
           65000
          ],
          [
           19250
          ],
          [
           20000
          ],
          [
           20000
          ],
          [
           22857
          ],
          [
           28057
          ],
          [
           10300
          ],
          [
           12000
          ],
          [
           12000
          ],
          [
           17424
          ],
          [
           106200
          ],
          [
           183100
          ],
          [
           13068
          ],
          [
           19656
          ],
          [
           40000
          ],
          [
           69300
          ],
          [
           40000
          ],
          [
           20000
          ],
          [
           20000
          ],
          [
           21600
          ],
          [
           23400
          ],
          [
           25000
          ],
          [
           36000
          ],
          [
           10800
          ],
          [
           11000
          ],
          [
           12000
          ],
          [
           14040
          ],
          [
           15000
          ],
          [
           17278
          ],
          [
           49029
          ],
          [
           15000
          ],
          [
           22000
          ],
          [
           30000
          ],
          [
           35000
          ],
          [
           110000
          ],
          [
           121992
          ],
          [
           13200
          ],
          [
           250470
          ],
          [
           156816
          ],
          [
           108900
          ],
          [
           20000
          ],
          [
           20000
          ],
          [
           19800
          ],
          [
           19800
          ],
          [
           20000
          ],
          [
           12000
          ],
          [
           18000
          ],
          [
           20625
          ],
          [
           22000
          ],
          [
           43200
          ],
          [
           61000
          ],
          [
           10560
          ],
          [
           11616
          ],
          [
           12600
          ],
          [
           13068
          ],
          [
           110000
          ],
          [
           13200
          ],
          [
           14000
          ],
          [
           14000
          ],
          [
           14000
          ],
          [
           14000
          ],
          [
           14400
          ],
          [
           14400
          ],
          [
           15200
          ],
          [
           15200
          ],
          [
           15840
          ],
          [
           16000
          ],
          [
           18000
          ],
          [
           13200
          ],
          [
           30000
          ],
          [
           40000
          ],
          [
           30000
          ],
          [
           200000
          ],
          [
           17000
          ],
          [
           10000
          ],
          [
           10000
          ],
          [
           10000
          ],
          [
           40000
          ],
          [
           100843.21
          ],
          [
           101821.5
          ],
          [
           108900
          ],
          [
           154275
          ],
          [
           159720
          ],
          [
           209088
          ],
          [
           55000
          ],
          [
           10000
          ],
          [
           10000
          ],
          [
           10300
          ],
          [
           11520
          ],
          [
           12000
          ],
          [
           12000
          ],
          [
           12000
          ],
          [
           12000
          ],
          [
           12000
          ],
          [
           12000
          ],
          [
           33057
          ],
          [
           15000
          ],
          [
           29857
          ],
          [
           25000
          ],
          [
           65000
          ],
          [
           110000
          ],
          [
           18000
          ],
          [
           20000
          ],
          [
           20000
          ],
          [
           20625
          ],
          [
           22000
          ],
          [
           29000
          ],
          [
           106200
          ],
          [
           110000
          ],
          [
           121992
          ],
          [
           183100
          ],
          [
           16000
          ],
          [
           18900
          ],
          [
           19000
          ],
          [
           20790
          ],
          [
           20815
          ],
          [
           20900
          ],
          [
           22275
          ],
          [
           22453.2
          ],
          [
           23000
          ],
          [
           23890
          ],
          [
           25000
          ],
          [
           26437.5
          ],
          [
           15000
          ],
          [
           15000
          ],
          [
           20000
          ],
          [
           14000
          ],
          [
           15200
          ],
          [
           15206.4
          ],
          [
           16727
          ],
          [
           17424
          ],
          [
           18000
          ],
          [
           18000
          ],
          [
           18000
          ],
          [
           18666.66
          ],
          [
           19008
          ],
          [
           19800
          ],
          [
           19800
          ],
          [
           20000
          ],
          [
           20000
          ],
          [
           20000
          ],
          [
           20266.66
          ],
          [
           20736
          ],
          [
           21333.33
          ],
          [
           21600
          ],
          [
           22809.6
          ],
          [
           23000
          ],
          [
           24000
          ],
          [
           25000
          ],
          [
           14000
          ],
          [
           14000
          ],
          [
           13200
          ],
          [
           12600
          ],
          [
           23000
          ],
          [
           30000
          ],
          [
           30000
          ],
          [
           30000
          ],
          [
           40000
          ],
          [
           69300
          ],
          [
           10560
          ],
          [
           15000
          ],
          [
           15000
          ],
          [
           19000
          ],
          [
           61000
          ],
          [
           29500
          ],
          [
           25000
          ],
          [
           200000
          ],
          [
           13068
          ],
          [
           15000
          ],
          [
           15000
          ],
          [
           20000
          ],
          [
           20000
          ],
          [
           20217.6
          ],
          [
           24880.32
          ],
          [
           28000
          ],
          [
           35000
          ],
          [
           49029
          ],
          [
           200000
          ],
          [
           18000
          ],
          [
           30000
          ],
          [
           18000
          ],
          [
           33057
          ],
          [
           34049
          ],
          [
           15000
          ],
          [
           15000
          ],
          [
           29500
          ],
          [
           30000
          ],
          [
           30000
          ],
          [
           65000
          ],
          [
           110000
          ],
          [
           12600
          ],
          [
           13200
          ],
          [
           14000
          ],
          [
           14000
          ],
          [
           14000
          ],
          [
           15200
          ],
          [
           15206.4
          ],
          [
           16727
          ],
          [
           17424
          ],
          [
           18000
          ],
          [
           18000
          ],
          [
           18000
          ],
          [
           18666.66
          ],
          [
           19008
          ],
          [
           26437.5
          ],
          [
           25000
          ],
          [
           22453.2
          ],
          [
           22275
          ],
          [
           162624
          ],
          [
           203280
          ],
          [
           218317.27
          ],
          [
           223850
          ],
          [
           251680
          ],
          [
           150875.51
          ],
          [
           179685
          ],
          [
           228690
          ],
          [
           235950
          ],
          [
           25000
          ],
          [
           30000
          ],
          [
           19800
          ],
          [
           15000
          ],
          [
           18000
          ],
          [
           20000
          ],
          [
           35000
          ],
          [
           61000
          ],
          [
           110000
          ],
          [
           121992
          ],
          [
           183100
          ],
          [
           25000
          ],
          [
           16000
          ],
          [
           18900
          ],
          [
           20900
          ],
          [
           18000
          ],
          [
           27200
          ],
          [
           19800
          ],
          [
           20000
          ],
          [
           21780
          ],
          [
           23232
          ],
          [
           23500.8
          ],
          [
           28339.2
          ],
          [
           32832
          ],
          [
           58752
          ],
          [
           69300
          ],
          [
           87609.6
          ],
          [
           25000
          ],
          [
           40000
          ],
          [
           59435.81
          ],
          [
           101821.5
          ],
          [
           104544
          ],
          [
           123420
          ],
          [
           157164.48
          ],
          [
           161716.5
          ],
          [
           170156.25
          ],
          [
           20790
          ],
          [
           20790
          ],
          [
           18000
          ],
          [
           13068
          ],
          [
           15000
          ],
          [
           16500
          ],
          [
           17424
          ],
          [
           13068
          ],
          [
           55000
          ],
          [
           25000
          ],
          [
           20000
          ],
          [
           20217.6
          ],
          [
           20266.66
          ],
          [
           20736
          ],
          [
           21333.33
          ],
          [
           21600
          ],
          [
           22809.6
          ],
          [
           23000
          ],
          [
           24000
          ],
          [
           24880.32
          ],
          [
           25000
          ],
          [
           20000
          ],
          [
           27200
          ],
          [
           33333.33
          ],
          [
           33696
          ],
          [
           36000
          ],
          [
           49029
          ],
          [
           10000
          ],
          [
           10300
          ],
          [
           12000
          ],
          [
           40000
          ],
          [
           12000
          ],
          [
           20000
          ],
          [
           20000
          ],
          [
           28000
          ],
          [
           33333.33
          ],
          [
           33696
          ],
          [
           36000
          ],
          [
           18000
          ],
          [
           121992
          ],
          [
           13068
          ],
          [
           17424
          ],
          [
           21780
          ],
          [
           23500.8
          ],
          [
           23232
          ],
          [
           28339.2
          ],
          [
           32832
          ],
          [
           58752
          ],
          [
           87609.6
          ],
          [
           18000
          ],
          [
           18000
          ],
          [
           20790
          ],
          [
           23000
          ],
          [
           148104
          ],
          [
           99825
          ],
          [
           104816.25
          ],
          [
           198110.88
          ],
          [
           203280
          ],
          [
           217800
          ],
          [
           245025
          ],
          [
           12000
          ],
          [
           15000
          ],
          [
           11000
          ],
          [
           18000
          ],
          [
           35000
          ],
          [
           20000
          ],
          [
           20000
          ],
          [
           20000
          ],
          [
           20266.66
          ],
          [
           20736
          ],
          [
           21333.33
          ],
          [
           21600
          ],
          [
           22809.6
          ],
          [
           23000
          ],
          [
           24000
          ],
          [
           25000
          ],
          [
           16000
          ],
          [
           27200
          ],
          [
           33696
          ],
          [
           36000
          ],
          [
           13068
          ],
          [
           20217.6
          ],
          [
           24880.32
          ],
          [
           28000
          ],
          [
           49029
          ],
          [
           106200
          ],
          [
           199650
          ],
          [
           18750
          ],
          [
           19200
          ],
          [
           33333.33
          ],
          [
           20000
          ],
          [
           17000
          ],
          [
           18823
          ],
          [
           10560
          ],
          [
           30000
          ],
          [
           55000
          ],
          [
           106200
          ],
          [
           10000
          ],
          [
           10000
          ],
          [
           10000
          ],
          [
           13068
          ],
          [
           15000
          ],
          [
           15000
          ],
          [
           16500
          ],
          [
           18000
          ],
          [
           19000
          ],
          [
           20000
          ],
          [
           22000
          ],
          [
           25000
          ],
          [
           10000
          ],
          [
           10300
          ],
          [
           12000
          ],
          [
           12000
          ],
          [
           12000
          ],
          [
           15000
          ],
          [
           15000
          ],
          [
           40000
          ],
          [
           15000
          ],
          [
           209632.5
          ],
          [
           203280
          ],
          [
           18900
          ],
          [
           18900
          ],
          [
           19000
          ],
          [
           20790
          ],
          [
           22275
          ],
          [
           22453.2
          ],
          [
           23000
          ],
          [
           25000
          ],
          [
           25000
          ],
          [
           26437.5
          ],
          [
           27000
          ],
          [
           18000
          ],
          [
           30000
          ],
          [
           20000
          ],
          [
           25000
          ],
          [
           30000
          ],
          [
           18000
          ],
          [
           29500
          ],
          [
           65000
          ],
          [
           110000
          ],
          [
           121992
          ],
          [
           183100
          ],
          [
           99316.8
          ],
          [
           190575
          ],
          [
           18000
          ],
          [
           30000
          ],
          [
           20000
          ],
          [
           19800
          ],
          [
           16000
          ],
          [
           16500
          ],
          [
           18000
          ],
          [
           18900
          ],
          [
           19000
          ],
          [
           20000
          ],
          [
           20000
          ],
          [
           20625
          ],
          [
           20790
          ],
          [
           20900
          ],
          [
           22000
          ],
          [
           22275
          ],
          [
           22453.2
          ],
          [
           23000
          ],
          [
           23890
          ],
          [
           25000
          ],
          [
           25000
          ],
          [
           26437.5
          ],
          [
           29000
          ],
          [
           29500
          ],
          [
           29857
          ],
          [
           33057
          ],
          [
           60348.96
          ],
          [
           13068
          ],
          [
           183100
          ],
          [
           18000
          ],
          [
           20815
          ],
          [
           10800
          ],
          [
           11000
          ],
          [
           13068
          ],
          [
           15000
          ],
          [
           17424
          ],
          [
           19200
          ],
          [
           21780
          ],
          [
           23500.8
          ],
          [
           23232
          ],
          [
           28339.2
          ],
          [
           32832
          ],
          [
           65000
          ],
          [
           58752
          ],
          [
           10000
          ],
          [
           10000
          ],
          [
           10000
          ],
          [
           99825
          ],
          [
           100843.21
          ],
          [
           101821.5
          ],
          [
           102093.75
          ],
          [
           108900
          ],
          [
           154275
          ],
          [
           203280
          ],
          [
           20790
          ],
          [
           87609.6
          ],
          [
           19800
          ],
          [
           79208.01
          ],
          [
           98067.06
          ],
          [
           17000
          ],
          [
           25000
          ],
          [
           10800
          ],
          [
           15000
          ],
          [
           15000
          ],
          [
           15000
          ],
          [
           15000
          ],
          [
           55000
          ],
          [
           12600
          ],
          [
           13200
          ],
          [
           14000
          ],
          [
           14000
          ],
          [
           14000
          ],
          [
           15200
          ],
          [
           15206.4
          ],
          [
           16727
          ],
          [
           17424
          ],
          [
           18000
          ],
          [
           18000
          ],
          [
           18000
          ],
          [
           18666.66
          ],
          [
           19000
          ],
          [
           19008
          ],
          [
           23000
          ],
          [
           20000
          ],
          [
           12000
          ],
          [
           12000
          ],
          [
           110000
          ],
          [
           110000
          ],
          [
           30000
          ],
          [
           40000
          ],
          [
           61000
          ],
          [
           15000
          ],
          [
           10000
          ],
          [
           10300
          ],
          [
           12000
          ],
          [
           12000
          ],
          [
           12000
          ],
          [
           79208.01
          ],
          [
           30000
          ],
          [
           40000
          ],
          [
           69300
          ],
          [
           12000
          ],
          [
           15000
          ],
          [
           15000
          ],
          [
           18000
          ],
          [
           30000
          ],
          [
           30000
          ],
          [
           10000
          ],
          [
           10560
          ],
          [
           11520
          ],
          [
           40000
          ],
          [
           42000
          ],
          [
           100000
          ],
          [
           18480
          ],
          [
           43200
          ],
          [
           42000
          ],
          [
           10300
          ],
          [
           11000
          ],
          [
           35000
          ],
          [
           25000
          ],
          [
           21780
          ],
          [
           13068
          ],
          [
           13068
          ],
          [
           22000
          ],
          [
           13200
          ],
          [
           20000
          ],
          [
           18000
          ],
          [
           61000
          ],
          [
           15000
          ],
          [
           12000
          ],
          [
           55000
          ],
          [
           15000
          ],
          [
           15000
          ],
          [
           55000
          ],
          [
           13200
          ],
          [
           15000
          ],
          [
           12000
          ],
          [
           14040
          ],
          [
           15000
          ],
          [
           15000
          ],
          [
           42900
          ],
          [
           15000
          ],
          [
           12000
          ],
          [
           20000
          ],
          [
           24856.42
          ],
          [
           183100
          ],
          [
           251680
          ],
          [
           20000
          ],
          [
           21780
          ],
          [
           22000
          ],
          [
           40000
          ],
          [
           30000
          ],
          [
           23000
          ],
          [
           20625
          ],
          [
           79860
          ],
          [
           80858.25
          ],
          [
           87596.44
          ],
          [
           25000
          ],
          [
           86510.16
          ],
          [
           25000
          ],
          [
           20000
          ],
          [
           20000
          ],
          [
           18000
          ],
          [
           42000
          ],
          [
           15400
          ],
          [
           15000
          ],
          [
           209552.64
          ],
          [
           15000
          ],
          [
           61000
          ],
          [
           15000
          ],
          [
           110000
          ],
          [
           12000
          ],
          [
           10800
          ],
          [
           183100
          ],
          [
           229326.24
          ],
          [
           15000
          ],
          [
           251559
          ],
          [
           13068
          ],
          [
           65000
          ],
          [
           15000
          ],
          [
           16000
          ],
          [
           18000
          ],
          [
           21600
          ],
          [
           23400
          ],
          [
           25000
          ],
          [
           42900
          ],
          [
           10560
          ],
          [
           13200
          ],
          [
           15000
          ],
          [
           10560
          ],
          [
           13200
          ],
          [
           14000
          ],
          [
           15000
          ],
          [
           13068
          ],
          [
           14000
          ],
          [
           14000
          ],
          [
           69300
          ],
          [
           55000
          ],
          [
           42900
          ],
          [
           40000
          ],
          [
           14000
          ],
          [
           14000
          ],
          [
           25000
          ],
          [
           23400
          ],
          [
           21600
          ],
          [
           20625
          ],
          [
           16500
          ],
          [
           14000
          ],
          [
           14400
          ],
          [
           14040
          ],
          [
           13068
          ],
          [
           14400
          ],
          [
           29500
          ],
          [
           87609.6
          ],
          [
           58752
          ],
          [
           15000
          ],
          [
           16500
          ],
          [
           18000
          ],
          [
           16000
          ],
          [
           18000
          ],
          [
           21600
          ],
          [
           11000
          ],
          [
           10800
          ],
          [
           32832
          ],
          [
           23400
          ],
          [
           28339.2
          ],
          [
           25000
          ],
          [
           23232
          ],
          [
           20000
          ],
          [
           21780
          ],
          [
           23500.8
          ],
          [
           30000
          ],
          [
           233772
          ],
          [
           40000
          ],
          [
           25000
          ],
          [
           78516.9
          ],
          [
           20000
          ],
          [
           19000
          ],
          [
           269527.5
          ],
          [
           12000
          ],
          [
           110000
          ],
          [
           20000
          ],
          [
           110000
          ],
          [
           20000
          ],
          [
           14000
          ],
          [
           14040
          ],
          [
           14000
          ],
          [
           17278
          ],
          [
           15000
          ],
          [
           15400
          ],
          [
           15400
          ],
          [
           40000
          ],
          [
           15400
          ],
          [
           42900
          ],
          [
           16170
          ],
          [
           215622
          ],
          [
           209552.64
          ],
          [
           13943
          ],
          [
           131921.46
          ],
          [
           85377.6
          ],
          [
           16500
          ],
          [
           25000
          ],
          [
           20000
          ],
          [
           40000
          ],
          [
           16632
          ],
          [
           19250
          ],
          [
           19656
          ],
          [
           20000
          ],
          [
           69300
          ],
          [
           12000
          ],
          [
           19656
          ],
          [
           12000
          ],
          [
           25000
          ],
          [
           12000
          ],
          [
           110000
          ],
          [
           12000
          ],
          [
           13068
          ],
          [
           12000
          ],
          [
           17424
          ],
          [
           21780
          ],
          [
           18000
          ],
          [
           23500.8
          ],
          [
           11520
          ],
          [
           12000
          ],
          [
           18000
          ],
          [
           20000
          ],
          [
           13068
          ],
          [
           13200
          ],
          [
           20625
          ],
          [
           18500
          ],
          [
           18000
          ],
          [
           15200
          ],
          [
           23000
          ],
          [
           15200
          ],
          [
           12600
          ],
          [
           29500
          ],
          [
           43200
          ],
          [
           65000
          ],
          [
           13068
          ],
          [
           13200
          ],
          [
           14400
          ],
          [
           16000
          ],
          [
           21600
          ],
          [
           23400
          ],
          [
           36000
          ],
          [
           25000
          ],
          [
           199650
          ],
          [
           19250
          ],
          [
           30000
          ],
          [
           23000
          ],
          [
           20000
          ],
          [
           102850
          ],
          [
           12000
          ],
          [
           12000
          ],
          [
           11520
          ],
          [
           10000
          ],
          [
           182952
          ],
          [
           133100
          ],
          [
           20000
          ],
          [
           15000
          ],
          [
           87947.64
          ],
          [
           133100
          ],
          [
           58752
          ],
          [
           49912.5
          ],
          [
           14000
          ],
          [
           14000
          ],
          [
           16500
          ],
          [
           16800
          ],
          [
           17424
          ],
          [
           19250
          ],
          [
           20000
          ],
          [
           21400
          ],
          [
           18000
          ],
          [
           209632.5
          ],
          [
           96800
          ],
          [
           127050
          ],
          [
           138772.48
          ],
          [
           84700
          ],
          [
           40000
          ],
          [
           13068
          ],
          [
           12000
          ],
          [
           18000
          ],
          [
           16632
          ],
          [
           11520
          ],
          [
           15000
          ],
          [
           16500
          ],
          [
           11000
          ],
          [
           35000
          ],
          [
           55000
          ],
          [
           42000
          ],
          [
           16170
          ],
          [
           25000
          ],
          [
           28339.2
          ],
          [
           12000
          ],
          [
           32832
          ],
          [
           12000
          ],
          [
           87609.6
          ],
          [
           10300
          ],
          [
           15400
          ],
          [
           12000
          ],
          [
           12000
          ],
          [
           23232
          ],
          [
           15400
          ],
          [
           14000
          ],
          [
           14000
          ],
          [
           12000
          ],
          [
           16500
          ],
          [
           15000
          ],
          [
           13943
          ],
          [
           12000
          ],
          [
           40000
          ],
          [
           18000
          ],
          [
           16500
          ],
          [
           36000
          ],
          [
           42000
          ],
          [
           42000
          ],
          [
           49000
          ],
          [
           17424
          ],
          [
           13068
          ],
          [
           106480
          ],
          [
           23500.8
          ],
          [
           30000
          ],
          [
           156351.36
          ],
          [
           40000
          ],
          [
           21780
          ],
          [
           20000
          ],
          [
           58752
          ],
          [
           15000
          ],
          [
           12000
          ],
          [
           25000
          ],
          [
           87609.6
          ],
          [
           15000
          ],
          [
           16500
          ],
          [
           15000
          ],
          [
           20000
          ],
          [
           21780
          ],
          [
           133100
          ],
          [
           23500.8
          ],
          [
           40000
          ],
          [
           10560
          ],
          [
           17424
          ],
          [
           21780
          ],
          [
           23400
          ],
          [
           25000
          ],
          [
           15000
          ],
          [
           18000
          ],
          [
           20000
          ],
          [
           21780
          ],
          [
           15000
          ],
          [
           23232
          ],
          [
           23500.8
          ],
          [
           32832
          ],
          [
           49000
          ],
          [
           25000
          ],
          [
           13200
          ],
          [
           13068
          ],
          [
           235950
          ],
          [
           229326.24
          ],
          [
           28339.2
          ],
          [
           30000
          ],
          [
           32832
          ],
          [
           21600
          ],
          [
           13068
          ],
          [
           19656
          ],
          [
           156907.36
          ],
          [
           15400
          ],
          [
           58752
          ],
          [
           22000
          ],
          [
           15400
          ],
          [
           15000
          ],
          [
           205940.91
          ],
          [
           174240
          ],
          [
           57750
          ],
          [
           205940.91
          ],
          [
           254974.46
          ],
          [
           14000
          ],
          [
           10800
          ],
          [
           87609.6
          ],
          [
           14000
          ],
          [
           13943
          ],
          [
           104776.32
          ],
          [
           30000
          ],
          [
           12000
          ],
          [
           12000
          ],
          [
           62726.4
          ],
          [
           15400
          ],
          [
           11000
          ],
          [
           96800
          ],
          [
           95832
          ],
          [
           12000
          ],
          [
           19250
          ],
          [
           12000
          ],
          [
           121992
          ],
          [
           10300
          ],
          [
           15000
          ],
          [
           13200
          ],
          [
           10300
          ],
          [
           69300
          ],
          [
           19000
          ],
          [
           20000
          ],
          [
           16632
          ],
          [
           17424
          ],
          [
           72000
          ],
          [
           16500
          ],
          [
           16170
          ],
          [
           43200
          ],
          [
           12000
          ],
          [
           72000
          ],
          [
           14040
          ],
          [
           17278
          ],
          [
           36000
          ],
          [
           19000
          ],
          [
           20000
          ],
          [
           15000
          ],
          [
           35000
          ],
          [
           39204
          ],
          [
           32343.3
          ],
          [
           19800
          ],
          [
           18500
          ],
          [
           69300
          ],
          [
           55000
          ],
          [
           15840
          ],
          [
           246235
          ],
          [
           19800
          ],
          [
           121992
          ],
          [
           15200
          ],
          [
           35000
          ],
          [
           17278
          ],
          [
           19250
          ],
          [
           183100
          ],
          [
           20000
          ],
          [
           21400
          ],
          [
           19800
          ],
          [
           15200
          ],
          [
           15840
          ],
          [
           40761.88
          ],
          [
           10000
          ],
          [
           20000
          ],
          [
           256158.94
          ],
          [
           16000
          ],
          [
           14400
          ],
          [
           14040
          ],
          [
           13068
          ],
          [
           12000
          ],
          [
           12000
          ],
          [
           12000
          ],
          [
           14400
          ],
          [
           13200
          ],
          [
           10300
          ],
          [
           174693.75
          ],
          [
           69300
          ],
          [
           258456
          ],
          [
           10000
          ],
          [
           215622
          ],
          [
           174693.75
          ],
          [
           16800
          ],
          [
           18480
          ],
          [
           36000
          ],
          [
           64686.6
          ],
          [
           19800
          ],
          [
           14000
          ],
          [
           14400
          ],
          [
           14000
          ],
          [
           23232
          ],
          [
           13200
          ],
          [
           207968.75
          ],
          [
           235950
          ],
          [
           21780
          ],
          [
           25000
          ],
          [
           13068
          ],
          [
           49000
          ],
          [
           242000
          ],
          [
           266200
          ],
          [
           30000
          ],
          [
           237160
          ],
          [
           23232
          ],
          [
           28339.2
          ],
          [
           14400
          ],
          [
           16000
          ],
          [
           18000
          ],
          [
           12600
          ],
          [
           15000
          ],
          [
           93840
          ],
          [
           13068
          ],
          [
           72600
          ],
          [
           72000
          ],
          [
           17278
          ],
          [
           72000
          ],
          [
           14000
          ],
          [
           17278
          ],
          [
           13068
          ],
          [
           15000
          ],
          [
           12000
          ],
          [
           12000
          ],
          [
           36000
          ],
          [
           36000
          ],
          [
           242574.75
          ],
          [
           143388.63
          ],
          [
           14000
          ],
          [
           87609.6
          ],
          [
           47970.45
          ],
          [
           32832
          ],
          [
           20000
          ],
          [
           72000
          ],
          [
           42900
          ],
          [
           13200
          ],
          [
           28339.2
          ],
          [
           72000
          ],
          [
           61000
          ],
          [
           58752
          ]
         ],
         "hovertemplate": "Cluster=Cluster 0<br>PCA1=%{x}<br>PCA2=%{y}<br>Feature=%{customdata[0]}<extra></extra>",
         "legendgroup": "Cluster 0",
         "marker": {
          "color": "#636efa",
          "opacity": 0.5,
          "symbol": "circle"
         },
         "mode": "markers",
         "name": "Cluster 0",
         "showlegend": true,
         "textposition": "top center",
         "type": "scattergl",
         "x": [
          0.37890798,
          0.2807651,
          0.5290021,
          0.48338637,
          0.2922841,
          0.27546608,
          0.32396162,
          0.74072325,
          0.6187355,
          0.3401454,
          0.74832505,
          0.3283945,
          0.2663662,
          0.2663662,
          0.2663662,
          0.36422116,
          0.26924598,
          0.36911678,
          0.36911678,
          0.2807651,
          0.48338637,
          -0.18979114,
          0.29516384,
          -0.12689678,
          0.2807651,
          -0.083700284,
          0.887632,
          1.2292256,
          0.2293898,
          0.27903724,
          0.27903724,
          0.28134096,
          0.28134096,
          0.28318405,
          0.28364483,
          0.24090883,
          0.6340565,
          0.294588,
          0.29516384,
          0.29516384,
          0.29977155,
          0.30495507,
          0.26106724,
          0.2927447,
          -0.20419,
          -0.18403159,
          0.42906868,
          0.49490437,
          0.049085375,
          0.101466715,
          0.37387684,
          1.0602537,
          -0.08899929,
          0.36911678,
          0.37487632,
          0.50375164,
          0.5868548,
          0.27558148,
          0.4353515,
          0.701,
          1.083509,
          0.23226951,
          -0.20419,
          0.19166292,
          0.23226951,
          0.42906868,
          0.049085375,
          0.3760547,
          0.4360491,
          1.2435992,
          0.2807651,
          0.2663662,
          0.2663662,
          0.2663662,
          0.13527857,
          0.36335716,
          0.5290021,
          0.24090883,
          0.67158556,
          0.27546608,
          0.31917882,
          0.6447139,
          0.23226951,
          0.37890798,
          0.37890798,
          0.38044867,
          0.38063583,
          0.38112542,
          0.38207576,
          0.3824559,
          0.3852435,
          0.3899951,
          0.39116433,
          0.27788532,
          0.39215487,
          0.40038234,
          0.41535717,
          0.36566103,
          0.13527857,
          0.31624338,
          0.50584745,
          0.7343637,
          0.38473663,
          0.27520132,
          0.6397584,
          0.4014623,
          0.39215487,
          0.27788532,
          0.27788532,
          0.22708598,
          0.7182292,
          0.21948336,
          0.26924598,
          -0.21498911,
          0.2710199,
          0.27385366,
          0.27520132,
          0.27558148,
          0.22708598,
          0.27788532,
          0.27788532,
          0.27788532,
          0.2293898,
          0.27903724,
          0.27903724,
          0.2807651,
          0.28134096,
          0.28134096,
          0.28318405,
          0.28364483,
          0.24090883,
          0.29286006,
          0.6340565,
          0.4353515,
          0.28732517,
          0.2780005,
          0.27212575,
          0.13527857,
          0.29516384,
          0.26574683,
          0.32108182,
          0.74072325,
          0.3401454,
          0.36566103,
          0.5290021,
          0.37219238,
          0.21257003,
          0.2663662,
          0.294588,
          0.27074343,
          0.27212575,
          -0.18979114,
          -0.18979114,
          0.29516384,
          -0.18115184,
          0.31624338,
          0.50584745,
          0.3760547,
          1.083509,
          1.0602537,
          1.2254454,
          0.27212575,
          -0.083700284,
          0.29516384,
          0.29977155,
          0.2663662,
          -0.21697618,
          0.27074343,
          0.27212575,
          0.27212575,
          0.6631654,
          0.23226951,
          0.67304873,
          0.6773683,
          -0.18979114,
          -0.18115184,
          0.6922277,
          0.37219238,
          0.2807651,
          0.27212575,
          0.2780005,
          0.28732517,
          0.7182292,
          0.21948336,
          0.2710199,
          0.27385366,
          0.27520132,
          0.27558148,
          0.4245502,
          0.32108182,
          0.24846825,
          0.29516384,
          0.30495507,
          0.26106724,
          0.51650375,
          0.2927447,
          0.27520132,
          0.38473663,
          0.6447139,
          0.6397584,
          0.4014623,
          0.31917882,
          0.67158556,
          0.29516384,
          0.50375164,
          0.24090883,
          0.36911678,
          0.4439325,
          -0.11249796,
          -0.017816244,
          0.31155682,
          0.2630613,
          0.5924344,
          0.36335716,
          0.13527857,
          0.6346325,
          0.5868548,
          -0.017816244,
          0.31155682,
          0.2630613,
          0.37487632,
          0.2780005,
          0.37890798,
          0.37890798,
          0.38044867,
          0.38063583,
          0.38112542,
          0.38207576,
          0.3824559,
          0.28732517,
          0.3852435,
          0.28940433,
          0.24090883,
          0.2922841,
          0.3899951,
          0.39116433,
          0.39215487,
          0.39215487,
          0.24846825,
          0.40038234,
          0.41535717,
          0.74072325,
          0.7182292,
          0.36911678,
          0.27212575,
          0.27212575,
          -0.08899929,
          0.37219238,
          0.6635455,
          0.2807651,
          0.2807651,
          0.6773683,
          0.27546608,
          0.32396162,
          0.23226951,
          0.39215487,
          -0.017816244,
          0.31155682,
          0.50584745,
          0.2630613,
          0.25438428,
          -0.20419,
          0.6922277,
          0.24015844,
          1.0860647,
          0.5775813,
          0.53953934,
          0.36335716,
          0.36422116,
          0.36911678,
          0.36911678,
          0.5924344,
          0.6631654,
          0.0040395446,
          0.2710199,
          0.67158556,
          0.2927447,
          0.50375164,
          0.5868548,
          -0.21697618,
          0.36566103,
          0.51650375,
          0.4215421,
          0.6187355,
          0.670528,
          0.78177744,
          0.74832505,
          1.2004783,
          1.1231239,
          0.2663662,
          0.27074343,
          0.27212575,
          0.27212575,
          0.17513473,
          0.13527857,
          -0.18979114,
          -0.18115184,
          -0.12689678,
          0.31917882,
          0.26106724,
          0.6447139,
          0.30495507,
          0.27385366,
          0.27520132,
          0.27520132,
          0.27558148,
          0.22708598,
          0.27788532,
          0.27788532,
          0.27788532,
          0.2293898,
          0.27903724,
          0.27903724,
          0.21948336,
          0.28134096,
          0.28318405,
          0.28364483,
          0.38473663,
          0.24090883,
          0.294588,
          0.6340565,
          0.29516384,
          0.29516384,
          0.29977155,
          0.6397584,
          0.4014623,
          0.28134096,
          0.13527857,
          0.4439325,
          0.2807651,
          0.6447139,
          -0.12689678,
          0.31917882,
          0.27546608,
          0.32396162,
          0.67158556,
          0.74072325,
          -0.08899929,
          0.50375164,
          0.5868548,
          0.2663662,
          0.27074343,
          0.27212575,
          0.27212575,
          0.6631654,
          0.37219238,
          0.6635455,
          0.6773683,
          -0.18979114,
          -0.18115184,
          -0.21697618,
          0.2922841,
          0.51650375,
          0.4014623,
          0.6397584,
          0.2807651,
          0.2807651,
          0.5924344,
          0.36911678,
          0.37487632,
          0.37890798,
          0.2366739,
          0.38044867,
          0.38063583,
          0.38112542,
          0.38207576,
          0.3824559,
          0.3852435,
          0.6187355,
          0.3899951,
          0.39215487,
          0.39215487,
          0.40038234,
          0.41535717,
          0.36422116,
          0.36911678,
          0.36911678,
          0.38473663,
          0.49490437,
          0.3283945,
          0.27520132,
          0.39116433,
          -0.083700284,
          0.3401454,
          0.6922277,
          0.29516384,
          0.29516384,
          0.29977155,
          0.30495507,
          0.26106724,
          0.2927447,
          0.36566103,
          0.26924598,
          0.27212575,
          0.2780005,
          0.2807651,
          0.28732517,
          0.7182292,
          0.13527857,
          -0.18403159,
          0.27546608,
          0.4353515,
          0.50584745,
          0.7343637,
          0.27558148,
          0.47390902,
          0.107216164,
          0.06622022,
          0.29516384,
          -0.18979114,
          0.294588,
          0.6340565,
          0.6346325,
          0.27212575,
          0.28940433,
          0.24846825,
          -0.18403159,
          0.11949699,
          0.31624338,
          0.21948336,
          0.2710199,
          0.27385366,
          0.27520132,
          0.74832505,
          0.27558148,
          0.27788532,
          0.27788532,
          0.27788532,
          0.2293898,
          0.27903724,
          0.27903724,
          0.28134096,
          0.28134096,
          0.28318405,
          0.28364483,
          0.24090883,
          0.22708598,
          0.27546608,
          -0.083700284,
          0.27546608,
          1.2014861,
          0.5290021,
          0.2663662,
          0.2663662,
          0.2663662,
          0.74072325,
          0.576469,
          -0.05115524,
          0.017724706,
          0.39087173,
          0.84301156,
          0.20925187,
          -0.08899929,
          0.2663662,
          0.36335716,
          0.36422116,
          0.27074343,
          0.27212575,
          0.27212575,
          0.27212575,
          0.36911678,
          0.36911678,
          0.36911678,
          0.429756,
          0.23226951,
          0.42054078,
          0.40655383,
          0.6187355,
          0.74832505,
          0.24090883,
          0.6346325,
          0.29516384,
          0.102981694,
          -0.18403159,
          0.32108182,
          0.49490437,
          0.50584745,
          0.7343637,
          0.3283945,
          0.38063583,
          0.3889872,
          0.389275,
          0.39442992,
          0.39450195,
          0.39474672,
          0.39870635,
          0.39921948,
          0.4007942,
          0.40335715,
          0.40655383,
          0.41069347,
          0.2807651,
          0.2807651,
          -0.18979114,
          0.27788532,
          0.28134096,
          0.23286395,
          0.2857384,
          0.28774565,
          0.28940433,
          0.28940433,
          0.28940433,
          0.24282868,
          0.24381167,
          0.6340565,
          0.294588,
          0.29516384,
          0.29516384,
          0.29516384,
          0.29593182,
          0.29728344,
          0.2990036,
          0.29977155,
          0.3032548,
          0.30380324,
          0.25818744,
          0.55204016,
          0.27788532,
          0.27788532,
          0.27558148,
          0.27385366,
          -0.18115184,
          0.27546608,
          0.27546608,
          0.32396162,
          -0.083700284,
          0.3401454,
          -0.21697618,
          0.13527857,
          0.13527857,
          0.2922841,
          0.31624338,
          0.51650375,
          -0.12689678,
          1.2014861,
          0.37219238,
          0.23226951,
          -0.20419,
          -0.18979114,
          0.29516384,
          0.29579052,
          0.30921808,
          0.31820202,
          0.4353515,
          0.7182292,
          1.2014861,
          0.48338637,
          -0.11249796,
          0.6773683,
          0.429756,
          0.43261275,
          0.2807651,
          0.2807651,
          0.51650375,
          0.27546608,
          0.32396162,
          0.6187355,
          0.74832505,
          0.27385366,
          0.27558148,
          0.27788532,
          0.27788532,
          0.27788532,
          0.28134096,
          0.23286395,
          0.2857384,
          0.28774565,
          0.28940433,
          0.28940433,
          0.28940433,
          0.24282868,
          0.24381167,
          0.41069347,
          0.40655383,
          0.39921948,
          0.39870635,
          0.22093289,
          0.48349923,
          1.0602537,
          0.78521365,
          1.2533216,
          0.72055054,
          0.90050614,
          0.60516965,
          0.38359922,
          0.5035447,
          -0.11249796,
          0.6340565,
          0.13527857,
          0.24090883,
          0.6346325,
          0.4353515,
          0.31624338,
          0.50584745,
          0.7343637,
          0.3283945,
          0.40655383,
          0.38063583,
          0.3889872,
          0.39474672,
          0.48338637,
          0.3158982,
          0.294588,
          0.29516384,
          0.6397584,
          0.4014623,
          0.6447139,
          0.31917882,
          0.67158556,
          0.50375164,
          0.3401454,
          0.5868548,
          0.5035447,
          0.6922277,
          0.4572254,
          -0.05115524,
          -0.09181057,
          0.3020165,
          0.9326435,
          0.6547791,
          0.29111952,
          0.39442992,
          0.39442992,
          0.43489087,
          0.6631654,
          0.2807651,
          0.67304873,
          0.38473663,
          0.27520132,
          -0.08899929,
          -0.12689678,
          0.29516384,
          0.29579052,
          0.29593182,
          0.29728344,
          0.2990036,
          0.29977155,
          0.3032548,
          0.30380324,
          0.25818744,
          0.30921808,
          0.55204016,
          0.29516384,
          0.3158982,
          0.28506526,
          0.3346052,
          0.2927447,
          0.7182292,
          0.36335716,
          0.36422116,
          0.36911678,
          -0.083700284,
          0.27212575,
          -0.18979114,
          0.29516384,
          0.31820202,
          0.28506526,
          0.3346052,
          0.2927447,
          0.48338637,
          0.7343637,
          0.27520132,
          0.38473663,
          0.6397584,
          0.6447139,
          0.4014623,
          0.31917882,
          0.67158556,
          0.50375164,
          0.5868548,
          0.28940433,
          0.28940433,
          0.39442992,
          0.30380324,
          0.08212763,
          0.670528,
          0.78189254,
          0.8565774,
          1.1139407,
          0.5253135,
          0.84619266,
          0.36911678,
          0.2807651,
          0.26924598,
          0.43489087,
          0.4353515,
          0.29516384,
          0.29516384,
          0.29516384,
          0.29593182,
          0.29728344,
          0.2990036,
          0.29977155,
          0.3032548,
          0.30380324,
          0.25818744,
          0.55204016,
          0.38063583,
          0.3158982,
          0.3346052,
          0.2927447,
          0.37219238,
          0.29579052,
          0.30921808,
          0.31820202,
          0.7182292,
          0.49490437,
          0.3760547,
          -0.19339085,
          0.29286006,
          0.28506526,
          0.29516384,
          0.5290021,
          0.38876542,
          -0.21697618,
          0.27546608,
          -0.08899929,
          0.49490437,
          0.2663662,
          0.2663662,
          0.2663662,
          0.6631654,
          0.23226951,
          0.23226951,
          0.67304873,
          0.6773683,
          0.2922841,
          0.6346325,
          -0.18403159,
          -0.12689678,
          0.36335716,
          0.36422116,
          0.27212575,
          0.36911678,
          0.36911678,
          0.2807651,
          0.2807651,
          0.6922277,
          0.2807651,
          1.0837389,
          1.1139407,
          0.3889872,
          0.3889872,
          0.389275,
          0.39442992,
          0.39870635,
          0.39921948,
          0.4007942,
          0.40655383,
          0.40655383,
          0.41069347,
          0.41231322,
          0.24090883,
          0.4209526,
          0.29516384,
          0.55204016,
          -0.11249796,
          0.48338637,
          0.51650375,
          0.6187355,
          0.74832505,
          0.7343637,
          0.3283945,
          0.57207334,
          0.34992078,
          0.28940433,
          0.32396162,
          -0.18979114,
          0.6340565,
          0.38063583,
          0.67304873,
          0.6773683,
          0.3889872,
          0.389275,
          0.6346325,
          0.29516384,
          0.24846825,
          0.39442992,
          0.39474672,
          -0.18403159,
          0.39870635,
          0.39921948,
          0.4007942,
          0.40335715,
          0.40655383,
          0.40655383,
          0.41069347,
          0.32108182,
          0.51650375,
          0.42054078,
          0.429756,
          -0.12209102,
          0.6631654,
          0.3283945,
          0.24090883,
          0.39450195,
          0.36566103,
          0.26924598,
          0.27520132,
          0.2807651,
          0.38473663,
          0.29286006,
          0.6397584,
          0.6447139,
          0.4014623,
          0.31917882,
          0.67158556,
          0.6187355,
          0.50375164,
          0.2663662,
          0.2663662,
          0.2663662,
          0.670528,
          0.576469,
          -0.05115524,
          0.095115304,
          0.017724706,
          0.39087173,
          1.1139407,
          0.39442992,
          0.5868548,
          0.294588,
          0.17469619,
          0.42298788,
          0.5290021,
          -0.12689678,
          0.36566103,
          0.23226951,
          0.13527857,
          0.13527857,
          0.23226951,
          -0.08899929,
          0.27385366,
          0.27558148,
          0.27788532,
          0.27788532,
          0.27788532,
          0.28134096,
          0.23286395,
          0.2857384,
          0.28774565,
          0.28940433,
          0.28940433,
          0.28940433,
          0.24282868,
          0.2922841,
          0.24381167,
          -0.18115184,
          -0.18979114,
          0.27212575,
          0.27212575,
          0.50584745,
          0.74832505,
          -0.11249796,
          0.6922277,
          0.31624338,
          0.2807651,
          0.36335716,
          0.36422116,
          0.36911678,
          0.36911678,
          0.36911678,
          0.12620069,
          0.27546608,
          -0.083700284,
          0.3401454,
          0.27212575,
          0.2807651,
          0.2807651,
          0.43489087,
          0.27546608,
          0.32396162,
          0.2663662,
          -0.21697618,
          0.27074343,
          0.74072325,
          0.26152778,
          0.91350937,
          0.38777766,
          0.11949699,
          0.26152778,
          0.36422116,
          0.26924598,
          0.4353515,
          0.30956274,
          0.30028987,
          0.27520132,
          0.6631654,
          -0.18403159,
          0.6635455,
          0.6346325,
          0.24090883,
          0.31624338,
          0.2807651,
          0.36911678,
          -0.08899929,
          0.13527857,
          0.2807651,
          -0.08899929,
          0.27558148,
          0.2807651,
          0.27212575,
          0.2780005,
          0.23226951,
          0.2807651,
          0.70057917,
          0.13527857,
          0.36911678,
          0.39215487,
          0.3576448,
          0.3283945,
          0.62288,
          -0.18979114,
          0.30028987,
          -0.18403159,
          0.74072325,
          0.32396162,
          -0.18115184,
          0.24846825,
          0.61303335,
          0.42192602,
          0.44133046,
          0.30956274,
          0.5351931,
          -0.12689678,
          0.39215487,
          -0.18979114,
          0.28940433,
          0.26152778,
          0.37890798,
          -0.20419,
          1.083509,
          0.2807651,
          0.31624338,
          0.2807651,
          0.50584745,
          0.27212575,
          0.36566103,
          0.3283945,
          0.3645243,
          0.13527857,
          0.574036,
          0.27520132,
          0.6187355,
          0.23226951,
          0.28364483,
          0.28940433,
          0.29977155,
          0.30495507,
          0.30956274,
          0.70057917,
          0.21948336,
          0.27558148,
          0.2807651,
          -0.21697618,
          0.22708598,
          0.27788532,
          0.23226951,
          0.37219238,
          0.37487632,
          0.27788532,
          0.3401454,
          -0.08899929,
          0.70057917,
          -0.083700284,
          0.37487632,
          0.2293898,
          0.26106724,
          0.30495507,
          0.29977155,
          0.24846825,
          0.38207576,
          0.27788532,
          0.27903724,
          0.2780005,
          0.27520132,
          0.27903724,
          0.51650375,
          0.5868548,
          0.50375164,
          0.23226951,
          -0.19987035,
          0.6773683,
          0.28364483,
          0.28940433,
          0.29977155,
          0.26924598,
          0.36566103,
          0.67158556,
          0.30495507,
          0.31917882,
          0.30956274,
          0.4014623,
          0.6346325,
          0.6397584,
          0.6447139,
          0.27546608,
          0.3288316,
          0.74072325,
          -0.12689678,
          0.5121745,
          0.29516384,
          0.2922841,
          1.2077273,
          0.27212575,
          0.74832505,
          0.39215487,
          0.50584745,
          0.29516384,
          0.37487632,
          0.2780005,
          0.37487632,
          0.28732517,
          0.2807651,
          0.37890798,
          0.37890798,
          0.6922277,
          0.37890798,
          0.70057917,
          0.38112542,
          0.81001437,
          1.083509,
          0.37471217,
          0.66596717,
          0.5319317,
          0.38207576,
          0.40655383,
          0.39215487,
          0.74072325,
          0.3824559,
          0.3899951,
          0.39116433,
          0.39215487,
          0.3401454,
          0.27212575,
          0.39116433,
          0.27212575,
          0.26106724,
          0.36911678,
          0.74832505,
          0.27212575,
          0.27520132,
          0.5146032,
          0.38473663,
          0.6397584,
          0.28940433,
          0.6447139,
          0.27074343,
          0.27212575,
          0.28940433,
          0.39215487,
          0.6631654,
          0.6635455,
          0.24846825,
          0.29084423,
          0.6773683,
          0.28134096,
          -0.18115184,
          0.28134096,
          0.27385366,
          0.51650375,
          0.11949699,
          0.6187355,
          0.27520132,
          0.27558148,
          0.27903724,
          0.28364483,
          0.29977155,
          0.30495507,
          0.2927447,
          0.40655383,
          0.3760547,
          0.3899951,
          0.27546608,
          -0.18115184,
          -0.18979114,
          0.04879762,
          0.27212575,
          0.27212575,
          0.27074343,
          0.2663662,
          0.1824818,
          0.1844061,
          0.6346325,
          0.2807651,
          0.5393328,
          0.1844061,
          0.50375164,
          0.76926905,
          0.37487632,
          0.37487632,
          0.38207576,
          0.38293964,
          0.38473663,
          0.3899951,
          0.39215487,
          0.39618662,
          0.24090883,
          0.4532974,
          -0.017120486,
          0.06999249,
          0.006759526,
          0.82095337,
          -0.083700284,
          0.37219238,
          0.36911678,
          0.24090883,
          0.3824559,
          0.27074343,
          0.2807651,
          0.38207576,
          0.26924598,
          0.4353515,
          -0.08899929,
          0.26152778,
          0.38112542,
          -0.12689678,
          0.31917882,
          0.17513473,
          0.67158556,
          0.27212575,
          0.5868548,
          0.36422116,
          0.37890798,
          0.36911678,
          0.36911678,
          0.4014623,
          0.37890798,
          0.37487632,
          0.37487632,
          0.17513473,
          -0.19987035,
          0.2807651,
          0.37471217,
          0.5146032,
          0.6922277,
          0.24090883,
          -0.19987035,
          0.2927447,
          0.26152778,
          0.26152778,
          0.28168613,
          0.38473663,
          0.27520132,
          0.6896927,
          0.6447139,
          0.32396162,
          0.057382602,
          -0.083700284,
          0.6397584,
          0.6346325,
          0.50375164,
          0.13527857,
          0.5146032,
          0.40655383,
          0.5868548,
          0.2807651,
          -0.19987035,
          0.13527857,
          0.39215487,
          0.6397584,
          0.1844061,
          0.6447139,
          0.6922277,
          0.21948336,
          0.38473663,
          0.30028987,
          0.30495507,
          0.26106724,
          0.2807651,
          0.6773683,
          0.39215487,
          0.6397584,
          0.2807651,
          0.4014623,
          0.6447139,
          0.67158556,
          0.28168613,
          0.30956274,
          0.6635455,
          0.6631654,
          0.33510372,
          0.3645243,
          0.31917882,
          0.27546608,
          0.67158556,
          0.29977155,
          0.27520132,
          0.39116433,
          0.15597476,
          0.37890798,
          0.50375164,
          -0.18403159,
          0.37890798,
          0.23226951,
          0.53965753,
          0.30287978,
          0.3068841,
          0.49116206,
          0.8748449,
          0.37487632,
          0.36566103,
          0.5868548,
          0.37487632,
          0.37471217,
          0.78177744,
          0.27546608,
          0.17513473,
          0.36911678,
          0.46670148,
          0.37890798,
          0.26924598,
          -0.017120486,
          0.12557842,
          0.36911678,
          0.3899951,
          0.36911678,
          0.7343637,
          0.2672301,
          0.2807651,
          0.27558148,
          0.2672301,
          0.3401454,
          0.2922841,
          0.6346325,
          0.3824559,
          0.38473663,
          0.63889384,
          0.38207576,
          0.38112542,
          0.11949699,
          0.27212575,
          0.63889384,
          0.2780005,
          0.28732517,
          0.098762676,
          0.2922841,
          0.29516384,
          0.2807651,
          0.4353515,
          0.3989624,
          0.47619623,
          0.294588,
          0.29084423,
          0.3401454,
          -0.08899929,
          0.28318405,
          1.3346324,
          0.6340565,
          0.7343637,
          0.28134096,
          0.4353515,
          0.28732517,
          0.3899951,
          0.3283945,
          0.39215487,
          0.39618662,
          0.6340565,
          0.28134096,
          0.28318405,
          0.16097125,
          0.36335716,
          0.29516384,
          1.1692288,
          0.28364483,
          0.27903724,
          0.2780005,
          0.27520132,
          0.36911678,
          0.36911678,
          0.27212575,
          0.27903724,
          0.27558148,
          0.36422116,
          0.93462795,
          0.3401454,
          1.3213303,
          0.36335716,
          1.0524919,
          1.1286101,
          0.38293964,
          0.38777766,
          0.2927447,
          0.3753554,
          0.294588,
          0.2293898,
          0.27903724,
          0.27788532,
          0.4014623,
          0.27558148,
          0.44850627,
          0.5775813,
          0.30028987,
          0.30956274,
          0.27520132,
          0.28168613,
          1.2254454,
          0.47071218,
          0.32396162,
          1.260003,
          0.4014623,
          0.31917882,
          0.27903724,
          0.28364483,
          0.24090883,
          0.27385366,
          0.2807651,
          0.45931047,
          0.27520132,
          0.0101801455,
          0.63889384,
          0.28732517,
          0.63889384,
          0.27788532,
          0.28732517,
          0.37219238,
          0.2807651,
          0.36911678,
          0.36911678,
          0.098762676,
          0.098762676,
          0.887632,
          0.79598093,
          0.27788532,
          0.5868548,
          0.42420775,
          0.67158556,
          0.6346325,
          0.63889384,
          0.70057917,
          0.22708598,
          0.31917882,
          0.63889384,
          0.31624338,
          0.50375164
         ],
         "xaxis": "x",
         "y": [
          -0.8453435,
          -0.74950445,
          -0.98622245,
          -0.9348472,
          -0.7379853,
          -0.65781236,
          -0.7063079,
          -1.0654743,
          -0.7994982,
          -0.49614194,
          -0.6699085,
          0.17104428,
          -0.7639033,
          -0.7639033,
          -0.7639033,
          -0.86003035,
          -0.76102346,
          -0.8551348,
          -0.8551348,
          -0.74950445,
          -0.9348472,
          -0.2501504,
          -0.7351056,
          -0.28424707,
          -0.74950445,
          -0.24105057,
          -0.04564637,
          -0.5769721,
          -0.70388865,
          -0.75123227,
          -0.75123227,
          -0.7489284,
          -0.7489284,
          -0.7470854,
          -0.74662465,
          -0.6923696,
          -1.0751501,
          -0.7356816,
          -0.7351056,
          -0.7351056,
          -0.73049796,
          -0.7253144,
          -0.6722112,
          -0.64053375,
          -0.26454926,
          -0.24439088,
          -0.6981918,
          -0.438374,
          0.08571717,
          0.23508953,
          0.21652658,
          -0.35797992,
          -0.14935853,
          -0.8551348,
          -0.84937525,
          -0.7204999,
          -0.63739663,
          -0.754688,
          -0.78890014,
          -0.6202425,
          -0.4317155,
          -0.70100886,
          -0.26454926,
          0.13130368,
          -0.70100886,
          -0.6981918,
          0.08571717,
          0.21870443,
          0.1817078,
          -0.5625984,
          -0.74950445,
          -0.7639033,
          -0.7639033,
          -0.7639033,
          -0.6040179,
          -0.86089426,
          -0.98622245,
          -0.6923696,
          -1.037621,
          -0.65781236,
          -0.7110906,
          -1.0644927,
          -0.70100886,
          -0.8453435,
          -0.8453435,
          -0.8438029,
          -0.8436157,
          -0.84312624,
          -0.84217584,
          -0.8417956,
          -0.8390081,
          -0.8342565,
          -0.8330874,
          -0.7523842,
          -0.8320966,
          -0.8238691,
          -0.80889434,
          -0.8585905,
          -0.6040179,
          -0.5200441,
          -0.42743093,
          -0.5868788,
          -0.83951485,
          -0.75506806,
          -1.0694481,
          -0.8227892,
          -0.8320966,
          -0.7523842,
          -0.7523842,
          -0.70619255,
          -0.99097735,
          -0.71379507,
          -0.76102346,
          -0.27534837,
          -0.7592495,
          -0.75641584,
          -0.75506806,
          -0.754688,
          -0.70619255,
          -0.7523842,
          -0.7523842,
          -0.7523842,
          -0.70388865,
          -0.75123227,
          -0.75123227,
          -0.74950445,
          -0.7489284,
          -0.7489284,
          -0.7470854,
          -0.74662465,
          -0.6923696,
          -0.73740935,
          -1.0751501,
          -0.78890014,
          -0.7429443,
          -0.75226897,
          -0.7581437,
          -0.6040179,
          -0.7351056,
          -0.66753155,
          -0.7091876,
          -1.0654743,
          -0.49614194,
          -0.8585905,
          -0.98622245,
          -0.8520591,
          0.1522108,
          -0.7639033,
          -0.7356816,
          -0.759526,
          -0.7581437,
          -0.2501504,
          -0.2501504,
          -0.7351056,
          -0.2415111,
          -0.5200441,
          -0.42743093,
          0.21870443,
          -0.4317155,
          -0.35797992,
          -0.38677016,
          -0.7581437,
          -0.24105057,
          -0.7351056,
          -0.73049796,
          -0.7639033,
          -0.27733544,
          -0.759526,
          -0.7581437,
          -0.7581437,
          -1.1430322,
          -0.70100886,
          -1.1331489,
          -1.1288294,
          -0.2501504,
          -0.2415111,
          -1.0169787,
          -0.8520591,
          -0.74950445,
          -0.7581437,
          -0.75226897,
          -0.7429443,
          -0.99097735,
          -0.71379507,
          -0.7592495,
          -0.75641584,
          -0.75506806,
          -0.754688,
          0.17020892,
          -0.7091876,
          -0.6848102,
          -0.7351056,
          -0.7253144,
          -0.6722112,
          -0.9017299,
          -0.64053375,
          -0.75506806,
          -0.83951485,
          -1.0644927,
          -1.0694481,
          -0.8227892,
          -0.7110906,
          -1.037621,
          -0.7351056,
          -0.7204999,
          -0.6923696,
          -0.8551348,
          -0.489346,
          -0.26984823,
          0.018815547,
          -0.13676648,
          -0.088270955,
          -0.24385291,
          -0.86089426,
          -0.6040179,
          -1.0745742,
          -0.63739663,
          0.018815547,
          -0.13676648,
          -0.088270955,
          -0.84937525,
          -0.75226897,
          -0.8453435,
          -0.8453435,
          -0.8438029,
          -0.8436157,
          -0.84312624,
          -0.84217584,
          -0.8417956,
          -0.7429443,
          -0.8390081,
          -0.7408651,
          -0.6923696,
          -0.7379853,
          -0.8342565,
          -0.8330874,
          -0.8320966,
          -0.8320966,
          -0.6848102,
          -0.8238691,
          -0.80889434,
          -1.0654743,
          -0.99097735,
          -0.8551348,
          -0.7581437,
          -0.7581437,
          -0.14935853,
          -0.8520591,
          -1.1426522,
          -0.74950445,
          -0.74950445,
          -1.1288294,
          -0.65781236,
          -0.7063079,
          -0.70100886,
          -0.8320966,
          0.018815547,
          -0.13676648,
          -0.42743093,
          -0.088270955,
          0.19402505,
          -0.26454926,
          -1.0169787,
          0.08280817,
          -0.52615094,
          0.22624896,
          0.28519806,
          -0.86089426,
          -0.86003035,
          -0.8551348,
          -0.8551348,
          -0.24385291,
          -1.1430322,
          0.13766235,
          -0.7592495,
          -1.037621,
          -0.64053375,
          -0.7204999,
          -0.63739663,
          -0.27733544,
          -0.8585905,
          -0.9017299,
          -0.70571834,
          -0.7994982,
          -0.65071476,
          -0.73344696,
          -0.6699085,
          -0.6057193,
          -0.29510957,
          -0.7639033,
          -0.759526,
          -0.7581437,
          -0.7581437,
          -0.6611527,
          -0.6040179,
          -0.2501504,
          -0.2415111,
          -0.28424707,
          -0.7110906,
          -0.6722112,
          -1.0644927,
          -0.7253144,
          -0.75641584,
          -0.75506806,
          -0.75506806,
          -0.754688,
          -0.70619255,
          -0.7523842,
          -0.7523842,
          -0.7523842,
          -0.70388865,
          -0.75123227,
          -0.75123227,
          -0.71379507,
          -0.7489284,
          -0.7470854,
          -0.74662465,
          -0.83951485,
          -0.6923696,
          -0.7356816,
          -1.0751501,
          -0.7351056,
          -0.7351056,
          -0.73049796,
          -1.0694481,
          -0.8227892,
          -0.7489284,
          -0.6040179,
          -0.489346,
          -0.74950445,
          -1.0644927,
          -0.28424707,
          -0.7110906,
          -0.65781236,
          -0.7063079,
          -1.037621,
          -1.0654743,
          -0.14935853,
          -0.7204999,
          -0.63739663,
          -0.7639033,
          -0.759526,
          -0.7581437,
          -0.7581437,
          -1.1430322,
          -0.8520591,
          -1.1426522,
          -1.1288294,
          -0.2501504,
          -0.2415111,
          -0.27733544,
          -0.7379853,
          -0.9017299,
          -0.8227892,
          -1.0694481,
          -0.74950445,
          -0.74950445,
          -0.24385291,
          -0.8551348,
          -0.84937525,
          -0.8453435,
          0.07932364,
          -0.8438029,
          -0.8436157,
          -0.84312624,
          -0.84217584,
          -0.8417956,
          -0.8390081,
          -0.7994982,
          -0.8342565,
          -0.8320966,
          -0.8320966,
          -0.8238691,
          -0.80889434,
          -0.86003035,
          -0.8551348,
          -0.8551348,
          -0.83951485,
          -0.438374,
          0.17104428,
          -0.75506806,
          -0.8330874,
          -0.24105057,
          -0.49614194,
          -1.0169787,
          -0.7351056,
          -0.7351056,
          -0.73049796,
          -0.7253144,
          -0.6722112,
          -0.64053375,
          -0.8585905,
          -0.76102346,
          -0.7581437,
          -0.75226897,
          -0.74950445,
          -0.7429443,
          -0.99097735,
          -0.6040179,
          -0.24439088,
          -0.65781236,
          -0.78890014,
          -0.42743093,
          -0.5868788,
          -0.754688,
          0.41354975,
          0.24083897,
          0.005860977,
          -0.7351056,
          -0.2501504,
          -0.7356816,
          -1.0751501,
          -1.0745742,
          -0.7581437,
          -0.7408651,
          -0.6848102,
          -0.24439088,
          -0.42581737,
          -0.5200441,
          -0.71379507,
          -0.7592495,
          -0.75641584,
          -0.75506806,
          -0.6699085,
          -0.754688,
          -0.7523842,
          -0.7523842,
          -0.7523842,
          -0.70388865,
          -0.75123227,
          -0.75123227,
          -0.7489284,
          -0.7489284,
          -0.7470854,
          -0.74662465,
          -0.6923696,
          -0.70619255,
          -0.65781236,
          -0.24105057,
          -0.65781236,
          -0.6047114,
          -0.98622245,
          -0.7639033,
          -0.7639033,
          -0.7639033,
          -1.0654743,
          -0.5507913,
          0.082467586,
          0.054356497,
          -0.05745162,
          -0.4782309,
          0.43986577,
          -0.14935853,
          -0.7639033,
          -0.86089426,
          -0.86003035,
          -0.759526,
          -0.7581437,
          -0.7581437,
          -0.7581437,
          -0.8551348,
          -0.8551348,
          -0.8551348,
          -0.7944955,
          -0.70100886,
          -0.8037108,
          -0.81769776,
          -0.7994982,
          -0.6699085,
          -0.6923696,
          -1.0745742,
          -0.7351056,
          -0.5393237,
          -0.24439088,
          -0.7091876,
          -0.438374,
          -0.42743093,
          -0.5868788,
          0.17104428,
          -0.8436157,
          -0.8352643,
          -0.8349763,
          -0.82982165,
          -0.8297497,
          -0.8295048,
          -0.8255451,
          -0.82503194,
          -0.8234573,
          -0.82089424,
          -0.81769776,
          -0.8135582,
          -0.74950445,
          -0.74950445,
          -0.2501504,
          -0.7523842,
          -0.7489284,
          -0.7004145,
          -0.74453104,
          -0.74252385,
          -0.7408651,
          -0.7408651,
          -0.7408651,
          -0.6904498,
          -0.6894668,
          -1.0751501,
          -0.7356816,
          -0.7351056,
          -0.7351056,
          -0.7351056,
          -0.7343377,
          -0.7329861,
          -0.7312659,
          -0.73049796,
          -0.72701454,
          -0.7264663,
          -0.67509097,
          -0.96318424,
          -0.7523842,
          -0.7523842,
          -0.754688,
          -0.75641584,
          -0.2415111,
          -0.65781236,
          -0.65781236,
          -0.7063079,
          -0.24105057,
          -0.49614194,
          -0.27733544,
          -0.6040179,
          -0.6040179,
          -0.7379853,
          -0.5200441,
          -0.9017299,
          -0.28424707,
          -0.6047114,
          -0.8520591,
          -0.70100886,
          -0.26454926,
          -0.2501504,
          -0.7351056,
          -0.73447895,
          -0.72105134,
          -0.71206737,
          -0.78890014,
          -0.99097735,
          -0.6047114,
          -0.9348472,
          -0.26984823,
          -1.1288294,
          -0.7944955,
          -0.7916388,
          -0.74950445,
          -0.74950445,
          -0.9017299,
          -0.65781236,
          -0.7063079,
          -0.7994982,
          -0.6699085,
          -0.75641584,
          -0.754688,
          -0.7523842,
          -0.7523842,
          -0.7523842,
          -0.7489284,
          -0.7004145,
          -0.74453104,
          -0.74252385,
          -0.7408651,
          -0.7408651,
          -0.7408651,
          -0.6904498,
          -0.6894668,
          -0.8135582,
          -0.81769776,
          -0.82503194,
          -0.8255451,
          0.16057366,
          0.13216695,
          -0.35797992,
          -0.05107384,
          -0.358894,
          -0.40670994,
          -0.42073637,
          0.15684637,
          0.42023104,
          -0.9146887,
          -0.26984823,
          -1.0751501,
          -0.6040179,
          -0.6923696,
          -1.0745742,
          -0.78890014,
          -0.5200441,
          -0.42743093,
          -0.5868788,
          0.17104428,
          -0.81769776,
          -0.8436157,
          -0.8352643,
          -0.8295048,
          -0.9348472,
          -0.71437126,
          -0.7356816,
          -0.7351056,
          -1.0694481,
          -0.8227892,
          -1.0644927,
          -0.7110906,
          -1.037621,
          -0.7204999,
          -0.49614194,
          -0.63739663,
          -0.9146887,
          -1.0169787,
          -0.6700351,
          0.082467586,
          0.13880327,
          -0.14630687,
          -0.5825814,
          -0.2784994,
          0.13376924,
          -0.82982165,
          -0.82982165,
          -0.88635164,
          -1.1430322,
          -0.74950445,
          -1.1331489,
          -0.83951485,
          -0.75506806,
          -0.14935853,
          -0.28424707,
          -0.7351056,
          -0.73447895,
          -0.7343377,
          -0.7329861,
          -0.7312659,
          -0.73049796,
          -0.72701454,
          -0.7264663,
          -0.67509097,
          -0.72105134,
          -0.96318424,
          -0.7351056,
          -0.71437126,
          -0.64821315,
          -0.6956643,
          -0.64053375,
          -0.99097735,
          -0.86089426,
          -0.86003035,
          -0.8551348,
          -0.24105057,
          -0.7581437,
          -0.2501504,
          -0.7351056,
          -0.71206737,
          -0.64821315,
          -0.6956643,
          -0.64053375,
          -0.9348472,
          -0.5868788,
          -0.75506806,
          -0.83951485,
          -1.0694481,
          -1.0644927,
          -0.8227892,
          -0.7110906,
          -1.037621,
          -0.7204999,
          -0.63739663,
          -0.7408651,
          -0.7408651,
          -0.82982165,
          -0.7264663,
          0.21575046,
          -0.65071476,
          -0.73333204,
          -0.27068305,
          -0.4982747,
          0.17398116,
          0.009905278,
          -0.8551348,
          -0.74950445,
          -0.76102346,
          -0.88635164,
          -0.78890014,
          -0.7351056,
          -0.7351056,
          -0.7351056,
          -0.7343377,
          -0.7329861,
          -0.7312659,
          -0.73049796,
          -0.72701454,
          -0.7264663,
          -0.67509097,
          -0.96318424,
          -0.8436157,
          -0.71437126,
          -0.6956643,
          -0.64053375,
          -0.8520591,
          -0.73447895,
          -0.72105134,
          -0.71206737,
          -0.99097735,
          -0.438374,
          0.21870443,
          -0.25375012,
          -0.73740935,
          -0.64821315,
          -0.7351056,
          -0.98622245,
          -0.83548605,
          -0.27733544,
          -0.65781236,
          -0.14935853,
          -0.438374,
          -0.7639033,
          -0.7639033,
          -0.7639033,
          -1.1430322,
          -0.70100886,
          -0.70100886,
          -1.1331489,
          -1.1288294,
          -0.7379853,
          -1.0745742,
          -0.24439088,
          -0.28424707,
          -0.86089426,
          -0.86003035,
          -0.7581437,
          -0.8551348,
          -0.8551348,
          -0.74950445,
          -0.74950445,
          -1.0169787,
          -0.74950445,
          -0.43148556,
          -0.4982747,
          -0.8352643,
          -0.8352643,
          -0.8349763,
          -0.82982165,
          -0.8255451,
          -0.82503194,
          -0.8234573,
          -0.81769776,
          -0.81769776,
          -0.8135582,
          -0.81193817,
          -0.6923696,
          -0.80329895,
          -0.7351056,
          -0.96318424,
          -0.26984823,
          -0.9348472,
          -0.9017299,
          -0.7994982,
          -0.6699085,
          -0.5868788,
          0.17104428,
          -0.5551871,
          0.19257052,
          -0.7408651,
          -0.7063079,
          -0.2501504,
          -1.0751501,
          -0.8436157,
          -1.1331489,
          -1.1288294,
          -0.8352643,
          -0.8349763,
          -1.0745742,
          -0.7351056,
          -0.6848102,
          -0.82982165,
          -0.8295048,
          -0.24439088,
          -0.8255451,
          -0.82503194,
          -0.8234573,
          -0.82089424,
          -0.81769776,
          -0.81769776,
          -0.8135582,
          -0.7091876,
          -0.9017299,
          -0.8037108,
          -0.7944955,
          -0.08545925,
          -1.1430322,
          0.17104428,
          -0.6923696,
          -0.8297497,
          -0.8585905,
          -0.76102346,
          -0.75506806,
          -0.74950445,
          -0.83951485,
          -0.73740935,
          -1.0694481,
          -1.0644927,
          -0.8227892,
          -0.7110906,
          -1.037621,
          -0.7994982,
          -0.7204999,
          -0.7639033,
          -0.7639033,
          -0.7639033,
          -0.65071476,
          -0.5507913,
          0.082467586,
          -0.062234968,
          0.054356497,
          -0.05745162,
          -0.4982747,
          -0.82982165,
          -0.63739663,
          -0.7356816,
          -0.27362713,
          -0.41329947,
          -0.98622245,
          -0.28424707,
          -0.8585905,
          -0.70100886,
          -0.6040179,
          -0.6040179,
          -0.70100886,
          -0.14935853,
          -0.75641584,
          -0.754688,
          -0.7523842,
          -0.7523842,
          -0.7523842,
          -0.7489284,
          -0.7004145,
          -0.74453104,
          -0.74252385,
          -0.7408651,
          -0.7408651,
          -0.7408651,
          -0.6904498,
          -0.7379853,
          -0.6894668,
          -0.2415111,
          -0.2501504,
          -0.7581437,
          -0.7581437,
          -0.42743093,
          -0.6699085,
          -0.26984823,
          -1.0169787,
          -0.5200441,
          -0.74950445,
          -0.86089426,
          -0.86003035,
          -0.8551348,
          -0.8551348,
          -0.8551348,
          -0.22513166,
          -0.65781236,
          -0.24105057,
          -0.49614194,
          -0.7581437,
          -0.74950445,
          -0.74950445,
          -0.88635164,
          -0.65781236,
          -0.7063079,
          -0.7639033,
          -0.27733544,
          -0.759526,
          -1.0654743,
          -0.5747596,
          -0.89268833,
          -0.8364739,
          -0.42581737,
          -0.5747596,
          -0.86003035,
          -0.76102346,
          -0.78890014,
          -0.72070676,
          -0.7299795,
          -0.75506806,
          -1.1430322,
          -0.24439088,
          -1.1426522,
          -1.0745742,
          -0.6923696,
          -0.5200441,
          -0.74950445,
          -0.8551348,
          -0.14935853,
          -0.6040179,
          -0.74950445,
          -0.14935853,
          -0.754688,
          -0.74950445,
          -0.7581437,
          -0.75226897,
          -0.70100886,
          -0.74950445,
          -1.0086275,
          -0.6040179,
          -0.8551348,
          -0.8320966,
          -0.7696157,
          0.17104428,
          0.27154773,
          -0.2501504,
          -0.7299795,
          -0.24439088,
          -1.0654743,
          -0.7063079,
          -0.2415111,
          -0.6848102,
          -0.7082093,
          -0.5113524,
          -0.491948,
          -0.72070676,
          -0.59206724,
          -0.28424707,
          -0.8320966,
          -0.2501504,
          -0.7408651,
          -0.5747596,
          -0.8453435,
          -0.26454926,
          -0.4317155,
          -0.74950445,
          -0.5200441,
          -0.74950445,
          -0.42743093,
          -0.7581437,
          -0.8585905,
          0.17104428,
          0.4011561,
          -0.6040179,
          0.31969482,
          -0.75506806,
          -0.7994982,
          -0.70100886,
          -0.74662465,
          -0.7408651,
          -0.73049796,
          -0.7253144,
          -0.72070676,
          -1.0086275,
          -0.71379507,
          -0.754688,
          -0.74950445,
          -0.27733544,
          -0.70619255,
          -0.7523842,
          -0.70100886,
          -0.8520591,
          -0.84937525,
          -0.7523842,
          -0.49614194,
          -0.14935853,
          -1.0086275,
          -0.24105057,
          -0.84937525,
          -0.70388865,
          -0.6722112,
          -0.7253144,
          -0.73049796,
          -0.6848102,
          -0.84217584,
          -0.7523842,
          -0.75123227,
          -0.75226897,
          -0.75506806,
          -0.75123227,
          -0.9017299,
          -0.63739663,
          -0.7204999,
          -0.70100886,
          -0.26022962,
          -1.1288294,
          -0.74662465,
          -0.7408651,
          -0.73049796,
          -0.76102346,
          -0.8585905,
          -1.037621,
          -0.7253144,
          -0.7110906,
          -0.72070676,
          -0.8227892,
          -1.0745742,
          -1.0694481,
          -1.0644927,
          -0.65781236,
          0.46245447,
          -1.0654743,
          -0.28424707,
          -0.615086,
          -0.7351056,
          -0.7379853,
          -0.21050633,
          -0.7581437,
          -0.6699085,
          -0.8320966,
          -0.42743093,
          -0.7351056,
          -0.84937525,
          -0.75226897,
          -0.84937525,
          -0.7429443,
          -0.74950445,
          -0.8453435,
          -0.8453435,
          -1.0169787,
          -0.8453435,
          -1.0086275,
          -0.84312624,
          -0.12326402,
          -0.4317155,
          -0.84953934,
          -0.46129325,
          -0.59532875,
          -0.84217584,
          -0.81769776,
          -0.8320966,
          -1.0654743,
          -0.8417956,
          -0.8342565,
          -0.8330874,
          -0.8320966,
          -0.49614194,
          -0.7581437,
          -0.8330874,
          -0.7581437,
          -0.6722112,
          -0.8551348,
          -0.6699085,
          -0.7581437,
          -0.75506806,
          -1.0006212,
          -0.83951485,
          -1.0694481,
          -0.7408651,
          -1.0644927,
          -0.759526,
          -0.7581437,
          -0.7408651,
          -0.8320966,
          -1.1430322,
          -1.1426522,
          -0.6848102,
          -0.73942524,
          -1.1288294,
          -0.7489284,
          -0.2415111,
          -0.7489284,
          -0.75641584,
          -0.9017299,
          -0.42581737,
          -0.7994982,
          -0.75506806,
          -0.754688,
          -0.75123227,
          -0.74662465,
          -0.73049796,
          -0.7253144,
          -0.64053375,
          -0.81769776,
          0.21870443,
          -0.8342565,
          -0.65781236,
          -0.2415111,
          -0.2501504,
          -0.011561623,
          -0.7581437,
          -0.7581437,
          -0.759526,
          -0.7639033,
          0.3161046,
          0.02705586,
          -1.0745742,
          -0.74950445,
          -0.58792764,
          0.02705586,
          -0.7204999,
          -1.0369287,
          -0.84937525,
          -0.84937525,
          -0.84217584,
          -0.8413118,
          -0.83951485,
          -0.8342565,
          -0.8320966,
          -0.8280649,
          -0.6923696,
          0.19895618,
          0.019511303,
          0.10662429,
          0.23737335,
          -0.88825315,
          -0.24105057,
          -0.8520591,
          -0.8551348,
          -0.6923696,
          -0.8417956,
          -0.759526,
          -0.74950445,
          -0.84217584,
          -0.76102346,
          -0.78890014,
          -0.14935853,
          -0.5747596,
          -0.84312624,
          -0.28424707,
          -0.7110906,
          -0.6611527,
          -1.037621,
          -0.7581437,
          -0.63739663,
          -0.86003035,
          -0.8453435,
          -0.8551348,
          -0.8551348,
          -0.8227892,
          -0.8453435,
          -0.84937525,
          -0.84937525,
          -0.6611527,
          -0.26022962,
          -0.74950445,
          -0.84953934,
          -1.0006212,
          -1.0169787,
          -0.6923696,
          -0.26022962,
          -0.64053375,
          -0.5747596,
          -0.5747596,
          -0.5546013,
          -0.83951485,
          -0.75506806,
          -0.6315498,
          -1.0644927,
          -0.7063079,
          0.28799644,
          -0.24105057,
          -1.0694481,
          -1.0745742,
          -0.7204999,
          -0.6040179,
          -1.0006212,
          -0.81769776,
          -0.63739663,
          -0.74950445,
          -0.26022962,
          -0.6040179,
          -0.8320966,
          -1.0694481,
          0.02705586,
          -1.0644927,
          -1.0169787,
          -0.71379507,
          -0.83951485,
          -0.7299795,
          -0.7253144,
          -0.6722112,
          -0.74950445,
          -1.1288294,
          -0.8320966,
          -1.0694481,
          -0.74950445,
          -0.8227892,
          -1.0644927,
          -1.037621,
          -0.5546013,
          -0.72070676,
          -1.1426522,
          -1.1430322,
          0.46872655,
          0.4011561,
          -0.7110906,
          -0.65781236,
          -1.037621,
          -0.73049796,
          -0.75506806,
          -0.8330874,
          0.19260655,
          -0.8453435,
          -0.7204999,
          -0.24439088,
          -0.8453435,
          -0.70100886,
          0.09133423,
          0.14552954,
          -0.52940327,
          0.13982973,
          0.03855739,
          -0.84937525,
          -0.8585905,
          -0.63739663,
          -0.84937525,
          -0.84953934,
          -0.73344696,
          -0.65781236,
          -0.6611527,
          -0.8551348,
          -0.66055894,
          -0.8453435,
          -0.76102346,
          0.019511303,
          -0.12876287,
          -0.8551348,
          -0.8342565,
          -0.8551348,
          -0.5868788,
          -0.7630393,
          -0.74950445,
          -0.754688,
          -0.7630393,
          -0.49614194,
          -0.7379853,
          -1.0745742,
          -0.8417956,
          -0.83951485,
          -0.77933973,
          -0.84217584,
          -0.84312624,
          -0.42581737,
          -0.7581437,
          -0.77933973,
          -0.75226897,
          -0.7429443,
          -0.44655168,
          -0.7379853,
          -0.7351056,
          -0.74950445,
          -0.78890014,
          -0.728298,
          -0.8450462,
          -0.7356816,
          -0.73942524,
          -0.49614194,
          -0.14935853,
          -0.7470854,
          -0.47156543,
          -1.0751501,
          -0.5868788,
          -0.7489284,
          -0.78890014,
          -0.7429443,
          -0.8342565,
          0.17104428,
          -0.8320966,
          -0.8280649,
          -1.0751501,
          -0.7489284,
          -0.7470854,
          -0.4813341,
          -0.86089426,
          -0.7351056,
          -0.24900468,
          -0.74662465,
          -0.75123227,
          -0.75226897,
          -0.75506806,
          -0.8551348,
          -0.8551348,
          -0.7581437,
          -0.75123227,
          -0.754688,
          -0.86003035,
          -0.48360547,
          -0.49614194,
          -0.38787615,
          -0.86089426,
          -0.36574167,
          -0.67758757,
          -0.8413118,
          -0.8364739,
          -0.64053375,
          -0.557923,
          -0.7356816,
          -0.70388865,
          -0.75123227,
          -0.7523842,
          -0.8227892,
          -0.754688,
          0.19416498,
          0.22624896,
          -0.7299795,
          -0.72070676,
          -0.75506806,
          -0.5546013,
          -0.38677016,
          0.50734407,
          -0.7063079,
          -0.4492038,
          -0.8227892,
          -0.7110906,
          -0.75123227,
          -0.74662465,
          -0.6923696,
          -0.75641584,
          -0.74950445,
          -0.473968,
          -0.75506806,
          -0.14717013,
          -0.77933973,
          -0.7429443,
          -0.77933973,
          -0.7523842,
          -0.7429443,
          -0.8520591,
          -0.74950445,
          -0.8551348,
          -0.8551348,
          -0.44655168,
          -0.44655168,
          -0.04564637,
          -0.5252614,
          -0.7523842,
          -0.63739663,
          -0.7030526,
          -1.037621,
          -1.0745742,
          -0.77933973,
          -1.0086275,
          -0.70619255,
          -0.7110906,
          -0.77933973,
          -0.5200441,
          -0.7204999
         ],
         "yaxis": "y"
        },
        {
         "customdata": [
          [
           73180.8
          ],
          [
           80388
          ],
          [
           13500
          ],
          [
           40803.84
          ],
          [
           10560
          ],
          [
           50000
          ],
          [
           50000
          ],
          [
           10000
          ],
          [
           14520
          ],
          [
           35000
          ],
          [
           40000
          ],
          [
           11000
          ],
          [
           10000
          ],
          [
           9500
          ],
          [
           40000
          ],
          [
           55750
          ],
          [
           9600
          ],
          [
           89100
          ],
          [
           83160
          ],
          [
           180000
          ],
          [
           10000
          ],
          [
           12000
          ],
          [
           12000
          ],
          [
           12960
          ],
          [
           229326.24
          ],
          [
           39916.8
          ],
          [
           35000
          ],
          [
           30000
          ],
          [
           20401.92
          ],
          [
           16632
          ],
          [
           30000
          ],
          [
           22000
          ],
          [
           13200
          ],
          [
           9600
          ],
          [
           48400
          ],
          [
           30000
          ],
          [
           48400
          ],
          [
           16000
          ],
          [
           15000
          ],
          [
           20000
          ],
          [
           13200
          ],
          [
           50077.44
          ],
          [
           83160
          ],
          [
           15000
          ],
          [
           89100
          ],
          [
           20000
          ],
          [
           25000
          ],
          [
           10000
          ],
          [
           12000
          ],
          [
           30000
          ],
          [
           8800
          ],
          [
           18000
          ],
          [
           373570.56
          ],
          [
           18400
          ],
          [
           20000
          ],
          [
           10000
          ],
          [
           20000
          ],
          [
           10562.75
          ],
          [
           10560
          ],
          [
           12000
          ],
          [
           15000
          ],
          [
           17000
          ],
          [
           20000
          ],
          [
           22650
          ],
          [
           12000
          ],
          [
           12960
          ],
          [
           9000
          ],
          [
           50000
          ],
          [
           9000
          ],
          [
           18000
          ],
          [
           15000
          ],
          [
           12000
          ],
          [
           12000
          ],
          [
           10000
          ],
          [
           10000
          ],
          [
           10000
          ],
          [
           11800
          ],
          [
           48000
          ],
          [
           25000
          ],
          [
           14400
          ],
          [
           18000
          ],
          [
           14400
          ],
          [
           14400
          ],
          [
           14400
          ],
          [
           10000
          ],
          [
           10000
          ],
          [
           8800
          ],
          [
           10000
          ],
          [
           15000
          ],
          [
           28000
          ],
          [
           18000
          ],
          [
           17000
          ],
          [
           14400
          ],
          [
           12000
          ],
          [
           15000
          ],
          [
           15000
          ],
          [
           15000
          ],
          [
           189486
          ],
          [
           406287.75
          ],
          [
           10000
          ],
          [
           10000
          ],
          [
           20000
          ],
          [
           15000
          ],
          [
           101930.4
          ],
          [
           10000
          ],
          [
           18400
          ],
          [
           83700.54
          ],
          [
           15000
          ],
          [
           7260
          ],
          [
           395176.32
          ],
          [
           18000
          ],
          [
           15000
          ],
          [
           9000
          ],
          [
           313817.86
          ],
          [
           7260
          ],
          [
           15000
          ],
          [
           10562.75
          ],
          [
           10000
          ],
          [
           10000
          ],
          [
           18000
          ],
          [
           24000
          ],
          [
           20000
          ],
          [
           12000
          ],
          [
           12000
          ],
          [
           52000
          ],
          [
           11800
          ],
          [
           10000
          ],
          [
           11000
          ],
          [
           10000
          ],
          [
           10000
          ],
          [
           10000
          ],
          [
           9000
          ],
          [
           55000
          ],
          [
           25000
          ],
          [
           41164.2
          ],
          [
           9000
          ],
          [
           80956.26
          ],
          [
           30000
          ],
          [
           10000
          ],
          [
           17200
          ],
          [
           12000
          ],
          [
           52000
          ],
          [
           25000
          ],
          [
           21780
          ],
          [
           32931.36
          ],
          [
           14400
          ],
          [
           40803.84
          ],
          [
           10000
          ],
          [
           17424
          ],
          [
           30000
          ],
          [
           50000
          ],
          [
           9500
          ],
          [
           15000
          ],
          [
           9500
          ],
          [
           13500
          ],
          [
           30000
          ],
          [
           10000
          ],
          [
           48400
          ],
          [
           48400
          ],
          [
           50000
          ],
          [
           50000
          ],
          [
           80000
          ],
          [
           51455.25
          ],
          [
           24000
          ],
          [
           17424
          ],
          [
           219681.79
          ],
          [
           73180.8
          ],
          [
           80388
          ],
          [
           83160
          ],
          [
           89100
          ],
          [
           300000
          ],
          [
           25000
          ],
          [
           28000
          ],
          [
           11000
          ],
          [
           22650
          ],
          [
           25000
          ],
          [
           101636.37
          ],
          [
           117793.5
          ],
          [
           153912
          ],
          [
           217119.38
          ],
          [
           108900
          ],
          [
           10000
          ],
          [
           11500
          ],
          [
           11500
          ],
          [
           12000
          ],
          [
           21000
          ],
          [
           180000
          ],
          [
           12960
          ],
          [
           30000
          ],
          [
           15000
          ],
          [
           25918.2
          ],
          [
           119572.2
          ],
          [
           188669.25
          ],
          [
           215622
          ],
          [
           22000
          ],
          [
           9600
          ],
          [
           156525.6
          ],
          [
           111600.72
          ],
          [
           10562.75
          ],
          [
           13200
          ],
          [
           55750
          ],
          [
           50077.44
          ],
          [
           48000
          ],
          [
           37500
          ],
          [
           14400
          ],
          [
           14520
          ],
          [
           425920
          ],
          [
           20000
          ],
          [
           20000
          ],
          [
           20000
          ],
          [
           20000
          ],
          [
           20000
          ],
          [
           20000
          ],
          [
           25000
          ],
          [
           21000
          ],
          [
           11000
          ],
          [
           24000
          ],
          [
           29000
          ],
          [
           25000
          ],
          [
           40000
          ],
          [
           16000
          ],
          [
           40803.84
          ],
          [
           30000
          ],
          [
           209251.35
          ],
          [
           82328.4
          ],
          [
           30000
          ],
          [
           18000
          ],
          [
           20000
          ],
          [
           20000
          ],
          [
           52000
          ],
          [
           20000
          ],
          [
           55750
          ],
          [
           180000
          ],
          [
           48400
          ],
          [
           48400
          ],
          [
           50000
          ],
          [
           50000
          ],
          [
           43200
          ],
          [
           70000
          ],
          [
           509541.65
          ],
          [
           407060.88
          ],
          [
           169884
          ],
          [
           202211.33
          ],
          [
           209632.5
          ],
          [
           244952.4
          ],
          [
           269007.2
          ],
          [
           628425.6
          ],
          [
           12000
          ],
          [
           220000
          ],
          [
           25206.72
          ],
          [
           39029.76
          ],
          [
           46835.71
          ],
          [
           64795.5
          ],
          [
           220000
          ],
          [
           339908.55
          ],
          [
           341111.97
          ],
          [
           10000
          ],
          [
           30000
          ],
          [
           51455.25
          ],
          [
           80000
          ],
          [
           89100
          ],
          [
           83160
          ],
          [
           80388
          ],
          [
           73180.8
          ],
          [
           50077.44
          ],
          [
           40803.84
          ],
          [
           39916.8
          ],
          [
           30000
          ],
          [
           20401.92
          ],
          [
           10000
          ],
          [
           16632
          ],
          [
           21780
          ],
          [
           16632
          ],
          [
           20401.92
          ],
          [
           25000
          ],
          [
           159720
          ],
          [
           39916.8
          ],
          [
           13860
          ],
          [
           20418.75
          ],
          [
           15000
          ],
          [
           145955.04
          ],
          [
           105980.88
          ],
          [
           102245
          ],
          [
           79714.8
          ],
          [
           20000
          ],
          [
           20000
          ],
          [
           74250
          ],
          [
           69300
          ],
          [
           66990
          ],
          [
           60984
          ],
          [
           41731.2
          ],
          [
           34003.2
          ],
          [
           33264
          ],
          [
           25000
          ],
          [
           17001.6
          ],
          [
           12000
          ],
          [
           30000
          ],
          [
           34848
          ],
          [
           15000
          ],
          [
           10000
          ],
          [
           10000
          ],
          [
           108900
          ],
          [
           109771.2
          ],
          [
           89100
          ],
          [
           16000
          ],
          [
           194958.23
          ],
          [
           221611.5
          ],
          [
           306680.55
          ],
          [
           329522.69
          ],
          [
           73180.8
          ],
          [
           24000
          ],
          [
           10000
          ],
          [
           83160
          ],
          [
           25000
          ],
          [
           83700.54
          ],
          [
           9600
          ],
          [
           10560
          ],
          [
           27951
          ],
          [
           26317.5
          ],
          [
           11800
          ],
          [
           12000
          ],
          [
           12000
          ],
          [
           18400
          ],
          [
           11000
          ],
          [
           28000
          ],
          [
           52000
          ],
          [
           18000
          ],
          [
           22650
          ],
          [
           30000
          ],
          [
           13200
          ],
          [
           10560
          ],
          [
           20000
          ],
          [
           13500
          ],
          [
           50000
          ],
          [
           50000
          ],
          [
           20000
          ],
          [
           20000
          ],
          [
           20000
          ],
          [
           24000
          ],
          [
           24000
          ],
          [
           12000
          ],
          [
           29000
          ],
          [
           12000
          ],
          [
           12000
          ],
          [
           40000
          ],
          [
           55750
          ],
          [
           60348.96
          ],
          [
           22650
          ],
          [
           14520
          ],
          [
           14520
          ],
          [
           20000
          ],
          [
           10000
          ],
          [
           20000
          ],
          [
           20401.92
          ],
          [
           50000
          ],
          [
           80000
          ],
          [
           50077.44
          ],
          [
           25000
          ],
          [
           37500
          ],
          [
           43200
          ],
          [
           51455.25
          ],
          [
           180000
          ],
          [
           242000
          ],
          [
           11500
          ],
          [
           11500
          ],
          [
           40803.84
          ],
          [
           39916.8
          ],
          [
           30000
          ],
          [
           17200
          ],
          [
           16632
          ],
          [
           105270
          ],
          [
           34938.75
          ],
          [
           94743
          ],
          [
           35000
          ],
          [
           39916.8
          ],
          [
           40803.84
          ],
          [
           50077.44
          ],
          [
           20000
          ],
          [
           73180.8
          ],
          [
           30000
          ],
          [
           80388
          ],
          [
           89100
          ],
          [
           300000
          ],
          [
           15000
          ],
          [
           17200
          ],
          [
           18000
          ],
          [
           40000
          ],
          [
           83160
          ],
          [
           25000
          ],
          [
           20401.92
          ],
          [
           16632
          ],
          [
           109771.2
          ],
          [
           145200
          ],
          [
           329522.69
          ],
          [
           12000
          ],
          [
           17000
          ],
          [
           43200
          ],
          [
           10000
          ],
          [
           10000
          ],
          [
           10000
          ],
          [
           10000
          ],
          [
           10000
          ],
          [
           34303.5
          ],
          [
           34577.93
          ],
          [
           15000
          ],
          [
           15000
          ],
          [
           10000
          ],
          [
           10000
          ],
          [
           12000
          ],
          [
           15000
          ],
          [
           20000
          ],
          [
           25000
          ],
          [
           11000
          ],
          [
           15000
          ],
          [
           235224
          ],
          [
           9000
          ],
          [
           16000
          ],
          [
           16000
          ],
          [
           80388
          ],
          [
           18000
          ],
          [
           80681.83
          ],
          [
           84700
          ],
          [
           84700
          ],
          [
           84700
          ],
          [
           103629.24
          ],
          [
           20000
          ],
          [
           51122.5
          ],
          [
           15000
          ],
          [
           14400
          ],
          [
           15000
          ],
          [
           18000
          ],
          [
           20000
          ],
          [
           20000
          ],
          [
           21780
          ],
          [
           25000
          ],
          [
           111804
          ],
          [
           111804
          ],
          [
           7260
          ],
          [
           8800
          ],
          [
           9000
          ],
          [
           10000
          ],
          [
           10000
          ],
          [
           10000
          ],
          [
           12000
          ],
          [
           14400
          ],
          [
           242000
          ],
          [
           20000
          ],
          [
           83700.54
          ],
          [
           15000
          ],
          [
           149428.22
          ],
          [
           12960
          ],
          [
           12000
          ],
          [
           12000
          ],
          [
           10562.75
          ],
          [
           10560
          ],
          [
           10000
          ],
          [
           10000
          ],
          [
           10000
          ],
          [
           9000
          ],
          [
           12000
          ],
          [
           12000
          ],
          [
           180000
          ],
          [
           10560
          ],
          [
           15000
          ],
          [
           15000
          ],
          [
           96558.4
          ],
          [
           15000
          ],
          [
           45302.4
          ],
          [
           15000
          ],
          [
           67757.57
          ],
          [
           25000
          ],
          [
           10000
          ],
          [
           12000
          ],
          [
           15000
          ],
          [
           18000
          ],
          [
           48400
          ],
          [
           48400
          ],
          [
           48400
          ],
          [
           48400
          ],
          [
           10000
          ],
          [
           18000
          ],
          [
           12960
          ],
          [
           15000
          ],
          [
           18400
          ],
          [
           10000
          ],
          [
           10562.75
          ],
          [
           15000
          ],
          [
           15000
          ],
          [
           14400
          ],
          [
           12000
          ],
          [
           52690.18
          ],
          [
           53513.46
          ],
          [
           12000
          ],
          [
           12000
          ],
          [
           11500
          ],
          [
           8800
          ],
          [
           11500
          ],
          [
           10000
          ],
          [
           10000
          ],
          [
           10000
          ],
          [
           55750
          ],
          [
           15000
          ],
          [
           121992
          ],
          [
           17200
          ],
          [
           21780
          ],
          [
           37500
          ],
          [
           35000
          ],
          [
           48000
          ],
          [
           180000
          ],
          [
           28000
          ],
          [
           7260
          ],
          [
           242000
          ],
          [
           10560
          ],
          [
           28000
          ],
          [
           22000
          ],
          [
           52000
          ],
          [
           52000
          ],
          [
           15000
          ],
          [
           14520
          ],
          [
           20000
          ],
          [
           22000
          ],
          [
           15000
          ],
          [
           13500
          ],
          [
           12960
          ],
          [
           10000
          ],
          [
           10000
          ],
          [
           10000
          ],
          [
           10000
          ],
          [
           10000
          ],
          [
           10000
          ],
          [
           12000
          ],
          [
           14400
          ],
          [
           14400
          ],
          [
           14400
          ],
          [
           15000
          ],
          [
           10000
          ],
          [
           18000
          ],
          [
           20000
          ],
          [
           25000
          ],
          [
           11800
          ],
          [
           9000
          ],
          [
           14400
          ],
          [
           14400
          ],
          [
           21780
          ],
          [
           15000
          ],
          [
           25000
          ],
          [
           23232
          ],
          [
           7260
          ],
          [
           10000
          ],
          [
           11000
          ],
          [
           18400
          ],
          [
           49265.27
          ],
          [
           12960
          ],
          [
           12000
          ],
          [
           12000
          ],
          [
           10000
          ],
          [
           7260
          ],
          [
           25000
          ],
          [
           20000
          ],
          [
           10560
          ],
          [
           9000
          ],
          [
           10000
          ],
          [
           101636.37
          ],
          [
           102638.25
          ],
          [
           261499.39
          ],
          [
           153367.5
          ],
          [
           25000
          ],
          [
           246985.2
          ],
          [
           17000
          ],
          [
           50000
          ],
          [
           50000
          ],
          [
           141134.4
          ],
          [
           168106.75
          ],
          [
           111600.72
          ],
          [
           51110.4
          ],
          [
           48000
          ],
          [
           12000
          ],
          [
           305283
          ],
          [
           14400
          ],
          [
           14400
          ],
          [
           51455.25
          ],
          [
           12000
          ],
          [
           11000
          ],
          [
           16000
          ],
          [
           18400
          ],
          [
           30000
          ],
          [
           13200
          ],
          [
           52000
          ],
          [
           48400.97
          ],
          [
           12000
          ],
          [
           12000
          ],
          [
           9600
          ],
          [
           15000
          ],
          [
           22650
          ],
          [
           28000
          ],
          [
           35000
          ],
          [
           10000
          ],
          [
           12000
          ],
          [
           10000
          ],
          [
           20000
          ],
          [
           8800
          ],
          [
           16000
          ],
          [
           13200
          ],
          [
           12000
          ],
          [
           12000
          ],
          [
           11000
          ],
          [
           10000
          ],
          [
           9600
          ],
          [
           15000
          ],
          [
           28000
          ],
          [
           168106.75
          ],
          [
           188760
          ],
          [
           204490
          ],
          [
           211701.6
          ],
          [
           235950
          ],
          [
           141134.4
          ],
          [
           22000
          ],
          [
           140088.96
          ],
          [
           30000
          ],
          [
           10562.75
          ],
          [
           30000
          ],
          [
           20401.92
          ],
          [
           17200
          ],
          [
           16632
          ],
          [
           11000
          ],
          [
           40000
          ],
          [
           12000
          ],
          [
           18000
          ],
          [
           22650
          ],
          [
           9000
          ],
          [
           10000
          ],
          [
           12000
          ],
          [
           15000
          ],
          [
           15000
          ],
          [
           12000
          ],
          [
           199650
          ],
          [
           39916.8
          ],
          [
           55750
          ],
          [
           52000
          ],
          [
           8800
          ],
          [
           10000
          ],
          [
           10000
          ],
          [
           10000
          ],
          [
           12000
          ],
          [
           10000
          ],
          [
           306735
          ],
          [
           15000
          ],
          [
           20000
          ],
          [
           63162
          ],
          [
           102245
          ],
          [
           96558.4
          ],
          [
           12000
          ],
          [
           20000
          ],
          [
           167401.08
          ],
          [
           14520
          ],
          [
           18400
          ],
          [
           48000
          ],
          [
           15000
          ],
          [
           94743
          ],
          [
           101636.37
          ],
          [
           276061.5
          ],
          [
           17000
          ],
          [
           73689
          ],
          [
           119572.2
          ],
          [
           128955.75
          ],
          [
           146742.75
          ],
          [
           159720
          ],
          [
           49265.27
          ],
          [
           47371.5
          ],
          [
           83700.54
          ],
          [
           92020.5
          ],
          [
           10000
          ],
          [
           22650
          ],
          [
           20000
          ],
          [
           40803.84
          ],
          [
           50077.44
          ],
          [
           12000
          ],
          [
           73180.8
          ],
          [
           80388
          ],
          [
           83160
          ],
          [
           89100
          ],
          [
           15000
          ],
          [
           15000
          ],
          [
           7260
          ],
          [
           10000
          ],
          [
           10000
          ],
          [
           11000
          ],
          [
           11500
          ],
          [
           20000
          ],
          [
           17200
          ],
          [
           156907.36
          ],
          [
           15000
          ],
          [
           20000
          ],
          [
           11500
          ],
          [
           21780
          ],
          [
           40803.84
          ],
          [
           10000
          ],
          [
           15000
          ],
          [
           17000
          ],
          [
           18000
          ],
          [
           9600
          ],
          [
           13200
          ],
          [
           14520
          ],
          [
           16000
          ],
          [
           30000
          ],
          [
           10000
          ],
          [
           16632
          ],
          [
           20000
          ],
          [
           20401.92
          ],
          [
           30000
          ],
          [
           39916.8
          ],
          [
           50077.44
          ],
          [
           11800
          ],
          [
           13500
          ],
          [
           25000
          ],
          [
           12000
          ],
          [
           12000
          ],
          [
           14400
          ],
          [
           15000
          ],
          [
           15000
          ],
          [
           18000
          ],
          [
           18000
          ],
          [
           9000
          ],
          [
           89100
          ],
          [
           83160
          ],
          [
           37500
          ],
          [
           80388
          ],
          [
           73180.8
          ],
          [
           9000
          ],
          [
           12000
          ],
          [
           12000
          ],
          [
           10000
          ],
          [
           10000
          ],
          [
           10000
          ],
          [
           50000
          ],
          [
           10000
          ],
          [
           10000
          ],
          [
           13500
          ],
          [
           14400
          ],
          [
           14400
          ],
          [
           25000
          ],
          [
           48400.97
          ],
          [
           15000
          ],
          [
           25000
          ],
          [
           50000
          ],
          [
           55750
          ],
          [
           15000
          ],
          [
           12000
          ],
          [
           20691
          ],
          [
           30492
          ],
          [
           15000
          ],
          [
           10000
          ],
          [
           17000
          ],
          [
           12000
          ],
          [
           83160
          ],
          [
           89100
          ],
          [
           10000
          ],
          [
           11500
          ],
          [
           8800
          ],
          [
           9000
          ],
          [
           80388
          ],
          [
           12000
          ],
          [
           17000
          ],
          [
           79714.8
          ],
          [
           198198
          ],
          [
           199650
          ],
          [
           11500
          ],
          [
           11000
          ],
          [
           15000
          ],
          [
           73180.8
          ],
          [
           50077.44
          ],
          [
           40803.84
          ],
          [
           14400
          ],
          [
           14400
          ],
          [
           10000
          ],
          [
           16632
          ],
          [
           20000
          ],
          [
           20000
          ],
          [
           20000
          ],
          [
           20000
          ],
          [
           10000
          ],
          [
           20401.92
          ],
          [
           24000
          ],
          [
           25000
          ],
          [
           29000
          ],
          [
           30000
          ],
          [
           39916.8
          ],
          [
           10000
          ],
          [
           11800
          ],
          [
           15000
          ],
          [
           18000
          ],
          [
           10000
          ],
          [
           10000
          ],
          [
           11000
          ],
          [
           10000
          ],
          [
           10000
          ],
          [
           18000
          ],
          [
           10000
          ],
          [
           18400
          ],
          [
           180000
          ],
          [
           121992
          ],
          [
           55750
          ],
          [
           28000
          ],
          [
           48000
          ],
          [
           52000
          ],
          [
           229326.24
          ],
          [
           12000
          ],
          [
           12000
          ],
          [
           14400
          ],
          [
           245968.8
          ],
          [
           223698.75
          ],
          [
           25000
          ],
          [
           105622.11
          ],
          [
           9000
          ],
          [
           141134.4
          ],
          [
           209211.9
          ],
          [
           20000
          ],
          [
           15000
          ],
          [
           9000
          ],
          [
           10000
          ],
          [
           10560
          ],
          [
           14520
          ],
          [
           12000
          ],
          [
           12000
          ],
          [
           18000
          ],
          [
           10000
          ],
          [
           10000
          ],
          [
           10000
          ],
          [
           48400
          ],
          [
           7260
          ],
          [
           9600
          ],
          [
           10000
          ],
          [
           40803.84
          ],
          [
           12000
          ],
          [
           48400
          ],
          [
           13200
          ],
          [
           20000
          ],
          [
           30000
          ],
          [
           39916.8
          ],
          [
           37500
          ],
          [
           21780
          ],
          [
           20401.92
          ],
          [
           16000
          ],
          [
           22000
          ],
          [
           50077.44
          ],
          [
           22650
          ],
          [
           110533.5
          ],
          [
           209632.5
          ],
          [
           212355
          ],
          [
           39916.8
          ],
          [
           25000
          ],
          [
           51455.25
          ],
          [
           73180.8
          ],
          [
           135907.2
          ],
          [
           153679.68
          ],
          [
           52000
          ],
          [
           30000
          ],
          [
           313817.86
          ],
          [
           50077.44
          ],
          [
           73180.8
          ],
          [
           15000
          ],
          [
           20000
          ],
          [
           80388
          ],
          [
           16632
          ],
          [
           83160
          ],
          [
           17200
          ],
          [
           20000
          ],
          [
           89100
          ],
          [
           21780
          ],
          [
           12000
          ],
          [
           12000
          ],
          [
           43200
          ],
          [
           180000
          ],
          [
           11800
          ],
          [
           10000
          ],
          [
           10000
          ],
          [
           10000
          ],
          [
           10000
          ],
          [
           25000
          ],
          [
           25000
          ],
          [
           15000
          ],
          [
           12000
          ],
          [
           15000
          ],
          [
           15000
          ],
          [
           48000
          ],
          [
           30000
          ],
          [
           20401.92
          ],
          [
           10000
          ],
          [
           10562.75
          ],
          [
           11500
          ],
          [
           11500
          ],
          [
           12000
          ],
          [
           12000
          ],
          [
           12960
          ],
          [
           15000
          ],
          [
           16000
          ],
          [
           12000
          ],
          [
           14400
          ],
          [
           15000
          ],
          [
           15000
          ],
          [
           37500
          ],
          [
           12000
          ],
          [
           25000
          ],
          [
           10000
          ],
          [
           11800
          ],
          [
           11500
          ],
          [
           15000
          ],
          [
           10562.75
          ],
          [
           42398.4
          ],
          [
           11500
          ],
          [
           48000
          ],
          [
           10000
          ],
          [
           83700.54
          ],
          [
           9000
          ],
          [
           121000
          ],
          [
           141134.4
          ],
          [
           160052.75
          ],
          [
           48400
          ],
          [
           12000
          ],
          [
           12000
          ],
          [
           13500
          ],
          [
           11500
          ],
          [
           11500
          ],
          [
           15000
          ],
          [
           22000
          ],
          [
           48400
          ],
          [
           15000
          ],
          [
           93392.64
          ],
          [
           18000
          ],
          [
           18000
          ],
          [
           18000
          ],
          [
           15000
          ],
          [
           15000
          ],
          [
           15000
          ],
          [
           15000
          ],
          [
           15000
          ],
          [
           205276.5
          ],
          [
           10000
          ],
          [
           12000
          ],
          [
           12000
          ],
          [
           180000
          ],
          [
           242000
          ],
          [
           9000
          ],
          [
           102453.12
          ],
          [
           10000
          ],
          [
           10000
          ],
          [
           49397.04
          ],
          [
           39105.99
          ],
          [
           12000
          ],
          [
           12000
          ],
          [
           15000
          ],
          [
           18000
          ],
          [
           20000
          ],
          [
           37500
          ],
          [
           14400
          ],
          [
           89100
          ],
          [
           10562.75
          ],
          [
           83160
          ],
          [
           73180.8
          ],
          [
           15000
          ],
          [
           16632
          ],
          [
           17000
          ],
          [
           17200
          ],
          [
           20401.92
          ],
          [
           30000
          ],
          [
           37500
          ],
          [
           39916.8
          ],
          [
           18000
          ],
          [
           40020.75
          ],
          [
           40803.84
          ],
          [
           50077.44
          ],
          [
           55750
          ],
          [
           25000
          ],
          [
           50000
          ],
          [
           80388
          ],
          [
           10000
          ],
          [
           12000
          ],
          [
           51455.25
          ],
          [
           9600
          ],
          [
           20000
          ],
          [
           50000
          ],
          [
           96558.4
          ],
          [
           14400
          ],
          [
           14400
          ],
          [
           13500
          ],
          [
           10000
          ],
          [
           10000
          ],
          [
           11800
          ],
          [
           12000
          ],
          [
           29000
          ],
          [
           10000
          ],
          [
           15000
          ],
          [
           24000
          ],
          [
           20000
          ],
          [
           20000
          ],
          [
           8800
          ],
          [
           12000
          ],
          [
           17200
          ],
          [
           13200
          ],
          [
           50000
          ],
          [
           40000
          ],
          [
           35000
          ],
          [
           25000
          ],
          [
           16000
          ],
          [
           14520
          ],
          [
           12960
          ],
          [
           8800
          ],
          [
           10000
          ],
          [
           10000
          ],
          [
           18000
          ],
          [
           50000
          ],
          [
           10000
          ],
          [
           22650
          ],
          [
           43200
          ],
          [
           18000
          ],
          [
           30000
          ],
          [
           20000
          ],
          [
           22650
          ],
          [
           10000
          ],
          [
           11000
          ]
         ],
         "hovertemplate": "Cluster=Cluster 1<br>PCA1=%{x}<br>PCA2=%{y}<br>Feature=%{customdata[0]}<extra></extra>",
         "legendgroup": "Cluster 1",
         "marker": {
          "color": "#EF553B",
          "opacity": 0.5,
          "symbol": "circle"
         },
         "mode": "markers",
         "name": "Cluster 1",
         "showlegend": true,
         "textposition": "top center",
         "type": "scattergl",
         "x": [
          -0.42460686,
          -0.40385178,
          -0.8389513,
          -0.517845,
          -0.79892224,
          -1.0248127,
          -0.97631717,
          -1.382481,
          -1.3209689,
          -1.0680093,
          -0.8596284,
          -0.7976551,
          -1.1400034,
          -0.85047024,
          -0.8596284,
          -0.7172811,
          -0.8016868,
          -0.3787632,
          -0.39586905,
          -0.69893837,
          -1.382481,
          -0.79477537,
          -0.79477537,
          -0.7920108,
          -0.26591727,
          -0.52039945,
          -1.0680093,
          -0.5489575,
          -0.57659775,
          -0.58745426,
          -0.7429396,
          -1.832879,
          -0.7913196,
          -0.8016868,
          -1.8053484,
          -0.7429396,
          -1.4658799,
          -0.78325635,
          -1.2225956,
          -0.6262508,
          -0.7913196,
          -0.4911391,
          -0.39586905,
          -0.78613603,
          -0.3787632,
          -0.6262508,
          -1.193798,
          -1.5764631,
          -0.79477537,
          -1.5673631,
          -0.80399066,
          -1.2139564,
          0.343455,
          -1.7947505,
          -0.7717372,
          -1.5764631,
          -1.7416474,
          -1.5263468,
          -0.79892224,
          -0.79477537,
          -1.7075506,
          -0.78037655,
          -0.7717372,
          -0.7641058,
          -0.79477537,
          -0.7920108,
          -1.7733247,
          -0.73383963,
          -1.6278383,
          -1.650416,
          -0.6406496,
          -1.2312349,
          -1.2312349,
          -0.8005349,
          -1.7219493,
          -1.2369945,
          -0.7953514,
          -1.0305722,
          -1.193798,
          -0.7878639,
          -0.7774968,
          -0.7878639,
          -1.5637919,
          -1.5637919,
          -1.2369945,
          -0.8005349,
          -0.80399066,
          -1.1400034,
          -0.78613603,
          -1.1851585,
          -1.650416,
          -0.78037655,
          -0.7878639,
          -0.8432709,
          -1.4650732,
          -0.78613603,
          -1.2225956,
          -0.13817039,
          0.14669979,
          -1.7219493,
          -1.1400034,
          -0.6262508,
          -1.7075506,
          -0.14783265,
          -0.8005349,
          -1.7947505,
          -0.3458169,
          -0.78613603,
          -0.8084254,
          0.16319689,
          -0.92298335,
          -1.4650732,
          -1.6278383,
          0.17138106,
          -0.8084254,
          -0.78613603,
          -1.5263468,
          -1.382481,
          -0.8005349,
          -0.92298335,
          -0.8087136,
          -1.2081968,
          -0.8432709,
          -1.7646855,
          -1.3100262,
          -0.7953514,
          -0.8005349,
          -0.7976551,
          -0.8005349,
          -0.94602144,
          -0.94602144,
          -1.6278383,
          -0.7194409,
          -0.7573384,
          -1.0502577,
          -1.7733247,
          -0.88717043,
          -1.5673631,
          -1.382481,
          -0.63431406,
          -0.79477537,
          -1.3100262,
          -0.7573384,
          -1.2030708,
          -1.0254709,
          -0.7878639,
          -0.517845,
          -0.94602144,
          -0.7791555,
          -2.1008136,
          -0.73383963,
          -0.85047024,
          -1.2225956,
          -0.85047024,
          -0.8389513,
          -1.1793991,
          -1.382481,
          -1.4658799,
          -1.8053484,
          -0.97631717,
          -1.0248127,
          -0.79293317,
          -1.9420366,
          -0.8087136,
          -0.7791555,
          -0.099708974,
          -0.42460686,
          -0.40385178,
          -0.39586905,
          -0.3787632,
          0.22857988,
          -0.7573384,
          -1.1851585,
          -0.7976551,
          -0.7641058,
          -0.7088429,
          -0.2941659,
          -0.68409675,
          -0.24061526,
          0.1353894,
          -1.6796179,
          -0.94602144,
          -0.8447108,
          -0.8447108,
          -0.79477537,
          -0.623371,
          -0.69893837,
          -0.7920108,
          -0.88842607,
          -0.78613603,
          -0.9971717,
          -0.24251483,
          -0.479991,
          0.13107729,
          -1.832879,
          -0.8016868,
          -0.5725573,
          -0.2654709,
          -1.5263468,
          -0.7913196,
          -0.7172811,
          -0.4911391,
          -1.0305722,
          -1.5457648,
          -0.7878639,
          -1.3209689,
          0.30022714,
          -0.7717372,
          -0.7717372,
          -0.82023275,
          -0.82023275,
          -2.081116,
          -2.081116,
          -0.6118519,
          -0.623371,
          -0.7976551,
          -0.8087136,
          -0.79431486,
          -0.6118519,
          -0.7626374,
          -0.78325635,
          -0.517845,
          -0.5489575,
          0.015740298,
          -0.7377324,
          -2.1008136,
          -1.650416,
          -0.7717372,
          -0.7717372,
          -1.3100262,
          -2.081116,
          -0.7172811,
          -0.69893837,
          -1.8053484,
          -1.4658799,
          -0.97631717,
          -1.0248127,
          -0.70492655,
          -1.2581904,
          -0.86533177,
          -1.2089479,
          -0.049133033,
          -0.15001988,
          0.11382889,
          -2.1122422,
          -1.9944746,
          -0.91093713,
          -0.8432709,
          -1.8931262,
          -2.5995722,
          -2.5112698,
          -2.4402947,
          -0.8852141,
          -1.8931262,
          -1.499322,
          -1.4473611,
          -1.382481,
          -1.1793991,
          -1.9420366,
          -0.79293317,
          -0.3787632,
          -0.39586905,
          -0.40385178,
          -0.42460686,
          -0.4911391,
          -0.517845,
          -0.52039945,
          -0.5489575,
          -0.57659775,
          -1.2369945,
          -0.58745426,
          -1.2030708,
          -0.58745426,
          -0.57659775,
          -0.7088429,
          -0.27238503,
          -0.52039945,
          -0.59543693,
          -0.6250448,
          -1.2225956,
          -0.02105189,
          -0.18466367,
          -0.2439177,
          -0.35729495,
          -1.7416474,
          -1.2081968,
          -0.4215278,
          -0.43578264,
          -0.44243488,
          -0.45973077,
          -0.51517445,
          -0.5374293,
          -0.53955793,
          -0.56335634,
          -0.5863899,
          -0.79477537,
          -0.7429396,
          -0.9714559,
          -0.6406496,
          -0.8005349,
          -0.8005349,
          -1.6796179,
          -0.6587035,
          -0.3787632,
          -0.78325635,
          0.07157046,
          -0.38512495,
          0.19932278,
          0.21660733,
          -0.42460686,
          -0.8087136,
          -1.1400034,
          -0.39586905,
          -0.7573384,
          -0.3458169,
          -0.8016868,
          -0.79892224,
          -0.9428222,
          -0.6080578,
          -0.7953514,
          -1.2312349,
          -1.2312349,
          -1.7947505,
          -0.7976551,
          -1.1851585,
          -1.3100262,
          -1.2139564,
          -0.7641058,
          -0.7429396,
          -0.7913196,
          -0.79892224,
          -0.6262508,
          -0.8389513,
          -0.73383963,
          -0.97631717,
          -0.82023275,
          -0.82023275,
          -1.2081968,
          -0.8087136,
          -0.8087136,
          -1.2312349,
          -0.79431486,
          -1.2312349,
          -1.2797304,
          -0.908124,
          -0.7172811,
          -0.75253266,
          -0.7641058,
          -1.3209689,
          -1.3209689,
          -0.7717372,
          -1.7219493,
          -0.7717372,
          -0.57659775,
          -1.0248127,
          -0.79293317,
          -0.4911391,
          -0.36937433,
          -1.5457648,
          -0.70492655,
          -1.9420366,
          -0.69893837,
          -0.5203928,
          -0.8447108,
          -0.8447108,
          -0.517845,
          -0.52039945,
          -0.5489575,
          -0.63431406,
          -0.58745426,
          -0.38069296,
          -0.38924858,
          -0.4110083,
          -1.0680093,
          -0.52039945,
          -0.517845,
          -0.4911391,
          -0.6262508,
          -0.42460686,
          -0.5489575,
          -0.40385178,
          -0.3787632,
          0.22857988,
          -1.7075506,
          -0.63431406,
          -1.650416,
          -0.8596284,
          -0.39586905,
          -0.7573384,
          -0.57659775,
          -0.58745426,
          -0.6587035,
          -1.5750824,
          0.21660733,
          -0.79477537,
          -0.78037655,
          -0.70492655,
          -1.382481,
          -0.8005349,
          -0.8005349,
          -1.2369945,
          -1.2369945,
          -1.0215195,
          -1.0692247,
          -0.78613603,
          -0.78613603,
          -1.5764631,
          -1.1400034,
          -0.79477537,
          -1.4650732,
          -0.7717372,
          -1.193798,
          -0.7976551,
          -0.6406496,
          0.23602198,
          -1.6278383,
          -0.78325635,
          -0.78325635,
          -0.40385178,
          -0.7774968,
          -0.93645614,
          -0.97338027,
          -0.97338027,
          -0.97338027,
          -0.2884269,
          -1.7416474,
          -0.39113858,
          -0.78613603,
          -1.5637919,
          -1.2225956,
          -0.92298335,
          -0.6262508,
          -1.2081968,
          -1.2030708,
          -0.7573384,
          -0.70134515,
          -0.16789448,
          -0.8084254,
          -0.80399066,
          -1.7733247,
          -0.8005349,
          -1.2369945,
          -0.8005349,
          -0.8432709,
          -0.7878639,
          -0.5203928,
          -1.2081968,
          -0.3458169,
          -0.83463156,
          -0.30202302,
          -0.7920108,
          -0.8432709,
          -0.8432709,
          -1.5263468,
          -0.79892224,
          -1.5764631,
          -0.8005349,
          -0.8005349,
          -1.6278383,
          -1.2312349,
          -1.2312349,
          -0.69893837,
          -0.79892224,
          -0.83463156,
          -0.6406496,
          -0.64825785,
          -0.78613603,
          -0.9413496,
          -1.2225956,
          -0.39172897,
          -0.7573384,
          -0.94602144,
          -0.79477537,
          -1.4650732,
          -1.650416,
          -1.4658799,
          -1.8053484,
          -1.4658799,
          -1.8053484,
          -1.382481,
          -0.8259923,
          -0.7920108,
          -0.78613603,
          -1.7947505,
          -1.382481,
          -1.5263468,
          -1.7075506,
          -1.7075506,
          -0.7878639,
          -1.2312349,
          -1.0170656,
          -0.96619934,
          -1.2312349,
          -0.79477537,
          -0.8447108,
          -0.80399066,
          -0.8447108,
          -0.8005349,
          -1.7219493,
          -1.28549,
          -0.7172811,
          -0.6406496,
          -1.3024477,
          -0.63431406,
          -1.2030708,
          -1.5457648,
          -1.0680093,
          -1.0305722,
          -0.69893837,
          -1.1851585,
          -0.8084254,
          -0.5203928,
          -0.79892224,
          -1.1851585,
          -1.832879,
          -1.3100262,
          -1.3100262,
          -1.2225956,
          -1.3209689,
          -1.2081968,
          -1.832879,
          -0.78613603,
          -0.8389513,
          -0.7920108,
          -0.8005349,
          -0.8005349,
          -1.2369945,
          -1.1400034,
          -0.94602144,
          -1.2369945,
          -0.79477537,
          -1.5637919,
          -0.7878639,
          -0.7878639,
          -1.4650732,
          -0.8005349,
          -1.650416,
          -0.6262508,
          -1.193798,
          -0.7953514,
          -1.6278383,
          -0.7878639,
          -1.5637919,
          -1.2030708,
          -0.78613603,
          -0.7573384,
          -1.0049074,
          -0.8084254,
          -0.8005349,
          -0.7976551,
          -1.7947505,
          -1.4633882,
          -0.7920108,
          -0.79477537,
          -0.79477537,
          -1.382481,
          -0.8084254,
          -1.193798,
          -0.7717372,
          -0.79892224,
          -1.7733247,
          -1.7219493,
          -0.2941659,
          -0.38827178,
          0.02071603,
          -0.09669675,
          -1.193798,
          0.2698915,
          -0.78037655,
          -0.97631717,
          -1.0248127,
          -0.03493421,
          -0.24823311,
          -0.2654709,
          -0.92462397,
          -1.0305722,
          -0.79477537,
          0.19529818,
          -0.7878639,
          -1.5637919,
          -1.9420366,
          -1.7646855,
          -0.7976551,
          -0.78325635,
          -1.7947505,
          -0.7429396,
          -0.7913196,
          -1.3100262,
          -1.8053457,
          -1.2312349,
          -0.8432709,
          -0.8016868,
          -0.6406496,
          -0.7641058,
          -1.1851585,
          -1.0680093,
          -1.2369945,
          -1.2312349,
          -1.382481,
          -0.7717372,
          -0.80399066,
          -0.78325635,
          -0.7913196,
          -1.2312349,
          -1.2312349,
          -0.7976551,
          -1.382481,
          -0.8016868,
          -0.78613603,
          -1.1851585,
          -0.24823311,
          -1.4496398,
          -1.4043409,
          0.16828291,
          -1.3137436,
          -0.03493421,
          -1.832879,
          -0.32891786,
          -0.7429396,
          -1.5263468,
          -0.5489575,
          -0.57659775,
          -0.63431406,
          -0.58745426,
          -0.7976551,
          -0.8596284,
          -0.8432709,
          -0.7774968,
          -0.7641058,
          -1.6278383,
          -1.5764631,
          -0.8432709,
          -0.6406496,
          -1.7075506,
          -0.8432709,
          0.08508166,
          -0.52039945,
          -0.7172811,
          -1.3100262,
          -0.80399066,
          -1.7219493,
          -0.8005349,
          -1.382481,
          -0.8432709,
          -1.382481,
          0.3449661,
          -1.4650732,
          -0.7717372,
          -0.5019542,
          -0.2439177,
          -0.64825785,
          -0.79477537,
          -0.6262508,
          -0.10477875,
          -1.3209689,
          -1.7947505,
          -1.0305722,
          -1.2225956,
          -0.4110083,
          -0.2941659,
          0.25663355,
          -0.78037655,
          -0.47163886,
          -0.24251483,
          -0.31248346,
          -0.06727895,
          -0.5633581,
          -1.8028566,
          -0.5474272,
          -0.3458169,
          -0.27336186,
          -1.1400034,
          -0.7641058,
          -0.6262508,
          -0.517845,
          -0.4911391,
          -0.79477537,
          -0.42460686,
          -0.40385178,
          -0.39586905,
          -0.3787632,
          -1.4650732,
          -1.2225956,
          -0.8084254,
          -0.8005349,
          -0.8005349,
          -0.7976551,
          -0.8447108,
          -0.7717372,
          -0.63431406,
          -0.4744668,
          -0.83463156,
          -1.2081968,
          -0.8447108,
          -1.2030708,
          -0.517845,
          -0.8005349,
          -1.2225956,
          -0.78037655,
          -0.8259923,
          -0.8016868,
          -0.7913196,
          -1.3209689,
          -0.78325635,
          -0.7429396,
          -1.1400034,
          -0.58745426,
          -0.6262508,
          -0.57659775,
          -0.5489575,
          -0.52039945,
          -0.4911391,
          -0.7953514,
          -0.8389513,
          -0.7573384,
          -0.8432709,
          -0.79477537,
          -0.7878639,
          -0.83463156,
          -0.83463156,
          -0.8259923,
          -1.650416,
          -1.7733247,
          -0.3787632,
          -0.39586905,
          -1.5457648,
          -0.40385178,
          -0.42460686,
          -1.7733247,
          -1.7646855,
          -0.8432709,
          -0.94602144,
          -1.1400034,
          -1.7219493,
          -0.73383963,
          -0.8005349,
          -1.2369945,
          -0.8389513,
          -1.5637919,
          -0.7878639,
          -1.193798,
          -1.465877,
          -0.83463156,
          -0.7573384,
          -0.73383963,
          -0.7172811,
          -0.78613603,
          -1.7646855,
          -1.9821347,
          -1.9539104,
          -1.7075506,
          -1.28549,
          -0.78037655,
          -0.79477537,
          -0.39586905,
          -0.3787632,
          -0.94602144,
          -0.8447108,
          -0.80399066,
          -1.7733247,
          -0.40385178,
          -1.7646855,
          -0.78037655,
          -0.35729495,
          0.03240468,
          0.08508166,
          -0.8447108,
          -0.7976551,
          -1.4650732,
          -0.42460686,
          -0.4911391,
          -0.517845,
          -1.5637919,
          -0.7878639,
          -0.8005349,
          -0.58745426,
          -0.7717372,
          -0.7717372,
          -0.82023275,
          -0.82023275,
          -0.8005349,
          -0.57659775,
          -0.8087136,
          -1.193798,
          -0.79431486,
          -0.5489575,
          -0.52039945,
          -0.8005349,
          -0.7953514,
          -1.7075506,
          -1.2139564,
          -1.28549,
          -0.8005349,
          -0.7976551,
          -1.5764631,
          -1.28549,
          -0.7774968,
          -1.382481,
          -1.7947505,
          -0.69893837,
          -1.3024477,
          -0.7172811,
          -1.1851585,
          -1.0305722,
          -1.3100262,
          -0.26591727,
          -0.79477537,
          -0.8432709,
          -0.7878639,
          -0.31498164,
          -0.03964557,
          -0.7573384,
          -0.28268784,
          -1.7733247,
          -0.03493421,
          -0.1298598,
          -0.7717372,
          -0.6406496,
          -1.6278383,
          -1.7219493,
          -0.79892224,
          -1.3209689,
          -1.2312349,
          -1.2312349,
          -1.650416,
          -1.2369945,
          -0.8005349,
          -0.8005349,
          -1.8053484,
          -0.8084254,
          -0.8016868,
          -0.94602144,
          -0.517845,
          -0.79477537,
          -1.4658799,
          -0.7913196,
          -0.7717372,
          -0.7429396,
          -0.52039945,
          -1.5457648,
          -1.2030708,
          -0.57659775,
          -0.78325635,
          -1.832879,
          -0.4911391,
          -0.7641058,
          -0.36553526,
          0.11382889,
          0.0731736,
          -0.52039945,
          -0.36937433,
          -1.9420366,
          -0.42460686,
          -0.049987346,
          -0.53225726,
          -1.3100262,
          -0.5489575,
          0.17138106,
          -0.4911391,
          -0.42460686,
          -1.2225956,
          -1.2081968,
          -0.40385178,
          -0.58745426,
          -0.39586905,
          -0.63431406,
          -1.2081968,
          -0.3787632,
          -1.2030708,
          -1.2312349,
          -1.2312349,
          -0.70492655,
          -0.69893837,
          -0.7953514,
          -1.382481,
          -1.5764631,
          -0.8005349,
          -0.8005349,
          -0.7573384,
          -0.7573384,
          -0.78613603,
          -0.8432709,
          -1.2225956,
          -0.78613603,
          -1.0305722,
          -0.5489575,
          -0.57659775,
          -0.94602144,
          -1.5263468,
          -0.8447108,
          -0.8447108,
          -0.79477537,
          -0.79477537,
          -0.7920108,
          -1.2225956,
          -0.78325635,
          -1.7646855,
          -0.7878639,
          -0.6406496,
          -0.78613603,
          -1.5457648,
          -0.79477537,
          -1.193798,
          -0.94602144,
          -0.7953514,
          -0.8447108,
          -1.7075506,
          -1.5263468,
          -0.9497125,
          -0.8447108,
          -1.0305722,
          -1.7219493,
          -0.3458169,
          -1.7733247,
          -0.8688447,
          -0.03493421,
          -0.56239986,
          -1.8053484,
          -0.8432709,
          -0.8432709,
          -0.8389513,
          -0.8447108,
          -0.8447108,
          -1.2225956,
          -1.832879,
          -1.4658799,
          -1.2225956,
          -0.46339247,
          -0.8259923,
          -0.8259923,
          -1.650416,
          -1.4650732,
          -0.83463156,
          -0.83463156,
          -0.83463156,
          -0.83463156,
          0.052789163,
          -1.382481,
          -0.79477537,
          -0.79477537,
          -0.69893837,
          -0.5203928,
          -1.6278383,
          -0.67977786,
          -0.8005349,
          -0.8005349,
          -0.9780535,
          -1.056185,
          -0.8432709,
          -0.8432709,
          -1.2225956,
          -0.7774968,
          -1.2081968,
          -1.5457648,
          -0.7878639,
          -0.3787632,
          -1.5263468,
          -0.39586905,
          -0.42460686,
          -0.78613603,
          -0.58745426,
          -0.78037655,
          -0.63431406,
          -0.57659775,
          -0.5489575,
          -1.5457648,
          -0.52039945,
          -1.650416,
          -1.9749653,
          -0.517845,
          -0.4911391,
          -0.7172811,
          -0.7573384,
          -0.73383963,
          -0.40385178,
          -1.5764631,
          -1.7646855,
          -1.9420366,
          -0.8016868,
          -0.82023275,
          -1.0248127,
          -0.64825785,
          -0.7878639,
          -1.5637919,
          -0.8389513,
          -0.8005349,
          -1.5764631,
          -0.7953514,
          -0.8432709,
          -0.79431486,
          -0.94602144,
          -0.78613603,
          -0.8087136,
          -0.7717372,
          -0.7717372,
          -0.80399066,
          -1.2797304,
          -0.63431406,
          -0.7913196,
          -0.97631717,
          -0.8596284,
          -1.0680093,
          -0.7573384,
          -0.78325635,
          -1.3209689,
          -0.7920108,
          -0.80399066,
          -0.8005349,
          -1.2369945,
          -1.2139564,
          -0.73383963,
          -1.28549,
          -0.7641058,
          -0.70492655,
          -1.2139564,
          -0.7429396,
          -0.82023275,
          -0.7641058,
          -1.382481,
          -0.7976551
         ],
         "xaxis": "x",
         "y": [
          0.29096213,
          0.31171718,
          0.3615729,
          0.19772401,
          0.3046108,
          0.75765747,
          0.70916194,
          0.8849443,
          0.8494653,
          0.714461,
          0.5348778,
          0.30587792,
          0.6424667,
          0.3500538,
          0.5348778,
          0.4832431,
          0.30184624,
          0.33680564,
          0.31969988,
          1.1805228,
          0.8849443,
          0.30875766,
          0.30875766,
          0.31152228,
          1.031598,
          0.19516951,
          0.714461,
          0.16661145,
          0.13897116,
          0.12811472,
          0.36059353,
          1.4044569,
          0.3122134,
          0.30184624,
          1.5289782,
          0.36059353,
          1.1895094,
          0.32027674,
          0.7538566,
          0.18630935,
          0.3122134,
          0.22442977,
          0.31969988,
          0.31739697,
          0.33680564,
          0.18630935,
          0.78265435,
          1.0789264,
          0.30875766,
          1.1850175,
          0.29954243,
          0.76249593,
          1.2530061,
          1.3455942,
          0.3317958,
          1.0789264,
          1.3017062,
          1.0320514,
          0.3046108,
          0.30875766,
          1.2388119,
          0.32315654,
          0.3317958,
          0.3394272,
          0.30875766,
          0.31152228,
          1.2700287,
          0.46668428,
          1.124542,
          1.1989558,
          0.17191045,
          0.7452173,
          0.7452173,
          0.30299813,
          1.2244129,
          0.73945785,
          0.30818173,
          0.7518979,
          0.78265435,
          0.31566915,
          0.32603624,
          0.31566915,
          1.0915973,
          1.0915973,
          0.73945785,
          0.30299813,
          0.29954243,
          0.6424667,
          0.31739697,
          0.7912936,
          1.1989558,
          0.32315654,
          0.31566915,
          0.35725316,
          0.9963342,
          0.31739697,
          0.7538566,
          0.6743897,
          1.6381971,
          1.2244129,
          0.6424667,
          0.18630935,
          1.2388119,
          0.1797722,
          0.30299813,
          1.3455942,
          0.272761,
          0.31739697,
          0.29510757,
          1.5577031,
          0.47152287,
          0.9963342,
          1.124542,
          1.080932,
          0.29510757,
          0.31739697,
          1.0320514,
          0.8849443,
          0.30299813,
          0.47152287,
          0.39181033,
          0.76825553,
          0.35725316,
          1.2786679,
          1.0543901,
          0.30818173,
          0.30299813,
          0.30587792,
          0.30299813,
          0.44848466,
          0.44848466,
          1.124542,
          0.48108324,
          0.34619465,
          0.73221236,
          1.2700287,
          0.7983088,
          1.1850175,
          0.8849443,
          0.17824598,
          0.30875766,
          1.0543901,
          0.34619465,
          0.7733814,
          0.66000813,
          0.31566915,
          0.19772401,
          0.44848466,
          0.32437757,
          1.7184682,
          0.46668428,
          0.3500538,
          0.7538566,
          0.3500538,
          0.3615729,
          0.79705316,
          0.8849443,
          1.1895094,
          1.5289782,
          0.70916194,
          0.75765747,
          0.698564,
          1.6832632,
          0.39181033,
          0.32437757,
          0.8098421,
          0.29096213,
          0.31171718,
          0.31969988,
          0.33680564,
          0.9441489,
          0.34619465,
          0.7912936,
          0.30587792,
          0.3394272,
          0.29769915,
          0.32441205,
          0.8074006,
          0.57194483,
          0.5599853,
          1.7516994,
          0.44848466,
          0.35581338,
          0.35581338,
          0.30875766,
          0.1891891,
          1.1805228,
          0.31152228,
          0.50608015,
          0.31739697,
          0.59131646,
          0.37606308,
          1.0115063,
          0.5556732,
          1.4044569,
          0.30184624,
          0.91893995,
          0.35310706,
          1.0320514,
          0.3122134,
          0.4832431,
          0.22442977,
          0.7518979,
          1.2066156,
          0.31566915,
          0.8494653,
          1.5977423,
          0.3317958,
          0.3317958,
          0.38029137,
          0.38029137,
          1.6411749,
          1.6411749,
          0.20070815,
          0.1891891,
          0.30587792,
          0.39181033,
          0.40620935,
          0.20070815,
          0.43788671,
          0.32027674,
          0.19772401,
          0.16661145,
          0.63431823,
          0.6567736,
          1.7184682,
          1.1989558,
          0.3317958,
          0.3317958,
          1.0543901,
          1.6411749,
          0.4832431,
          1.1805228,
          1.5289782,
          1.1895094,
          0.70916194,
          0.75765747,
          0.3986064,
          1.106226,
          3.244923,
          2.9982977,
          0.47245386,
          0.75953114,
          0.53842473,
          2.967923,
          2.9886997,
          3.975246,
          0.35725316,
          2.6050925,
          2.1896198,
          2.1809313,
          2.154915,
          0.7032741,
          2.6050925,
          2.901906,
          2.8568761,
          0.8849443,
          0.79705316,
          1.6832632,
          0.698564,
          0.33680564,
          0.31969988,
          0.31171718,
          0.29096213,
          0.22442977,
          0.19772401,
          0.19516951,
          0.16661145,
          0.13897116,
          0.73945785,
          0.12811472,
          0.7733814,
          0.12811472,
          0.13897116,
          0.29769915,
          0.637166,
          0.19516951,
          0.12013196,
          0.18751521,
          0.7538566,
          0.306553,
          0.23993216,
          0.27766925,
          0.26128298,
          1.3017062,
          0.76825553,
          0.29404116,
          0.2797863,
          0.27313405,
          0.25583816,
          0.20039457,
          0.17813972,
          0.17601098,
          0.1522126,
          0.12917905,
          0.30875766,
          0.36059353,
          0.6170321,
          0.17191045,
          0.30299813,
          0.30299813,
          1.7516994,
          0.73580265,
          0.33680564,
          0.32027674,
          0.49616635,
          1.1063724,
          1.0118829,
          1.1261584,
          0.29096213,
          0.39181033,
          0.6424667,
          0.31969988,
          0.34619465,
          0.272761,
          0.30184624,
          0.3046108,
          0.548675,
          0.20450222,
          0.30818173,
          0.7452173,
          0.7452173,
          1.3455942,
          0.30587792,
          0.7912936,
          1.0543901,
          0.76249593,
          0.3394272,
          0.36059353,
          0.3122134,
          0.3046108,
          0.18630935,
          0.3615729,
          0.46668428,
          0.70916194,
          0.38029137,
          0.38029137,
          0.76825553,
          0.39181033,
          0.39181033,
          0.7452173,
          0.40620935,
          0.7452173,
          0.79371285,
          0.58337337,
          0.4832431,
          0.54498255,
          0.3394272,
          0.8494653,
          0.8494653,
          0.3317958,
          1.2244129,
          0.3317958,
          0.13897116,
          0.75765747,
          0.698564,
          0.22442977,
          -0.041769464,
          1.2066156,
          0.3986064,
          1.6832632,
          1.1805228,
          1.3590685,
          0.35581338,
          0.35581338,
          0.19772401,
          0.19516951,
          0.16661145,
          0.17824598,
          0.12811472,
          0.43186715,
          0.035347324,
          0.4015518,
          0.714461,
          0.19516951,
          0.19772401,
          0.22442977,
          0.18630935,
          0.29096213,
          0.16661145,
          0.31171718,
          0.33680564,
          0.9441489,
          1.2388119,
          0.17824598,
          1.1989558,
          0.5348778,
          0.31969988,
          0.34619465,
          0.13897116,
          0.12811472,
          0.73580265,
          1.8562354,
          1.1261584,
          0.30875766,
          0.32315654,
          0.3986064,
          0.8849443,
          0.30299813,
          0.30299813,
          0.73945785,
          0.73945785,
          0.66395974,
          0.7132454,
          0.31739697,
          0.31739697,
          1.0789264,
          0.6424667,
          0.30875766,
          0.9963342,
          0.3317958,
          0.78265435,
          0.30587792,
          0.17191045,
          0.5636269,
          1.124542,
          0.32027674,
          0.32027674,
          0.31171718,
          0.32603624,
          0.84601396,
          0.9060809,
          0.9060809,
          0.9060809,
          0.33015105,
          1.3017062,
          0.13044828,
          0.31739697,
          1.0915973,
          0.7538566,
          0.47152287,
          0.18630935,
          0.76825553,
          0.7733814,
          0.34619465,
          0.7901522,
          0.2567014,
          0.29510757,
          0.29954243,
          1.2700287,
          0.30299813,
          0.73945785,
          0.30299813,
          0.35725316,
          0.31566915,
          1.3590685,
          0.76825553,
          0.272761,
          0.36589247,
          0.6075281,
          0.31152228,
          0.35725316,
          0.35725316,
          1.0320514,
          0.3046108,
          1.0789264,
          0.30299813,
          0.30299813,
          1.124542,
          0.7452173,
          0.7452173,
          1.1805228,
          0.3046108,
          0.36589247,
          0.17191045,
          0.6492573,
          0.31739697,
          0.6471383,
          0.7538566,
          0.22684893,
          0.34619465,
          0.44848466,
          0.30875766,
          0.9963342,
          1.1989558,
          1.1895094,
          1.5289782,
          1.1895094,
          1.5289782,
          0.8849443,
          0.3745318,
          0.31152228,
          0.31739697,
          1.3455942,
          0.8849443,
          1.0320514,
          1.2388119,
          1.2388119,
          0.31566915,
          0.7452173,
          0.7654046,
          0.71928006,
          0.7452173,
          0.30875766,
          0.35581338,
          0.29954243,
          0.35581338,
          0.30299813,
          1.2244129,
          0.7879534,
          0.4832431,
          0.17191045,
          1.449933,
          0.17824598,
          0.7733814,
          1.2066156,
          0.714461,
          0.7518979,
          1.1805228,
          0.7912936,
          0.29510757,
          1.3590685,
          0.3046108,
          0.7912936,
          1.4044569,
          1.0543901,
          1.0543901,
          0.7538566,
          0.8494653,
          0.76825553,
          1.4044569,
          0.31739697,
          0.3615729,
          0.31152228,
          0.30299813,
          0.30299813,
          0.73945785,
          0.6424667,
          0.44848466,
          0.73945785,
          0.30875766,
          1.0915973,
          0.31566915,
          0.31566915,
          0.9963342,
          0.30299813,
          1.1989558,
          0.18630935,
          0.78265435,
          0.30818173,
          1.124542,
          0.31566915,
          1.0915973,
          0.7733814,
          0.31739697,
          0.34619465,
          0.5835808,
          0.29510757,
          0.30299813,
          0.30587792,
          1.3455942,
          1.1920013,
          0.31152228,
          0.30875766,
          0.30875766,
          0.8849443,
          0.29510757,
          0.78265435,
          0.3317958,
          0.3046108,
          1.2700287,
          1.2244129,
          0.32441205,
          0.4242883,
          0.9302669,
          0.42489022,
          0.78265435,
          0.5974964,
          0.32315654,
          0.70916194,
          0.75765747,
          0.2926707,
          0.6613179,
          0.35310706,
          0.66386414,
          0.7518979,
          0.30875766,
          1.0078582,
          0.31566915,
          1.0915973,
          1.6832632,
          1.2786679,
          0.30587792,
          0.32027674,
          1.3455942,
          0.36059353,
          0.3122134,
          1.0543901,
          1.528981,
          0.7452173,
          0.35725316,
          0.30184624,
          0.17191045,
          0.3394272,
          0.7912936,
          0.714461,
          0.73945785,
          0.7452173,
          0.8849443,
          0.3317958,
          0.29954243,
          0.32027674,
          0.3122134,
          0.7452173,
          0.7452173,
          0.30587792,
          0.8849443,
          0.30184624,
          0.31739697,
          0.7912936,
          0.6613179,
          1.9816779,
          2.0269766,
          0.4958878,
          2.1175742,
          0.2926707,
          1.4044569,
          0.5806331,
          0.36059353,
          1.0320514,
          0.16661145,
          0.13897116,
          0.17824598,
          0.12811472,
          0.30587792,
          0.5348778,
          0.35725316,
          0.32603624,
          0.3394272,
          1.124542,
          1.0789264,
          0.35725316,
          0.17191045,
          1.2388119,
          0.35725316,
          0.5096775,
          0.19516951,
          0.4832431,
          1.0543901,
          0.29954243,
          1.2244129,
          0.30299813,
          0.8849443,
          0.35725316,
          0.8849443,
          0.86655307,
          0.9963342,
          0.3317958,
          0.31060588,
          0.27766925,
          0.6492573,
          0.30875766,
          0.18630935,
          0.51379913,
          0.8494653,
          1.3455942,
          0.7518979,
          0.7538566,
          0.4015518,
          0.32441205,
          0.7782204,
          0.32315654,
          0.3409212,
          0.37606308,
          0.50007653,
          0.3573169,
          0.9281391,
          1.5314698,
          0.26513287,
          0.272761,
          0.24822505,
          0.6424667,
          0.3394272,
          0.18630935,
          0.19772401,
          0.22442977,
          0.30875766,
          0.29096213,
          0.31171718,
          0.31969988,
          0.33680564,
          0.9963342,
          0.7538566,
          0.29510757,
          0.30299813,
          0.30299813,
          0.30587792,
          0.35581338,
          0.3317958,
          0.17824598,
          0.8230483,
          0.36589247,
          0.76825553,
          0.35581338,
          0.7733814,
          0.19772401,
          0.30299813,
          0.7538566,
          0.32315654,
          0.3745318,
          0.30184624,
          0.3122134,
          0.8494653,
          0.32027674,
          0.36059353,
          0.6424667,
          0.12811472,
          0.18630935,
          0.13897116,
          0.16661145,
          0.19516951,
          0.22442977,
          0.30818173,
          0.3615729,
          0.34619465,
          0.35725316,
          0.30875766,
          0.31566915,
          0.36589247,
          0.36589247,
          0.3745318,
          1.1989558,
          1.2700287,
          0.33680564,
          0.31969988,
          1.2066156,
          0.31171718,
          0.29096213,
          1.2700287,
          1.2786679,
          0.35725316,
          0.44848466,
          0.6424667,
          1.2244129,
          0.46668428,
          0.30299813,
          0.73945785,
          0.3615729,
          1.0915973,
          0.31566915,
          0.78265435,
          1.1895123,
          0.36589247,
          0.34619465,
          0.46668428,
          0.4832431,
          0.31739697,
          1.2786679,
          1.5461736,
          1.5743984,
          1.2388119,
          0.7879534,
          0.32315654,
          0.30875766,
          0.31969988,
          0.33680564,
          0.44848466,
          0.35581338,
          0.29954243,
          1.2700287,
          0.31171718,
          1.2786679,
          0.32315654,
          0.26128298,
          0.5539917,
          0.5096775,
          0.35581338,
          0.30587792,
          0.9963342,
          0.29096213,
          0.22442977,
          0.19772401,
          1.0915973,
          0.31566915,
          0.30299813,
          0.12811472,
          0.3317958,
          0.3317958,
          0.38029137,
          0.38029137,
          0.30299813,
          0.13897116,
          0.39181033,
          0.78265435,
          0.40620935,
          0.16661145,
          0.19516951,
          0.30299813,
          0.30818173,
          1.2388119,
          0.76249593,
          0.7879534,
          0.30299813,
          0.30587792,
          1.0789264,
          0.7879534,
          0.32603624,
          0.8849443,
          1.3455942,
          1.1805228,
          1.449933,
          0.4832431,
          0.7912936,
          0.7518979,
          1.0543901,
          1.031598,
          0.30875766,
          0.35725316,
          0.31566915,
          1.1765157,
          0.7729145,
          0.34619465,
          0.33589002,
          1.2700287,
          0.2926707,
          0.7796912,
          0.3317958,
          0.17191045,
          1.124542,
          1.2244129,
          0.3046108,
          0.8494653,
          0.7452173,
          0.7452173,
          1.1989558,
          0.73945785,
          0.30299813,
          0.30299813,
          1.5289782,
          0.29510757,
          0.30184624,
          0.44848466,
          0.19772401,
          0.30875766,
          1.1895094,
          0.3122134,
          0.3317958,
          0.36059353,
          0.19516951,
          1.2066156,
          0.7733814,
          0.13897116,
          0.32027674,
          1.4044569,
          0.22442977,
          0.3394272,
          0.44702476,
          0.53842473,
          0.5947605,
          0.19516951,
          -0.041769464,
          1.6832632,
          0.29096213,
          0.27761754,
          0.86224884,
          1.0543901,
          0.16661145,
          1.080932,
          0.22442977,
          0.29096213,
          0.7538566,
          0.76825553,
          0.31171718,
          0.12811472,
          0.31969988,
          0.17824598,
          0.76825553,
          0.33680564,
          0.7733814,
          0.7452173,
          0.7452173,
          0.3986064,
          1.1805228,
          0.30818173,
          0.8849443,
          1.0789264,
          0.30299813,
          0.30299813,
          0.34619465,
          0.34619465,
          0.31739697,
          0.35725316,
          0.7538566,
          0.31739697,
          0.7518979,
          0.16661145,
          0.13897116,
          0.44848466,
          1.0320514,
          0.35581338,
          0.35581338,
          0.30875766,
          0.30875766,
          0.31152228,
          0.7538566,
          0.32027674,
          1.2786679,
          0.31566915,
          0.17191045,
          0.31739697,
          1.2066156,
          0.30875766,
          0.78265435,
          0.44848466,
          0.30818173,
          0.35581338,
          1.2388119,
          1.0320514,
          0.6387756,
          0.35581338,
          0.7518979,
          1.2244129,
          0.272761,
          1.2700287,
          1.0106165,
          0.2926707,
          0.9290974,
          1.5289782,
          0.35725316,
          0.35725316,
          0.3615729,
          0.35581338,
          0.35581338,
          0.7538566,
          1.4044569,
          1.1895094,
          0.7538566,
          0.4461586,
          0.3745318,
          0.3745318,
          1.1989558,
          0.9963342,
          0.36589247,
          0.36589247,
          0.36589247,
          0.36589247,
          0.5743761,
          0.8849443,
          0.30875766,
          0.30875766,
          1.1805228,
          1.3590685,
          1.124542,
          0.71472824,
          0.30299813,
          0.30299813,
          0.7074255,
          0.7262853,
          0.35725316,
          0.35725316,
          0.7538566,
          0.32603624,
          0.76825553,
          1.2066156,
          0.31566915,
          0.33680564,
          1.0320514,
          0.31969988,
          0.29096213,
          0.31739697,
          0.12811472,
          0.32315654,
          0.17824598,
          0.13897116,
          0.16661145,
          1.2066156,
          0.19516951,
          1.1989558,
          1.6503345,
          0.19772401,
          0.22442977,
          0.4832431,
          0.34619465,
          0.46668428,
          0.31171718,
          1.0789264,
          1.2786679,
          1.6832632,
          0.30184624,
          0.38029137,
          0.75765747,
          0.6492573,
          0.31566915,
          1.0915973,
          0.3615729,
          0.30299813,
          1.0789264,
          0.30818173,
          0.35725316,
          0.40620935,
          0.44848466,
          0.31739697,
          0.39181033,
          0.3317958,
          0.3317958,
          0.29954243,
          0.79371285,
          0.17824598,
          0.3122134,
          0.70916194,
          0.5348778,
          0.714461,
          0.34619465,
          0.32027674,
          0.8494653,
          0.31152228,
          0.29954243,
          0.30299813,
          0.73945785,
          0.76249593,
          0.46668428,
          0.7879534,
          0.3394272,
          0.3986064,
          0.76249593,
          0.36059353,
          0.38029137,
          0.3394272,
          0.8849443,
          0.30587792
         ],
         "yaxis": "y"
        },
        {
         "customdata": [
          [
           2134440
          ],
          [
           1943260
          ],
          [
           1495560
          ],
          [
           2972970
          ],
          [
           2123550
          ],
          [
           2866792.5
          ],
          [
           1514515.86
          ],
          [
           1514515.86
          ],
          [
           1683648.45
          ],
          [
           1500097.5
          ],
          [
           2028444
          ],
          [
           3234591.36
          ],
          [
           1513503.09
          ],
          [
           1514516
          ],
          [
           2725525
          ],
          [
           2766665
          ],
          [
           1514515.86
          ],
          [
           2062728.3
          ],
          [
           2180420
          ],
          [
           2180420
          ],
          [
           2180420
          ],
          [
           2014169.02
          ],
          [
           2178000
          ],
          [
           2018038
          ]
         ],
         "hovertemplate": "Cluster=Cluster 2<br>PCA1=%{x}<br>PCA2=%{y}<br>Feature=%{customdata[0]}<extra></extra>",
         "legendgroup": "Cluster 2",
         "marker": {
          "color": "#00cc96",
          "opacity": 0.5,
          "symbol": "circle"
         },
         "mode": "markers",
         "name": "Cluster 2",
         "showlegend": true,
         "textposition": "top center",
         "type": "scattergl",
         "x": [
          5.899306,
          5.736715,
          4.204966,
          8.459563,
          6.013431,
          8.396274,
          4.647518,
          4.647518,
          5.47405,
          4.4605107,
          6.4184847,
          7.0791698,
          4.644602,
          4.6475186,
          8.37742,
          8.495894,
          4.647518,
          3.655981,
          6.8076453,
          6.8076453,
          6.8076453,
          6.4258723,
          6.8006763,
          6.3885183
         ],
         "xaxis": "x",
         "y": [
          5.838947,
          4.900428,
          3.8536339,
          8.108232,
          5.662099,
          7.5599875,
          3.5202584,
          3.5202584,
          3.6678526,
          3.6242235,
          4.7092786,
          10.995444,
          3.5173419,
          3.5202584,
          6.765205,
          6.883679,
          3.5202584,
          7.6692452,
          5.19543,
          5.19543,
          5.19543,
          4.619675,
          5.1884613,
          4.679312
         ],
         "yaxis": "y"
        },
        {
         "customdata": [
          [
           320198.67
          ],
          [
           764110.46
          ],
          [
           310495.68
          ],
          [
           465214.75
          ],
          [
           406560
          ],
          [
           626651.44
          ],
          [
           822891.23
          ],
          [
           332750
          ],
          [
           435164.4
          ],
          [
           480000
          ],
          [
           480000
          ],
          [
           312400
          ],
          [
           440440
          ],
          [
           377200
          ],
          [
           480000
          ],
          [
           312400
          ],
          [
           485149.5
          ],
          [
           465850
          ],
          [
           619272.19
          ],
          [
           986271
          ],
          [
           275880
          ],
          [
           313390
          ],
          [
           314328.96
          ],
          [
           566280
          ],
          [
           419105.28
          ],
          [
           575960
          ],
          [
           523482.3
          ],
          [
           323433
          ],
          [
           363562.65
          ],
          [
           304920
          ],
          [
           431244
          ],
          [
           485149.5
          ],
          [
           564510.38
          ],
          [
           1104246
          ],
          [
           377200
          ],
          [
           601218.75
          ],
          [
           480000
          ],
          [
           1042536
          ],
          [
           575960
          ],
          [
           499125
          ],
          [
           304920
          ],
          [
           290400
          ],
          [
           326700
          ],
          [
           425920
          ],
          [
           508079
          ],
          [
           300990.69
          ],
          [
           300990.69
          ],
          [
           800496.67
          ],
          [
           881787.5
          ],
          [
           925524.16
          ],
          [
           1089000
          ],
          [
           1157244
          ],
          [
           377200
          ],
          [
           480000
          ],
          [
           480000
          ],
          [
           377200
          ],
          [
           304920
          ],
          [
           847000
          ],
          [
           830060
          ],
          [
           747141.12
          ],
          [
           617251.25
          ],
          [
           575960
          ],
          [
           305644.18
          ],
          [
           421170.75
          ],
          [
           498036
          ],
          [
           498126.75
          ],
          [
           504570
          ],
          [
           514552.5
          ],
          [
           372655.14
          ],
          [
           606436.88
          ],
          [
           818689.78
          ],
          [
           903870
          ],
          [
           904314.67
          ],
          [
           366025
          ],
          [
           563986.3
          ],
          [
           571331.75
          ],
          [
           809762.25
          ],
          [
           402930
          ],
          [
           404291.25
          ],
          [
           833690
          ],
          [
           500940
          ],
          [
           517093.5
          ],
          [
           304920
          ],
          [
           323433
          ],
          [
           455202
          ],
          [
           499125
          ],
          [
           545793.19
          ],
          [
           1151920
          ],
          [
           300990.69
          ],
          [
           300990.69
          ],
          [
           372655.14
          ],
          [
           885447.75
          ],
          [
           818689.78
          ],
          [
           607934.25
          ],
          [
           499125
          ],
          [
           485149.5
          ],
          [
           406560
          ],
          [
           705430
          ],
          [
           544500
          ],
          [
           291821.75
          ],
          [
           312400
          ],
          [
           314448.75
          ],
          [
           480000
          ],
          [
           304920
          ],
          [
           541898.5
          ],
          [
           500940
          ],
          [
           480000
          ],
          [
           377200
          ],
          [
           413820
          ],
          [
           382239
          ],
          [
           784080
          ],
          [
           1151920
          ],
          [
           582796.5
          ],
          [
           464685.38
          ],
          [
           312400
          ],
          [
           853776
          ],
          [
           506112.75
          ],
          [
           312664
          ],
          [
           349254.4
          ],
          [
           435600
          ],
          [
           559020
          ],
          [
           480000
          ],
          [
           377200
          ],
          [
           377200
          ],
          [
           480000
          ],
          [
           575960
          ],
          [
           314328.96
          ],
          [
           389317.5
          ],
          [
           399300
          ],
          [
           480298.01
          ],
          [
           485149.5
          ],
          [
           580800
          ],
          [
           318532.5
          ],
          [
           503118
          ],
          [
           322162.5
          ],
          [
           305464.5
          ],
          [
           304920
          ],
          [
           283140
          ],
          [
           511225
          ],
          [
           304920
          ],
          [
           334413.75
          ],
          [
           482790
          ],
          [
           598950
          ],
          [
           609840
          ],
          [
           698775
          ],
          [
           599676
          ],
          [
           327475.91
          ],
          [
           349307.64
          ],
          [
           501393.75
          ],
          [
           505364.06
          ],
          [
           719950
          ],
          [
           629200
          ],
          [
           508200
          ],
          [
           492954
          ],
          [
           485149.5
          ],
          [
           410927.62
          ],
          [
           312180
          ],
          [
           480298.01
          ],
          [
           762300
          ],
          [
           457380
          ],
          [
           550550
          ],
          [
           577170
          ],
          [
           704220
          ],
          [
           480000
          ],
          [
           337590
          ],
          [
           467060
          ],
          [
           363862.13
          ],
          [
           312400
          ],
          [
           707759.25
          ],
          [
           802956
          ],
          [
           818202
          ],
          [
           818689.78
          ],
          [
           459316
          ],
          [
           585640
          ],
          [
           480000
          ],
          [
           575960
          ],
          [
           348722
          ],
          [
           338800
          ],
          [
           303710
          ],
          [
           685344
          ],
          [
           435600
          ],
          [
           366025
          ],
          [
           452540
          ],
          [
           512435
          ]
         ],
         "hovertemplate": "Cluster=Cluster 3<br>PCA1=%{x}<br>PCA2=%{y}<br>Feature=%{customdata[0]}<extra></extra>",
         "legendgroup": "Cluster 3",
         "marker": {
          "color": "#ab63fa",
          "opacity": 0.5,
          "symbol": "circle"
         },
         "mode": "markers",
         "name": "Cluster 3",
         "showlegend": true,
         "textposition": "top center",
         "type": "scattergl",
         "x": [
          1.3536484,
          2.6320114,
          1.3742017,
          0.80135095,
          1.69934,
          1.9936838,
          1.6858897,
          1.5837754,
          0.8118039,
          1.9593257,
          1.9593257,
          1.4766767,
          1.845402,
          1.6632856,
          1.959326,
          1.4766767,
          1.5861909,
          1.4821174,
          1.0510186,
          2.6898363,
          0.54708385,
          0.7035995,
          1.3852406,
          1.5288548,
          1.686972,
          1.6052265,
          2.1330402,
          1.1204851,
          0.7025986,
          1.455136,
          0.9944961,
          1.5861909,
          1.1357949,
          2.6416128,
          1.6632856,
          1.5324794,
          1.9593257,
          3.5308037,
          2.2356682,
          1.2869687,
          1.455136,
          1.3648263,
          1.4693618,
          1.3671283,
          0.92479,
          0.7648834,
          0.8133789,
          2.7367954,
          3.1648762,
          3.1453412,
          3.6646092,
          3.909631,
          1.6632856,
          1.9593257,
          1.9593257,
          1.6632856,
          1.455136,
          2.2402723,
          2.9674172,
          1.4192517,
          2.4030728,
          2.2356682,
          1.3602304,
          0.6745144,
          2.0112653,
          1.2840941,
          1.3511447,
          1.6223694,
          1.2137377,
          1.9354706,
          2.7891872,
          2.3555493,
          3.229749,
          1.6795996,
          2.0557,
          1.4949074,
          2.1330366,
          1.446409,
          1.353338,
          2.2989337,
          1.1952044,
          0.46579465,
          1.455136,
          1.1204851,
          1.1604806,
          2.0628967,
          2.003308,
          3.8942993,
          0.8133789,
          0.7648834,
          1.2137377,
          3.1754167,
          2.7891872,
          1.600314,
          1.2384732,
          1.5861909,
          1.7478356,
          2.1720524,
          1.3691428,
          0.6899835,
          1.4766767,
          0.41567546,
          1.9593257,
          1.455136,
          1.0221823,
          1.7286549,
          1.9593257,
          1.6632856,
          1.4777696,
          0.56240004,
          2.010582,
          3.8942993,
          1.1399591,
          0.84832203,
          1.4766767,
          2.2112904,
          0.91912776,
          1.4774368,
          1.4858176,
          1.7829684,
          2.2353804,
          1.9593257,
          1.6632856,
          1.6632856,
          1.9593257,
          2.2356682,
          1.3852406,
          1.7466766,
          1.5329463,
          1.8146975,
          1.5861909,
          2.2011108,
          0.3789402,
          1.2014765,
          1.0683308,
          0.72927135,
          0.67920786,
          0.71347755,
          0.9338499,
          1.4066405,
          0.8126385,
          1.9673603,
          1.8654146,
          1.6542975,
          2.6378422,
          2.3039646,
          1.3746053,
          1.4859711,
          1.2450066,
          1.6444043,
          2.650326,
          1.71005,
          1.9920396,
          1.9966302,
          1.5861909,
          0.45103467,
          0.65161943,
          1.8146975,
          2.4813113,
          1.1182573,
          1.4835562,
          1.414729,
          1.7806038,
          1.9593257,
          1.1127584,
          1.1461334,
          1.4793891,
          1.4766767,
          1.8877869,
          2.8408685,
          2.9332693,
          2.7891872,
          0.78436404,
          1.8270848,
          1.9593257,
          1.6052265,
          0.8538429,
          0.6797834,
          0.6757233,
          2.5506687,
          1.7829684,
          1.6795996,
          0.37688655,
          2.101224
         ],
         "xaxis": "x",
         "y": [
          -0.06458516,
          1.213778,
          -0.1410229,
          1.322938,
          0.0871245,
          1.0604054,
          2.49845,
          -0.22242226,
          1.1394088,
          0.250119,
          0.250119,
          -0.23253007,
          0.1361955,
          -0.04592106,
          0.25011858,
          -0.23253007,
          0.65291256,
          0.6458301,
          1.9605696,
          2.4354951,
          0.48672467,
          0.5462493,
          -0.12998395,
          1.1775227,
          0.17174743,
          1.1569033,
          0.32684252,
          0.18720666,
          0.8362215,
          -0.2540707,
          0.934137,
          0.65291256,
          1.5603908,
          3.1632,
          -0.04592106,
          1.3751292,
          0.250119,
          1.9185883,
          0.52646154,
          1.0326275,
          -0.2540707,
          -0.24738947,
          -0.14285383,
          0.53084093,
          1.4463772,
          0.4135511,
          0.3650556,
          1.3185619,
          1.3586785,
          1.6301167,
          2.0523934,
          2.2004251,
          -0.04592106,
          0.250119,
          0.250119,
          -0.04592106,
          -0.2540707,
          2.0829225,
          1.2582109,
          2.3288028,
          0.59687537,
          0.52646154,
          -0.15499417,
          1.1961014,
          0.3020585,
          1.0297527,
          0.99981236,
          0.7860819,
          0.3774504,
          1.0021921,
          1.3709536,
          2.2951903,
          1.4235516,
          -0.12659805,
          0.63746667,
          1.2405661,
          1.9756862,
          0.31914842,
          0.4200595,
          1.9476016,
          1.1348451,
          1.9572918,
          -0.2540707,
          0.18720666,
          0.9061393,
          0.25669932,
          0.58507466,
          2.1850932,
          0.3650556,
          0.4135511,
          0.3774504,
          1.3692192,
          1.3709536,
          1.3459728,
          1.081123,
          0.65291256,
          0.038628932,
          1.3357651,
          1.2117926,
          0.4356422,
          -0.23253007,
          0.8402714,
          0.250119,
          -0.2540707,
          1.5437692,
          0.60139453,
          0.250119,
          -0.04592106,
          0.3505092,
          1.083987,
          1.950223,
          2.1850932,
          1.6615462,
          1.272918,
          -0.23253007,
          2.1509311,
          1.4407147,
          -0.23176973,
          -0.029406762,
          0.1707529,
          0.42918292,
          0.250119,
          -0.04592106,
          -0.04592106,
          0.250119,
          0.52646154,
          -0.12998395,
          -0.059520964,
          0.21170391,
          0.39646366,
          0.65291256,
          0.5888953,
          0.9005272,
          1.1411175,
          0.23204346,
          0.47493014,
          0.5218577,
          0.36214527,
          1.4554368,
          -0.20557512,
          0.55829734,
          0.2581536,
          1.0291274,
          1.3029653,
          0.831645,
          0.59475815,
          -0.043628365,
          -0.029253548,
          1.0876564,
          0.71112597,
          0.94111955,
          1.3587177,
          0.37982404,
          0.28742364,
          0.65291256,
          1.3605857,
          0.5912603,
          0.39646366,
          1.3540509,
          0.960907,
          1.1322241,
          1.3543699,
          1.7202446,
          0.250119,
          0.27647105,
          0.9887832,
          0.061155558,
          -0.23253007,
          1.6334457,
          1.228653,
          1.2240626,
          1.3709536,
          1.305951,
          0.9907974,
          0.250119,
          1.1569033,
          0.59950167,
          0.7164152,
          0.51837313,
          0.84146225,
          0.1707529,
          -0.12659805,
          1.6744018,
          0.29503098
         ],
         "yaxis": "y"
        }
       ],
       "layout": {
        "height": 600,
        "legend": {
         "title": {
          "text": "Cluster"
         },
         "tracegroupgap": 0
        },
        "margin": {
         "t": 60
        },
        "plot_bgcolor": "rgb(240,240,240)",
        "template": {
         "data": {
          "bar": [
           {
            "error_x": {
             "color": "#2a3f5f"
            },
            "error_y": {
             "color": "#2a3f5f"
            },
            "marker": {
             "line": {
              "color": "#E5ECF6",
              "width": 0.5
             },
             "pattern": {
              "fillmode": "overlay",
              "size": 10,
              "solidity": 0.2
             }
            },
            "type": "bar"
           }
          ],
          "barpolar": [
           {
            "marker": {
             "line": {
              "color": "#E5ECF6",
              "width": 0.5
             },
             "pattern": {
              "fillmode": "overlay",
              "size": 10,
              "solidity": 0.2
             }
            },
            "type": "barpolar"
           }
          ],
          "carpet": [
           {
            "aaxis": {
             "endlinecolor": "#2a3f5f",
             "gridcolor": "white",
             "linecolor": "white",
             "minorgridcolor": "white",
             "startlinecolor": "#2a3f5f"
            },
            "baxis": {
             "endlinecolor": "#2a3f5f",
             "gridcolor": "white",
             "linecolor": "white",
             "minorgridcolor": "white",
             "startlinecolor": "#2a3f5f"
            },
            "type": "carpet"
           }
          ],
          "choropleth": [
           {
            "colorbar": {
             "outlinewidth": 0,
             "ticks": ""
            },
            "type": "choropleth"
           }
          ],
          "contour": [
           {
            "colorbar": {
             "outlinewidth": 0,
             "ticks": ""
            },
            "colorscale": [
             [
              0,
              "#0d0887"
             ],
             [
              0.1111111111111111,
              "#46039f"
             ],
             [
              0.2222222222222222,
              "#7201a8"
             ],
             [
              0.3333333333333333,
              "#9c179e"
             ],
             [
              0.4444444444444444,
              "#bd3786"
             ],
             [
              0.5555555555555556,
              "#d8576b"
             ],
             [
              0.6666666666666666,
              "#ed7953"
             ],
             [
              0.7777777777777778,
              "#fb9f3a"
             ],
             [
              0.8888888888888888,
              "#fdca26"
             ],
             [
              1,
              "#f0f921"
             ]
            ],
            "type": "contour"
           }
          ],
          "contourcarpet": [
           {
            "colorbar": {
             "outlinewidth": 0,
             "ticks": ""
            },
            "type": "contourcarpet"
           }
          ],
          "heatmap": [
           {
            "colorbar": {
             "outlinewidth": 0,
             "ticks": ""
            },
            "colorscale": [
             [
              0,
              "#0d0887"
             ],
             [
              0.1111111111111111,
              "#46039f"
             ],
             [
              0.2222222222222222,
              "#7201a8"
             ],
             [
              0.3333333333333333,
              "#9c179e"
             ],
             [
              0.4444444444444444,
              "#bd3786"
             ],
             [
              0.5555555555555556,
              "#d8576b"
             ],
             [
              0.6666666666666666,
              "#ed7953"
             ],
             [
              0.7777777777777778,
              "#fb9f3a"
             ],
             [
              0.8888888888888888,
              "#fdca26"
             ],
             [
              1,
              "#f0f921"
             ]
            ],
            "type": "heatmap"
           }
          ],
          "heatmapgl": [
           {
            "colorbar": {
             "outlinewidth": 0,
             "ticks": ""
            },
            "colorscale": [
             [
              0,
              "#0d0887"
             ],
             [
              0.1111111111111111,
              "#46039f"
             ],
             [
              0.2222222222222222,
              "#7201a8"
             ],
             [
              0.3333333333333333,
              "#9c179e"
             ],
             [
              0.4444444444444444,
              "#bd3786"
             ],
             [
              0.5555555555555556,
              "#d8576b"
             ],
             [
              0.6666666666666666,
              "#ed7953"
             ],
             [
              0.7777777777777778,
              "#fb9f3a"
             ],
             [
              0.8888888888888888,
              "#fdca26"
             ],
             [
              1,
              "#f0f921"
             ]
            ],
            "type": "heatmapgl"
           }
          ],
          "histogram": [
           {
            "marker": {
             "pattern": {
              "fillmode": "overlay",
              "size": 10,
              "solidity": 0.2
             }
            },
            "type": "histogram"
           }
          ],
          "histogram2d": [
           {
            "colorbar": {
             "outlinewidth": 0,
             "ticks": ""
            },
            "colorscale": [
             [
              0,
              "#0d0887"
             ],
             [
              0.1111111111111111,
              "#46039f"
             ],
             [
              0.2222222222222222,
              "#7201a8"
             ],
             [
              0.3333333333333333,
              "#9c179e"
             ],
             [
              0.4444444444444444,
              "#bd3786"
             ],
             [
              0.5555555555555556,
              "#d8576b"
             ],
             [
              0.6666666666666666,
              "#ed7953"
             ],
             [
              0.7777777777777778,
              "#fb9f3a"
             ],
             [
              0.8888888888888888,
              "#fdca26"
             ],
             [
              1,
              "#f0f921"
             ]
            ],
            "type": "histogram2d"
           }
          ],
          "histogram2dcontour": [
           {
            "colorbar": {
             "outlinewidth": 0,
             "ticks": ""
            },
            "colorscale": [
             [
              0,
              "#0d0887"
             ],
             [
              0.1111111111111111,
              "#46039f"
             ],
             [
              0.2222222222222222,
              "#7201a8"
             ],
             [
              0.3333333333333333,
              "#9c179e"
             ],
             [
              0.4444444444444444,
              "#bd3786"
             ],
             [
              0.5555555555555556,
              "#d8576b"
             ],
             [
              0.6666666666666666,
              "#ed7953"
             ],
             [
              0.7777777777777778,
              "#fb9f3a"
             ],
             [
              0.8888888888888888,
              "#fdca26"
             ],
             [
              1,
              "#f0f921"
             ]
            ],
            "type": "histogram2dcontour"
           }
          ],
          "mesh3d": [
           {
            "colorbar": {
             "outlinewidth": 0,
             "ticks": ""
            },
            "type": "mesh3d"
           }
          ],
          "parcoords": [
           {
            "line": {
             "colorbar": {
              "outlinewidth": 0,
              "ticks": ""
             }
            },
            "type": "parcoords"
           }
          ],
          "pie": [
           {
            "automargin": true,
            "type": "pie"
           }
          ],
          "scatter": [
           {
            "fillpattern": {
             "fillmode": "overlay",
             "size": 10,
             "solidity": 0.2
            },
            "type": "scatter"
           }
          ],
          "scatter3d": [
           {
            "line": {
             "colorbar": {
              "outlinewidth": 0,
              "ticks": ""
             }
            },
            "marker": {
             "colorbar": {
              "outlinewidth": 0,
              "ticks": ""
             }
            },
            "type": "scatter3d"
           }
          ],
          "scattercarpet": [
           {
            "marker": {
             "colorbar": {
              "outlinewidth": 0,
              "ticks": ""
             }
            },
            "type": "scattercarpet"
           }
          ],
          "scattergeo": [
           {
            "marker": {
             "colorbar": {
              "outlinewidth": 0,
              "ticks": ""
             }
            },
            "type": "scattergeo"
           }
          ],
          "scattergl": [
           {
            "marker": {
             "colorbar": {
              "outlinewidth": 0,
              "ticks": ""
             }
            },
            "type": "scattergl"
           }
          ],
          "scattermapbox": [
           {
            "marker": {
             "colorbar": {
              "outlinewidth": 0,
              "ticks": ""
             }
            },
            "type": "scattermapbox"
           }
          ],
          "scatterpolar": [
           {
            "marker": {
             "colorbar": {
              "outlinewidth": 0,
              "ticks": ""
             }
            },
            "type": "scatterpolar"
           }
          ],
          "scatterpolargl": [
           {
            "marker": {
             "colorbar": {
              "outlinewidth": 0,
              "ticks": ""
             }
            },
            "type": "scatterpolargl"
           }
          ],
          "scatterternary": [
           {
            "marker": {
             "colorbar": {
              "outlinewidth": 0,
              "ticks": ""
             }
            },
            "type": "scatterternary"
           }
          ],
          "surface": [
           {
            "colorbar": {
             "outlinewidth": 0,
             "ticks": ""
            },
            "colorscale": [
             [
              0,
              "#0d0887"
             ],
             [
              0.1111111111111111,
              "#46039f"
             ],
             [
              0.2222222222222222,
              "#7201a8"
             ],
             [
              0.3333333333333333,
              "#9c179e"
             ],
             [
              0.4444444444444444,
              "#bd3786"
             ],
             [
              0.5555555555555556,
              "#d8576b"
             ],
             [
              0.6666666666666666,
              "#ed7953"
             ],
             [
              0.7777777777777778,
              "#fb9f3a"
             ],
             [
              0.8888888888888888,
              "#fdca26"
             ],
             [
              1,
              "#f0f921"
             ]
            ],
            "type": "surface"
           }
          ],
          "table": [
           {
            "cells": {
             "fill": {
              "color": "#EBF0F8"
             },
             "line": {
              "color": "white"
             }
            },
            "header": {
             "fill": {
              "color": "#C8D4E3"
             },
             "line": {
              "color": "white"
             }
            },
            "type": "table"
           }
          ]
         },
         "layout": {
          "annotationdefaults": {
           "arrowcolor": "#2a3f5f",
           "arrowhead": 0,
           "arrowwidth": 1
          },
          "autotypenumbers": "strict",
          "coloraxis": {
           "colorbar": {
            "outlinewidth": 0,
            "ticks": ""
           }
          },
          "colorscale": {
           "diverging": [
            [
             0,
             "#8e0152"
            ],
            [
             0.1,
             "#c51b7d"
            ],
            [
             0.2,
             "#de77ae"
            ],
            [
             0.3,
             "#f1b6da"
            ],
            [
             0.4,
             "#fde0ef"
            ],
            [
             0.5,
             "#f7f7f7"
            ],
            [
             0.6,
             "#e6f5d0"
            ],
            [
             0.7,
             "#b8e186"
            ],
            [
             0.8,
             "#7fbc41"
            ],
            [
             0.9,
             "#4d9221"
            ],
            [
             1,
             "#276419"
            ]
           ],
           "sequential": [
            [
             0,
             "#0d0887"
            ],
            [
             0.1111111111111111,
             "#46039f"
            ],
            [
             0.2222222222222222,
             "#7201a8"
            ],
            [
             0.3333333333333333,
             "#9c179e"
            ],
            [
             0.4444444444444444,
             "#bd3786"
            ],
            [
             0.5555555555555556,
             "#d8576b"
            ],
            [
             0.6666666666666666,
             "#ed7953"
            ],
            [
             0.7777777777777778,
             "#fb9f3a"
            ],
            [
             0.8888888888888888,
             "#fdca26"
            ],
            [
             1,
             "#f0f921"
            ]
           ],
           "sequentialminus": [
            [
             0,
             "#0d0887"
            ],
            [
             0.1111111111111111,
             "#46039f"
            ],
            [
             0.2222222222222222,
             "#7201a8"
            ],
            [
             0.3333333333333333,
             "#9c179e"
            ],
            [
             0.4444444444444444,
             "#bd3786"
            ],
            [
             0.5555555555555556,
             "#d8576b"
            ],
            [
             0.6666666666666666,
             "#ed7953"
            ],
            [
             0.7777777777777778,
             "#fb9f3a"
            ],
            [
             0.8888888888888888,
             "#fdca26"
            ],
            [
             1,
             "#f0f921"
            ]
           ]
          },
          "colorway": [
           "#636efa",
           "#EF553B",
           "#00cc96",
           "#ab63fa",
           "#FFA15A",
           "#19d3f3",
           "#FF6692",
           "#B6E880",
           "#FF97FF",
           "#FECB52"
          ],
          "font": {
           "color": "#2a3f5f"
          },
          "geo": {
           "bgcolor": "white",
           "lakecolor": "white",
           "landcolor": "#E5ECF6",
           "showlakes": true,
           "showland": true,
           "subunitcolor": "white"
          },
          "hoverlabel": {
           "align": "left"
          },
          "hovermode": "closest",
          "mapbox": {
           "style": "light"
          },
          "paper_bgcolor": "white",
          "plot_bgcolor": "#E5ECF6",
          "polar": {
           "angularaxis": {
            "gridcolor": "white",
            "linecolor": "white",
            "ticks": ""
           },
           "bgcolor": "#E5ECF6",
           "radialaxis": {
            "gridcolor": "white",
            "linecolor": "white",
            "ticks": ""
           }
          },
          "scene": {
           "xaxis": {
            "backgroundcolor": "#E5ECF6",
            "gridcolor": "white",
            "gridwidth": 2,
            "linecolor": "white",
            "showbackground": true,
            "ticks": "",
            "zerolinecolor": "white"
           },
           "yaxis": {
            "backgroundcolor": "#E5ECF6",
            "gridcolor": "white",
            "gridwidth": 2,
            "linecolor": "white",
            "showbackground": true,
            "ticks": "",
            "zerolinecolor": "white"
           },
           "zaxis": {
            "backgroundcolor": "#E5ECF6",
            "gridcolor": "white",
            "gridwidth": 2,
            "linecolor": "white",
            "showbackground": true,
            "ticks": "",
            "zerolinecolor": "white"
           }
          },
          "shapedefaults": {
           "line": {
            "color": "#2a3f5f"
           }
          },
          "ternary": {
           "aaxis": {
            "gridcolor": "white",
            "linecolor": "white",
            "ticks": ""
           },
           "baxis": {
            "gridcolor": "white",
            "linecolor": "white",
            "ticks": ""
           },
           "bgcolor": "#E5ECF6",
           "caxis": {
            "gridcolor": "white",
            "linecolor": "white",
            "ticks": ""
           }
          },
          "title": {
           "x": 0.05
          },
          "xaxis": {
           "automargin": true,
           "gridcolor": "white",
           "linecolor": "white",
           "ticks": "",
           "title": {
            "standoff": 15
           },
           "zerolinecolor": "white",
           "zerolinewidth": 2
          },
          "yaxis": {
           "automargin": true,
           "gridcolor": "white",
           "linecolor": "white",
           "ticks": "",
           "title": {
            "standoff": 15
           },
           "zerolinecolor": "white",
           "zerolinewidth": 2
          }
         }
        },
        "title": {
         "text": "2D Cluster PCA Plot"
        },
        "xaxis": {
         "anchor": "y",
         "domain": [
          0,
          1
         ],
         "title": {
          "text": "PCA1"
         }
        },
        "yaxis": {
         "anchor": "x",
         "domain": [
          0,
          1
         ],
         "title": {
          "text": "PCA2"
         }
        }
       }
      }
     },
     "metadata": {},
     "output_type": "display_data"
    }
   ],
   "source": [
    "evaluate_model(kmeans)"
   ]
  },
  {
   "cell_type": "code",
   "execution_count": 71,
   "metadata": {},
   "outputs": [],
   "source": [
    "result = assign_model(kmeans)"
   ]
  },
  {
   "cell_type": "code",
   "execution_count": 72,
   "metadata": {},
   "outputs": [
    {
     "data": {
      "text/html": [
       "<div>\n",
       "<style scoped>\n",
       "    .dataframe tbody tr th:only-of-type {\n",
       "        vertical-align: middle;\n",
       "    }\n",
       "\n",
       "    .dataframe tbody tr th {\n",
       "        vertical-align: top;\n",
       "    }\n",
       "\n",
       "    .dataframe thead th {\n",
       "        text-align: right;\n",
       "    }\n",
       "</style>\n",
       "<table border=\"1\" class=\"dataframe\">\n",
       "  <thead>\n",
       "    <tr style=\"text-align: right;\">\n",
       "      <th></th>\n",
       "      <th>Importe</th>\n",
       "      <th>Num_Medio</th>\n",
       "      <th>Cluster</th>\n",
       "    </tr>\n",
       "  </thead>\n",
       "  <tbody>\n",
       "    <tr>\n",
       "      <th>0</th>\n",
       "      <td>512435.00</td>\n",
       "      <td>0</td>\n",
       "      <td>Cluster 3</td>\n",
       "    </tr>\n",
       "    <tr>\n",
       "      <th>1</th>\n",
       "      <td>480000.00</td>\n",
       "      <td>1</td>\n",
       "      <td>Cluster 3</td>\n",
       "    </tr>\n",
       "    <tr>\n",
       "      <th>2</th>\n",
       "      <td>406560.00</td>\n",
       "      <td>2</td>\n",
       "      <td>Cluster 3</td>\n",
       "    </tr>\n",
       "    <tr>\n",
       "      <th>3</th>\n",
       "      <td>310495.68</td>\n",
       "      <td>3</td>\n",
       "      <td>Cluster 3</td>\n",
       "    </tr>\n",
       "    <tr>\n",
       "      <th>4</th>\n",
       "      <td>258456.00</td>\n",
       "      <td>1</td>\n",
       "      <td>Cluster 0</td>\n",
       "    </tr>\n",
       "    <tr>\n",
       "      <th>...</th>\n",
       "      <td>...</td>\n",
       "      <td>...</td>\n",
       "      <td>...</td>\n",
       "    </tr>\n",
       "    <tr>\n",
       "      <th>2558</th>\n",
       "      <td>202211.33</td>\n",
       "      <td>28</td>\n",
       "      <td>Cluster 1</td>\n",
       "    </tr>\n",
       "    <tr>\n",
       "      <th>2559</th>\n",
       "      <td>169884.00</td>\n",
       "      <td>24</td>\n",
       "      <td>Cluster 1</td>\n",
       "    </tr>\n",
       "    <tr>\n",
       "      <th>2560</th>\n",
       "      <td>162624.00</td>\n",
       "      <td>18</td>\n",
       "      <td>Cluster 0</td>\n",
       "    </tr>\n",
       "    <tr>\n",
       "      <th>2561</th>\n",
       "      <td>151250.00</td>\n",
       "      <td>17</td>\n",
       "      <td>Cluster 0</td>\n",
       "    </tr>\n",
       "    <tr>\n",
       "      <th>2562</th>\n",
       "      <td>100000.00</td>\n",
       "      <td>0</td>\n",
       "      <td>Cluster 0</td>\n",
       "    </tr>\n",
       "  </tbody>\n",
       "</table>\n",
       "<p>2563 rows × 3 columns</p>\n",
       "</div>"
      ],
      "text/plain": [
       "        Importe  Num_Medio    Cluster\n",
       "0     512435.00          0  Cluster 3\n",
       "1     480000.00          1  Cluster 3\n",
       "2     406560.00          2  Cluster 3\n",
       "3     310495.68          3  Cluster 3\n",
       "4     258456.00          1  Cluster 0\n",
       "...         ...        ...        ...\n",
       "2558  202211.33         28  Cluster 1\n",
       "2559  169884.00         24  Cluster 1\n",
       "2560  162624.00         18  Cluster 0\n",
       "2561  151250.00         17  Cluster 0\n",
       "2562  100000.00          0  Cluster 0\n",
       "\n",
       "[2563 rows x 3 columns]"
      ]
     },
     "execution_count": 72,
     "metadata": {},
     "output_type": "execute_result"
    }
   ],
   "source": [
    "result"
   ]
  },
  {
   "cell_type": "code",
   "execution_count": 85,
   "metadata": {},
   "outputs": [],
   "source": [
    "clust_0 = result[result['Cluster'] == 'Cluster 0']['Importe'].sum()\n",
    "clust_1 = result[result['Cluster'] == 'Cluster 1']['Importe'].sum()\n",
    "clust_2 = result[result['Cluster'] == 'Cluster 2']['Importe'].sum()\n",
    "clust_3 = result[result['Cluster'] == 'Cluster 3']['Importe'].sum()"
   ]
  },
  {
   "cell_type": "code",
   "execution_count": 86,
   "metadata": {},
   "outputs": [
    {
     "data": {
      "text/plain": [
       "247034484.05"
      ]
     },
     "execution_count": 86,
     "metadata": {},
     "output_type": "execute_result"
    }
   ],
   "source": [
    "gasto_total = clust_0 + clust_1 + clust_2 + clust_3\n",
    "gasto_total"
   ]
  },
  {
   "cell_type": "code",
   "execution_count": 87,
   "metadata": {},
   "outputs": [],
   "source": [
    "clust_0_porc = (clust_0 / gasto_total) * 100\n",
    "clust_1_porc = (clust_1 / gasto_total) * 100\n",
    "clust_2_porc = (clust_2 / gasto_total) * 100\n",
    "clust_3_porc = (clust_3 / gasto_total) * 100"
   ]
  },
  {
   "cell_type": "code",
   "execution_count": 88,
   "metadata": {},
   "outputs": [
    {
     "name": "stdout",
     "output_type": "stream",
     "text": [
      "22.605027854612185 18.83766782154234 20.18394557008811 38.37335875375736\n"
     ]
    }
   ],
   "source": [
    "print(clust_0_porc, clust_1_porc, clust_2_porc, clust_3_porc)"
   ]
  },
  {
   "cell_type": "code",
   "execution_count": 91,
   "metadata": {},
   "outputs": [
    {
     "data": {
      "text/plain": [
       "23"
      ]
     },
     "execution_count": 91,
     "metadata": {},
     "output_type": "execute_result"
    }
   ],
   "source": [
    "len(result[result['Cluster'] == 'Cluster 3']['Num_Medio'].unique())"
   ]
  },
  {
   "cell_type": "code",
   "execution_count": 110,
   "metadata": {},
   "outputs": [],
   "source": [
    "values_cluster_3 = result[result['Cluster'] == 'Cluster 3']['Num_Medio'].unique()\n",
    "values_cluster_0 = result[result['Cluster'] == 'Cluster 0']['Num_Medio'].unique()\n",
    "values_cluster_1 = result[result['Cluster'] == 'Cluster 1']['Num_Medio'].unique()\n",
    "values_cluster_2 = result[result['Cluster'] == 'Cluster 2']['Num_Medio'].unique()"
   ]
  },
  {
   "cell_type": "code",
   "execution_count": 106,
   "metadata": {},
   "outputs": [],
   "source": [
    "inv_mapping = {v: k for k, v in mapping.items()}"
   ]
  },
  {
   "cell_type": "code",
   "execution_count": 109,
   "metadata": {},
   "outputs": [
    {
     "data": {
      "text/plain": [
       "['FM 95.1 METRO',\n",
       " 'AM 790 RADIO MITRE',\n",
       " 'FM 99.9 LA 100',\n",
       " 'AM 990 LA 990',\n",
       " 'FM 98.3 MEGA',\n",
       " 'FM 101.5 POP',\n",
       " 'FM 89.9 RADIO CON VOS',\n",
       " 'AM 950 CNN',\n",
       " 'AM 910 LA RED',\n",
       " 'FM 102.3 ASPEN',\n",
       " 'AM 710 RADIO DIEZ',\n",
       " 'FM 103.1 RADIO ONE',\n",
       " 'FM 97.5 VALE',\n",
       " 'FM 95.9 ROCK AND POP',\n",
       " 'FM 92.1 VORTERIX',\n",
       " 'FM 105.5 LOS 40 PRINCIPALES',\n",
       " 'AM 630 RIVADAVIA',\n",
       " 'AM 750',\n",
       " 'AM 550 RADIO COLONIA',\n",
       " 'FM 94.3 RADIO DISNEY',\n",
       " 'AM 590 CONTINENTAL',\n",
       " 'FM 100.7 BLUE',\n",
       " 'FM 101.1 LATINA']"
      ]
     },
     "execution_count": 109,
     "metadata": {},
     "output_type": "execute_result"
    }
   ],
   "source": [
    "[inv_mapping[i] for i in values_cluster_3]"
   ]
  },
  {
   "cell_type": "code",
   "execution_count": 114,
   "metadata": {},
   "outputs": [
    {
     "data": {
      "text/plain": [
       "['FM 99.9 LA 100',\n",
       " 'AM 790 RADIO MITRE',\n",
       " 'FM 101.5 POP',\n",
       " 'AM 710 RADIO DIEZ',\n",
       " 'FM 94.3 RADIO DISNEY',\n",
       " 'FM 95.1 METRO',\n",
       " 'AM 910 LA RED',\n",
       " 'CADENA 3',\n",
       " 'GRUPO LITORAL']"
      ]
     },
     "execution_count": 114,
     "metadata": {},
     "output_type": "execute_result"
    }
   ],
   "source": [
    "[inv_mapping[i] for i in values_cluster_2]"
   ]
  },
  {
   "cell_type": "code",
   "execution_count": 113,
   "metadata": {},
   "outputs": [
    {
     "data": {
      "text/plain": [
       "<AxesSubplot:xlabel='Cluster', ylabel='Importe'>"
      ]
     },
     "execution_count": 113,
     "metadata": {},
     "output_type": "execute_result"
    },
    {
     "data": {
      "image/png": "[encoded data removed]",
      "text/plain": [
       "<Figure size 576x396 with 1 Axes>"
      ]
     },
     "metadata": {},
     "output_type": "display_data"
    }
   ],
   "source": [
    "# Generete a box plot for each 'Cluster 0','Cluster 1', 'Cluster 2' and 'Cluster 3'\n",
    "sns.boxplot(x='Cluster', y='Importe', data=result)"
   ]
  },
  {
   "cell_type": "code",
   "execution_count": 130,
   "metadata": {},
   "outputs": [
    {
     "data": {
      "text/plain": [
       "<AxesSubplot:xlabel='Num_Medio'>"
      ]
     },
     "execution_count": 130,
     "metadata": {},
     "output_type": "execute_result"
    },
    {
     "data": {
      "image/png": "[encoded data removed]",
      "text/plain": [
       "<Figure size 576x396 with 1 Axes>"
      ]
     },
     "metadata": {},
     "output_type": "display_data"
    }
   ],
   "source": [
    "result.groupby('Num_Medio')['Importe'].sum().sort_values(ascending=False).head(10).plot(kind='bar')"
   ]
  },
  {
   "cell_type": "code",
   "execution_count": 125,
   "metadata": {},
   "outputs": [
    {
     "data": {
      "text/plain": [
       "Num_Medio\n",
       "1     12.088472\n",
       "2      8.895050\n",
       "10     5.715900\n",
       "0      5.586237\n",
       "15     5.254869\n",
       "4      4.592149\n",
       "7      4.514501\n",
       "18     4.332230\n",
       "17     4.253466\n",
       "9      4.211570\n",
       "Name: Importe, dtype: float64"
      ]
     },
     "execution_count": 125,
     "metadata": {},
     "output_type": "execute_result"
    }
   ],
   "source": [
    "result.groupby('Num_Medio')['Importe'].sum().sort_values(ascending=False).head(10).apply(lambda x: x / gasto_total * 100)"
   ]
  },
  {
   "cell_type": "code",
   "execution_count": 129,
   "metadata": {},
   "outputs": [
    {
     "data": {
      "text/plain": [
       "['AM 790 RADIO MITRE',\n",
       " 'FM 99.9 LA 100',\n",
       " 'AM 710 RADIO DIEZ',\n",
       " 'FM 95.1 METRO',\n",
       " 'FM 101.5 POP',\n",
       " 'FM 95.9 ROCK AND POP',\n",
       " 'FM 94.3 RADIO DISNEY',\n",
       " 'AM 910 LA RED',\n",
       " 'AM 950 CNN',\n",
       " 'AM 630 RIVADAVIA']"
      ]
     },
     "execution_count": 129,
     "metadata": {},
     "output_type": "execute_result"
    }
   ],
   "source": [
    "#Use inverse mapping to get the names of the 10 medios with the highest Importe and plot a histogram\n",
    "[inv_mapping[i] for i in result.groupby('Num_Medio')['Importe'].sum().sort_values(ascending=False).head(10).index]\n"
   ]
  },
  {
   "cell_type": "code",
   "execution_count": 131,
   "metadata": {},
   "outputs": [],
   "source": [
    "# use inverse mapping to add a column with the names of the medios\n",
    "result['Medio'] = result['Num_Medio'].apply(lambda x: inv_mapping[x])"
   ]
  },
  {
   "cell_type": "code",
   "execution_count": 137,
   "metadata": {},
   "outputs": [],
   "source": [
    "result['Importe_m'] = result['Importe']/(1e6)"
   ]
  },
  {
   "cell_type": "code",
   "execution_count": 141,
   "metadata": {},
   "outputs": [
    {
     "data": {
      "text/plain": [
       "<AxesSubplot:xlabel='Medio', ylabel='Importe (millones de pesos)'>"
      ]
     },
     "execution_count": 141,
     "metadata": {},
     "output_type": "execute_result"
    },
    {
     "data": {
      "image/png": "[encoded data removed]",
      "text/plain": [
       "<Figure size 576x396 with 1 Axes>"
      ]
     },
     "metadata": {},
     "output_type": "display_data"
    }
   ],
   "source": [
    "from cProfile import label\n",
    "\n",
    "\n",
    "result.groupby('Medio')['Importe_m'].sum().sort_values(ascending=False).head(10).plot(kind='bar',ylabel='Importe (millones de pesos)')"
   ]
  },
  {
   "cell_type": "code",
   "execution_count": null,
   "metadata": {},
   "outputs": [],
   "source": []
  }
 ],
 "metadata": {
  "kernelspec": {
   "display_name": "Python 3.8.13 ('pycaret2')",
   "language": "python",
   "name": "python3"
  },
  "language_info": {
   "codemirror_mode": {
    "name": "ipython",
    "version": 3
   },
   "file_extension": ".py",
   "mimetype": "text/x-python",
   "name": "python",
   "nbconvert_exporter": "python",
   "pygments_lexer": "ipython3",
   "version": "3.8.13"
  },
  "orig_nbformat": 4,
  "vscode": {
   "interpreter": {
    "hash": "33b7e6f42d5c92d6b814a1f6cf038b869e4ed5abed6f4d7226a210bd44c06fed"
   }
  }
 },
 "nbformat": 4,
 "nbformat_minor": 2
}
