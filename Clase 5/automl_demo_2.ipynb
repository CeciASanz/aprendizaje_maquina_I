{
 "cells": [
  {
   "cell_type": "code",
   "execution_count": 61,
   "metadata": {},
   "outputs": [],
   "source": [
    "from sklearn.datasets import load_breast_cancer\n",
    "import pandas as pd\n",
    "import numpy as np\n",
    "from sklearn.model_selection import train_test_split\n",
    "from sklearn.ensemble import RandomForestClassifier\n",
    "\n",
    "import matplotlib.pyplot as plt\n",
    "import seaborn as sns\n",
    "from sklearn.metrics import confusion_matrix\n",
    "from pycaret.datasets import get_data\n",
    "from pycaret.classification import *"
   ]
  },
  {
   "cell_type": "code",
   "execution_count": 62,
   "metadata": {},
   "outputs": [
    {
     "data": {
      "text/html": [
       "<div>\n",
       "<style scoped>\n",
       "    .dataframe tbody tr th:only-of-type {\n",
       "        vertical-align: middle;\n",
       "    }\n",
       "\n",
       "    .dataframe tbody tr th {\n",
       "        vertical-align: top;\n",
       "    }\n",
       "\n",
       "    .dataframe thead th {\n",
       "        text-align: right;\n",
       "    }\n",
       "</style>\n",
       "<table border=\"1\" class=\"dataframe\">\n",
       "  <thead>\n",
       "    <tr style=\"text-align: right;\">\n",
       "      <th></th>\n",
       "      <th>Class</th>\n",
       "      <th>age</th>\n",
       "      <th>menopause</th>\n",
       "      <th>tumor-size</th>\n",
       "      <th>inv-nodes</th>\n",
       "      <th>node-caps</th>\n",
       "      <th>deg-malig</th>\n",
       "      <th>breast</th>\n",
       "      <th>breast-quad</th>\n",
       "      <th>irradiat</th>\n",
       "    </tr>\n",
       "  </thead>\n",
       "  <tbody>\n",
       "    <tr>\n",
       "      <th>0</th>\n",
       "      <td>0</td>\n",
       "      <td>5</td>\n",
       "      <td>1</td>\n",
       "      <td>1</td>\n",
       "      <td>1</td>\n",
       "      <td>2</td>\n",
       "      <td>1</td>\n",
       "      <td>3</td>\n",
       "      <td>1</td>\n",
       "      <td>1</td>\n",
       "    </tr>\n",
       "    <tr>\n",
       "      <th>1</th>\n",
       "      <td>0</td>\n",
       "      <td>5</td>\n",
       "      <td>4</td>\n",
       "      <td>4</td>\n",
       "      <td>5</td>\n",
       "      <td>7</td>\n",
       "      <td>10</td>\n",
       "      <td>3</td>\n",
       "      <td>2</td>\n",
       "      <td>1</td>\n",
       "    </tr>\n",
       "    <tr>\n",
       "      <th>2</th>\n",
       "      <td>0</td>\n",
       "      <td>3</td>\n",
       "      <td>1</td>\n",
       "      <td>1</td>\n",
       "      <td>1</td>\n",
       "      <td>2</td>\n",
       "      <td>2</td>\n",
       "      <td>3</td>\n",
       "      <td>1</td>\n",
       "      <td>1</td>\n",
       "    </tr>\n",
       "    <tr>\n",
       "      <th>3</th>\n",
       "      <td>0</td>\n",
       "      <td>6</td>\n",
       "      <td>8</td>\n",
       "      <td>8</td>\n",
       "      <td>1</td>\n",
       "      <td>3</td>\n",
       "      <td>4</td>\n",
       "      <td>3</td>\n",
       "      <td>7</td>\n",
       "      <td>1</td>\n",
       "    </tr>\n",
       "    <tr>\n",
       "      <th>4</th>\n",
       "      <td>0</td>\n",
       "      <td>4</td>\n",
       "      <td>1</td>\n",
       "      <td>1</td>\n",
       "      <td>3</td>\n",
       "      <td>2</td>\n",
       "      <td>1</td>\n",
       "      <td>3</td>\n",
       "      <td>1</td>\n",
       "      <td>1</td>\n",
       "    </tr>\n",
       "  </tbody>\n",
       "</table>\n",
       "</div>"
      ],
      "text/plain": [
       "   Class  age  menopause  tumor-size  inv-nodes  node-caps  deg-malig  breast  \\\n",
       "0      0    5          1           1          1          2          1       3   \n",
       "1      0    5          4           4          5          7         10       3   \n",
       "2      0    3          1           1          1          2          2       3   \n",
       "3      0    6          8           8          1          3          4       3   \n",
       "4      0    4          1           1          3          2          1       3   \n",
       "\n",
       "   breast-quad  irradiat  \n",
       "0            1         1  \n",
       "1            2         1  \n",
       "2            1         1  \n",
       "3            7         1  \n",
       "4            1         1  "
      ]
     },
     "metadata": {},
     "output_type": "display_data"
    }
   ],
   "source": [
    "df = get_data('cancer')"
   ]
  },
  {
   "cell_type": "code",
   "execution_count": 63,
   "metadata": {},
   "outputs": [
    {
     "data": {
      "text/plain": [
       "0    444\n",
       "1    239\n",
       "Name: Class, dtype: int64"
      ]
     },
     "execution_count": 63,
     "metadata": {},
     "output_type": "execute_result"
    }
   ],
   "source": [
    "df['Class'].value_counts()"
   ]
  },
  {
   "cell_type": "code",
   "execution_count": 64,
   "metadata": {},
   "outputs": [],
   "source": [
    "# Split the data and use randomForest as the model\n",
    "X_train, X_test, y_train, y_test = train_test_split(df.drop('Class', axis=1), df['Class'], test_size=0.2, random_state=42,stratify=df['Class'])"
   ]
  },
  {
   "cell_type": "code",
   "execution_count": 65,
   "metadata": {},
   "outputs": [
    {
     "data": {
      "text/plain": [
       "RandomForestClassifier(bootstrap=True, ccp_alpha=0.0, class_weight=None,\n",
       "                       criterion='gini', max_depth=5, max_features='auto',\n",
       "                       max_leaf_nodes=None, max_samples=None,\n",
       "                       min_impurity_decrease=0.0, min_impurity_split=None,\n",
       "                       min_samples_leaf=1, min_samples_split=2,\n",
       "                       min_weight_fraction_leaf=0.0, n_estimators=100,\n",
       "                       n_jobs=None, oob_score=False, random_state=0, verbose=0,\n",
       "                       warm_start=False)"
      ]
     },
     "execution_count": 65,
     "metadata": {},
     "output_type": "execute_result"
    }
   ],
   "source": [
    "clf = RandomForestClassifier(n_estimators=100, max_depth=5, random_state=0)\n",
    "clf.fit(X_train, y_train)"
   ]
  },
  {
   "cell_type": "code",
   "execution_count": 66,
   "metadata": {},
   "outputs": [
    {
     "data": {
      "text/plain": [
       "array([[85,  4],\n",
       "       [ 1, 47]], dtype=int64)"
      ]
     },
     "execution_count": 66,
     "metadata": {},
     "output_type": "execute_result"
    }
   ],
   "source": [
    "# Test the model and print the matrix of confusion\n",
    "from sklearn.metrics import confusion_matrix  \n",
    "y_pred = clf.predict(X_test)\n",
    "confusion_matrix(y_test, y_pred)"
   ]
  },
  {
   "cell_type": "code",
   "execution_count": 67,
   "metadata": {},
   "outputs": [
    {
     "data": {
      "image/png": "[encoded data removed]",
      "text/plain": [
       "<Figure size 800x550 with 2 Axes>"
      ]
     },
     "metadata": {},
     "output_type": "display_data"
    }
   ],
   "source": [
    "cm = confusion_matrix(y_test, y_pred)\n",
    "ax= plt.subplot()\n",
    "sns.heatmap(cm, annot=True, ax = ax, fmt='g'); "
   ]
  },
  {
   "cell_type": "code",
   "execution_count": 68,
   "metadata": {},
   "outputs": [
    {
     "data": {
      "image/png": "[encoded data removed]",
      "text/plain": [
       "<Figure size 800x550 with 1 Axes>"
      ]
     },
     "metadata": {},
     "output_type": "display_data"
    }
   ],
   "source": [
    "# Plot features importance\n",
    "importances = clf.feature_importances_\n",
    "indices = np.argsort(importances)[::-1]\n",
    "plt.figure()\n",
    "plt.title(\"Feature importances\")\n",
    "plt.bar(range(X_train.shape[1]), importances[indices],\n",
    "         color=\"r\", align=\"center\")\n",
    "plt.xticks(range(X_train.shape[1]), indices)\n",
    "plt.xlim([-1, X_train.shape[1]])\n",
    "plt.show()"
   ]
  },
  {
   "cell_type": "code",
   "execution_count": 69,
   "metadata": {},
   "outputs": [
    {
     "name": "stdout",
     "output_type": "stream",
     "text": [
      "1. feature 1 (0.264771) age\n",
      "2. feature 2 (0.234274) menopause\n",
      "3. feature 5 (0.192888) node-caps\n",
      "4. feature 6 (0.097884) deg-malig\n"
     ]
    }
   ],
   "source": [
    "# Print the 10 most important features with the name of the column\n",
    "columns_importance = []\n",
    "importance_list = []\n",
    "for f in range(0,4):\n",
    "    print(\"%d. feature %d (%f)\" % (f + 1, indices[f], importances[indices[f]]), df.columns[indices[f]])\n",
    "    columns_importance.append(df.columns[indices[f]])\n",
    "    importance_list.append(importances[indices[f]])\n",
    "    \n",
    "    "
   ]
  },
  {
   "cell_type": "code",
   "execution_count": 70,
   "metadata": {},
   "outputs": [
    {
     "data": {
      "text/plain": [
       "0.789816106736133"
      ]
     },
     "execution_count": 70,
     "metadata": {},
     "output_type": "execute_result"
    }
   ],
   "source": [
    "np.sum(importance_list)"
   ]
  },
  {
   "cell_type": "code",
   "execution_count": 71,
   "metadata": {},
   "outputs": [],
   "source": [
    "columns_importance.append('Class')"
   ]
  },
  {
   "cell_type": "code",
   "execution_count": 72,
   "metadata": {},
   "outputs": [],
   "source": [
    "df = df[columns_importance]"
   ]
  },
  {
   "cell_type": "code",
   "execution_count": 73,
   "metadata": {},
   "outputs": [
    {
     "data": {
      "image/png": "[encoded data removed]",
      "text/plain": [
       "<Figure size 1000x1000 with 2 Axes>"
      ]
     },
     "metadata": {},
     "output_type": "display_data"
    }
   ],
   "source": [
    "# Plot a correlation matrix\n",
    "corr = df.corr()\n",
    "plt.figure(figsize=(10,10))\n",
    "sns.heatmap(corr, annot=True, fmt='.2f', cmap='coolwarm', linewidths=0.2)\n",
    "plt.show()"
   ]
  },
  {
   "cell_type": "code",
   "execution_count": 74,
   "metadata": {},
   "outputs": [
    {
     "data": {
      "text/html": [
       "<div>\n",
       "<style scoped>\n",
       "    .dataframe tbody tr th:only-of-type {\n",
       "        vertical-align: middle;\n",
       "    }\n",
       "\n",
       "    .dataframe tbody tr th {\n",
       "        vertical-align: top;\n",
       "    }\n",
       "\n",
       "    .dataframe thead th {\n",
       "        text-align: right;\n",
       "    }\n",
       "</style>\n",
       "<table border=\"1\" class=\"dataframe\">\n",
       "  <thead>\n",
       "    <tr style=\"text-align: right;\">\n",
       "      <th></th>\n",
       "      <th>age</th>\n",
       "      <th>menopause</th>\n",
       "      <th>node-caps</th>\n",
       "      <th>deg-malig</th>\n",
       "      <th>Class</th>\n",
       "    </tr>\n",
       "  </thead>\n",
       "  <tbody>\n",
       "    <tr>\n",
       "      <th>count</th>\n",
       "      <td>683.000000</td>\n",
       "      <td>683.000000</td>\n",
       "      <td>683.000000</td>\n",
       "      <td>683.000000</td>\n",
       "      <td>683.000000</td>\n",
       "    </tr>\n",
       "    <tr>\n",
       "      <th>mean</th>\n",
       "      <td>4.442167</td>\n",
       "      <td>3.150805</td>\n",
       "      <td>3.234261</td>\n",
       "      <td>3.544656</td>\n",
       "      <td>0.349927</td>\n",
       "    </tr>\n",
       "    <tr>\n",
       "      <th>std</th>\n",
       "      <td>2.820761</td>\n",
       "      <td>3.065145</td>\n",
       "      <td>2.223085</td>\n",
       "      <td>3.643857</td>\n",
       "      <td>0.477296</td>\n",
       "    </tr>\n",
       "    <tr>\n",
       "      <th>min</th>\n",
       "      <td>1.000000</td>\n",
       "      <td>1.000000</td>\n",
       "      <td>1.000000</td>\n",
       "      <td>1.000000</td>\n",
       "      <td>0.000000</td>\n",
       "    </tr>\n",
       "    <tr>\n",
       "      <th>25%</th>\n",
       "      <td>2.000000</td>\n",
       "      <td>1.000000</td>\n",
       "      <td>2.000000</td>\n",
       "      <td>1.000000</td>\n",
       "      <td>0.000000</td>\n",
       "    </tr>\n",
       "    <tr>\n",
       "      <th>50%</th>\n",
       "      <td>4.000000</td>\n",
       "      <td>1.000000</td>\n",
       "      <td>2.000000</td>\n",
       "      <td>1.000000</td>\n",
       "      <td>0.000000</td>\n",
       "    </tr>\n",
       "    <tr>\n",
       "      <th>75%</th>\n",
       "      <td>6.000000</td>\n",
       "      <td>5.000000</td>\n",
       "      <td>4.000000</td>\n",
       "      <td>6.000000</td>\n",
       "      <td>1.000000</td>\n",
       "    </tr>\n",
       "    <tr>\n",
       "      <th>max</th>\n",
       "      <td>10.000000</td>\n",
       "      <td>10.000000</td>\n",
       "      <td>10.000000</td>\n",
       "      <td>10.000000</td>\n",
       "      <td>1.000000</td>\n",
       "    </tr>\n",
       "  </tbody>\n",
       "</table>\n",
       "</div>"
      ],
      "text/plain": [
       "              age   menopause   node-caps   deg-malig       Class\n",
       "count  683.000000  683.000000  683.000000  683.000000  683.000000\n",
       "mean     4.442167    3.150805    3.234261    3.544656    0.349927\n",
       "std      2.820761    3.065145    2.223085    3.643857    0.477296\n",
       "min      1.000000    1.000000    1.000000    1.000000    0.000000\n",
       "25%      2.000000    1.000000    2.000000    1.000000    0.000000\n",
       "50%      4.000000    1.000000    2.000000    1.000000    0.000000\n",
       "75%      6.000000    5.000000    4.000000    6.000000    1.000000\n",
       "max     10.000000   10.000000   10.000000   10.000000    1.000000"
      ]
     },
     "execution_count": 74,
     "metadata": {},
     "output_type": "execute_result"
    }
   ],
   "source": [
    "df.describe()"
   ]
  },
  {
   "cell_type": "code",
   "execution_count": 75,
   "metadata": {},
   "outputs": [
    {
     "data": {
      "text/plain": [
       "Index(['age', 'menopause', 'node-caps', 'deg-malig', 'Class'], dtype='object')"
      ]
     },
     "execution_count": 75,
     "metadata": {},
     "output_type": "execute_result"
    }
   ],
   "source": [
    "df.columns"
   ]
  },
  {
   "cell_type": "code",
   "execution_count": 76,
   "metadata": {},
   "outputs": [
    {
     "data": {
      "text/html": [
       "<div>\n",
       "<style scoped>\n",
       "    .dataframe tbody tr th:only-of-type {\n",
       "        vertical-align: middle;\n",
       "    }\n",
       "\n",
       "    .dataframe tbody tr th {\n",
       "        vertical-align: top;\n",
       "    }\n",
       "\n",
       "    .dataframe thead th {\n",
       "        text-align: right;\n",
       "    }\n",
       "</style>\n",
       "<table border=\"1\" class=\"dataframe\">\n",
       "  <thead>\n",
       "    <tr style=\"text-align: right;\">\n",
       "      <th></th>\n",
       "      <th>age</th>\n",
       "      <th>menopause</th>\n",
       "      <th>node-caps</th>\n",
       "      <th>deg-malig</th>\n",
       "      <th>Class</th>\n",
       "    </tr>\n",
       "  </thead>\n",
       "  <tbody>\n",
       "    <tr>\n",
       "      <th>0</th>\n",
       "      <td>5</td>\n",
       "      <td>1</td>\n",
       "      <td>2</td>\n",
       "      <td>1</td>\n",
       "      <td>0</td>\n",
       "    </tr>\n",
       "    <tr>\n",
       "      <th>1</th>\n",
       "      <td>5</td>\n",
       "      <td>4</td>\n",
       "      <td>7</td>\n",
       "      <td>10</td>\n",
       "      <td>0</td>\n",
       "    </tr>\n",
       "    <tr>\n",
       "      <th>2</th>\n",
       "      <td>3</td>\n",
       "      <td>1</td>\n",
       "      <td>2</td>\n",
       "      <td>2</td>\n",
       "      <td>0</td>\n",
       "    </tr>\n",
       "    <tr>\n",
       "      <th>3</th>\n",
       "      <td>6</td>\n",
       "      <td>8</td>\n",
       "      <td>3</td>\n",
       "      <td>4</td>\n",
       "      <td>0</td>\n",
       "    </tr>\n",
       "    <tr>\n",
       "      <th>4</th>\n",
       "      <td>4</td>\n",
       "      <td>1</td>\n",
       "      <td>2</td>\n",
       "      <td>1</td>\n",
       "      <td>0</td>\n",
       "    </tr>\n",
       "  </tbody>\n",
       "</table>\n",
       "</div>"
      ],
      "text/plain": [
       "   age  menopause  node-caps  deg-malig  Class\n",
       "0    5          1          2          1      0\n",
       "1    5          4          7         10      0\n",
       "2    3          1          2          2      0\n",
       "3    6          8          3          4      0\n",
       "4    4          1          2          1      0"
      ]
     },
     "execution_count": 76,
     "metadata": {},
     "output_type": "execute_result"
    }
   ],
   "source": [
    "df.head()"
   ]
  },
  {
   "cell_type": "code",
   "execution_count": 77,
   "metadata": {},
   "outputs": [
    {
     "data": {
      "text/plain": [
       "age          int64\n",
       "menopause    int64\n",
       "node-caps    int64\n",
       "deg-malig    int64\n",
       "Class        int64\n",
       "dtype: object"
      ]
     },
     "execution_count": 77,
     "metadata": {},
     "output_type": "execute_result"
    }
   ],
   "source": [
    "df.dtypes"
   ]
  },
  {
   "cell_type": "code",
   "execution_count": 81,
   "metadata": {},
   "outputs": [
    {
     "name": "stdout",
     "output_type": "stream",
     "text": [
      "Accuracy of RF classifier on training set: 0.99\n",
      "Accuracy of RF classifier on test set: 0.96\n"
     ]
    }
   ],
   "source": [
    "# Print accuraccy in test and train\n",
    "print('Accuracy of RF classifier on training set: {:.2f}'\n",
    "        .format(clf.score(X_train, y_train)))\n",
    "print('Accuracy of RF classifier on test set: {:.2f}'\n",
    "        .format(clf.score(X_test, y_test)))\n"
   ]
  },
  {
   "cell_type": "code",
   "execution_count": 59,
   "metadata": {},
   "outputs": [
    {
     "data": {
      "text/html": [
       "<style type=\"text/css\">\n",
       "#T_c39bb_row19_col1, #T_c39bb_row44_col1, #T_c39bb_row58_col1 {\n",
       "  background-color: lightgreen;\n",
       "}\n",
       "</style>\n",
       "<table id=\"T_c39bb\">\n",
       "  <thead>\n",
       "    <tr>\n",
       "      <th class=\"blank level0\" >&nbsp;</th>\n",
       "      <th id=\"T_c39bb_level0_col0\" class=\"col_heading level0 col0\" >Description</th>\n",
       "      <th id=\"T_c39bb_level0_col1\" class=\"col_heading level0 col1\" >Value</th>\n",
       "    </tr>\n",
       "  </thead>\n",
       "  <tbody>\n",
       "    <tr>\n",
       "      <th id=\"T_c39bb_level0_row0\" class=\"row_heading level0 row0\" >0</th>\n",
       "      <td id=\"T_c39bb_row0_col0\" class=\"data row0 col0\" >session_id</td>\n",
       "      <td id=\"T_c39bb_row0_col1\" class=\"data row0 col1\" >123</td>\n",
       "    </tr>\n",
       "    <tr>\n",
       "      <th id=\"T_c39bb_level0_row1\" class=\"row_heading level0 row1\" >1</th>\n",
       "      <td id=\"T_c39bb_row1_col0\" class=\"data row1 col0\" >Target</td>\n",
       "      <td id=\"T_c39bb_row1_col1\" class=\"data row1 col1\" >Class</td>\n",
       "    </tr>\n",
       "    <tr>\n",
       "      <th id=\"T_c39bb_level0_row2\" class=\"row_heading level0 row2\" >2</th>\n",
       "      <td id=\"T_c39bb_row2_col0\" class=\"data row2 col0\" >Target Type</td>\n",
       "      <td id=\"T_c39bb_row2_col1\" class=\"data row2 col1\" >Binary</td>\n",
       "    </tr>\n",
       "    <tr>\n",
       "      <th id=\"T_c39bb_level0_row3\" class=\"row_heading level0 row3\" >3</th>\n",
       "      <td id=\"T_c39bb_row3_col0\" class=\"data row3 col0\" >Label Encoded</td>\n",
       "      <td id=\"T_c39bb_row3_col1\" class=\"data row3 col1\" >None</td>\n",
       "    </tr>\n",
       "    <tr>\n",
       "      <th id=\"T_c39bb_level0_row4\" class=\"row_heading level0 row4\" >4</th>\n",
       "      <td id=\"T_c39bb_row4_col0\" class=\"data row4 col0\" >Original Data</td>\n",
       "      <td id=\"T_c39bb_row4_col1\" class=\"data row4 col1\" >(683, 5)</td>\n",
       "    </tr>\n",
       "    <tr>\n",
       "      <th id=\"T_c39bb_level0_row5\" class=\"row_heading level0 row5\" >5</th>\n",
       "      <td id=\"T_c39bb_row5_col0\" class=\"data row5 col0\" >Missing Values</td>\n",
       "      <td id=\"T_c39bb_row5_col1\" class=\"data row5 col1\" >False</td>\n",
       "    </tr>\n",
       "    <tr>\n",
       "      <th id=\"T_c39bb_level0_row6\" class=\"row_heading level0 row6\" >6</th>\n",
       "      <td id=\"T_c39bb_row6_col0\" class=\"data row6 col0\" >Numeric Features</td>\n",
       "      <td id=\"T_c39bb_row6_col1\" class=\"data row6 col1\" >0</td>\n",
       "    </tr>\n",
       "    <tr>\n",
       "      <th id=\"T_c39bb_level0_row7\" class=\"row_heading level0 row7\" >7</th>\n",
       "      <td id=\"T_c39bb_row7_col0\" class=\"data row7 col0\" >Categorical Features</td>\n",
       "      <td id=\"T_c39bb_row7_col1\" class=\"data row7 col1\" >4</td>\n",
       "    </tr>\n",
       "    <tr>\n",
       "      <th id=\"T_c39bb_level0_row8\" class=\"row_heading level0 row8\" >8</th>\n",
       "      <td id=\"T_c39bb_row8_col0\" class=\"data row8 col0\" >Ordinal Features</td>\n",
       "      <td id=\"T_c39bb_row8_col1\" class=\"data row8 col1\" >False</td>\n",
       "    </tr>\n",
       "    <tr>\n",
       "      <th id=\"T_c39bb_level0_row9\" class=\"row_heading level0 row9\" >9</th>\n",
       "      <td id=\"T_c39bb_row9_col0\" class=\"data row9 col0\" >High Cardinality Features</td>\n",
       "      <td id=\"T_c39bb_row9_col1\" class=\"data row9 col1\" >False</td>\n",
       "    </tr>\n",
       "    <tr>\n",
       "      <th id=\"T_c39bb_level0_row10\" class=\"row_heading level0 row10\" >10</th>\n",
       "      <td id=\"T_c39bb_row10_col0\" class=\"data row10 col0\" >High Cardinality Method</td>\n",
       "      <td id=\"T_c39bb_row10_col1\" class=\"data row10 col1\" >None</td>\n",
       "    </tr>\n",
       "    <tr>\n",
       "      <th id=\"T_c39bb_level0_row11\" class=\"row_heading level0 row11\" >11</th>\n",
       "      <td id=\"T_c39bb_row11_col0\" class=\"data row11 col0\" >Transformed Train Set</td>\n",
       "      <td id=\"T_c39bb_row11_col1\" class=\"data row11 col1\" >(478, 40)</td>\n",
       "    </tr>\n",
       "    <tr>\n",
       "      <th id=\"T_c39bb_level0_row12\" class=\"row_heading level0 row12\" >12</th>\n",
       "      <td id=\"T_c39bb_row12_col0\" class=\"data row12 col0\" >Transformed Test Set</td>\n",
       "      <td id=\"T_c39bb_row12_col1\" class=\"data row12 col1\" >(205, 40)</td>\n",
       "    </tr>\n",
       "    <tr>\n",
       "      <th id=\"T_c39bb_level0_row13\" class=\"row_heading level0 row13\" >13</th>\n",
       "      <td id=\"T_c39bb_row13_col0\" class=\"data row13 col0\" >Shuffle Train-Test</td>\n",
       "      <td id=\"T_c39bb_row13_col1\" class=\"data row13 col1\" >True</td>\n",
       "    </tr>\n",
       "    <tr>\n",
       "      <th id=\"T_c39bb_level0_row14\" class=\"row_heading level0 row14\" >14</th>\n",
       "      <td id=\"T_c39bb_row14_col0\" class=\"data row14 col0\" >Stratify Train-Test</td>\n",
       "      <td id=\"T_c39bb_row14_col1\" class=\"data row14 col1\" >False</td>\n",
       "    </tr>\n",
       "    <tr>\n",
       "      <th id=\"T_c39bb_level0_row15\" class=\"row_heading level0 row15\" >15</th>\n",
       "      <td id=\"T_c39bb_row15_col0\" class=\"data row15 col0\" >Fold Generator</td>\n",
       "      <td id=\"T_c39bb_row15_col1\" class=\"data row15 col1\" >StratifiedKFold</td>\n",
       "    </tr>\n",
       "    <tr>\n",
       "      <th id=\"T_c39bb_level0_row16\" class=\"row_heading level0 row16\" >16</th>\n",
       "      <td id=\"T_c39bb_row16_col0\" class=\"data row16 col0\" >Fold Number</td>\n",
       "      <td id=\"T_c39bb_row16_col1\" class=\"data row16 col1\" >10</td>\n",
       "    </tr>\n",
       "    <tr>\n",
       "      <th id=\"T_c39bb_level0_row17\" class=\"row_heading level0 row17\" >17</th>\n",
       "      <td id=\"T_c39bb_row17_col0\" class=\"data row17 col0\" >CPU Jobs</td>\n",
       "      <td id=\"T_c39bb_row17_col1\" class=\"data row17 col1\" >-1</td>\n",
       "    </tr>\n",
       "    <tr>\n",
       "      <th id=\"T_c39bb_level0_row18\" class=\"row_heading level0 row18\" >18</th>\n",
       "      <td id=\"T_c39bb_row18_col0\" class=\"data row18 col0\" >Use GPU</td>\n",
       "      <td id=\"T_c39bb_row18_col1\" class=\"data row18 col1\" >False</td>\n",
       "    </tr>\n",
       "    <tr>\n",
       "      <th id=\"T_c39bb_level0_row19\" class=\"row_heading level0 row19\" >19</th>\n",
       "      <td id=\"T_c39bb_row19_col0\" class=\"data row19 col0\" >Log Experiment</td>\n",
       "      <td id=\"T_c39bb_row19_col1\" class=\"data row19 col1\" >True</td>\n",
       "    </tr>\n",
       "    <tr>\n",
       "      <th id=\"T_c39bb_level0_row20\" class=\"row_heading level0 row20\" >20</th>\n",
       "      <td id=\"T_c39bb_row20_col0\" class=\"data row20 col0\" >Experiment Name</td>\n",
       "      <td id=\"T_c39bb_row20_col1\" class=\"data row20 col1\" >automl_demo_breast_1</td>\n",
       "    </tr>\n",
       "    <tr>\n",
       "      <th id=\"T_c39bb_level0_row21\" class=\"row_heading level0 row21\" >21</th>\n",
       "      <td id=\"T_c39bb_row21_col0\" class=\"data row21 col0\" >USI</td>\n",
       "      <td id=\"T_c39bb_row21_col1\" class=\"data row21 col1\" >1167</td>\n",
       "    </tr>\n",
       "    <tr>\n",
       "      <th id=\"T_c39bb_level0_row22\" class=\"row_heading level0 row22\" >22</th>\n",
       "      <td id=\"T_c39bb_row22_col0\" class=\"data row22 col0\" >Imputation Type</td>\n",
       "      <td id=\"T_c39bb_row22_col1\" class=\"data row22 col1\" >simple</td>\n",
       "    </tr>\n",
       "    <tr>\n",
       "      <th id=\"T_c39bb_level0_row23\" class=\"row_heading level0 row23\" >23</th>\n",
       "      <td id=\"T_c39bb_row23_col0\" class=\"data row23 col0\" >Iterative Imputation Iteration</td>\n",
       "      <td id=\"T_c39bb_row23_col1\" class=\"data row23 col1\" >None</td>\n",
       "    </tr>\n",
       "    <tr>\n",
       "      <th id=\"T_c39bb_level0_row24\" class=\"row_heading level0 row24\" >24</th>\n",
       "      <td id=\"T_c39bb_row24_col0\" class=\"data row24 col0\" >Numeric Imputer</td>\n",
       "      <td id=\"T_c39bb_row24_col1\" class=\"data row24 col1\" >mean</td>\n",
       "    </tr>\n",
       "    <tr>\n",
       "      <th id=\"T_c39bb_level0_row25\" class=\"row_heading level0 row25\" >25</th>\n",
       "      <td id=\"T_c39bb_row25_col0\" class=\"data row25 col0\" >Iterative Imputation Numeric Model</td>\n",
       "      <td id=\"T_c39bb_row25_col1\" class=\"data row25 col1\" >None</td>\n",
       "    </tr>\n",
       "    <tr>\n",
       "      <th id=\"T_c39bb_level0_row26\" class=\"row_heading level0 row26\" >26</th>\n",
       "      <td id=\"T_c39bb_row26_col0\" class=\"data row26 col0\" >Categorical Imputer</td>\n",
       "      <td id=\"T_c39bb_row26_col1\" class=\"data row26 col1\" >constant</td>\n",
       "    </tr>\n",
       "    <tr>\n",
       "      <th id=\"T_c39bb_level0_row27\" class=\"row_heading level0 row27\" >27</th>\n",
       "      <td id=\"T_c39bb_row27_col0\" class=\"data row27 col0\" >Iterative Imputation Categorical Model</td>\n",
       "      <td id=\"T_c39bb_row27_col1\" class=\"data row27 col1\" >None</td>\n",
       "    </tr>\n",
       "    <tr>\n",
       "      <th id=\"T_c39bb_level0_row28\" class=\"row_heading level0 row28\" >28</th>\n",
       "      <td id=\"T_c39bb_row28_col0\" class=\"data row28 col0\" >Unknown Categoricals Handling</td>\n",
       "      <td id=\"T_c39bb_row28_col1\" class=\"data row28 col1\" >least_frequent</td>\n",
       "    </tr>\n",
       "    <tr>\n",
       "      <th id=\"T_c39bb_level0_row29\" class=\"row_heading level0 row29\" >29</th>\n",
       "      <td id=\"T_c39bb_row29_col0\" class=\"data row29 col0\" >Normalize</td>\n",
       "      <td id=\"T_c39bb_row29_col1\" class=\"data row29 col1\" >False</td>\n",
       "    </tr>\n",
       "    <tr>\n",
       "      <th id=\"T_c39bb_level0_row30\" class=\"row_heading level0 row30\" >30</th>\n",
       "      <td id=\"T_c39bb_row30_col0\" class=\"data row30 col0\" >Normalize Method</td>\n",
       "      <td id=\"T_c39bb_row30_col1\" class=\"data row30 col1\" >None</td>\n",
       "    </tr>\n",
       "    <tr>\n",
       "      <th id=\"T_c39bb_level0_row31\" class=\"row_heading level0 row31\" >31</th>\n",
       "      <td id=\"T_c39bb_row31_col0\" class=\"data row31 col0\" >Transformation</td>\n",
       "      <td id=\"T_c39bb_row31_col1\" class=\"data row31 col1\" >False</td>\n",
       "    </tr>\n",
       "    <tr>\n",
       "      <th id=\"T_c39bb_level0_row32\" class=\"row_heading level0 row32\" >32</th>\n",
       "      <td id=\"T_c39bb_row32_col0\" class=\"data row32 col0\" >Transformation Method</td>\n",
       "      <td id=\"T_c39bb_row32_col1\" class=\"data row32 col1\" >None</td>\n",
       "    </tr>\n",
       "    <tr>\n",
       "      <th id=\"T_c39bb_level0_row33\" class=\"row_heading level0 row33\" >33</th>\n",
       "      <td id=\"T_c39bb_row33_col0\" class=\"data row33 col0\" >PCA</td>\n",
       "      <td id=\"T_c39bb_row33_col1\" class=\"data row33 col1\" >False</td>\n",
       "    </tr>\n",
       "    <tr>\n",
       "      <th id=\"T_c39bb_level0_row34\" class=\"row_heading level0 row34\" >34</th>\n",
       "      <td id=\"T_c39bb_row34_col0\" class=\"data row34 col0\" >PCA Method</td>\n",
       "      <td id=\"T_c39bb_row34_col1\" class=\"data row34 col1\" >None</td>\n",
       "    </tr>\n",
       "    <tr>\n",
       "      <th id=\"T_c39bb_level0_row35\" class=\"row_heading level0 row35\" >35</th>\n",
       "      <td id=\"T_c39bb_row35_col0\" class=\"data row35 col0\" >PCA Components</td>\n",
       "      <td id=\"T_c39bb_row35_col1\" class=\"data row35 col1\" >None</td>\n",
       "    </tr>\n",
       "    <tr>\n",
       "      <th id=\"T_c39bb_level0_row36\" class=\"row_heading level0 row36\" >36</th>\n",
       "      <td id=\"T_c39bb_row36_col0\" class=\"data row36 col0\" >Ignore Low Variance</td>\n",
       "      <td id=\"T_c39bb_row36_col1\" class=\"data row36 col1\" >False</td>\n",
       "    </tr>\n",
       "    <tr>\n",
       "      <th id=\"T_c39bb_level0_row37\" class=\"row_heading level0 row37\" >37</th>\n",
       "      <td id=\"T_c39bb_row37_col0\" class=\"data row37 col0\" >Combine Rare Levels</td>\n",
       "      <td id=\"T_c39bb_row37_col1\" class=\"data row37 col1\" >False</td>\n",
       "    </tr>\n",
       "    <tr>\n",
       "      <th id=\"T_c39bb_level0_row38\" class=\"row_heading level0 row38\" >38</th>\n",
       "      <td id=\"T_c39bb_row38_col0\" class=\"data row38 col0\" >Rare Level Threshold</td>\n",
       "      <td id=\"T_c39bb_row38_col1\" class=\"data row38 col1\" >None</td>\n",
       "    </tr>\n",
       "    <tr>\n",
       "      <th id=\"T_c39bb_level0_row39\" class=\"row_heading level0 row39\" >39</th>\n",
       "      <td id=\"T_c39bb_row39_col0\" class=\"data row39 col0\" >Numeric Binning</td>\n",
       "      <td id=\"T_c39bb_row39_col1\" class=\"data row39 col1\" >False</td>\n",
       "    </tr>\n",
       "    <tr>\n",
       "      <th id=\"T_c39bb_level0_row40\" class=\"row_heading level0 row40\" >40</th>\n",
       "      <td id=\"T_c39bb_row40_col0\" class=\"data row40 col0\" >Remove Outliers</td>\n",
       "      <td id=\"T_c39bb_row40_col1\" class=\"data row40 col1\" >False</td>\n",
       "    </tr>\n",
       "    <tr>\n",
       "      <th id=\"T_c39bb_level0_row41\" class=\"row_heading level0 row41\" >41</th>\n",
       "      <td id=\"T_c39bb_row41_col0\" class=\"data row41 col0\" >Outliers Threshold</td>\n",
       "      <td id=\"T_c39bb_row41_col1\" class=\"data row41 col1\" >None</td>\n",
       "    </tr>\n",
       "    <tr>\n",
       "      <th id=\"T_c39bb_level0_row42\" class=\"row_heading level0 row42\" >42</th>\n",
       "      <td id=\"T_c39bb_row42_col0\" class=\"data row42 col0\" >Remove Multicollinearity</td>\n",
       "      <td id=\"T_c39bb_row42_col1\" class=\"data row42 col1\" >False</td>\n",
       "    </tr>\n",
       "    <tr>\n",
       "      <th id=\"T_c39bb_level0_row43\" class=\"row_heading level0 row43\" >43</th>\n",
       "      <td id=\"T_c39bb_row43_col0\" class=\"data row43 col0\" >Multicollinearity Threshold</td>\n",
       "      <td id=\"T_c39bb_row43_col1\" class=\"data row43 col1\" >None</td>\n",
       "    </tr>\n",
       "    <tr>\n",
       "      <th id=\"T_c39bb_level0_row44\" class=\"row_heading level0 row44\" >44</th>\n",
       "      <td id=\"T_c39bb_row44_col0\" class=\"data row44 col0\" >Remove Perfect Collinearity</td>\n",
       "      <td id=\"T_c39bb_row44_col1\" class=\"data row44 col1\" >True</td>\n",
       "    </tr>\n",
       "    <tr>\n",
       "      <th id=\"T_c39bb_level0_row45\" class=\"row_heading level0 row45\" >45</th>\n",
       "      <td id=\"T_c39bb_row45_col0\" class=\"data row45 col0\" >Clustering</td>\n",
       "      <td id=\"T_c39bb_row45_col1\" class=\"data row45 col1\" >False</td>\n",
       "    </tr>\n",
       "    <tr>\n",
       "      <th id=\"T_c39bb_level0_row46\" class=\"row_heading level0 row46\" >46</th>\n",
       "      <td id=\"T_c39bb_row46_col0\" class=\"data row46 col0\" >Clustering Iteration</td>\n",
       "      <td id=\"T_c39bb_row46_col1\" class=\"data row46 col1\" >None</td>\n",
       "    </tr>\n",
       "    <tr>\n",
       "      <th id=\"T_c39bb_level0_row47\" class=\"row_heading level0 row47\" >47</th>\n",
       "      <td id=\"T_c39bb_row47_col0\" class=\"data row47 col0\" >Polynomial Features</td>\n",
       "      <td id=\"T_c39bb_row47_col1\" class=\"data row47 col1\" >False</td>\n",
       "    </tr>\n",
       "    <tr>\n",
       "      <th id=\"T_c39bb_level0_row48\" class=\"row_heading level0 row48\" >48</th>\n",
       "      <td id=\"T_c39bb_row48_col0\" class=\"data row48 col0\" >Polynomial Degree</td>\n",
       "      <td id=\"T_c39bb_row48_col1\" class=\"data row48 col1\" >None</td>\n",
       "    </tr>\n",
       "    <tr>\n",
       "      <th id=\"T_c39bb_level0_row49\" class=\"row_heading level0 row49\" >49</th>\n",
       "      <td id=\"T_c39bb_row49_col0\" class=\"data row49 col0\" >Trignometry Features</td>\n",
       "      <td id=\"T_c39bb_row49_col1\" class=\"data row49 col1\" >False</td>\n",
       "    </tr>\n",
       "    <tr>\n",
       "      <th id=\"T_c39bb_level0_row50\" class=\"row_heading level0 row50\" >50</th>\n",
       "      <td id=\"T_c39bb_row50_col0\" class=\"data row50 col0\" >Polynomial Threshold</td>\n",
       "      <td id=\"T_c39bb_row50_col1\" class=\"data row50 col1\" >None</td>\n",
       "    </tr>\n",
       "    <tr>\n",
       "      <th id=\"T_c39bb_level0_row51\" class=\"row_heading level0 row51\" >51</th>\n",
       "      <td id=\"T_c39bb_row51_col0\" class=\"data row51 col0\" >Group Features</td>\n",
       "      <td id=\"T_c39bb_row51_col1\" class=\"data row51 col1\" >False</td>\n",
       "    </tr>\n",
       "    <tr>\n",
       "      <th id=\"T_c39bb_level0_row52\" class=\"row_heading level0 row52\" >52</th>\n",
       "      <td id=\"T_c39bb_row52_col0\" class=\"data row52 col0\" >Feature Selection</td>\n",
       "      <td id=\"T_c39bb_row52_col1\" class=\"data row52 col1\" >False</td>\n",
       "    </tr>\n",
       "    <tr>\n",
       "      <th id=\"T_c39bb_level0_row53\" class=\"row_heading level0 row53\" >53</th>\n",
       "      <td id=\"T_c39bb_row53_col0\" class=\"data row53 col0\" >Feature Selection Method</td>\n",
       "      <td id=\"T_c39bb_row53_col1\" class=\"data row53 col1\" >classic</td>\n",
       "    </tr>\n",
       "    <tr>\n",
       "      <th id=\"T_c39bb_level0_row54\" class=\"row_heading level0 row54\" >54</th>\n",
       "      <td id=\"T_c39bb_row54_col0\" class=\"data row54 col0\" >Features Selection Threshold</td>\n",
       "      <td id=\"T_c39bb_row54_col1\" class=\"data row54 col1\" >None</td>\n",
       "    </tr>\n",
       "    <tr>\n",
       "      <th id=\"T_c39bb_level0_row55\" class=\"row_heading level0 row55\" >55</th>\n",
       "      <td id=\"T_c39bb_row55_col0\" class=\"data row55 col0\" >Feature Interaction</td>\n",
       "      <td id=\"T_c39bb_row55_col1\" class=\"data row55 col1\" >False</td>\n",
       "    </tr>\n",
       "    <tr>\n",
       "      <th id=\"T_c39bb_level0_row56\" class=\"row_heading level0 row56\" >56</th>\n",
       "      <td id=\"T_c39bb_row56_col0\" class=\"data row56 col0\" >Feature Ratio</td>\n",
       "      <td id=\"T_c39bb_row56_col1\" class=\"data row56 col1\" >False</td>\n",
       "    </tr>\n",
       "    <tr>\n",
       "      <th id=\"T_c39bb_level0_row57\" class=\"row_heading level0 row57\" >57</th>\n",
       "      <td id=\"T_c39bb_row57_col0\" class=\"data row57 col0\" >Interaction Threshold</td>\n",
       "      <td id=\"T_c39bb_row57_col1\" class=\"data row57 col1\" >None</td>\n",
       "    </tr>\n",
       "    <tr>\n",
       "      <th id=\"T_c39bb_level0_row58\" class=\"row_heading level0 row58\" >58</th>\n",
       "      <td id=\"T_c39bb_row58_col0\" class=\"data row58 col0\" >Fix Imbalance</td>\n",
       "      <td id=\"T_c39bb_row58_col1\" class=\"data row58 col1\" >True</td>\n",
       "    </tr>\n",
       "    <tr>\n",
       "      <th id=\"T_c39bb_level0_row59\" class=\"row_heading level0 row59\" >59</th>\n",
       "      <td id=\"T_c39bb_row59_col0\" class=\"data row59 col0\" >Fix Imbalance Method</td>\n",
       "      <td id=\"T_c39bb_row59_col1\" class=\"data row59 col1\" >SMOTE</td>\n",
       "    </tr>\n",
       "  </tbody>\n",
       "</table>\n"
      ],
      "text/plain": [
       "<pandas.io.formats.style.Styler at 0x2b75e82f3a0>"
      ]
     },
     "metadata": {},
     "output_type": "display_data"
    }
   ],
   "source": [
    "clf1 = setup(data = df,target='Class', session_id=123, silent=True, log_experiment=True, experiment_name='automl_demo_breast_1',fix_imbalance=True)"
   ]
  },
  {
   "cell_type": "code",
   "execution_count": 60,
   "metadata": {},
   "outputs": [
    {
     "data": {
      "text/html": [
       "<style type=\"text/css\">\n",
       "#T_ae64b th {\n",
       "  text-align: left;\n",
       "}\n",
       "#T_ae64b_row0_col0, #T_ae64b_row0_col3, #T_ae64b_row0_col4, #T_ae64b_row1_col0, #T_ae64b_row1_col1, #T_ae64b_row1_col2, #T_ae64b_row1_col3, #T_ae64b_row1_col4, #T_ae64b_row1_col5, #T_ae64b_row1_col6, #T_ae64b_row1_col7, #T_ae64b_row2_col0, #T_ae64b_row2_col1, #T_ae64b_row2_col2, #T_ae64b_row2_col3, #T_ae64b_row2_col4, #T_ae64b_row2_col5, #T_ae64b_row2_col6, #T_ae64b_row2_col7, #T_ae64b_row3_col0, #T_ae64b_row3_col1, #T_ae64b_row3_col2, #T_ae64b_row3_col3, #T_ae64b_row3_col4, #T_ae64b_row3_col5, #T_ae64b_row3_col6, #T_ae64b_row3_col7, #T_ae64b_row4_col0, #T_ae64b_row4_col1, #T_ae64b_row4_col2, #T_ae64b_row4_col3, #T_ae64b_row4_col4, #T_ae64b_row4_col5, #T_ae64b_row4_col6, #T_ae64b_row4_col7, #T_ae64b_row5_col0, #T_ae64b_row5_col1, #T_ae64b_row5_col2, #T_ae64b_row5_col3, #T_ae64b_row5_col4, #T_ae64b_row5_col5, #T_ae64b_row5_col6, #T_ae64b_row5_col7, #T_ae64b_row6_col0, #T_ae64b_row6_col1, #T_ae64b_row6_col2, #T_ae64b_row6_col3, #T_ae64b_row6_col4, #T_ae64b_row6_col5, #T_ae64b_row6_col6, #T_ae64b_row6_col7, #T_ae64b_row7_col0, #T_ae64b_row7_col1, #T_ae64b_row7_col2, #T_ae64b_row7_col3, #T_ae64b_row7_col5, #T_ae64b_row7_col6, #T_ae64b_row7_col7, #T_ae64b_row8_col0, #T_ae64b_row8_col1, #T_ae64b_row8_col2, #T_ae64b_row8_col3, #T_ae64b_row8_col4, #T_ae64b_row8_col5, #T_ae64b_row8_col6, #T_ae64b_row8_col7, #T_ae64b_row9_col0, #T_ae64b_row9_col1, #T_ae64b_row9_col2, #T_ae64b_row9_col3, #T_ae64b_row9_col4, #T_ae64b_row9_col5, #T_ae64b_row9_col6, #T_ae64b_row9_col7, #T_ae64b_row10_col0, #T_ae64b_row10_col1, #T_ae64b_row10_col2, #T_ae64b_row10_col3, #T_ae64b_row10_col4, #T_ae64b_row10_col5, #T_ae64b_row10_col6, #T_ae64b_row10_col7, #T_ae64b_row11_col0, #T_ae64b_row11_col1, #T_ae64b_row11_col2, #T_ae64b_row11_col3, #T_ae64b_row11_col4, #T_ae64b_row11_col5, #T_ae64b_row11_col6, #T_ae64b_row11_col7, #T_ae64b_row12_col0, #T_ae64b_row12_col1, #T_ae64b_row12_col2, #T_ae64b_row12_col3, #T_ae64b_row12_col4, #T_ae64b_row12_col5, #T_ae64b_row12_col6, #T_ae64b_row12_col7, #T_ae64b_row13_col0, #T_ae64b_row13_col1, #T_ae64b_row13_col2, #T_ae64b_row13_col3, #T_ae64b_row13_col4, #T_ae64b_row13_col5, #T_ae64b_row13_col6, #T_ae64b_row13_col7, #T_ae64b_row14_col0, #T_ae64b_row14_col1, #T_ae64b_row14_col2, #T_ae64b_row14_col3, #T_ae64b_row14_col4, #T_ae64b_row14_col5, #T_ae64b_row14_col6, #T_ae64b_row14_col7, #T_ae64b_row15_col0, #T_ae64b_row15_col1, #T_ae64b_row15_col2, #T_ae64b_row15_col4, #T_ae64b_row15_col5, #T_ae64b_row15_col6, #T_ae64b_row15_col7 {\n",
       "  text-align: left;\n",
       "}\n",
       "#T_ae64b_row0_col1, #T_ae64b_row0_col2, #T_ae64b_row0_col5, #T_ae64b_row0_col6, #T_ae64b_row0_col7, #T_ae64b_row7_col4, #T_ae64b_row15_col3 {\n",
       "  text-align: left;\n",
       "  background-color: yellow;\n",
       "}\n",
       "#T_ae64b_row0_col8, #T_ae64b_row1_col8, #T_ae64b_row2_col8, #T_ae64b_row3_col8, #T_ae64b_row4_col8, #T_ae64b_row5_col8, #T_ae64b_row6_col8, #T_ae64b_row7_col8, #T_ae64b_row8_col8, #T_ae64b_row9_col8, #T_ae64b_row10_col8, #T_ae64b_row11_col8, #T_ae64b_row12_col8, #T_ae64b_row13_col8, #T_ae64b_row15_col8 {\n",
       "  text-align: left;\n",
       "  background-color: lightgrey;\n",
       "}\n",
       "#T_ae64b_row14_col8 {\n",
       "  text-align: left;\n",
       "  background-color: yellow;\n",
       "  background-color: lightgrey;\n",
       "}\n",
       "</style>\n",
       "<table id=\"T_ae64b\">\n",
       "  <thead>\n",
       "    <tr>\n",
       "      <th class=\"blank level0\" >&nbsp;</th>\n",
       "      <th id=\"T_ae64b_level0_col0\" class=\"col_heading level0 col0\" >Model</th>\n",
       "      <th id=\"T_ae64b_level0_col1\" class=\"col_heading level0 col1\" >Accuracy</th>\n",
       "      <th id=\"T_ae64b_level0_col2\" class=\"col_heading level0 col2\" >AUC</th>\n",
       "      <th id=\"T_ae64b_level0_col3\" class=\"col_heading level0 col3\" >Recall</th>\n",
       "      <th id=\"T_ae64b_level0_col4\" class=\"col_heading level0 col4\" >Prec.</th>\n",
       "      <th id=\"T_ae64b_level0_col5\" class=\"col_heading level0 col5\" >F1</th>\n",
       "      <th id=\"T_ae64b_level0_col6\" class=\"col_heading level0 col6\" >Kappa</th>\n",
       "      <th id=\"T_ae64b_level0_col7\" class=\"col_heading level0 col7\" >MCC</th>\n",
       "      <th id=\"T_ae64b_level0_col8\" class=\"col_heading level0 col8\" >TT (Sec)</th>\n",
       "    </tr>\n",
       "  </thead>\n",
       "  <tbody>\n",
       "    <tr>\n",
       "      <th id=\"T_ae64b_level0_row0\" class=\"row_heading level0 row0\" >lr</th>\n",
       "      <td id=\"T_ae64b_row0_col0\" class=\"data row0 col0\" >Logistic Regression</td>\n",
       "      <td id=\"T_ae64b_row0_col1\" class=\"data row0 col1\" >0.9539</td>\n",
       "      <td id=\"T_ae64b_row0_col2\" class=\"data row0 col2\" >0.9872</td>\n",
       "      <td id=\"T_ae64b_row0_col3\" class=\"data row0 col3\" >0.9522</td>\n",
       "      <td id=\"T_ae64b_row0_col4\" class=\"data row0 col4\" >0.9188</td>\n",
       "      <td id=\"T_ae64b_row0_col5\" class=\"data row0 col5\" >0.9347</td>\n",
       "      <td id=\"T_ae64b_row0_col6\" class=\"data row0 col6\" >0.8992</td>\n",
       "      <td id=\"T_ae64b_row0_col7\" class=\"data row0 col7\" >0.9001</td>\n",
       "      <td id=\"T_ae64b_row0_col8\" class=\"data row0 col8\" >4.7510</td>\n",
       "    </tr>\n",
       "    <tr>\n",
       "      <th id=\"T_ae64b_level0_row1\" class=\"row_heading level0 row1\" >knn</th>\n",
       "      <td id=\"T_ae64b_row1_col0\" class=\"data row1 col0\" >K Neighbors Classifier</td>\n",
       "      <td id=\"T_ae64b_row1_col1\" class=\"data row1 col1\" >0.9520</td>\n",
       "      <td id=\"T_ae64b_row1_col2\" class=\"data row1 col2\" >0.9791</td>\n",
       "      <td id=\"T_ae64b_row1_col3\" class=\"data row1 col3\" >0.9581</td>\n",
       "      <td id=\"T_ae64b_row1_col4\" class=\"data row1 col4\" >0.9095</td>\n",
       "      <td id=\"T_ae64b_row1_col5\" class=\"data row1 col5\" >0.9331</td>\n",
       "      <td id=\"T_ae64b_row1_col6\" class=\"data row1 col6\" >0.8956</td>\n",
       "      <td id=\"T_ae64b_row1_col7\" class=\"data row1 col7\" >0.8964</td>\n",
       "      <td id=\"T_ae64b_row1_col8\" class=\"data row1 col8\" >0.0560</td>\n",
       "    </tr>\n",
       "    <tr>\n",
       "      <th id=\"T_ae64b_level0_row2\" class=\"row_heading level0 row2\" >lda</th>\n",
       "      <td id=\"T_ae64b_row2_col0\" class=\"data row2 col0\" >Linear Discriminant Analysis</td>\n",
       "      <td id=\"T_ae64b_row2_col1\" class=\"data row2 col1\" >0.9519</td>\n",
       "      <td id=\"T_ae64b_row2_col2\" class=\"data row2 col2\" >0.9841</td>\n",
       "      <td id=\"T_ae64b_row2_col3\" class=\"data row2 col3\" >0.9585</td>\n",
       "      <td id=\"T_ae64b_row2_col4\" class=\"data row2 col4\" >0.9088</td>\n",
       "      <td id=\"T_ae64b_row2_col5\" class=\"data row2 col5\" >0.9326</td>\n",
       "      <td id=\"T_ae64b_row2_col6\" class=\"data row2 col6\" >0.8953</td>\n",
       "      <td id=\"T_ae64b_row2_col7\" class=\"data row2 col7\" >0.8965</td>\n",
       "      <td id=\"T_ae64b_row2_col8\" class=\"data row2 col8\" >0.0280</td>\n",
       "    </tr>\n",
       "    <tr>\n",
       "      <th id=\"T_ae64b_level0_row3\" class=\"row_heading level0 row3\" >catboost</th>\n",
       "      <td id=\"T_ae64b_row3_col0\" class=\"data row3 col0\" >CatBoost Classifier</td>\n",
       "      <td id=\"T_ae64b_row3_col1\" class=\"data row3 col1\" >0.9519</td>\n",
       "      <td id=\"T_ae64b_row3_col2\" class=\"data row3 col2\" >0.9870</td>\n",
       "      <td id=\"T_ae64b_row3_col3\" class=\"data row3 col3\" >0.9401</td>\n",
       "      <td id=\"T_ae64b_row3_col4\" class=\"data row3 col4\" >0.9247</td>\n",
       "      <td id=\"T_ae64b_row3_col5\" class=\"data row3 col5\" >0.9316</td>\n",
       "      <td id=\"T_ae64b_row3_col6\" class=\"data row3 col6\" >0.8945</td>\n",
       "      <td id=\"T_ae64b_row3_col7\" class=\"data row3 col7\" >0.8955</td>\n",
       "      <td id=\"T_ae64b_row3_col8\" class=\"data row3 col8\" >2.3360</td>\n",
       "    </tr>\n",
       "    <tr>\n",
       "      <th id=\"T_ae64b_level0_row4\" class=\"row_heading level0 row4\" >ridge</th>\n",
       "      <td id=\"T_ae64b_row4_col0\" class=\"data row4 col0\" >Ridge Classifier</td>\n",
       "      <td id=\"T_ae64b_row4_col1\" class=\"data row4 col1\" >0.9498</td>\n",
       "      <td id=\"T_ae64b_row4_col2\" class=\"data row4 col2\" >0.0000</td>\n",
       "      <td id=\"T_ae64b_row4_col3\" class=\"data row4 col3\" >0.9585</td>\n",
       "      <td id=\"T_ae64b_row4_col4\" class=\"data row4 col4\" >0.9041</td>\n",
       "      <td id=\"T_ae64b_row4_col5\" class=\"data row4 col5\" >0.9300</td>\n",
       "      <td id=\"T_ae64b_row4_col6\" class=\"data row4 col6\" >0.8910</td>\n",
       "      <td id=\"T_ae64b_row4_col7\" class=\"data row4 col7\" >0.8925</td>\n",
       "      <td id=\"T_ae64b_row4_col8\" class=\"data row4 col8\" >0.0310</td>\n",
       "    </tr>\n",
       "    <tr>\n",
       "      <th id=\"T_ae64b_level0_row5\" class=\"row_heading level0 row5\" >svm</th>\n",
       "      <td id=\"T_ae64b_row5_col0\" class=\"data row5 col0\" >SVM - Linear Kernel</td>\n",
       "      <td id=\"T_ae64b_row5_col1\" class=\"data row5 col1\" >0.9476</td>\n",
       "      <td id=\"T_ae64b_row5_col2\" class=\"data row5 col2\" >0.0000</td>\n",
       "      <td id=\"T_ae64b_row5_col3\" class=\"data row5 col3\" >0.9151</td>\n",
       "      <td id=\"T_ae64b_row5_col4\" class=\"data row5 col4\" >0.9329</td>\n",
       "      <td id=\"T_ae64b_row5_col5\" class=\"data row5 col5\" >0.9233</td>\n",
       "      <td id=\"T_ae64b_row5_col6\" class=\"data row5 col6\" >0.8835</td>\n",
       "      <td id=\"T_ae64b_row5_col7\" class=\"data row5 col7\" >0.8842</td>\n",
       "      <td id=\"T_ae64b_row5_col8\" class=\"data row5 col8\" >0.0180</td>\n",
       "    </tr>\n",
       "    <tr>\n",
       "      <th id=\"T_ae64b_level0_row6\" class=\"row_heading level0 row6\" >rf</th>\n",
       "      <td id=\"T_ae64b_row6_col0\" class=\"data row6 col0\" >Random Forest Classifier</td>\n",
       "      <td id=\"T_ae64b_row6_col1\" class=\"data row6 col1\" >0.9457</td>\n",
       "      <td id=\"T_ae64b_row6_col2\" class=\"data row6 col2\" >0.9871</td>\n",
       "      <td id=\"T_ae64b_row6_col3\" class=\"data row6 col3\" >0.9283</td>\n",
       "      <td id=\"T_ae64b_row6_col4\" class=\"data row6 col4\" >0.9172</td>\n",
       "      <td id=\"T_ae64b_row6_col5\" class=\"data row6 col5\" >0.9224</td>\n",
       "      <td id=\"T_ae64b_row6_col6\" class=\"data row6 col6\" >0.8806</td>\n",
       "      <td id=\"T_ae64b_row6_col7\" class=\"data row6 col7\" >0.8810</td>\n",
       "      <td id=\"T_ae64b_row6_col8\" class=\"data row6 col8\" >0.4000</td>\n",
       "    </tr>\n",
       "    <tr>\n",
       "      <th id=\"T_ae64b_level0_row7\" class=\"row_heading level0 row7\" >nb</th>\n",
       "      <td id=\"T_ae64b_row7_col0\" class=\"data row7 col0\" >Naive Bayes</td>\n",
       "      <td id=\"T_ae64b_row7_col1\" class=\"data row7 col1\" >0.9436</td>\n",
       "      <td id=\"T_ae64b_row7_col2\" class=\"data row7 col2\" >0.9745</td>\n",
       "      <td id=\"T_ae64b_row7_col3\" class=\"data row7 col3\" >0.8919</td>\n",
       "      <td id=\"T_ae64b_row7_col4\" class=\"data row7 col4\" >0.9435</td>\n",
       "      <td id=\"T_ae64b_row7_col5\" class=\"data row7 col5\" >0.9161</td>\n",
       "      <td id=\"T_ae64b_row7_col6\" class=\"data row7 col6\" >0.8737</td>\n",
       "      <td id=\"T_ae64b_row7_col7\" class=\"data row7 col7\" >0.8753</td>\n",
       "      <td id=\"T_ae64b_row7_col8\" class=\"data row7 col8\" >0.0310</td>\n",
       "    </tr>\n",
       "    <tr>\n",
       "      <th id=\"T_ae64b_level0_row8\" class=\"row_heading level0 row8\" >ada</th>\n",
       "      <td id=\"T_ae64b_row8_col0\" class=\"data row8 col0\" >Ada Boost Classifier</td>\n",
       "      <td id=\"T_ae64b_row8_col1\" class=\"data row8 col1\" >0.9435</td>\n",
       "      <td id=\"T_ae64b_row8_col2\" class=\"data row8 col2\" >0.9752</td>\n",
       "      <td id=\"T_ae64b_row8_col3\" class=\"data row8 col3\" >0.9151</td>\n",
       "      <td id=\"T_ae64b_row8_col4\" class=\"data row8 col4\" >0.9222</td>\n",
       "      <td id=\"T_ae64b_row8_col5\" class=\"data row8 col5\" >0.9182</td>\n",
       "      <td id=\"T_ae64b_row8_col6\" class=\"data row8 col6\" >0.8750</td>\n",
       "      <td id=\"T_ae64b_row8_col7\" class=\"data row8 col7\" >0.8755</td>\n",
       "      <td id=\"T_ae64b_row8_col8\" class=\"data row8 col8\" >0.1190</td>\n",
       "    </tr>\n",
       "    <tr>\n",
       "      <th id=\"T_ae64b_level0_row9\" class=\"row_heading level0 row9\" >gbc</th>\n",
       "      <td id=\"T_ae64b_row9_col0\" class=\"data row9 col0\" >Gradient Boosting Classifier</td>\n",
       "      <td id=\"T_ae64b_row9_col1\" class=\"data row9 col1\" >0.9414</td>\n",
       "      <td id=\"T_ae64b_row9_col2\" class=\"data row9 col2\" >0.9863</td>\n",
       "      <td id=\"T_ae64b_row9_col3\" class=\"data row9 col3\" >0.9221</td>\n",
       "      <td id=\"T_ae64b_row9_col4\" class=\"data row9 col4\" >0.9138</td>\n",
       "      <td id=\"T_ae64b_row9_col5\" class=\"data row9 col5\" >0.9164</td>\n",
       "      <td id=\"T_ae64b_row9_col6\" class=\"data row9 col6\" >0.8714</td>\n",
       "      <td id=\"T_ae64b_row9_col7\" class=\"data row9 col7\" >0.8731</td>\n",
       "      <td id=\"T_ae64b_row9_col8\" class=\"data row9 col8\" >0.1060</td>\n",
       "    </tr>\n",
       "    <tr>\n",
       "      <th id=\"T_ae64b_level0_row10\" class=\"row_heading level0 row10\" >et</th>\n",
       "      <td id=\"T_ae64b_row10_col0\" class=\"data row10 col0\" >Extra Trees Classifier</td>\n",
       "      <td id=\"T_ae64b_row10_col1\" class=\"data row10 col1\" >0.9394</td>\n",
       "      <td id=\"T_ae64b_row10_col2\" class=\"data row10 col2\" >0.9812</td>\n",
       "      <td id=\"T_ae64b_row10_col3\" class=\"data row10 col3\" >0.9279</td>\n",
       "      <td id=\"T_ae64b_row10_col4\" class=\"data row10 col4\" >0.9017</td>\n",
       "      <td id=\"T_ae64b_row10_col5\" class=\"data row10 col5\" >0.9137</td>\n",
       "      <td id=\"T_ae64b_row10_col6\" class=\"data row10 col6\" >0.8670</td>\n",
       "      <td id=\"T_ae64b_row10_col7\" class=\"data row10 col7\" >0.8683</td>\n",
       "      <td id=\"T_ae64b_row10_col8\" class=\"data row10 col8\" >0.2760</td>\n",
       "    </tr>\n",
       "    <tr>\n",
       "      <th id=\"T_ae64b_level0_row11\" class=\"row_heading level0 row11\" >xgboost</th>\n",
       "      <td id=\"T_ae64b_row11_col0\" class=\"data row11 col0\" >Extreme Gradient Boosting</td>\n",
       "      <td id=\"T_ae64b_row11_col1\" class=\"data row11 col1\" >0.9352</td>\n",
       "      <td id=\"T_ae64b_row11_col2\" class=\"data row11 col2\" >0.9864</td>\n",
       "      <td id=\"T_ae64b_row11_col3\" class=\"data row11 col3\" >0.8915</td>\n",
       "      <td id=\"T_ae64b_row11_col4\" class=\"data row11 col4\" >0.9210</td>\n",
       "      <td id=\"T_ae64b_row11_col5\" class=\"data row11 col5\" >0.9051</td>\n",
       "      <td id=\"T_ae64b_row11_col6\" class=\"data row11 col6\" >0.8560</td>\n",
       "      <td id=\"T_ae64b_row11_col7\" class=\"data row11 col7\" >0.8572</td>\n",
       "      <td id=\"T_ae64b_row11_col8\" class=\"data row11 col8\" >0.3070</td>\n",
       "    </tr>\n",
       "    <tr>\n",
       "      <th id=\"T_ae64b_level0_row12\" class=\"row_heading level0 row12\" >lightgbm</th>\n",
       "      <td id=\"T_ae64b_row12_col0\" class=\"data row12 col0\" >Light Gradient Boosting Machine</td>\n",
       "      <td id=\"T_ae64b_row12_col1\" class=\"data row12 col1\" >0.9352</td>\n",
       "      <td id=\"T_ae64b_row12_col2\" class=\"data row12 col2\" >0.9855</td>\n",
       "      <td id=\"T_ae64b_row12_col3\" class=\"data row12 col3\" >0.8974</td>\n",
       "      <td id=\"T_ae64b_row12_col4\" class=\"data row12 col4\" >0.9148</td>\n",
       "      <td id=\"T_ae64b_row12_col5\" class=\"data row12 col5\" >0.9047</td>\n",
       "      <td id=\"T_ae64b_row12_col6\" class=\"data row12 col6\" >0.8556</td>\n",
       "      <td id=\"T_ae64b_row12_col7\" class=\"data row12 col7\" >0.8571</td>\n",
       "      <td id=\"T_ae64b_row12_col8\" class=\"data row12 col8\" >0.1240</td>\n",
       "    </tr>\n",
       "    <tr>\n",
       "      <th id=\"T_ae64b_level0_row13\" class=\"row_heading level0 row13\" >dt</th>\n",
       "      <td id=\"T_ae64b_row13_col0\" class=\"data row13 col0\" >Decision Tree Classifier</td>\n",
       "      <td id=\"T_ae64b_row13_col1\" class=\"data row13 col1\" >0.9269</td>\n",
       "      <td id=\"T_ae64b_row13_col2\" class=\"data row13 col2\" >0.9213</td>\n",
       "      <td id=\"T_ae64b_row13_col3\" class=\"data row13 col3\" >0.8919</td>\n",
       "      <td id=\"T_ae64b_row13_col4\" class=\"data row13 col4\" >0.8998</td>\n",
       "      <td id=\"T_ae64b_row13_col5\" class=\"data row13 col5\" >0.8948</td>\n",
       "      <td id=\"T_ae64b_row13_col6\" class=\"data row13 col6\" >0.8388</td>\n",
       "      <td id=\"T_ae64b_row13_col7\" class=\"data row13 col7\" >0.8399</td>\n",
       "      <td id=\"T_ae64b_row13_col8\" class=\"data row13 col8\" >0.0240</td>\n",
       "    </tr>\n",
       "    <tr>\n",
       "      <th id=\"T_ae64b_level0_row14\" class=\"row_heading level0 row14\" >dummy</th>\n",
       "      <td id=\"T_ae64b_row14_col0\" class=\"data row14 col0\" >Dummy Classifier</td>\n",
       "      <td id=\"T_ae64b_row14_col1\" class=\"data row14 col1\" >0.6527</td>\n",
       "      <td id=\"T_ae64b_row14_col2\" class=\"data row14 col2\" >0.5000</td>\n",
       "      <td id=\"T_ae64b_row14_col3\" class=\"data row14 col3\" >0.0000</td>\n",
       "      <td id=\"T_ae64b_row14_col4\" class=\"data row14 col4\" >0.0000</td>\n",
       "      <td id=\"T_ae64b_row14_col5\" class=\"data row14 col5\" >0.0000</td>\n",
       "      <td id=\"T_ae64b_row14_col6\" class=\"data row14 col6\" >0.0000</td>\n",
       "      <td id=\"T_ae64b_row14_col7\" class=\"data row14 col7\" >0.0000</td>\n",
       "      <td id=\"T_ae64b_row14_col8\" class=\"data row14 col8\" >0.0170</td>\n",
       "    </tr>\n",
       "    <tr>\n",
       "      <th id=\"T_ae64b_level0_row15\" class=\"row_heading level0 row15\" >qda</th>\n",
       "      <td id=\"T_ae64b_row15_col0\" class=\"data row15 col0\" >Quadratic Discriminant Analysis</td>\n",
       "      <td id=\"T_ae64b_row15_col1\" class=\"data row15 col1\" >0.3452</td>\n",
       "      <td id=\"T_ae64b_row15_col2\" class=\"data row15 col2\" >0.4971</td>\n",
       "      <td id=\"T_ae64b_row15_col3\" class=\"data row15 col3\" >0.9941</td>\n",
       "      <td id=\"T_ae64b_row15_col4\" class=\"data row15 col4\" >0.3459</td>\n",
       "      <td id=\"T_ae64b_row15_col5\" class=\"data row15 col5\" >0.5131</td>\n",
       "      <td id=\"T_ae64b_row15_col6\" class=\"data row15 col6\" >-0.0042</td>\n",
       "      <td id=\"T_ae64b_row15_col7\" class=\"data row15 col7\" >-0.0197</td>\n",
       "      <td id=\"T_ae64b_row15_col8\" class=\"data row15 col8\" >0.0450</td>\n",
       "    </tr>\n",
       "  </tbody>\n",
       "</table>\n"
      ],
      "text/plain": [
       "<pandas.io.formats.style.Styler at 0x2b75c9abb50>"
      ]
     },
     "metadata": {},
     "output_type": "display_data"
    }
   ],
   "source": [
    "# model training\n",
    "best_model = compare_models()"
   ]
  },
  {
   "cell_type": "code",
   "execution_count": 82,
   "metadata": {},
   "outputs": [
    {
     "data": {
      "application/vnd.jupyter.widget-view+json": {
       "model_id": "e721618c26ac482ca662cfd04f5192e2",
       "version_major": 2,
       "version_minor": 0
      },
      "text/plain": [
       "interactive(children=(ToggleButtons(description='Plot Type:', icons=('',), options=(('Hyperparameters', 'param…"
      ]
     },
     "metadata": {},
     "output_type": "display_data"
    }
   ],
   "source": [
    "evaluate_model(best_model)"
   ]
  },
  {
   "cell_type": "code",
   "execution_count": 83,
   "metadata": {},
   "outputs": [
    {
     "name": "stdout",
     "output_type": "stream",
     "text": [
      "Running on local URL:  http://127.0.0.1:7861/\n",
      "\n",
      "To create a public link, set `share=True` in `launch()`.\n"
     ]
    },
    {
     "data": {
      "text/html": [
       "<div><iframe src=\"http://127.0.0.1:7861/\" width=\"900\" height=\"500\" allow=\"autoplay; camera; microphone;\" frameborder=\"0\" allowfullscreen></iframe></div>"
      ],
      "text/plain": [
       "<IPython.core.display.HTML object>"
      ]
     },
     "metadata": {},
     "output_type": "display_data"
    },
    {
     "data": {
      "text/plain": [
       "(<gradio.routes.App at 0x2b75e98d940>, 'http://127.0.0.1:7861/', None)"
      ]
     },
     "execution_count": 83,
     "metadata": {},
     "output_type": "execute_result"
    }
   ],
   "source": [
    "create_app(best_model)"
   ]
  },
  {
   "cell_type": "code",
   "execution_count": null,
   "metadata": {},
   "outputs": [],
   "source": []
  }
 ],
 "metadata": {
  "kernelspec": {
   "display_name": "PyC",
   "language": "python",
   "name": "pyc"
  },
  "language_info": {
   "codemirror_mode": {
    "name": "ipython",
    "version": 3
   },
   "file_extension": ".py",
   "mimetype": "text/x-python",
   "name": "python",
   "nbconvert_exporter": "python",
   "pygments_lexer": "ipython3",
   "version": "3.8.13"
  },
  "orig_nbformat": 4,
  "vscode": {
   "interpreter": {
    "hash": "bece4ad1758a3cc0bd83b91e93260de9caeadb1688e440a39f8d8cdb2d7c6de8"
   }
  }
 },
 "nbformat": 4,
 "nbformat_minor": 2
}
