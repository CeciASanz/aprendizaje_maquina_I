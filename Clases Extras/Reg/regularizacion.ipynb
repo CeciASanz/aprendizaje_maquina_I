{
 "cells": [
  {
   "cell_type": "code",
   "execution_count": 43,
   "metadata": {},
   "outputs": [],
   "source": [
    "from mglearn.datasets import load_extended_boston\n",
    "from sklearn.model_selection import train_test_split\n",
    "from sklearn.linear_model import LinearRegression, Ridge, Lasso, ElasticNet"
   ]
  },
  {
   "cell_type": "code",
   "execution_count": 18,
   "metadata": {},
   "outputs": [],
   "source": [
    "X, y = load_extended_boston()"
   ]
  },
  {
   "cell_type": "code",
   "execution_count": 32,
   "metadata": {},
   "outputs": [],
   "source": [
    "X_train, X_test, y_train, y_test = train_test_split(X, y, test_size=0.25, random_state=42)"
   ]
  },
  {
   "cell_type": "code",
   "execution_count": 33,
   "metadata": {},
   "outputs": [],
   "source": [
    "lr = LinearRegression().fit(X_train, y_train)"
   ]
  },
  {
   "cell_type": "code",
   "execution_count": 34,
   "metadata": {},
   "outputs": [
    {
     "name": "stdout",
     "output_type": "stream",
     "text": [
      "lr.coef_: [-5.11126504e+02  4.02559787e+00 -9.45778613e+01  1.34720251e+01\n",
      "  3.48176257e+01  6.03611391e+01  3.49707471e+01  2.94114542e+00\n",
      "  3.14525465e+00  8.20792132e+01  1.24254396e+01  3.86676075e+01\n",
      " -9.38409521e-01  1.32936334e+01  7.60317098e+02  1.42274855e+03\n",
      "  2.29220565e+02 -7.79405429e+01  8.79429261e+01  1.39813973e+01\n",
      "  1.02565346e+02  7.52178879e+02 -1.82071934e+03  5.34143172e+02\n",
      " -2.41122305e+01  1.11848898e+02 -4.38177813e+00 -1.23079894e+01\n",
      " -3.63360790e+00 -5.64878037e+01  4.60395879e-01  8.18005986e+00\n",
      " -2.06294404e+01 -3.49659791e+01  4.31717988e+01 -2.92220843e+00\n",
      "  1.45250942e+01 -3.24346333e+01  3.66984591e+01 -2.75859278e+00\n",
      "  6.27805740e+00  4.98379104e+01  6.55060318e+00  3.91047481e+01\n",
      " -1.14826290e+01 -8.00990322e-01 -3.68662287e+00  3.36483260e+01\n",
      " -1.49103502e+01  1.34720251e+01 -1.80244019e+01 -2.90956806e+01\n",
      " -2.78115796e+00 -1.10315060e+01  1.15584830e+00 -8.37313259e-01\n",
      " -7.89905136e+00  6.27950290e+00 -1.09538327e+01 -2.48389637e+01\n",
      " -1.16316264e+01 -3.00228631e+00  6.83518378e+01 -1.76428626e+01\n",
      "  6.10371772e+01 -6.12936496e+01 -1.14748321e+01  2.09075528e+01\n",
      "  3.32421356e+01 -4.11743268e+01 -2.19312422e+01 -2.08881337e+01\n",
      " -5.05858326e+01 -2.14714962e+01 -1.11593182e+01 -6.16458839e-01\n",
      " -1.12569338e+00 -1.40290786e-01  3.17622544e+01 -2.57159897e+01\n",
      "  5.51837314e-01 -1.33768644e+01 -3.25170630e+01  5.20806824e+01\n",
      "  1.08614313e-01 -3.62670514e+01 -2.68217433e+01 -3.42720513e+01\n",
      "  1.41341012e+01 -6.56371258e+01  8.64151127e+01 -3.08281756e+01\n",
      "  3.61562583e+01 -2.56736318e+01 -1.69118913e+01  3.35683331e+01\n",
      " -7.48792540e+01 -2.02885460e+01  3.35543349e+00  1.07705825e+01\n",
      "  3.50306579e+00 -5.10021527e+00  2.46929457e+00  2.55749022e+01]\n"
     ]
    }
   ],
   "source": [
    "print(\"lr.coef_: {}\".format(lr.coef_))"
   ]
  },
  {
   "cell_type": "code",
   "execution_count": 35,
   "metadata": {},
   "outputs": [
    {
     "name": "stdout",
     "output_type": "stream",
     "text": [
      "lr.intercept_: -34.70752210387255\n"
     ]
    }
   ],
   "source": [
    "print(\"lr.intercept_: {}\".format(lr.intercept_))"
   ]
  },
  {
   "cell_type": "code",
   "execution_count": 36,
   "metadata": {},
   "outputs": [
    {
     "name": "stdout",
     "output_type": "stream",
     "text": [
      "Training set score: 0.94\n",
      "Test set score: 0.78\n"
     ]
    }
   ],
   "source": [
    "print(\"Training set score: {:.2f}\".format(lr.score(X_train, y_train)))\n",
    "print(\"Test set score: {:.2f}\".format(lr.score(X_test, y_test)))"
   ]
  },
  {
   "cell_type": "code",
   "execution_count": 37,
   "metadata": {},
   "outputs": [],
   "source": [
    "ridge = Ridge().fit(X_train, y_train)"
   ]
  },
  {
   "cell_type": "code",
   "execution_count": 38,
   "metadata": {},
   "outputs": [
    {
     "name": "stdout",
     "output_type": "stream",
     "text": [
      "Training set score: 0.87\n",
      "Test set score: 0.81\n"
     ]
    }
   ],
   "source": [
    "print(\"Training set score: {:.2f}\".format(ridge.score(X_train, y_train)))\n",
    "print(\"Test set score: {:.2f}\".format(ridge.score(X_test, y_test)))"
   ]
  },
  {
   "cell_type": "code",
   "execution_count": 39,
   "metadata": {},
   "outputs": [],
   "source": [
    "ridge10 = Ridge(alpha=10).fit(X_train, y_train)"
   ]
  },
  {
   "cell_type": "code",
   "execution_count": 40,
   "metadata": {},
   "outputs": [
    {
     "name": "stdout",
     "output_type": "stream",
     "text": [
      "Training set score: 0.77\n",
      "Test set score: 0.73\n"
     ]
    }
   ],
   "source": [
    "print(\"Training set score: {:.2f}\".format(ridge10.score(X_train, y_train)))\n",
    "print(\"Test set score: {:.2f}\".format(ridge10.score(X_test, y_test)))"
   ]
  },
  {
   "cell_type": "code",
   "execution_count": 41,
   "metadata": {},
   "outputs": [],
   "source": [
    "ridge01 = Ridge(alpha=0.1).fit(X_train, y_train)"
   ]
  },
  {
   "cell_type": "code",
   "execution_count": 42,
   "metadata": {},
   "outputs": [
    {
     "name": "stdout",
     "output_type": "stream",
     "text": [
      "Training set score: 0.92\n",
      "Test set score: 0.82\n"
     ]
    }
   ],
   "source": [
    "print(\"Training set score: {:.2f}\".format(ridge01.score(X_train, y_train)))\n",
    "print(\"Test set score: {:.2f}\".format(ridge01.score(X_test, y_test)))"
   ]
  },
  {
   "cell_type": "code",
   "execution_count": 44,
   "metadata": {},
   "outputs": [],
   "source": [
    "elastic = ElasticNet(alpha=0.1, l1_ratio=0.5).fit(X_train, y_train) # l1_ratio = 1 -> Lasso, l1_ratio = 0 -> Ridge"
   ]
  },
  {
   "cell_type": "code",
   "execution_count": 45,
   "metadata": {},
   "outputs": [
    {
     "name": "stdout",
     "output_type": "stream",
     "text": [
      "Training set score: 0.70\n",
      "Test set score: 0.65\n"
     ]
    }
   ],
   "source": [
    "print(\"Training set score: {:.2f}\".format(elastic.score(X_train, y_train)))\n",
    "print(\"Test set score: {:.2f}\".format(elastic.score(X_test, y_test)))"
   ]
  },
  {
   "cell_type": "code",
   "execution_count": null,
   "metadata": {},
   "outputs": [],
   "source": []
  }
 ],
 "metadata": {
  "kernelspec": {
   "display_name": "Python 3.8.13 ('pycaret2')",
   "language": "python",
   "name": "python3"
  },
  "language_info": {
   "codemirror_mode": {
    "name": "ipython",
    "version": 3
   },
   "file_extension": ".py",
   "mimetype": "text/x-python",
   "name": "python",
   "nbconvert_exporter": "python",
   "pygments_lexer": "ipython3",
   "version": "3.8.13"
  },
  "orig_nbformat": 4,
  "vscode": {
   "interpreter": {
    "hash": "33b7e6f42d5c92d6b814a1f6cf038b869e4ed5abed6f4d7226a210bd44c06fed"
   }
  }
 },
 "nbformat": 4,
 "nbformat_minor": 2
}
